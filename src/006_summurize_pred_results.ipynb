{
 "cells": [
  {
   "cell_type": "markdown",
   "metadata": {},
   "source": [
    "以下の3つそれぞれのモデルの，repair set/test set に対する rACC (newAcc/oldAcc), repair rate, break rateを算出する．\n",
    "- retrained model\n",
    "- neuronに対するrepaired model\n",
    "- weightに対するrepaired model"
   ]
  },
  {
   "cell_type": "code",
   "execution_count": 8,
   "metadata": {},
   "outputs": [
    {
     "name": "stdout",
     "output_type": "stream",
     "text": [
      "Device: cuda\n"
     ]
    }
   ],
   "source": [
    "import os, sys, math\n",
    "from tqdm import tqdm\n",
    "from collections import defaultdict\n",
    "import numpy as np\n",
    "import argparse\n",
    "import torch\n",
    "import pickle\n",
    "import evaluate\n",
    "met_acc = evaluate.load(\"accuracy\")\n",
    "met_f1 = evaluate.load(\"f1\")\n",
    "from datasets import load_from_disk\n",
    "from transformers import DefaultDataCollator, ViTForImageClassification, Trainer\n",
    "from utils.helper import get_device\n",
    "from utils.vit_util import processor, transforms, compute_metrics, transforms_c100, localize_weights\n",
    "from utils.constant import ViTExperiment\n",
    "device = get_device()\n",
    "\n",
    "ds_name = \"c100\"\n",
    "k = 0\n",
    "\n",
    "splits = [\"repair\", \"test\"]\n",
    "\n",
    "pretrained_dir = getattr(ViTExperiment, ds_name).OUTPUT_DIR.format(k=k)\n",
    "retrained_dir = os.path.join(pretrained_dir, \"retraining_with_repair_set\")\n",
    "neuron_repair_dir = os.path.join(pretrained_dir, \"repair_neuron_by_de\")\n",
    "weight_repair_dir = os.path.join(pretrained_dir, \"repair_weight_by_de\")"
   ]
  },
  {
   "cell_type": "code",
   "execution_count": 35,
   "metadata": {},
   "outputs": [
    {
     "name": "stdout",
     "output_type": "stream",
     "text": [
      "Split: repair\n",
      "ori_acc {'accuracy': 0.9074}\n"
     ]
    },
    {
     "name": "stdout",
     "output_type": "stream",
     "text": [
      "retrained_acc {'accuracy': 0.9865}\n",
      "relative acc = 108.7 %\n",
      "repair rate = 87.3 %\n",
      "break rate = 0.2 %\n",
      "Split: test\n",
      "ori_acc {'accuracy': 0.9118}\n",
      "retrained_acc {'accuracy': 0.893}\n",
      "relative acc = 97.9 %\n",
      "repair rate = 28.7 %\n",
      "break rate = 4.8 %\n"
     ]
    }
   ],
   "source": [
    "# original vs retrained result\n",
    "ori_res_dir = os.path.join(pretrained_dir, \"pred_results\", \"PredictionOutput\")\n",
    "retrain_res_dir = os.path.join(retrained_dir, \"pred_results\", \"PredictionOutput\")\n",
    "for s in splits:\n",
    "    print(f\"Split: {s}\")\n",
    "    # original\n",
    "    ori_filename = os.path.join(ori_res_dir, f\"{s}_pred.pkl\")\n",
    "    with open(ori_filename, \"rb\") as f:\n",
    "        ori_pred = pickle.load(f)\n",
    "    ori_pred_labels = ori_pred.predictions.argmax(-1)\n",
    "    ori_true_labels = ori_pred.label_ids\n",
    "    ori_acc = met_acc.compute(predictions=ori_pred_labels, references=ori_true_labels)\n",
    "    print(\"ori_acc\", ori_acc)\n",
    "    # retrained\n",
    "    retrained_filename = os.path.join(retrain_res_dir, f\"{s}_pred.pkl\")\n",
    "    with open(retrained_filename, \"rb\") as f:\n",
    "        retrained_pred = pickle.load(f)\n",
    "    retrained_pred_labels = retrained_pred.predictions.argmax(-1)\n",
    "    retrained_true_labels = retrained_pred.label_ids\n",
    "    retrained_acc = met_acc.compute(predictions=retrained_pred_labels, references=retrained_true_labels)\n",
    "    print(\"retrained_acc\", retrained_acc)\n",
    "    # ori_true_labelsとretrained_true_labelsは同じはず\n",
    "    assert all(ori_true_labels == retrained_true_labels)\n",
    "    # relative acc\n",
    "    racc = 100*retrained_acc[\"accuracy\"]/ori_acc[\"accuracy\"]\n",
    "    print(f\"relative acc = {racc:.1f} %\")\n",
    "    # oriが不正解だったサンプルをretrainedが正解できた割合\n",
    "    correct = (ori_pred_labels == ori_true_labels)\n",
    "    ori_incorrect = np.where(correct == False)[0]\n",
    "    retrained_correct = (retrained_pred_labels == retrained_true_labels)\n",
    "    retrained_correct_in_ori_incorrect = retrained_correct[ori_incorrect]\n",
    "    rr = 100*retrained_correct_in_ori_incorrect.mean()\n",
    "    print(f\"repair rate = {rr:.1f} %\")\n",
    "    # oriが正解だったサンプルをretrainedが正解できなかった割合\n",
    "    ori_correct = np.where(correct == True)[0]\n",
    "    retrained_incorrect = (retrained_pred_labels != retrained_true_labels)\n",
    "    retrained_incorrect_in_ori_correct = retrained_incorrect[ori_correct]\n",
    "    br = 100*retrained_incorrect_in_ori_correct.mean()\n",
    "    print(f\"break rate = {br:.1f} %\")"
   ]
  },
  {
   "cell_type": "code",
   "execution_count": 47,
   "metadata": {},
   "outputs": [
    {
     "name": "stdout",
     "output_type": "stream",
     "text": [
      "Split: repair\n",
      "ori_acc {'accuracy': 0.9074}\n",
      "repaired_acc {'accuracy': 0.8923}\n",
      "relative acc = 98.3 %\n",
      "repair rate = 15.2 %\n",
      "break rate = 3.2 %\n",
      "Split: test\n",
      "ori_acc {'accuracy': 0.9118}\n",
      "repaired_acc {'accuracy': 0.8956}\n",
      "relative acc = 98.2 %\n",
      "repair rate = 13.3 %\n",
      "break rate = 3.1 %\n"
     ]
    }
   ],
   "source": [
    "# original vs neuron repair result\n",
    "ori_res_dir = os.path.join(pretrained_dir, \"pred_results\", \"PredictionOutput\")\n",
    "rep_res_dir = os.path.join(neuron_repair_dir, \"pred_results\", \"best_patch_1\")\n",
    "for s in splits:\n",
    "    print(f\"Split: {s}\")\n",
    "    # original\n",
    "    ori_filename = os.path.join(ori_res_dir, f\"{s}_pred.pkl\")\n",
    "    with open(ori_filename, \"rb\") as f:\n",
    "        ori_pred = pickle.load(f)\n",
    "    ori_pred_labels = ori_pred.predictions.argmax(-1)\n",
    "    ori_true_labels = ori_pred.label_ids\n",
    "    ori_acc = met_acc.compute(predictions=ori_pred_labels, references=ori_true_labels)\n",
    "    print(\"ori_acc\", ori_acc)\n",
    "    # repaired\n",
    "    rep_filename = os.path.join(rep_res_dir, f\"{s}_pred_results.npz\")\n",
    "    rep_pred = np.load(rep_filename)\n",
    "    rep_pred_labels = rep_pred[\"all_pred_labels\"]\n",
    "    rep_true_labels = rep_pred[\"true_labels\"]\n",
    "    repaired_acc = met_acc.compute(predictions=rep_pred_labels, references=rep_true_labels)\n",
    "    print(\"repaired_acc\", repaired_acc)\n",
    "    # ori_true_labelsとrepaired_true_labelsは同じはず\n",
    "    assert all(ori_true_labels == rep_true_labels)\n",
    "    # relative acc\n",
    "    racc = 100*repaired_acc[\"accuracy\"]/ori_acc[\"accuracy\"]\n",
    "    print(f\"relative acc = {racc:.1f} %\")\n",
    "    # oriが不正解だったサンプルをrepairedが正解できた割合\n",
    "    correct = (ori_pred_labels == ori_true_labels)\n",
    "    ori_incorrect = np.where(correct == False)[0]\n",
    "    repaired_correct = (rep_pred_labels == rep_true_labels)\n",
    "    repaired_correct_in_ori_incorrect = repaired_correct[ori_incorrect]\n",
    "    rr = 100*repaired_correct_in_ori_incorrect.mean()\n",
    "    print(f\"repair rate = {rr:.1f} %\")\n",
    "    # oriが正解だったサンプルをretrainedが正解できなかった割合\n",
    "    ori_correct = np.where(correct == True)[0]\n",
    "    repaired_incorrect = (rep_pred_labels != rep_true_labels)\n",
    "    repaired_incorrect_in_ori_correct = repaired_incorrect[ori_correct]\n",
    "    br = 100*repaired_incorrect_in_ori_correct.mean()\n",
    "    print(f\"break rate = {br:.1f} %\")"
   ]
  },
  {
   "cell_type": "code",
   "execution_count": 48,
   "metadata": {},
   "outputs": [
    {
     "name": "stdout",
     "output_type": "stream",
     "text": [
      "Split: repair\n",
      "ori_acc {'accuracy': 0.9074}\n",
      "repaired_acc {'accuracy': 0.8944}\n",
      "relative acc = 98.6 %\n",
      "repair rate = 13.6 %\n",
      "break rate = 2.8 %\n",
      "Split: test\n",
      "ori_acc {'accuracy': 0.9118}\n",
      "repaired_acc {'accuracy': 0.8971}\n",
      "relative acc = 98.4 %\n",
      "repair rate = 11.6 %\n",
      "break rate = 2.7 %\n"
     ]
    }
   ],
   "source": [
    "# original vs weight repair result\n",
    "ori_res_dir = os.path.join(pretrained_dir, \"pred_results\", \"PredictionOutput\")\n",
    "rep_res_dir = os.path.join(weight_repair_dir, \"pred_results\", \"best_patch_1\")\n",
    "for s in splits:\n",
    "    print(f\"Split: {s}\")\n",
    "    # original\n",
    "    ori_filename = os.path.join(ori_res_dir, f\"{s}_pred.pkl\")\n",
    "    with open(ori_filename, \"rb\") as f:\n",
    "        ori_pred = pickle.load(f)\n",
    "    ori_pred_labels = ori_pred.predictions.argmax(-1)\n",
    "    ori_true_labels = ori_pred.label_ids\n",
    "    ori_acc = met_acc.compute(predictions=ori_pred_labels, references=ori_true_labels)\n",
    "    print(\"ori_acc\", ori_acc)\n",
    "    # repaired\n",
    "    rep_filename = os.path.join(rep_res_dir, f\"{s}_pred_results.npz\")\n",
    "    rep_pred = np.load(rep_filename)\n",
    "    rep_pred_labels = rep_pred[\"all_pred_labels\"]\n",
    "    rep_true_labels = rep_pred[\"true_labels\"]\n",
    "    repaired_acc = met_acc.compute(predictions=rep_pred_labels, references=rep_true_labels)\n",
    "    print(\"repaired_acc\", repaired_acc)\n",
    "    # ori_true_labelsとrepaired_true_labelsは同じはず\n",
    "    assert all(ori_true_labels == rep_true_labels)\n",
    "    # relative acc\n",
    "    racc = 100*repaired_acc[\"accuracy\"]/ori_acc[\"accuracy\"]\n",
    "    print(f\"relative acc = {racc:.1f} %\")\n",
    "    # oriが不正解だったサンプルをrepairedが正解できた割合\n",
    "    correct = (ori_pred_labels == ori_true_labels)\n",
    "    ori_incorrect = np.where(correct == False)[0]\n",
    "    repaired_correct = (rep_pred_labels == rep_true_labels)\n",
    "    repaired_correct_in_ori_incorrect = repaired_correct[ori_incorrect]\n",
    "    rr = 100*repaired_correct_in_ori_incorrect.mean()\n",
    "    print(f\"repair rate = {rr:.1f} %\")\n",
    "    # oriが正解だったサンプルをretrainedが正解できなかった割合\n",
    "    ori_correct = np.where(correct == True)[0]\n",
    "    repaired_incorrect = (rep_pred_labels != rep_true_labels)\n",
    "    repaired_incorrect_in_ori_correct = repaired_incorrect[ori_correct]\n",
    "    br = 100*repaired_incorrect_in_ori_correct.mean()\n",
    "    print(f\"break rate = {br:.1f} %\")"
   ]
  }
 ],
 "metadata": {
  "kernelspec": {
   "display_name": "Python 3",
   "language": "python",
   "name": "python3"
  },
  "language_info": {
   "codemirror_mode": {
    "name": "ipython",
    "version": 3
   },
   "file_extension": ".py",
   "mimetype": "text/x-python",
   "name": "python",
   "nbconvert_exporter": "python",
   "pygments_lexer": "ipython3",
   "version": "3.7.16"
  }
 },
 "nbformat": 4,
 "nbformat_minor": 2
}
