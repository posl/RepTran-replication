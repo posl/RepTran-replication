{
 "cells": [
  {
   "cell_type": "code",
   "execution_count": 45,
   "id": "edc61e19",
   "metadata": {},
   "outputs": [
    {
     "name": "stdout",
     "output_type": "stream",
     "text": [
      "Device: cuda\n"
     ]
    }
   ],
   "source": [
    "import os, sys, time, pickle, json, math\n",
    "from tqdm import tqdm\n",
    "from collections import defaultdict\n",
    "from itertools import product\n",
    "from sklearn.metrics import confusion_matrix\n",
    "import numpy as np\n",
    "import pandas as pd\n",
    "import torch\n",
    "from utils.helper import get_device, json2dict\n",
    "from utils.vit_util import identfy_tgt_misclf, ViTFromLastLayer, maybe_initialize_repair_weights_, get_new_model_predictions, get_batched_hs, get_batched_labels\n",
    "from utils.constant import ViTExperiment, ExperimentRepair1, Experiment3, ExperimentRepair2\n",
    "from utils.log import set_exp_logging\n",
    "from logging import getLogger\n",
    "from datasets import load_from_disk\n",
    "from transformers import ViTForImageClassification\n",
    "import torch\n",
    "import torch.optim as optim\n",
    "import matplotlib.pyplot as plt\n",
    "import seaborn as sns\n",
    "# Notebook向け\n",
    "%matplotlib inline\n",
    "from itertools import product\n",
    "from sklearn.preprocessing import MinMaxScaler\n",
    "\n",
    "logger = getLogger(\"base_logger\")\n",
    "device = get_device()\n",
    "\n",
    "def main(ds_name, k, tgt_rank, misclf_type, fpfn, tgt_split=\"repair\"):\n",
    "    print(f\"ds_name: {ds_name}, fold_id: {k}, tgt_rank: {tgt_rank}, misclf_type: {misclf_type}, fpfn: {fpfn}\")\n",
    "    \n",
    "    ts = time.perf_counter()\n",
    "    \n",
    "    # ds_name = ds_name.replace(\"-\", \"_\")  # ds_nameのフォーマットを揃える\n",
    "    # datasetをロード (true_labelsが欲しいので)\n",
    "    ds_dirname = f\"{ds_name}_fold{k}\"\n",
    "    ds = load_from_disk(os.path.join(ViTExperiment.DATASET_DIR, ds_dirname))\n",
    "    if ds_name == \"c10\" or ds_name == \"tiny-imagenet\":\n",
    "        label_col = \"label\"\n",
    "    elif ds_name == \"c100\":\n",
    "        label_col = \"fine_label\"\n",
    "    # ラベルの取得 (shuffleされない)\n",
    "    labels = {\n",
    "        \"train\": np.array(ds[\"train\"][label_col]),\n",
    "        \"repair\": np.array(ds[\"repair\"][label_col]),\n",
    "        \"test\": np.array(ds[\"test\"][label_col])\n",
    "    }\n",
    "    tgt_pos = ViTExperiment.CLS_IDX\n",
    "    \n",
    "    # 結果とかログの保存先を先に作っておく\n",
    "    # pretrained modelのディレクトリ\n",
    "    pretrained_dir = getattr(ViTExperiment, ds_name.replace(\"-\", \"_\")).OUTPUT_DIR.format(k=k)\n",
    "        \n",
    "    # tgt_rankの誤分類情報を取り出す\n",
    "    tgt_layer = 11 # NOTE: we only use the last layer for repairing\n",
    "    misclf_info_dir = os.path.join(pretrained_dir, \"misclf_info\")\n",
    "    misclf_pair, tgt_label, tgt_mis_indices = identfy_tgt_misclf(misclf_info_dir, tgt_split=\"repair\", tgt_rank=tgt_rank, misclf_type=misclf_type, fpfn=fpfn)\n",
    "    if tgt_split == \"repair\":\n",
    "        print(f\"misclf_pair: {misclf_pair}, tgt_label: {tgt_label}, len(tgt_mis_indices): {len(tgt_mis_indices)}\")\n",
    "    elif tgt_split == \"test\":\n",
    "        tgt_mis_indices = []\n",
    "        model, loading_info = ViTForImageClassification.from_pretrained(pretrained_dir, output_loading_info=True)\n",
    "        model.to(device).eval()\n",
    "        model = maybe_initialize_repair_weights_(model, loading_info[\"missing_keys\"])\n",
    "        vit_from_last_layer = ViTFromLastLayer(model)\n",
    "        vit_from_last_layer.eval()\n",
    "        hs_save_dir = os.path.join(pretrained_dir, f\"cache_hidden_states_before_layernorm_{tgt_split}\")\n",
    "        hs_save_path = os.path.join(hs_save_dir, f\"hidden_states_before_layernorm_{tgt_layer}.npy\")\n",
    "        if not os.path.exists(hs_save_path):\n",
    "            print(f\"[ERROR] {hs_save_path} does not exist.\")\n",
    "            sys.exit(1)\n",
    "        hs_before_layernorm = torch.from_numpy(np.load(hs_save_path)).to(device)\n",
    "\n",
    "        # 全repair setの hidden states\n",
    "        batch_size = ViTExperiment.BATCH_SIZE\n",
    "        ori_tgt_labels = labels[tgt_split]\n",
    "        batch_hs_before_layernorm = get_batched_hs(hs_save_path, batch_size, device=device, hs=hs_before_layernorm)\n",
    "        batch_labels = get_batched_labels(ori_tgt_labels, batch_size)\n",
    "        pred_labels_old, true_labels_old = get_new_model_predictions(\n",
    "            vit_from_last_layer,\n",
    "            batch_hs_before_layernorm,\n",
    "            batch_labels,\n",
    "            tgt_pos=0\n",
    "        )\n",
    "        print(f\"pred_labels_old: {pred_labels_old.shape}, true_labels_old: {true_labels_old.shape}\")\n",
    "        # 混同行列の作成\n",
    "        cm = confusion_matrix(true_labels_old, pred_labels_old)\n",
    "        num_classes = cm.shape[0]\n",
    "\n",
    "        # 可視化\n",
    "        # plt.figure(figsize=(16, 12))\n",
    "        # sns.heatmap(cm, fmt=\"d\", cmap=\"Blues\", cbar=False,\n",
    "        #             xticklabels=range(num_classes), yticklabels=range(num_classes))\n",
    "        # plt.xlabel(\"Predicted Label\")\n",
    "        # plt.ylabel(\"True Label\")\n",
    "        # plt.title(f\"Confusion Matrix on {tgt_split} split\")\n",
    "        # plt.tight_layout()\n",
    "        # # plt.show()\n",
    "        # False Negative = 行合計 - 対角成分\n",
    "        # if misclf_type == \"src_tgt\":\n",
    "        #     src, tgt = misclf_pair\n",
    "        #     src_tgt_count = cm[tgt, src]\n",
    "        #     print(f\"Count of misclassification from true {tgt} to predicted {src}: {src_tgt_count}\")\n",
    "        # elif misclf_type == \"tgt\":\n",
    "        #     if fpfn == \"fn\":\n",
    "        #         fn_count = cm[tgt_label].sum() - cm[tgt_label, tgt_label]\n",
    "        #         print(f\"False Negative count for label {tgt_label}: {fn_count}\")\n",
    "        #     elif fpfn == \"fp\":\n",
    "        #         fp_count = cm[:, tgt_label].sum() - cm[tgt_label, tgt_label]\n",
    "        #         print(f\"False Positive count for label {tgt_label}: {fp_count}\")\n",
    "        assert tgt_split == \"test\", f\"tgt_split={tgt_split} is not supported.\"\n",
    "        for idx, (pl, tl) in enumerate(zip(pred_labels_old, true_labels_old)):\n",
    "            if misclf_type == \"src_tgt\":\n",
    "                if pl == misclf_pair[0] and tl == misclf_pair[1]:\n",
    "                    tgt_mis_indices.append(idx)\n",
    "            elif misclf_type == \"tgt\" and fpfn == \"fp\":\n",
    "                if pl == tgt_label and tl != tgt_label:\n",
    "                    tgt_mis_indices.append(idx)\n",
    "            elif misclf_type == \"tgt\" and fpfn == \"fn\":\n",
    "                if tl == tgt_label and pl != tgt_label:\n",
    "                    tgt_mis_indices.append(idx)\n",
    "            else:\n",
    "                raise ValueError(f\"misclf_type={misclf_type} and fpfn={fpfn} is not supported.\")\n",
    "        print(f\"misclf_pair: {misclf_pair}, tgt_label: {tgt_label}, len(tgt_mis_indices): {len(tgt_mis_indices)}\")\n",
    "        "
   ]
  },
  {
   "cell_type": "code",
   "execution_count": 43,
   "id": "54582fdb",
   "metadata": {},
   "outputs": [
    {
     "name": "stdout",
     "output_type": "stream",
     "text": [
      "ds_name: c100, fold_id: 0, tgt_rank: 1, misclf_type: src_tgt, fpfn: None\n",
      "misclf_pair: (52, 47), tgt_label: None, len(tgt_mis_indices): 19\n",
      "ds_name: c100, fold_id: 0, tgt_rank: 2, misclf_type: src_tgt, fpfn: None\n",
      "misclf_pair: (61, 10), tgt_label: None, len(tgt_mis_indices): 16\n",
      "ds_name: c100, fold_id: 0, tgt_rank: 3, misclf_type: src_tgt, fpfn: None\n",
      "misclf_pair: (11, 35), tgt_label: None, len(tgt_mis_indices): 14\n",
      "ds_name: c100, fold_id: 0, tgt_rank: 1, misclf_type: tgt, fpfn: fp\n",
      "misclf_pair: None, tgt_label: 47, len(tgt_mis_indices): 27\n",
      "ds_name: c100, fold_id: 0, tgt_rank: 2, misclf_type: tgt, fpfn: fp\n",
      "misclf_pair: None, tgt_label: 11, len(tgt_mis_indices): 32\n",
      "ds_name: c100, fold_id: 0, tgt_rank: 3, misclf_type: tgt, fpfn: fp\n",
      "misclf_pair: None, tgt_label: 52, len(tgt_mis_indices): 31\n",
      "ds_name: c100, fold_id: 0, tgt_rank: 1, misclf_type: tgt, fpfn: fn\n",
      "misclf_pair: None, tgt_label: 47, len(tgt_mis_indices): 27\n",
      "ds_name: c100, fold_id: 0, tgt_rank: 2, misclf_type: tgt, fpfn: fn\n",
      "misclf_pair: None, tgt_label: 11, len(tgt_mis_indices): 33\n",
      "ds_name: c100, fold_id: 0, tgt_rank: 3, misclf_type: tgt, fpfn: fn\n",
      "misclf_pair: None, tgt_label: 35, len(tgt_mis_indices): 27\n",
      "ds_name: tiny-imagenet, fold_id: 0, tgt_rank: 1, misclf_type: src_tgt, fpfn: None\n",
      "misclf_pair: (66, 0), tgt_label: None, len(tgt_mis_indices): 33\n",
      "ds_name: tiny-imagenet, fold_id: 0, tgt_rank: 2, misclf_type: src_tgt, fpfn: None\n",
      "misclf_pair: (95, 86), tgt_label: None, len(tgt_mis_indices): 20\n",
      "ds_name: tiny-imagenet, fold_id: 0, tgt_rank: 3, misclf_type: src_tgt, fpfn: None\n",
      "misclf_pair: (117, 157), tgt_label: None, len(tgt_mis_indices): 18\n",
      "ds_name: tiny-imagenet, fold_id: 0, tgt_rank: 1, misclf_type: tgt, fpfn: fp\n",
      "misclf_pair: None, tgt_label: 9, len(tgt_mis_indices): 56\n",
      "ds_name: tiny-imagenet, fold_id: 0, tgt_rank: 2, misclf_type: tgt, fpfn: fp\n",
      "misclf_pair: None, tgt_label: 118, len(tgt_mis_indices): 46\n",
      "ds_name: tiny-imagenet, fold_id: 0, tgt_rank: 3, misclf_type: tgt, fpfn: fp\n",
      "misclf_pair: None, tgt_label: 176, len(tgt_mis_indices): 41\n",
      "ds_name: tiny-imagenet, fold_id: 0, tgt_rank: 1, misclf_type: tgt, fpfn: fn\n",
      "misclf_pair: None, tgt_label: 0, len(tgt_mis_indices): 39\n",
      "ds_name: tiny-imagenet, fold_id: 0, tgt_rank: 2, misclf_type: tgt, fpfn: fn\n",
      "misclf_pair: None, tgt_label: 9, len(tgt_mis_indices): 32\n",
      "ds_name: tiny-imagenet, fold_id: 0, tgt_rank: 3, misclf_type: tgt, fpfn: fn\n",
      "misclf_pair: None, tgt_label: 25, len(tgt_mis_indices): 34\n"
     ]
    }
   ],
   "source": [
    "ds_name_list = [\"c100\", \"tiny-imagenet\"]\n",
    "k_list = [0]\n",
    "tgt_rank_list = [1, 2, 3]\n",
    "misclf_type_fpfn_pair_list = [\n",
    "    (\"src_tgt\", None), \n",
    "    (\"tgt\", \"fp\"), \n",
    "    (\"tgt\", \"fn\"), \n",
    "]\n",
    "\n",
    "for ds_name, k, (misclf_type, fpfn), tgt_rank in product(ds_name_list, k_list, misclf_type_fpfn_pair_list, tgt_rank_list):\n",
    "    main(ds_name, k, tgt_rank, misclf_type, fpfn)\n",
    "    # print(f\"Finished: ds_name: {ds_name}, k: {k}, tgt_rank: {tgt_rank}, misclf_type: {misclf_type}, fpfn: {fpfn}\")"
   ]
  },
  {
   "cell_type": "code",
   "execution_count": 46,
   "id": "20e7abf1",
   "metadata": {},
   "outputs": [
    {
     "name": "stdout",
     "output_type": "stream",
     "text": [
      "ds_name: c100, fold_id: 0, tgt_rank: 1, misclf_type: src_tgt, fpfn: None\n"
     ]
    },
    {
     "name": "stderr",
     "output_type": "stream",
     "text": [
      "Some weights of ViTForImageClassification were not initialized from the model checkpoint at /src/src/out_vit_c100_fold0 and are newly initialized: ['vit.encoder.layer.5.intermediate.repair.weight', 'vit.encoder.layer.6.intermediate.repair.weight', 'vit.encoder.layer.2.intermediate.repair.weight', 'vit.encoder.layer.7.intermediate.repair.weight', 'vit.encoder.layer.9.intermediate.repair.weight', 'vit.encoder.layer.11.intermediate.repair.weight', 'vit.encoder.layer.10.intermediate.repair.weight', 'vit.encoder.layer.0.intermediate.repair.weight', 'vit.encoder.layer.8.intermediate.repair.weight', 'vit.encoder.layer.4.intermediate.repair.weight', 'vit.encoder.layer.1.intermediate.repair.weight', 'vit.encoder.layer.3.intermediate.repair.weight']\n",
      "You should probably TRAIN this model on a down-stream task to be able to use it for predictions and inference.\n"
     ]
    },
    {
     "name": "stdout",
     "output_type": "stream",
     "text": [
      "🛠️ Initializing intermediate.repair.weight as identity matrix (for missing weights)\n",
      "pred_labels_old: (10000,), true_labels_old: (10000,)\n",
      "misclf_pair: (52, 47), tgt_label: None, len(tgt_mis_indices): 21\n",
      "ds_name: c100, fold_id: 0, tgt_rank: 2, misclf_type: src_tgt, fpfn: None\n"
     ]
    },
    {
     "name": "stderr",
     "output_type": "stream",
     "text": [
      "Some weights of ViTForImageClassification were not initialized from the model checkpoint at /src/src/out_vit_c100_fold0 and are newly initialized: ['vit.encoder.layer.5.intermediate.repair.weight', 'vit.encoder.layer.6.intermediate.repair.weight', 'vit.encoder.layer.2.intermediate.repair.weight', 'vit.encoder.layer.7.intermediate.repair.weight', 'vit.encoder.layer.9.intermediate.repair.weight', 'vit.encoder.layer.11.intermediate.repair.weight', 'vit.encoder.layer.10.intermediate.repair.weight', 'vit.encoder.layer.0.intermediate.repair.weight', 'vit.encoder.layer.8.intermediate.repair.weight', 'vit.encoder.layer.4.intermediate.repair.weight', 'vit.encoder.layer.1.intermediate.repair.weight', 'vit.encoder.layer.3.intermediate.repair.weight']\n",
      "You should probably TRAIN this model on a down-stream task to be able to use it for predictions and inference.\n"
     ]
    },
    {
     "name": "stdout",
     "output_type": "stream",
     "text": [
      "🛠️ Initializing intermediate.repair.weight as identity matrix (for missing weights)\n",
      "pred_labels_old: (10000,), true_labels_old: (10000,)\n",
      "misclf_pair: (61, 10), tgt_label: None, len(tgt_mis_indices): 8\n",
      "ds_name: c100, fold_id: 0, tgt_rank: 3, misclf_type: src_tgt, fpfn: None\n"
     ]
    },
    {
     "name": "stderr",
     "output_type": "stream",
     "text": [
      "Some weights of ViTForImageClassification were not initialized from the model checkpoint at /src/src/out_vit_c100_fold0 and are newly initialized: ['vit.encoder.layer.5.intermediate.repair.weight', 'vit.encoder.layer.6.intermediate.repair.weight', 'vit.encoder.layer.2.intermediate.repair.weight', 'vit.encoder.layer.7.intermediate.repair.weight', 'vit.encoder.layer.9.intermediate.repair.weight', 'vit.encoder.layer.11.intermediate.repair.weight', 'vit.encoder.layer.10.intermediate.repair.weight', 'vit.encoder.layer.0.intermediate.repair.weight', 'vit.encoder.layer.8.intermediate.repair.weight', 'vit.encoder.layer.4.intermediate.repair.weight', 'vit.encoder.layer.1.intermediate.repair.weight', 'vit.encoder.layer.3.intermediate.repair.weight']\n",
      "You should probably TRAIN this model on a down-stream task to be able to use it for predictions and inference.\n"
     ]
    },
    {
     "name": "stdout",
     "output_type": "stream",
     "text": [
      "🛠️ Initializing intermediate.repair.weight as identity matrix (for missing weights)\n",
      "pred_labels_old: (10000,), true_labels_old: (10000,)\n",
      "misclf_pair: (11, 35), tgt_label: None, len(tgt_mis_indices): 8\n",
      "ds_name: c100, fold_id: 0, tgt_rank: 1, misclf_type: tgt, fpfn: fp\n"
     ]
    },
    {
     "name": "stderr",
     "output_type": "stream",
     "text": [
      "Some weights of ViTForImageClassification were not initialized from the model checkpoint at /src/src/out_vit_c100_fold0 and are newly initialized: ['vit.encoder.layer.5.intermediate.repair.weight', 'vit.encoder.layer.6.intermediate.repair.weight', 'vit.encoder.layer.2.intermediate.repair.weight', 'vit.encoder.layer.7.intermediate.repair.weight', 'vit.encoder.layer.9.intermediate.repair.weight', 'vit.encoder.layer.11.intermediate.repair.weight', 'vit.encoder.layer.10.intermediate.repair.weight', 'vit.encoder.layer.0.intermediate.repair.weight', 'vit.encoder.layer.8.intermediate.repair.weight', 'vit.encoder.layer.4.intermediate.repair.weight', 'vit.encoder.layer.1.intermediate.repair.weight', 'vit.encoder.layer.3.intermediate.repair.weight']\n",
      "You should probably TRAIN this model on a down-stream task to be able to use it for predictions and inference.\n"
     ]
    },
    {
     "name": "stdout",
     "output_type": "stream",
     "text": [
      "🛠️ Initializing intermediate.repair.weight as identity matrix (for missing weights)\n",
      "pred_labels_old: (10000,), true_labels_old: (10000,)\n",
      "misclf_pair: None, tgt_label: 47, len(tgt_mis_indices): 34\n",
      "ds_name: c100, fold_id: 0, tgt_rank: 2, misclf_type: tgt, fpfn: fp\n"
     ]
    },
    {
     "name": "stderr",
     "output_type": "stream",
     "text": [
      "Some weights of ViTForImageClassification were not initialized from the model checkpoint at /src/src/out_vit_c100_fold0 and are newly initialized: ['vit.encoder.layer.5.intermediate.repair.weight', 'vit.encoder.layer.6.intermediate.repair.weight', 'vit.encoder.layer.2.intermediate.repair.weight', 'vit.encoder.layer.7.intermediate.repair.weight', 'vit.encoder.layer.9.intermediate.repair.weight', 'vit.encoder.layer.11.intermediate.repair.weight', 'vit.encoder.layer.10.intermediate.repair.weight', 'vit.encoder.layer.0.intermediate.repair.weight', 'vit.encoder.layer.8.intermediate.repair.weight', 'vit.encoder.layer.4.intermediate.repair.weight', 'vit.encoder.layer.1.intermediate.repair.weight', 'vit.encoder.layer.3.intermediate.repair.weight']\n",
      "You should probably TRAIN this model on a down-stream task to be able to use it for predictions and inference.\n"
     ]
    },
    {
     "name": "stdout",
     "output_type": "stream",
     "text": [
      "🛠️ Initializing intermediate.repair.weight as identity matrix (for missing weights)\n",
      "pred_labels_old: (10000,), true_labels_old: (10000,)\n",
      "misclf_pair: None, tgt_label: 11, len(tgt_mis_indices): 23\n",
      "ds_name: c100, fold_id: 0, tgt_rank: 3, misclf_type: tgt, fpfn: fp\n"
     ]
    },
    {
     "name": "stderr",
     "output_type": "stream",
     "text": [
      "Some weights of ViTForImageClassification were not initialized from the model checkpoint at /src/src/out_vit_c100_fold0 and are newly initialized: ['vit.encoder.layer.5.intermediate.repair.weight', 'vit.encoder.layer.6.intermediate.repair.weight', 'vit.encoder.layer.2.intermediate.repair.weight', 'vit.encoder.layer.7.intermediate.repair.weight', 'vit.encoder.layer.9.intermediate.repair.weight', 'vit.encoder.layer.11.intermediate.repair.weight', 'vit.encoder.layer.10.intermediate.repair.weight', 'vit.encoder.layer.0.intermediate.repair.weight', 'vit.encoder.layer.8.intermediate.repair.weight', 'vit.encoder.layer.4.intermediate.repair.weight', 'vit.encoder.layer.1.intermediate.repair.weight', 'vit.encoder.layer.3.intermediate.repair.weight']\n",
      "You should probably TRAIN this model on a down-stream task to be able to use it for predictions and inference.\n"
     ]
    },
    {
     "name": "stdout",
     "output_type": "stream",
     "text": [
      "🛠️ Initializing intermediate.repair.weight as identity matrix (for missing weights)\n",
      "pred_labels_old: (10000,), true_labels_old: (10000,)\n",
      "misclf_pair: None, tgt_label: 52, len(tgt_mis_indices): 42\n",
      "ds_name: c100, fold_id: 0, tgt_rank: 1, misclf_type: tgt, fpfn: fn\n"
     ]
    },
    {
     "name": "stderr",
     "output_type": "stream",
     "text": [
      "Some weights of ViTForImageClassification were not initialized from the model checkpoint at /src/src/out_vit_c100_fold0 and are newly initialized: ['vit.encoder.layer.5.intermediate.repair.weight', 'vit.encoder.layer.6.intermediate.repair.weight', 'vit.encoder.layer.2.intermediate.repair.weight', 'vit.encoder.layer.7.intermediate.repair.weight', 'vit.encoder.layer.9.intermediate.repair.weight', 'vit.encoder.layer.11.intermediate.repair.weight', 'vit.encoder.layer.10.intermediate.repair.weight', 'vit.encoder.layer.0.intermediate.repair.weight', 'vit.encoder.layer.8.intermediate.repair.weight', 'vit.encoder.layer.4.intermediate.repair.weight', 'vit.encoder.layer.1.intermediate.repair.weight', 'vit.encoder.layer.3.intermediate.repair.weight']\n",
      "You should probably TRAIN this model on a down-stream task to be able to use it for predictions and inference.\n"
     ]
    },
    {
     "name": "stdout",
     "output_type": "stream",
     "text": [
      "🛠️ Initializing intermediate.repair.weight as identity matrix (for missing weights)\n",
      "pred_labels_old: (10000,), true_labels_old: (10000,)\n",
      "misclf_pair: None, tgt_label: 47, len(tgt_mis_indices): 28\n",
      "ds_name: c100, fold_id: 0, tgt_rank: 2, misclf_type: tgt, fpfn: fn\n"
     ]
    },
    {
     "name": "stderr",
     "output_type": "stream",
     "text": [
      "Some weights of ViTForImageClassification were not initialized from the model checkpoint at /src/src/out_vit_c100_fold0 and are newly initialized: ['vit.encoder.layer.5.intermediate.repair.weight', 'vit.encoder.layer.6.intermediate.repair.weight', 'vit.encoder.layer.2.intermediate.repair.weight', 'vit.encoder.layer.7.intermediate.repair.weight', 'vit.encoder.layer.9.intermediate.repair.weight', 'vit.encoder.layer.11.intermediate.repair.weight', 'vit.encoder.layer.10.intermediate.repair.weight', 'vit.encoder.layer.0.intermediate.repair.weight', 'vit.encoder.layer.8.intermediate.repair.weight', 'vit.encoder.layer.4.intermediate.repair.weight', 'vit.encoder.layer.1.intermediate.repair.weight', 'vit.encoder.layer.3.intermediate.repair.weight']\n",
      "You should probably TRAIN this model on a down-stream task to be able to use it for predictions and inference.\n"
     ]
    },
    {
     "name": "stdout",
     "output_type": "stream",
     "text": [
      "🛠️ Initializing intermediate.repair.weight as identity matrix (for missing weights)\n",
      "pred_labels_old: (10000,), true_labels_old: (10000,)\n",
      "misclf_pair: None, tgt_label: 11, len(tgt_mis_indices): 25\n",
      "ds_name: c100, fold_id: 0, tgt_rank: 3, misclf_type: tgt, fpfn: fn\n"
     ]
    },
    {
     "name": "stderr",
     "output_type": "stream",
     "text": [
      "Some weights of ViTForImageClassification were not initialized from the model checkpoint at /src/src/out_vit_c100_fold0 and are newly initialized: ['vit.encoder.layer.5.intermediate.repair.weight', 'vit.encoder.layer.6.intermediate.repair.weight', 'vit.encoder.layer.2.intermediate.repair.weight', 'vit.encoder.layer.7.intermediate.repair.weight', 'vit.encoder.layer.9.intermediate.repair.weight', 'vit.encoder.layer.11.intermediate.repair.weight', 'vit.encoder.layer.10.intermediate.repair.weight', 'vit.encoder.layer.0.intermediate.repair.weight', 'vit.encoder.layer.8.intermediate.repair.weight', 'vit.encoder.layer.4.intermediate.repair.weight', 'vit.encoder.layer.1.intermediate.repair.weight', 'vit.encoder.layer.3.intermediate.repair.weight']\n",
      "You should probably TRAIN this model on a down-stream task to be able to use it for predictions and inference.\n"
     ]
    },
    {
     "name": "stdout",
     "output_type": "stream",
     "text": [
      "🛠️ Initializing intermediate.repair.weight as identity matrix (for missing weights)\n",
      "pred_labels_old: (10000,), true_labels_old: (10000,)\n",
      "misclf_pair: None, tgt_label: 35, len(tgt_mis_indices): 29\n",
      "ds_name: tiny-imagenet, fold_id: 0, tgt_rank: 1, misclf_type: src_tgt, fpfn: None\n",
      "pred_labels_old: (10000,), true_labels_old: (10000,)\n",
      "misclf_pair: (66, 0), tgt_label: None, len(tgt_mis_indices): 14\n",
      "ds_name: tiny-imagenet, fold_id: 0, tgt_rank: 2, misclf_type: src_tgt, fpfn: None\n",
      "pred_labels_old: (10000,), true_labels_old: (10000,)\n",
      "misclf_pair: (95, 86), tgt_label: None, len(tgt_mis_indices): 12\n",
      "ds_name: tiny-imagenet, fold_id: 0, tgt_rank: 3, misclf_type: src_tgt, fpfn: None\n",
      "pred_labels_old: (10000,), true_labels_old: (10000,)\n",
      "misclf_pair: (117, 157), tgt_label: None, len(tgt_mis_indices): 9\n",
      "ds_name: tiny-imagenet, fold_id: 0, tgt_rank: 1, misclf_type: tgt, fpfn: fp\n",
      "pred_labels_old: (10000,), true_labels_old: (10000,)\n",
      "misclf_pair: None, tgt_label: 9, len(tgt_mis_indices): 25\n",
      "ds_name: tiny-imagenet, fold_id: 0, tgt_rank: 2, misclf_type: tgt, fpfn: fp\n",
      "pred_labels_old: (10000,), true_labels_old: (10000,)\n",
      "misclf_pair: None, tgt_label: 118, len(tgt_mis_indices): 15\n",
      "ds_name: tiny-imagenet, fold_id: 0, tgt_rank: 3, misclf_type: tgt, fpfn: fp\n",
      "pred_labels_old: (10000,), true_labels_old: (10000,)\n",
      "misclf_pair: None, tgt_label: 176, len(tgt_mis_indices): 25\n",
      "ds_name: tiny-imagenet, fold_id: 0, tgt_rank: 1, misclf_type: tgt, fpfn: fn\n",
      "pred_labels_old: (10000,), true_labels_old: (10000,)\n",
      "misclf_pair: None, tgt_label: 0, len(tgt_mis_indices): 20\n",
      "ds_name: tiny-imagenet, fold_id: 0, tgt_rank: 2, misclf_type: tgt, fpfn: fn\n",
      "pred_labels_old: (10000,), true_labels_old: (10000,)\n",
      "misclf_pair: None, tgt_label: 9, len(tgt_mis_indices): 13\n",
      "ds_name: tiny-imagenet, fold_id: 0, tgt_rank: 3, misclf_type: tgt, fpfn: fn\n",
      "pred_labels_old: (10000,), true_labels_old: (10000,)\n",
      "misclf_pair: None, tgt_label: 25, len(tgt_mis_indices): 16\n"
     ]
    }
   ],
   "source": [
    "ds_name_list = [\"c100\", \"tiny-imagenet\"]\n",
    "k_list = [0]\n",
    "tgt_rank_list = [1, 2, 3]\n",
    "misclf_type_fpfn_pair_list = [\n",
    "    (\"src_tgt\", None), \n",
    "    (\"tgt\", \"fp\"), \n",
    "    (\"tgt\", \"fn\"), \n",
    "]\n",
    "\n",
    "for ds_name, k, (misclf_type, fpfn), tgt_rank in product(ds_name_list, k_list, misclf_type_fpfn_pair_list, tgt_rank_list):\n",
    "    main(ds_name, k, tgt_rank, misclf_type, fpfn, tgt_split=\"test\")"
   ]
  },
  {
   "cell_type": "code",
   "execution_count": null,
   "id": "7fd63b15",
   "metadata": {},
   "outputs": [],
   "source": []
  }
 ],
 "metadata": {
  "kernelspec": {
   "display_name": "Python 3",
   "language": "python",
   "name": "python3"
  },
  "language_info": {
   "codemirror_mode": {
    "name": "ipython",
    "version": 3
   },
   "file_extension": ".py",
   "mimetype": "text/x-python",
   "name": "python",
   "nbconvert_exporter": "python",
   "pygments_lexer": "ipython3",
   "version": "3.7.16"
  }
 },
 "nbformat": 4,
 "nbformat_minor": 5
}
