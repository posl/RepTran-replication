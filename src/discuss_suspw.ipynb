{
 "cells": [
  {
   "cell_type": "code",
   "execution_count": 1,
   "id": "5e2843b0",
   "metadata": {},
   "outputs": [
    {
     "name": "stderr",
     "output_type": "stream",
     "text": [
      "2025-07-31 04:09:57.515344: I tensorflow/core/platform/cpu_feature_guard.cc:193] This TensorFlow binary is optimized with oneAPI Deep Neural Network Library (oneDNN) to use the following CPU instructions in performance-critical operations:  AVX2 AVX_VNNI FMA\n",
      "To enable them in other operations, rebuild TensorFlow with the appropriate compiler flags.\n",
      "2025-07-31 04:09:57.598621: I tensorflow/core/util/port.cc:104] oneDNN custom operations are on. You may see slightly different numerical results due to floating-point round-off errors from different computation orders. To turn them off, set the environment variable `TF_ENABLE_ONEDNN_OPTS=0`.\n",
      "2025-07-31 04:09:58.122734: W tensorflow/compiler/xla/stream_executor/platform/default/dso_loader.cc:64] Could not load dynamic library 'libnvinfer.so.7'; dlerror: libnvinfer.so.7: cannot open shared object file: No such file or directory\n",
      "2025-07-31 04:09:58.122797: W tensorflow/compiler/xla/stream_executor/platform/default/dso_loader.cc:64] Could not load dynamic library 'libnvinfer_plugin.so.7'; dlerror: libnvinfer_plugin.so.7: cannot open shared object file: No such file or directory\n",
      "2025-07-31 04:09:58.122801: W tensorflow/compiler/tf2tensorrt/utils/py_utils.cc:38] TF-TRT Warning: Cannot dlopen some TensorRT libraries. If you would like to use Nvidia GPU with TensorRT, please make sure the missing libraries mentioned above are installed properly.\n"
     ]
    }
   ],
   "source": [
    "import os, sys, time, pickle, json\n",
    "import argparse\n",
    "from tqdm import tqdm\n",
    "from collections import defaultdict\n",
    "import numpy as np\n",
    "import re\n",
    "import torch\n",
    "from datasets import load_from_disk\n",
    "from transformers import ViTForImageClassification\n",
    "from utils.helper import get_device, json2dict\n",
    "from utils.vit_util import transforms, transforms_c100, ViTFromLastLayer, identfy_tgt_misclf, get_ori_model_predictions, get_new_model_predictions, get_batched_hs, get_batched_labels, sample_from_correct_samples, sample_true_positive_indices_per_class, maybe_initialize_repair_weights_\n",
    "from utils.constant import ViTExperiment, Experiment3\n",
    "from utils.log import set_exp_logging"
   ]
  },
  {
   "cell_type": "code",
   "execution_count": 2,
   "id": "55f7a7bc",
   "metadata": {},
   "outputs": [],
   "source": [
    "TGT_SPLIT = \"repair\"\n",
    "TGT_LAYER = 11\n",
    "DEFAULT_SETTINGS = {\n",
    "    \"n\": 5, \n",
    "    \"ratio_sampled_from_correct\": 0.05,  # 正解サンプルのうち何割をrepairに使うか\n",
    "    \"num_sampled_from_correct\": 200,  # 正解サンプルのうち何サンプルをrepairに使うか\n",
    "    \"max_search_num\": 50,\n",
    "    \"pop_size\": 100,\n",
    "    \"alpha\": 0.5\n",
    "}"
   ]
  },
  {
   "cell_type": "code",
   "execution_count": 3,
   "id": "85e451cf",
   "metadata": {},
   "outputs": [],
   "source": [
    "def main(argv=None):\n",
    "    import argparse\n",
    "    parser = argparse.ArgumentParser()\n",
    "    parser.add_argument(\"ds\", type=str)\n",
    "    parser.add_argument('k', type=int)\n",
    "    parser.add_argument('tgt_rank', type=int)\n",
    "    parser.add_argument(\"wnum\", type=int)\n",
    "    parser.add_argument(\"--setting_path\", type=str, default=None)\n",
    "    parser.add_argument(\"--fl_method\", type=str, default=\"vdiff\")\n",
    "    parser.add_argument('--misclf_type', type=str, default=\"tgt\")\n",
    "    parser.add_argument('--only_eval', action='store_true', default=False)\n",
    "    parser.add_argument(\"--custom_alpha\", type=float, default=None)\n",
    "    parser.add_argument(\"--include_other_TP_for_fitness\", action='store_true', default=False)\n",
    "    parser.add_argument(\"--fpfn\", type=str, default=None, choices=[\"fp\", \"fn\"])\n",
    "    parser.add_argument(\"--custom_bounds\", type=str, default=None, choices=[\"Arachne\", \"ContrRep\"])\n",
    "    args = parser.parse_args(argv)\n",
    "    # 引数の取得\n",
    "    ds_name = args.ds\n",
    "    k = args.k\n",
    "    tgt_rank = args.tgt_rank\n",
    "    wnum = args.wnum\n",
    "    setting_path = args.setting_path\n",
    "    fl_method = args.fl_method\n",
    "    misclf_type = args.misclf_type\n",
    "    only_eval = args.only_eval\n",
    "    custom_alpha = args.custom_alpha\n",
    "    include_other_TP_for_fitness = args.include_other_TP_for_fitness\n",
    "    fpfn = args.fpfn\n",
    "    custom_bounds = args.custom_bounds\n",
    "    # print(f\"ds_name: {ds_name}, k: {k}, tgt_rank: {tgt_rank}, setting_path: {setting_path}, fl_method: {fl_method}, misclf_type: {misclf_type}, only_eval: {only_eval}, custom_alpha: {custom_alpha}, include_other_TP_for_fitness: {include_other_TP_for_fitness}, fpfn: {fpfn}, custom_bounds: {custom_bounds}\")\n",
    "\n",
    "    # 設定のjsonファイルが指定された場合\n",
    "    if setting_path is not None:\n",
    "        assert os.path.exists(setting_path), f\"{setting_path} does not exist.\"\n",
    "        setting_dic = json2dict(setting_path)\n",
    "        # setting_idは setting_{setting_id}.json というファイル名になる\n",
    "        setting_id = os.path.basename(setting_path).split(\".\")[0].split(\"_\")[-1]\n",
    "    # 設定のjsonファイルが指定されない場合はnとalphaだけカスタムorデフォルトの設定を使う\n",
    "    else:\n",
    "        setting_dic = DEFAULT_SETTINGS\n",
    "        # custom_alpha, custom_boundsが1つでも指定されている場合はいったん空文字にする\n",
    "        setting_id = \"default\" if (custom_alpha is None) and (custom_bounds is None) else \"\"\n",
    "        parts = []\n",
    "        if wnum is not None:\n",
    "            setting_dic[\"wnum\"] = wnum\n",
    "            parts.append(f\"n{wnum}\")\n",
    "        if custom_alpha is not None:\n",
    "            setting_dic[\"alpha\"] = custom_alpha\n",
    "            parts.append(f\"alpha{custom_alpha}\")\n",
    "        if custom_bounds is not None:\n",
    "            setting_dic[\"bounds\"] = custom_bounds\n",
    "            parts.append(f\"bounds{custom_bounds}\")\n",
    "        # リストの要素を'_'で連結\n",
    "        setting_id = \"_\".join(parts)\n",
    "    # pretrained modelのディレクトリ\n",
    "    pretrained_dir = getattr(ViTExperiment, ds_name.replace(\"-\", \"_\")).OUTPUT_DIR.format(k=k)\n",
    "    # 結果とかログの保存先を先に作っておく\n",
    "    # save_dirは, 5種類の誤分類タイプのどれかを一意に表す\n",
    "    if fpfn is not None and misclf_type == \"tgt\": # tgt_fp or tgt_fn\n",
    "        save_dir = os.path.join(pretrained_dir, f\"misclf_top{tgt_rank}\", f\"{misclf_type}_{fpfn}_repair_weight_by_de\")\n",
    "    elif misclf_type == \"all\": # all\n",
    "        save_dir = os.path.join(pretrained_dir, f\"{misclf_type}_repair_weight_by_de\")\n",
    "    else: # tgt_all or src_tgt\n",
    "        save_dir = os.path.join(pretrained_dir, f\"misclf_top{tgt_rank}\", f\"{misclf_type}_repair_weight_by_de\")\n",
    "    os.makedirs(save_dir, exist_ok=True)\n",
    "    \n",
    "    \n",
    "    # print(f\"ds_name: {ds_name}, fold_id: {k}, setting_path: {setting_path}\")\n",
    "    # print(f\"setting_dic (id={setting_id}): {setting_dic}\")\n",
    "\n",
    "    # datasetごとに違う変数のセット\n",
    "    if ds_name == \"c10\" or ds_name == \"tiny-imagenet\":\n",
    "        tf_func = transforms\n",
    "        label_col = \"label\"\n",
    "    elif ds_name == \"c100\":\n",
    "        tf_func = transforms_c100\n",
    "        label_col = \"fine_label\"\n",
    "    else:\n",
    "        NotImplementedError\n",
    "    tgt_pos = ViTExperiment.CLS_IDX\n",
    "    ds_dirname = f\"{ds_name}_fold{k}\"\n",
    "    # デバイス (cuda, or cpu) の取得\n",
    "    device = get_device()\n",
    "    # datasetをロード (初回の読み込みだけやや時間かかる)\n",
    "    ds = load_from_disk(os.path.join(ViTExperiment.DATASET_DIR, ds_dirname))\n",
    "    # ラベルの取得 (shuffleされない)\n",
    "    labels = {\n",
    "        \"train\": np.array(ds[\"train\"][label_col]),\n",
    "        \"repair\": np.array(ds[\"repair\"][label_col]),\n",
    "        \"test\": np.array(ds[\"test\"][label_col])\n",
    "    }\n",
    "    # 読み込まれた時にリアルタイムで前処理を適用するようにする\n",
    "    ds_preprocessed = ds.with_transform(tf_func)\n",
    "    # pretrained modelのロード\n",
    "    model, loading_info = ViTForImageClassification.from_pretrained(pretrained_dir, output_loading_info=True)\n",
    "    model.to(device).eval()\n",
    "    model = maybe_initialize_repair_weights_(model, loading_info[\"missing_keys\"])\n",
    "    end_li = model.vit.config.num_hidden_layers\n",
    "    batch_size = ViTExperiment.BATCH_SIZE\n",
    "    tgt_split = TGT_SPLIT # NOTE: we only use repair split for repairing\n",
    "    ori_tgt_ds = ds_preprocessed[tgt_split]\n",
    "    ori_tgt_labels = labels[tgt_split]\n",
    "    tgt_layer = TGT_LAYER # NOTE: we only use the last layer for repairing\n",
    "    print(f\"tgt_layer: {tgt_layer}, tgt_split: {tgt_split}\")\n",
    "\n",
    "    # ===============================================\n",
    "    # localization phase\n",
    "    # ===============================================\n",
    "\n",
    "    if fpfn is not None and misclf_type == \"tgt\":\n",
    "        location_save_dir = os.path.join(pretrained_dir, f\"misclf_top{tgt_rank}\", f\"{misclf_type}_{fpfn}_weights_location\")\n",
    "    elif misclf_type == \"all\":\n",
    "        location_save_dir = os.path.join(pretrained_dir, f\"all_weights_location\")\n",
    "    else:\n",
    "        location_save_dir = os.path.join(pretrained_dir, f\"misclf_top{tgt_rank}\", f\"{misclf_type}_weights_location\")\n",
    "    # 重みの位置情報の保存ファイル\n",
    "    if fl_method == \"ours\" or fl_method == \"bl\":\n",
    "        if wnum == 11:\n",
    "            if fl_method == \"ours\":\n",
    "                location_filename = f\"exp-repair-3-2_location_n{wnum}_weight_ours.npy\"\n",
    "            elif fl_method == \"bl\":\n",
    "                location_filename = \"exp-fl-2_location_pareto_weight_bl.npy\"\n",
    "        else:\n",
    "            location_filename = f\"exp-repair-4-1_location_n{wnum}_weight_{fl_method}.npy\"\n",
    "        location_save_path = os.path.join(location_save_dir, location_filename)\n",
    "    elif fl_method == \"random\":\n",
    "        raise NotImplementedError(\"Random method is not implemented for localization phase.\")\n",
    "    assert os.path.exists(location_save_path), f\"{location_save_path} does not exist. Please run the localization phase first.\"\n",
    "    pos_before, pos_after = np.load(location_save_path, allow_pickle=True)\n",
    "    # log表示\n",
    "    # print(f\"pos_before={pos_before}\")\n",
    "    # print(f\"pos_after={pos_after}\")\n",
    "    # print(f\"num(pos_to_fix)=num(pos_before)+num(pos_before)={len(pos_before)}+{len(pos_after)}={len(pos_before)+len(pos_after)}\")\n",
    "    # print(f\"num(pos_to_fix)=num(pos_before)+num(pos_before)={len(pos_before)}+{len(pos_after)}={len(pos_before)+len(pos_after)}\")\n",
    "    return pos_before, pos_after"
   ]
  },
  {
   "cell_type": "code",
   "execution_count": 4,
   "id": "a884ce00",
   "metadata": {},
   "outputs": [
    {
     "name": "stdout",
     "output_type": "stream",
     "text": [
      "==========================================================================================\n",
      "Processing: ds=c100, k=0, tgt_rank=1, alpha=0.9090909090909091, misclf_type=src_tgt, fpfn=None, w_num=11, fl_method=ours\n",
      "Device: cuda\n"
     ]
    },
    {
     "name": "stderr",
     "output_type": "stream",
     "text": [
      "Some weights of ViTForImageClassification were not initialized from the model checkpoint at /src/src/out_vit_c100_fold0 and are newly initialized: ['vit.encoder.layer.11.intermediate.repair.weight', 'vit.encoder.layer.3.intermediate.repair.weight', 'vit.encoder.layer.5.intermediate.repair.weight', 'vit.encoder.layer.8.intermediate.repair.weight', 'vit.encoder.layer.7.intermediate.repair.weight', 'vit.encoder.layer.6.intermediate.repair.weight', 'vit.encoder.layer.2.intermediate.repair.weight', 'vit.encoder.layer.9.intermediate.repair.weight', 'vit.encoder.layer.10.intermediate.repair.weight', 'vit.encoder.layer.0.intermediate.repair.weight', 'vit.encoder.layer.4.intermediate.repair.weight', 'vit.encoder.layer.1.intermediate.repair.weight']\n",
      "You should probably TRAIN this model on a down-stream task to be able to use it for predictions and inference.\n"
     ]
    },
    {
     "name": "stdout",
     "output_type": "stream",
     "text": [
      "🛠️ Initializing intermediate.repair.weight as identity matrix (for missing weights)\n",
      "tgt_layer: 11, tgt_split: repair\n",
      "==========================================================================================\n",
      "Processing: ds=c100, k=0, tgt_rank=1, alpha=0.9090909090909091, misclf_type=src_tgt, fpfn=None, w_num=11, fl_method=bl\n",
      "Device: cuda\n"
     ]
    },
    {
     "name": "stderr",
     "output_type": "stream",
     "text": [
      "Some weights of ViTForImageClassification were not initialized from the model checkpoint at /src/src/out_vit_c100_fold0 and are newly initialized: ['vit.encoder.layer.11.intermediate.repair.weight', 'vit.encoder.layer.3.intermediate.repair.weight', 'vit.encoder.layer.5.intermediate.repair.weight', 'vit.encoder.layer.8.intermediate.repair.weight', 'vit.encoder.layer.7.intermediate.repair.weight', 'vit.encoder.layer.6.intermediate.repair.weight', 'vit.encoder.layer.2.intermediate.repair.weight', 'vit.encoder.layer.9.intermediate.repair.weight', 'vit.encoder.layer.10.intermediate.repair.weight', 'vit.encoder.layer.0.intermediate.repair.weight', 'vit.encoder.layer.4.intermediate.repair.weight', 'vit.encoder.layer.1.intermediate.repair.weight']\n",
      "You should probably TRAIN this model on a down-stream task to be able to use it for predictions and inference.\n"
     ]
    },
    {
     "name": "stdout",
     "output_type": "stream",
     "text": [
      "🛠️ Initializing intermediate.repair.weight as identity matrix (for missing weights)\n",
      "tgt_layer: 11, tgt_split: repair\n",
      "==========================================================================================\n",
      "Processing: ds=c100, k=0, tgt_rank=1, alpha=0.9090909090909091, misclf_type=src_tgt, fpfn=None, w_num=236, fl_method=ours\n",
      "Device: cuda\n"
     ]
    },
    {
     "name": "stderr",
     "output_type": "stream",
     "text": [
      "Some weights of ViTForImageClassification were not initialized from the model checkpoint at /src/src/out_vit_c100_fold0 and are newly initialized: ['vit.encoder.layer.11.intermediate.repair.weight', 'vit.encoder.layer.3.intermediate.repair.weight', 'vit.encoder.layer.5.intermediate.repair.weight', 'vit.encoder.layer.8.intermediate.repair.weight', 'vit.encoder.layer.7.intermediate.repair.weight', 'vit.encoder.layer.6.intermediate.repair.weight', 'vit.encoder.layer.2.intermediate.repair.weight', 'vit.encoder.layer.9.intermediate.repair.weight', 'vit.encoder.layer.10.intermediate.repair.weight', 'vit.encoder.layer.0.intermediate.repair.weight', 'vit.encoder.layer.4.intermediate.repair.weight', 'vit.encoder.layer.1.intermediate.repair.weight']\n",
      "You should probably TRAIN this model on a down-stream task to be able to use it for predictions and inference.\n"
     ]
    },
    {
     "name": "stdout",
     "output_type": "stream",
     "text": [
      "🛠️ Initializing intermediate.repair.weight as identity matrix (for missing weights)\n",
      "tgt_layer: 11, tgt_split: repair\n",
      "==========================================================================================\n",
      "Processing: ds=c100, k=0, tgt_rank=1, alpha=0.9090909090909091, misclf_type=src_tgt, fpfn=None, w_num=236, fl_method=bl\n",
      "Device: cuda\n"
     ]
    },
    {
     "name": "stderr",
     "output_type": "stream",
     "text": [
      "Some weights of ViTForImageClassification were not initialized from the model checkpoint at /src/src/out_vit_c100_fold0 and are newly initialized: ['vit.encoder.layer.11.intermediate.repair.weight', 'vit.encoder.layer.3.intermediate.repair.weight', 'vit.encoder.layer.5.intermediate.repair.weight', 'vit.encoder.layer.8.intermediate.repair.weight', 'vit.encoder.layer.7.intermediate.repair.weight', 'vit.encoder.layer.6.intermediate.repair.weight', 'vit.encoder.layer.2.intermediate.repair.weight', 'vit.encoder.layer.9.intermediate.repair.weight', 'vit.encoder.layer.10.intermediate.repair.weight', 'vit.encoder.layer.0.intermediate.repair.weight', 'vit.encoder.layer.4.intermediate.repair.weight', 'vit.encoder.layer.1.intermediate.repair.weight']\n",
      "You should probably TRAIN this model on a down-stream task to be able to use it for predictions and inference.\n"
     ]
    },
    {
     "name": "stdout",
     "output_type": "stream",
     "text": [
      "🛠️ Initializing intermediate.repair.weight as identity matrix (for missing weights)\n",
      "tgt_layer: 11, tgt_split: repair\n",
      "==========================================================================================\n",
      "Processing: ds=c100, k=0, tgt_rank=1, alpha=0.9090909090909091, misclf_type=src_tgt, fpfn=None, w_num=472, fl_method=ours\n",
      "Device: cuda\n"
     ]
    },
    {
     "name": "stderr",
     "output_type": "stream",
     "text": [
      "Some weights of ViTForImageClassification were not initialized from the model checkpoint at /src/src/out_vit_c100_fold0 and are newly initialized: ['vit.encoder.layer.11.intermediate.repair.weight', 'vit.encoder.layer.3.intermediate.repair.weight', 'vit.encoder.layer.5.intermediate.repair.weight', 'vit.encoder.layer.8.intermediate.repair.weight', 'vit.encoder.layer.7.intermediate.repair.weight', 'vit.encoder.layer.6.intermediate.repair.weight', 'vit.encoder.layer.2.intermediate.repair.weight', 'vit.encoder.layer.9.intermediate.repair.weight', 'vit.encoder.layer.10.intermediate.repair.weight', 'vit.encoder.layer.0.intermediate.repair.weight', 'vit.encoder.layer.4.intermediate.repair.weight', 'vit.encoder.layer.1.intermediate.repair.weight']\n",
      "You should probably TRAIN this model on a down-stream task to be able to use it for predictions and inference.\n"
     ]
    },
    {
     "name": "stdout",
     "output_type": "stream",
     "text": [
      "🛠️ Initializing intermediate.repair.weight as identity matrix (for missing weights)\n",
      "tgt_layer: 11, tgt_split: repair\n",
      "==========================================================================================\n",
      "Processing: ds=c100, k=0, tgt_rank=1, alpha=0.9090909090909091, misclf_type=src_tgt, fpfn=None, w_num=472, fl_method=bl\n",
      "Device: cuda\n"
     ]
    },
    {
     "name": "stderr",
     "output_type": "stream",
     "text": [
      "Some weights of ViTForImageClassification were not initialized from the model checkpoint at /src/src/out_vit_c100_fold0 and are newly initialized: ['vit.encoder.layer.11.intermediate.repair.weight', 'vit.encoder.layer.3.intermediate.repair.weight', 'vit.encoder.layer.5.intermediate.repair.weight', 'vit.encoder.layer.8.intermediate.repair.weight', 'vit.encoder.layer.7.intermediate.repair.weight', 'vit.encoder.layer.6.intermediate.repair.weight', 'vit.encoder.layer.2.intermediate.repair.weight', 'vit.encoder.layer.9.intermediate.repair.weight', 'vit.encoder.layer.10.intermediate.repair.weight', 'vit.encoder.layer.0.intermediate.repair.weight', 'vit.encoder.layer.4.intermediate.repair.weight', 'vit.encoder.layer.1.intermediate.repair.weight']\n",
      "You should probably TRAIN this model on a down-stream task to be able to use it for predictions and inference.\n"
     ]
    },
    {
     "name": "stdout",
     "output_type": "stream",
     "text": [
      "🛠️ Initializing intermediate.repair.weight as identity matrix (for missing weights)\n",
      "tgt_layer: 11, tgt_split: repair\n",
      "==========================================================================================\n",
      "Processing: ds=c100, k=0, tgt_rank=1, alpha=0.9090909090909091, misclf_type=src_tgt, fpfn=None, w_num=944, fl_method=ours\n",
      "Device: cuda\n"
     ]
    },
    {
     "name": "stderr",
     "output_type": "stream",
     "text": [
      "Some weights of ViTForImageClassification were not initialized from the model checkpoint at /src/src/out_vit_c100_fold0 and are newly initialized: ['vit.encoder.layer.11.intermediate.repair.weight', 'vit.encoder.layer.3.intermediate.repair.weight', 'vit.encoder.layer.5.intermediate.repair.weight', 'vit.encoder.layer.8.intermediate.repair.weight', 'vit.encoder.layer.7.intermediate.repair.weight', 'vit.encoder.layer.6.intermediate.repair.weight', 'vit.encoder.layer.2.intermediate.repair.weight', 'vit.encoder.layer.9.intermediate.repair.weight', 'vit.encoder.layer.10.intermediate.repair.weight', 'vit.encoder.layer.0.intermediate.repair.weight', 'vit.encoder.layer.4.intermediate.repair.weight', 'vit.encoder.layer.1.intermediate.repair.weight']\n",
      "You should probably TRAIN this model on a down-stream task to be able to use it for predictions and inference.\n"
     ]
    },
    {
     "name": "stdout",
     "output_type": "stream",
     "text": [
      "🛠️ Initializing intermediate.repair.weight as identity matrix (for missing weights)\n",
      "tgt_layer: 11, tgt_split: repair\n",
      "==========================================================================================\n",
      "Processing: ds=c100, k=0, tgt_rank=1, alpha=0.9090909090909091, misclf_type=src_tgt, fpfn=None, w_num=944, fl_method=bl\n",
      "Device: cuda\n"
     ]
    },
    {
     "name": "stderr",
     "output_type": "stream",
     "text": [
      "Some weights of ViTForImageClassification were not initialized from the model checkpoint at /src/src/out_vit_c100_fold0 and are newly initialized: ['vit.encoder.layer.11.intermediate.repair.weight', 'vit.encoder.layer.3.intermediate.repair.weight', 'vit.encoder.layer.5.intermediate.repair.weight', 'vit.encoder.layer.8.intermediate.repair.weight', 'vit.encoder.layer.7.intermediate.repair.weight', 'vit.encoder.layer.6.intermediate.repair.weight', 'vit.encoder.layer.2.intermediate.repair.weight', 'vit.encoder.layer.9.intermediate.repair.weight', 'vit.encoder.layer.10.intermediate.repair.weight', 'vit.encoder.layer.0.intermediate.repair.weight', 'vit.encoder.layer.4.intermediate.repair.weight', 'vit.encoder.layer.1.intermediate.repair.weight']\n",
      "You should probably TRAIN this model on a down-stream task to be able to use it for predictions and inference.\n"
     ]
    },
    {
     "name": "stdout",
     "output_type": "stream",
     "text": [
      "🛠️ Initializing intermediate.repair.weight as identity matrix (for missing weights)\n",
      "tgt_layer: 11, tgt_split: repair\n",
      "==========================================================================================\n",
      "Processing: ds=c100, k=0, tgt_rank=1, alpha=0.9090909090909091, misclf_type=tgt, fpfn=fp, w_num=11, fl_method=ours\n",
      "Device: cuda\n"
     ]
    },
    {
     "name": "stderr",
     "output_type": "stream",
     "text": [
      "Some weights of ViTForImageClassification were not initialized from the model checkpoint at /src/src/out_vit_c100_fold0 and are newly initialized: ['vit.encoder.layer.11.intermediate.repair.weight', 'vit.encoder.layer.3.intermediate.repair.weight', 'vit.encoder.layer.5.intermediate.repair.weight', 'vit.encoder.layer.8.intermediate.repair.weight', 'vit.encoder.layer.7.intermediate.repair.weight', 'vit.encoder.layer.6.intermediate.repair.weight', 'vit.encoder.layer.2.intermediate.repair.weight', 'vit.encoder.layer.9.intermediate.repair.weight', 'vit.encoder.layer.10.intermediate.repair.weight', 'vit.encoder.layer.0.intermediate.repair.weight', 'vit.encoder.layer.4.intermediate.repair.weight', 'vit.encoder.layer.1.intermediate.repair.weight']\n",
      "You should probably TRAIN this model on a down-stream task to be able to use it for predictions and inference.\n"
     ]
    },
    {
     "name": "stdout",
     "output_type": "stream",
     "text": [
      "🛠️ Initializing intermediate.repair.weight as identity matrix (for missing weights)\n",
      "tgt_layer: 11, tgt_split: repair\n",
      "==========================================================================================\n",
      "Processing: ds=c100, k=0, tgt_rank=1, alpha=0.9090909090909091, misclf_type=tgt, fpfn=fp, w_num=11, fl_method=bl\n",
      "Device: cuda\n"
     ]
    },
    {
     "name": "stderr",
     "output_type": "stream",
     "text": [
      "Some weights of ViTForImageClassification were not initialized from the model checkpoint at /src/src/out_vit_c100_fold0 and are newly initialized: ['vit.encoder.layer.11.intermediate.repair.weight', 'vit.encoder.layer.3.intermediate.repair.weight', 'vit.encoder.layer.5.intermediate.repair.weight', 'vit.encoder.layer.8.intermediate.repair.weight', 'vit.encoder.layer.7.intermediate.repair.weight', 'vit.encoder.layer.6.intermediate.repair.weight', 'vit.encoder.layer.2.intermediate.repair.weight', 'vit.encoder.layer.9.intermediate.repair.weight', 'vit.encoder.layer.10.intermediate.repair.weight', 'vit.encoder.layer.0.intermediate.repair.weight', 'vit.encoder.layer.4.intermediate.repair.weight', 'vit.encoder.layer.1.intermediate.repair.weight']\n",
      "You should probably TRAIN this model on a down-stream task to be able to use it for predictions and inference.\n"
     ]
    },
    {
     "name": "stdout",
     "output_type": "stream",
     "text": [
      "🛠️ Initializing intermediate.repair.weight as identity matrix (for missing weights)\n",
      "tgt_layer: 11, tgt_split: repair\n",
      "==========================================================================================\n",
      "Processing: ds=c100, k=0, tgt_rank=1, alpha=0.9090909090909091, misclf_type=tgt, fpfn=fp, w_num=236, fl_method=ours\n",
      "Device: cuda\n"
     ]
    },
    {
     "name": "stderr",
     "output_type": "stream",
     "text": [
      "Some weights of ViTForImageClassification were not initialized from the model checkpoint at /src/src/out_vit_c100_fold0 and are newly initialized: ['vit.encoder.layer.11.intermediate.repair.weight', 'vit.encoder.layer.3.intermediate.repair.weight', 'vit.encoder.layer.5.intermediate.repair.weight', 'vit.encoder.layer.8.intermediate.repair.weight', 'vit.encoder.layer.7.intermediate.repair.weight', 'vit.encoder.layer.6.intermediate.repair.weight', 'vit.encoder.layer.2.intermediate.repair.weight', 'vit.encoder.layer.9.intermediate.repair.weight', 'vit.encoder.layer.10.intermediate.repair.weight', 'vit.encoder.layer.0.intermediate.repair.weight', 'vit.encoder.layer.4.intermediate.repair.weight', 'vit.encoder.layer.1.intermediate.repair.weight']\n",
      "You should probably TRAIN this model on a down-stream task to be able to use it for predictions and inference.\n"
     ]
    },
    {
     "name": "stdout",
     "output_type": "stream",
     "text": [
      "🛠️ Initializing intermediate.repair.weight as identity matrix (for missing weights)\n",
      "tgt_layer: 11, tgt_split: repair\n",
      "==========================================================================================\n",
      "Processing: ds=c100, k=0, tgt_rank=1, alpha=0.9090909090909091, misclf_type=tgt, fpfn=fp, w_num=236, fl_method=bl\n",
      "Device: cuda\n"
     ]
    },
    {
     "name": "stderr",
     "output_type": "stream",
     "text": [
      "Some weights of ViTForImageClassification were not initialized from the model checkpoint at /src/src/out_vit_c100_fold0 and are newly initialized: ['vit.encoder.layer.11.intermediate.repair.weight', 'vit.encoder.layer.3.intermediate.repair.weight', 'vit.encoder.layer.5.intermediate.repair.weight', 'vit.encoder.layer.8.intermediate.repair.weight', 'vit.encoder.layer.7.intermediate.repair.weight', 'vit.encoder.layer.6.intermediate.repair.weight', 'vit.encoder.layer.2.intermediate.repair.weight', 'vit.encoder.layer.9.intermediate.repair.weight', 'vit.encoder.layer.10.intermediate.repair.weight', 'vit.encoder.layer.0.intermediate.repair.weight', 'vit.encoder.layer.4.intermediate.repair.weight', 'vit.encoder.layer.1.intermediate.repair.weight']\n",
      "You should probably TRAIN this model on a down-stream task to be able to use it for predictions and inference.\n"
     ]
    },
    {
     "name": "stdout",
     "output_type": "stream",
     "text": [
      "🛠️ Initializing intermediate.repair.weight as identity matrix (for missing weights)\n",
      "tgt_layer: 11, tgt_split: repair\n",
      "==========================================================================================\n",
      "Processing: ds=c100, k=0, tgt_rank=1, alpha=0.9090909090909091, misclf_type=tgt, fpfn=fp, w_num=472, fl_method=ours\n",
      "Device: cuda\n"
     ]
    },
    {
     "name": "stderr",
     "output_type": "stream",
     "text": [
      "Some weights of ViTForImageClassification were not initialized from the model checkpoint at /src/src/out_vit_c100_fold0 and are newly initialized: ['vit.encoder.layer.11.intermediate.repair.weight', 'vit.encoder.layer.3.intermediate.repair.weight', 'vit.encoder.layer.5.intermediate.repair.weight', 'vit.encoder.layer.8.intermediate.repair.weight', 'vit.encoder.layer.7.intermediate.repair.weight', 'vit.encoder.layer.6.intermediate.repair.weight', 'vit.encoder.layer.2.intermediate.repair.weight', 'vit.encoder.layer.9.intermediate.repair.weight', 'vit.encoder.layer.10.intermediate.repair.weight', 'vit.encoder.layer.0.intermediate.repair.weight', 'vit.encoder.layer.4.intermediate.repair.weight', 'vit.encoder.layer.1.intermediate.repair.weight']\n",
      "You should probably TRAIN this model on a down-stream task to be able to use it for predictions and inference.\n"
     ]
    },
    {
     "name": "stdout",
     "output_type": "stream",
     "text": [
      "🛠️ Initializing intermediate.repair.weight as identity matrix (for missing weights)\n",
      "tgt_layer: 11, tgt_split: repair\n",
      "==========================================================================================\n",
      "Processing: ds=c100, k=0, tgt_rank=1, alpha=0.9090909090909091, misclf_type=tgt, fpfn=fp, w_num=472, fl_method=bl\n",
      "Device: cuda\n"
     ]
    },
    {
     "name": "stderr",
     "output_type": "stream",
     "text": [
      "Some weights of ViTForImageClassification were not initialized from the model checkpoint at /src/src/out_vit_c100_fold0 and are newly initialized: ['vit.encoder.layer.11.intermediate.repair.weight', 'vit.encoder.layer.3.intermediate.repair.weight', 'vit.encoder.layer.5.intermediate.repair.weight', 'vit.encoder.layer.8.intermediate.repair.weight', 'vit.encoder.layer.7.intermediate.repair.weight', 'vit.encoder.layer.6.intermediate.repair.weight', 'vit.encoder.layer.2.intermediate.repair.weight', 'vit.encoder.layer.9.intermediate.repair.weight', 'vit.encoder.layer.10.intermediate.repair.weight', 'vit.encoder.layer.0.intermediate.repair.weight', 'vit.encoder.layer.4.intermediate.repair.weight', 'vit.encoder.layer.1.intermediate.repair.weight']\n",
      "You should probably TRAIN this model on a down-stream task to be able to use it for predictions and inference.\n"
     ]
    },
    {
     "name": "stdout",
     "output_type": "stream",
     "text": [
      "🛠️ Initializing intermediate.repair.weight as identity matrix (for missing weights)\n",
      "tgt_layer: 11, tgt_split: repair\n",
      "==========================================================================================\n",
      "Processing: ds=c100, k=0, tgt_rank=1, alpha=0.9090909090909091, misclf_type=tgt, fpfn=fp, w_num=944, fl_method=ours\n",
      "Device: cuda\n"
     ]
    },
    {
     "name": "stderr",
     "output_type": "stream",
     "text": [
      "Some weights of ViTForImageClassification were not initialized from the model checkpoint at /src/src/out_vit_c100_fold0 and are newly initialized: ['vit.encoder.layer.11.intermediate.repair.weight', 'vit.encoder.layer.3.intermediate.repair.weight', 'vit.encoder.layer.5.intermediate.repair.weight', 'vit.encoder.layer.8.intermediate.repair.weight', 'vit.encoder.layer.7.intermediate.repair.weight', 'vit.encoder.layer.6.intermediate.repair.weight', 'vit.encoder.layer.2.intermediate.repair.weight', 'vit.encoder.layer.9.intermediate.repair.weight', 'vit.encoder.layer.10.intermediate.repair.weight', 'vit.encoder.layer.0.intermediate.repair.weight', 'vit.encoder.layer.4.intermediate.repair.weight', 'vit.encoder.layer.1.intermediate.repair.weight']\n",
      "You should probably TRAIN this model on a down-stream task to be able to use it for predictions and inference.\n"
     ]
    },
    {
     "name": "stdout",
     "output_type": "stream",
     "text": [
      "🛠️ Initializing intermediate.repair.weight as identity matrix (for missing weights)\n",
      "tgt_layer: 11, tgt_split: repair\n",
      "==========================================================================================\n",
      "Processing: ds=c100, k=0, tgt_rank=1, alpha=0.9090909090909091, misclf_type=tgt, fpfn=fp, w_num=944, fl_method=bl\n",
      "Device: cuda\n"
     ]
    },
    {
     "name": "stderr",
     "output_type": "stream",
     "text": [
      "Some weights of ViTForImageClassification were not initialized from the model checkpoint at /src/src/out_vit_c100_fold0 and are newly initialized: ['vit.encoder.layer.11.intermediate.repair.weight', 'vit.encoder.layer.3.intermediate.repair.weight', 'vit.encoder.layer.5.intermediate.repair.weight', 'vit.encoder.layer.8.intermediate.repair.weight', 'vit.encoder.layer.7.intermediate.repair.weight', 'vit.encoder.layer.6.intermediate.repair.weight', 'vit.encoder.layer.2.intermediate.repair.weight', 'vit.encoder.layer.9.intermediate.repair.weight', 'vit.encoder.layer.10.intermediate.repair.weight', 'vit.encoder.layer.0.intermediate.repair.weight', 'vit.encoder.layer.4.intermediate.repair.weight', 'vit.encoder.layer.1.intermediate.repair.weight']\n",
      "You should probably TRAIN this model on a down-stream task to be able to use it for predictions and inference.\n"
     ]
    },
    {
     "name": "stdout",
     "output_type": "stream",
     "text": [
      "🛠️ Initializing intermediate.repair.weight as identity matrix (for missing weights)\n",
      "tgt_layer: 11, tgt_split: repair\n",
      "==========================================================================================\n",
      "Processing: ds=c100, k=0, tgt_rank=1, alpha=0.9090909090909091, misclf_type=tgt, fpfn=fn, w_num=11, fl_method=ours\n",
      "Device: cuda\n"
     ]
    },
    {
     "name": "stderr",
     "output_type": "stream",
     "text": [
      "Some weights of ViTForImageClassification were not initialized from the model checkpoint at /src/src/out_vit_c100_fold0 and are newly initialized: ['vit.encoder.layer.11.intermediate.repair.weight', 'vit.encoder.layer.3.intermediate.repair.weight', 'vit.encoder.layer.5.intermediate.repair.weight', 'vit.encoder.layer.8.intermediate.repair.weight', 'vit.encoder.layer.7.intermediate.repair.weight', 'vit.encoder.layer.6.intermediate.repair.weight', 'vit.encoder.layer.2.intermediate.repair.weight', 'vit.encoder.layer.9.intermediate.repair.weight', 'vit.encoder.layer.10.intermediate.repair.weight', 'vit.encoder.layer.0.intermediate.repair.weight', 'vit.encoder.layer.4.intermediate.repair.weight', 'vit.encoder.layer.1.intermediate.repair.weight']\n",
      "You should probably TRAIN this model on a down-stream task to be able to use it for predictions and inference.\n"
     ]
    },
    {
     "name": "stdout",
     "output_type": "stream",
     "text": [
      "🛠️ Initializing intermediate.repair.weight as identity matrix (for missing weights)\n",
      "tgt_layer: 11, tgt_split: repair\n",
      "==========================================================================================\n",
      "Processing: ds=c100, k=0, tgt_rank=1, alpha=0.9090909090909091, misclf_type=tgt, fpfn=fn, w_num=11, fl_method=bl\n",
      "Device: cuda\n"
     ]
    },
    {
     "name": "stderr",
     "output_type": "stream",
     "text": [
      "Some weights of ViTForImageClassification were not initialized from the model checkpoint at /src/src/out_vit_c100_fold0 and are newly initialized: ['vit.encoder.layer.11.intermediate.repair.weight', 'vit.encoder.layer.3.intermediate.repair.weight', 'vit.encoder.layer.5.intermediate.repair.weight', 'vit.encoder.layer.8.intermediate.repair.weight', 'vit.encoder.layer.7.intermediate.repair.weight', 'vit.encoder.layer.6.intermediate.repair.weight', 'vit.encoder.layer.2.intermediate.repair.weight', 'vit.encoder.layer.9.intermediate.repair.weight', 'vit.encoder.layer.10.intermediate.repair.weight', 'vit.encoder.layer.0.intermediate.repair.weight', 'vit.encoder.layer.4.intermediate.repair.weight', 'vit.encoder.layer.1.intermediate.repair.weight']\n",
      "You should probably TRAIN this model on a down-stream task to be able to use it for predictions and inference.\n"
     ]
    },
    {
     "name": "stdout",
     "output_type": "stream",
     "text": [
      "🛠️ Initializing intermediate.repair.weight as identity matrix (for missing weights)\n",
      "tgt_layer: 11, tgt_split: repair\n",
      "==========================================================================================\n",
      "Processing: ds=c100, k=0, tgt_rank=1, alpha=0.9090909090909091, misclf_type=tgt, fpfn=fn, w_num=236, fl_method=ours\n",
      "Device: cuda\n"
     ]
    },
    {
     "name": "stderr",
     "output_type": "stream",
     "text": [
      "Some weights of ViTForImageClassification were not initialized from the model checkpoint at /src/src/out_vit_c100_fold0 and are newly initialized: ['vit.encoder.layer.11.intermediate.repair.weight', 'vit.encoder.layer.3.intermediate.repair.weight', 'vit.encoder.layer.5.intermediate.repair.weight', 'vit.encoder.layer.8.intermediate.repair.weight', 'vit.encoder.layer.7.intermediate.repair.weight', 'vit.encoder.layer.6.intermediate.repair.weight', 'vit.encoder.layer.2.intermediate.repair.weight', 'vit.encoder.layer.9.intermediate.repair.weight', 'vit.encoder.layer.10.intermediate.repair.weight', 'vit.encoder.layer.0.intermediate.repair.weight', 'vit.encoder.layer.4.intermediate.repair.weight', 'vit.encoder.layer.1.intermediate.repair.weight']\n",
      "You should probably TRAIN this model on a down-stream task to be able to use it for predictions and inference.\n"
     ]
    },
    {
     "name": "stdout",
     "output_type": "stream",
     "text": [
      "🛠️ Initializing intermediate.repair.weight as identity matrix (for missing weights)\n",
      "tgt_layer: 11, tgt_split: repair\n",
      "==========================================================================================\n",
      "Processing: ds=c100, k=0, tgt_rank=1, alpha=0.9090909090909091, misclf_type=tgt, fpfn=fn, w_num=236, fl_method=bl\n",
      "Device: cuda\n"
     ]
    },
    {
     "name": "stderr",
     "output_type": "stream",
     "text": [
      "Some weights of ViTForImageClassification were not initialized from the model checkpoint at /src/src/out_vit_c100_fold0 and are newly initialized: ['vit.encoder.layer.11.intermediate.repair.weight', 'vit.encoder.layer.3.intermediate.repair.weight', 'vit.encoder.layer.5.intermediate.repair.weight', 'vit.encoder.layer.8.intermediate.repair.weight', 'vit.encoder.layer.7.intermediate.repair.weight', 'vit.encoder.layer.6.intermediate.repair.weight', 'vit.encoder.layer.2.intermediate.repair.weight', 'vit.encoder.layer.9.intermediate.repair.weight', 'vit.encoder.layer.10.intermediate.repair.weight', 'vit.encoder.layer.0.intermediate.repair.weight', 'vit.encoder.layer.4.intermediate.repair.weight', 'vit.encoder.layer.1.intermediate.repair.weight']\n",
      "You should probably TRAIN this model on a down-stream task to be able to use it for predictions and inference.\n"
     ]
    },
    {
     "name": "stdout",
     "output_type": "stream",
     "text": [
      "🛠️ Initializing intermediate.repair.weight as identity matrix (for missing weights)\n",
      "tgt_layer: 11, tgt_split: repair\n",
      "==========================================================================================\n",
      "Processing: ds=c100, k=0, tgt_rank=1, alpha=0.9090909090909091, misclf_type=tgt, fpfn=fn, w_num=472, fl_method=ours\n",
      "Device: cuda\n"
     ]
    },
    {
     "name": "stderr",
     "output_type": "stream",
     "text": [
      "Some weights of ViTForImageClassification were not initialized from the model checkpoint at /src/src/out_vit_c100_fold0 and are newly initialized: ['vit.encoder.layer.11.intermediate.repair.weight', 'vit.encoder.layer.3.intermediate.repair.weight', 'vit.encoder.layer.5.intermediate.repair.weight', 'vit.encoder.layer.8.intermediate.repair.weight', 'vit.encoder.layer.7.intermediate.repair.weight', 'vit.encoder.layer.6.intermediate.repair.weight', 'vit.encoder.layer.2.intermediate.repair.weight', 'vit.encoder.layer.9.intermediate.repair.weight', 'vit.encoder.layer.10.intermediate.repair.weight', 'vit.encoder.layer.0.intermediate.repair.weight', 'vit.encoder.layer.4.intermediate.repair.weight', 'vit.encoder.layer.1.intermediate.repair.weight']\n",
      "You should probably TRAIN this model on a down-stream task to be able to use it for predictions and inference.\n"
     ]
    },
    {
     "name": "stdout",
     "output_type": "stream",
     "text": [
      "🛠️ Initializing intermediate.repair.weight as identity matrix (for missing weights)\n",
      "tgt_layer: 11, tgt_split: repair\n",
      "==========================================================================================\n",
      "Processing: ds=c100, k=0, tgt_rank=1, alpha=0.9090909090909091, misclf_type=tgt, fpfn=fn, w_num=472, fl_method=bl\n",
      "Device: cuda\n"
     ]
    },
    {
     "name": "stderr",
     "output_type": "stream",
     "text": [
      "Some weights of ViTForImageClassification were not initialized from the model checkpoint at /src/src/out_vit_c100_fold0 and are newly initialized: ['vit.encoder.layer.11.intermediate.repair.weight', 'vit.encoder.layer.3.intermediate.repair.weight', 'vit.encoder.layer.5.intermediate.repair.weight', 'vit.encoder.layer.8.intermediate.repair.weight', 'vit.encoder.layer.7.intermediate.repair.weight', 'vit.encoder.layer.6.intermediate.repair.weight', 'vit.encoder.layer.2.intermediate.repair.weight', 'vit.encoder.layer.9.intermediate.repair.weight', 'vit.encoder.layer.10.intermediate.repair.weight', 'vit.encoder.layer.0.intermediate.repair.weight', 'vit.encoder.layer.4.intermediate.repair.weight', 'vit.encoder.layer.1.intermediate.repair.weight']\n",
      "You should probably TRAIN this model on a down-stream task to be able to use it for predictions and inference.\n"
     ]
    },
    {
     "name": "stdout",
     "output_type": "stream",
     "text": [
      "🛠️ Initializing intermediate.repair.weight as identity matrix (for missing weights)\n",
      "tgt_layer: 11, tgt_split: repair\n",
      "==========================================================================================\n",
      "Processing: ds=c100, k=0, tgt_rank=1, alpha=0.9090909090909091, misclf_type=tgt, fpfn=fn, w_num=944, fl_method=ours\n",
      "Device: cuda\n"
     ]
    },
    {
     "name": "stderr",
     "output_type": "stream",
     "text": [
      "Some weights of ViTForImageClassification were not initialized from the model checkpoint at /src/src/out_vit_c100_fold0 and are newly initialized: ['vit.encoder.layer.11.intermediate.repair.weight', 'vit.encoder.layer.3.intermediate.repair.weight', 'vit.encoder.layer.5.intermediate.repair.weight', 'vit.encoder.layer.8.intermediate.repair.weight', 'vit.encoder.layer.7.intermediate.repair.weight', 'vit.encoder.layer.6.intermediate.repair.weight', 'vit.encoder.layer.2.intermediate.repair.weight', 'vit.encoder.layer.9.intermediate.repair.weight', 'vit.encoder.layer.10.intermediate.repair.weight', 'vit.encoder.layer.0.intermediate.repair.weight', 'vit.encoder.layer.4.intermediate.repair.weight', 'vit.encoder.layer.1.intermediate.repair.weight']\n",
      "You should probably TRAIN this model on a down-stream task to be able to use it for predictions and inference.\n"
     ]
    },
    {
     "name": "stdout",
     "output_type": "stream",
     "text": [
      "🛠️ Initializing intermediate.repair.weight as identity matrix (for missing weights)\n",
      "tgt_layer: 11, tgt_split: repair\n",
      "==========================================================================================\n",
      "Processing: ds=c100, k=0, tgt_rank=1, alpha=0.9090909090909091, misclf_type=tgt, fpfn=fn, w_num=944, fl_method=bl\n",
      "Device: cuda\n"
     ]
    },
    {
     "name": "stderr",
     "output_type": "stream",
     "text": [
      "Some weights of ViTForImageClassification were not initialized from the model checkpoint at /src/src/out_vit_c100_fold0 and are newly initialized: ['vit.encoder.layer.11.intermediate.repair.weight', 'vit.encoder.layer.3.intermediate.repair.weight', 'vit.encoder.layer.5.intermediate.repair.weight', 'vit.encoder.layer.8.intermediate.repair.weight', 'vit.encoder.layer.7.intermediate.repair.weight', 'vit.encoder.layer.6.intermediate.repair.weight', 'vit.encoder.layer.2.intermediate.repair.weight', 'vit.encoder.layer.9.intermediate.repair.weight', 'vit.encoder.layer.10.intermediate.repair.weight', 'vit.encoder.layer.0.intermediate.repair.weight', 'vit.encoder.layer.4.intermediate.repair.weight', 'vit.encoder.layer.1.intermediate.repair.weight']\n",
      "You should probably TRAIN this model on a down-stream task to be able to use it for predictions and inference.\n"
     ]
    },
    {
     "name": "stdout",
     "output_type": "stream",
     "text": [
      "🛠️ Initializing intermediate.repair.weight as identity matrix (for missing weights)\n",
      "tgt_layer: 11, tgt_split: repair\n",
      "==========================================================================================\n",
      "Processing: ds=c100, k=0, tgt_rank=2, alpha=0.9090909090909091, misclf_type=src_tgt, fpfn=None, w_num=11, fl_method=ours\n",
      "Device: cuda\n"
     ]
    },
    {
     "name": "stderr",
     "output_type": "stream",
     "text": [
      "Some weights of ViTForImageClassification were not initialized from the model checkpoint at /src/src/out_vit_c100_fold0 and are newly initialized: ['vit.encoder.layer.11.intermediate.repair.weight', 'vit.encoder.layer.3.intermediate.repair.weight', 'vit.encoder.layer.5.intermediate.repair.weight', 'vit.encoder.layer.8.intermediate.repair.weight', 'vit.encoder.layer.7.intermediate.repair.weight', 'vit.encoder.layer.6.intermediate.repair.weight', 'vit.encoder.layer.2.intermediate.repair.weight', 'vit.encoder.layer.9.intermediate.repair.weight', 'vit.encoder.layer.10.intermediate.repair.weight', 'vit.encoder.layer.0.intermediate.repair.weight', 'vit.encoder.layer.4.intermediate.repair.weight', 'vit.encoder.layer.1.intermediate.repair.weight']\n",
      "You should probably TRAIN this model on a down-stream task to be able to use it for predictions and inference.\n"
     ]
    },
    {
     "name": "stdout",
     "output_type": "stream",
     "text": [
      "🛠️ Initializing intermediate.repair.weight as identity matrix (for missing weights)\n",
      "tgt_layer: 11, tgt_split: repair\n",
      "==========================================================================================\n",
      "Processing: ds=c100, k=0, tgt_rank=2, alpha=0.9090909090909091, misclf_type=src_tgt, fpfn=None, w_num=11, fl_method=bl\n",
      "Device: cuda\n"
     ]
    },
    {
     "name": "stderr",
     "output_type": "stream",
     "text": [
      "Some weights of ViTForImageClassification were not initialized from the model checkpoint at /src/src/out_vit_c100_fold0 and are newly initialized: ['vit.encoder.layer.11.intermediate.repair.weight', 'vit.encoder.layer.3.intermediate.repair.weight', 'vit.encoder.layer.5.intermediate.repair.weight', 'vit.encoder.layer.8.intermediate.repair.weight', 'vit.encoder.layer.7.intermediate.repair.weight', 'vit.encoder.layer.6.intermediate.repair.weight', 'vit.encoder.layer.2.intermediate.repair.weight', 'vit.encoder.layer.9.intermediate.repair.weight', 'vit.encoder.layer.10.intermediate.repair.weight', 'vit.encoder.layer.0.intermediate.repair.weight', 'vit.encoder.layer.4.intermediate.repair.weight', 'vit.encoder.layer.1.intermediate.repair.weight']\n",
      "You should probably TRAIN this model on a down-stream task to be able to use it for predictions and inference.\n"
     ]
    },
    {
     "name": "stdout",
     "output_type": "stream",
     "text": [
      "🛠️ Initializing intermediate.repair.weight as identity matrix (for missing weights)\n",
      "tgt_layer: 11, tgt_split: repair\n",
      "==========================================================================================\n",
      "Processing: ds=c100, k=0, tgt_rank=2, alpha=0.9090909090909091, misclf_type=src_tgt, fpfn=None, w_num=236, fl_method=ours\n",
      "Device: cuda\n"
     ]
    },
    {
     "name": "stderr",
     "output_type": "stream",
     "text": [
      "Some weights of ViTForImageClassification were not initialized from the model checkpoint at /src/src/out_vit_c100_fold0 and are newly initialized: ['vit.encoder.layer.11.intermediate.repair.weight', 'vit.encoder.layer.3.intermediate.repair.weight', 'vit.encoder.layer.5.intermediate.repair.weight', 'vit.encoder.layer.8.intermediate.repair.weight', 'vit.encoder.layer.7.intermediate.repair.weight', 'vit.encoder.layer.6.intermediate.repair.weight', 'vit.encoder.layer.2.intermediate.repair.weight', 'vit.encoder.layer.9.intermediate.repair.weight', 'vit.encoder.layer.10.intermediate.repair.weight', 'vit.encoder.layer.0.intermediate.repair.weight', 'vit.encoder.layer.4.intermediate.repair.weight', 'vit.encoder.layer.1.intermediate.repair.weight']\n",
      "You should probably TRAIN this model on a down-stream task to be able to use it for predictions and inference.\n"
     ]
    },
    {
     "name": "stdout",
     "output_type": "stream",
     "text": [
      "🛠️ Initializing intermediate.repair.weight as identity matrix (for missing weights)\n",
      "tgt_layer: 11, tgt_split: repair\n",
      "==========================================================================================\n",
      "Processing: ds=c100, k=0, tgt_rank=2, alpha=0.9090909090909091, misclf_type=src_tgt, fpfn=None, w_num=236, fl_method=bl\n",
      "Device: cuda\n"
     ]
    },
    {
     "name": "stderr",
     "output_type": "stream",
     "text": [
      "Some weights of ViTForImageClassification were not initialized from the model checkpoint at /src/src/out_vit_c100_fold0 and are newly initialized: ['vit.encoder.layer.11.intermediate.repair.weight', 'vit.encoder.layer.3.intermediate.repair.weight', 'vit.encoder.layer.5.intermediate.repair.weight', 'vit.encoder.layer.8.intermediate.repair.weight', 'vit.encoder.layer.7.intermediate.repair.weight', 'vit.encoder.layer.6.intermediate.repair.weight', 'vit.encoder.layer.2.intermediate.repair.weight', 'vit.encoder.layer.9.intermediate.repair.weight', 'vit.encoder.layer.10.intermediate.repair.weight', 'vit.encoder.layer.0.intermediate.repair.weight', 'vit.encoder.layer.4.intermediate.repair.weight', 'vit.encoder.layer.1.intermediate.repair.weight']\n",
      "You should probably TRAIN this model on a down-stream task to be able to use it for predictions and inference.\n"
     ]
    },
    {
     "name": "stdout",
     "output_type": "stream",
     "text": [
      "🛠️ Initializing intermediate.repair.weight as identity matrix (for missing weights)\n",
      "tgt_layer: 11, tgt_split: repair\n",
      "==========================================================================================\n",
      "Processing: ds=c100, k=0, tgt_rank=2, alpha=0.9090909090909091, misclf_type=src_tgt, fpfn=None, w_num=472, fl_method=ours\n",
      "Device: cuda\n"
     ]
    },
    {
     "name": "stderr",
     "output_type": "stream",
     "text": [
      "Some weights of ViTForImageClassification were not initialized from the model checkpoint at /src/src/out_vit_c100_fold0 and are newly initialized: ['vit.encoder.layer.11.intermediate.repair.weight', 'vit.encoder.layer.3.intermediate.repair.weight', 'vit.encoder.layer.5.intermediate.repair.weight', 'vit.encoder.layer.8.intermediate.repair.weight', 'vit.encoder.layer.7.intermediate.repair.weight', 'vit.encoder.layer.6.intermediate.repair.weight', 'vit.encoder.layer.2.intermediate.repair.weight', 'vit.encoder.layer.9.intermediate.repair.weight', 'vit.encoder.layer.10.intermediate.repair.weight', 'vit.encoder.layer.0.intermediate.repair.weight', 'vit.encoder.layer.4.intermediate.repair.weight', 'vit.encoder.layer.1.intermediate.repair.weight']\n",
      "You should probably TRAIN this model on a down-stream task to be able to use it for predictions and inference.\n"
     ]
    },
    {
     "name": "stdout",
     "output_type": "stream",
     "text": [
      "🛠️ Initializing intermediate.repair.weight as identity matrix (for missing weights)\n",
      "tgt_layer: 11, tgt_split: repair\n",
      "==========================================================================================\n",
      "Processing: ds=c100, k=0, tgt_rank=2, alpha=0.9090909090909091, misclf_type=src_tgt, fpfn=None, w_num=472, fl_method=bl\n",
      "Device: cuda\n"
     ]
    },
    {
     "name": "stderr",
     "output_type": "stream",
     "text": [
      "Some weights of ViTForImageClassification were not initialized from the model checkpoint at /src/src/out_vit_c100_fold0 and are newly initialized: ['vit.encoder.layer.11.intermediate.repair.weight', 'vit.encoder.layer.3.intermediate.repair.weight', 'vit.encoder.layer.5.intermediate.repair.weight', 'vit.encoder.layer.8.intermediate.repair.weight', 'vit.encoder.layer.7.intermediate.repair.weight', 'vit.encoder.layer.6.intermediate.repair.weight', 'vit.encoder.layer.2.intermediate.repair.weight', 'vit.encoder.layer.9.intermediate.repair.weight', 'vit.encoder.layer.10.intermediate.repair.weight', 'vit.encoder.layer.0.intermediate.repair.weight', 'vit.encoder.layer.4.intermediate.repair.weight', 'vit.encoder.layer.1.intermediate.repair.weight']\n",
      "You should probably TRAIN this model on a down-stream task to be able to use it for predictions and inference.\n"
     ]
    },
    {
     "name": "stdout",
     "output_type": "stream",
     "text": [
      "🛠️ Initializing intermediate.repair.weight as identity matrix (for missing weights)\n",
      "tgt_layer: 11, tgt_split: repair\n",
      "==========================================================================================\n",
      "Processing: ds=c100, k=0, tgt_rank=2, alpha=0.9090909090909091, misclf_type=src_tgt, fpfn=None, w_num=944, fl_method=ours\n",
      "Device: cuda\n"
     ]
    },
    {
     "name": "stderr",
     "output_type": "stream",
     "text": [
      "Some weights of ViTForImageClassification were not initialized from the model checkpoint at /src/src/out_vit_c100_fold0 and are newly initialized: ['vit.encoder.layer.11.intermediate.repair.weight', 'vit.encoder.layer.3.intermediate.repair.weight', 'vit.encoder.layer.5.intermediate.repair.weight', 'vit.encoder.layer.8.intermediate.repair.weight', 'vit.encoder.layer.7.intermediate.repair.weight', 'vit.encoder.layer.6.intermediate.repair.weight', 'vit.encoder.layer.2.intermediate.repair.weight', 'vit.encoder.layer.9.intermediate.repair.weight', 'vit.encoder.layer.10.intermediate.repair.weight', 'vit.encoder.layer.0.intermediate.repair.weight', 'vit.encoder.layer.4.intermediate.repair.weight', 'vit.encoder.layer.1.intermediate.repair.weight']\n",
      "You should probably TRAIN this model on a down-stream task to be able to use it for predictions and inference.\n"
     ]
    },
    {
     "name": "stdout",
     "output_type": "stream",
     "text": [
      "🛠️ Initializing intermediate.repair.weight as identity matrix (for missing weights)\n",
      "tgt_layer: 11, tgt_split: repair\n",
      "==========================================================================================\n",
      "Processing: ds=c100, k=0, tgt_rank=2, alpha=0.9090909090909091, misclf_type=src_tgt, fpfn=None, w_num=944, fl_method=bl\n",
      "Device: cuda\n"
     ]
    },
    {
     "name": "stderr",
     "output_type": "stream",
     "text": [
      "Some weights of ViTForImageClassification were not initialized from the model checkpoint at /src/src/out_vit_c100_fold0 and are newly initialized: ['vit.encoder.layer.11.intermediate.repair.weight', 'vit.encoder.layer.3.intermediate.repair.weight', 'vit.encoder.layer.5.intermediate.repair.weight', 'vit.encoder.layer.8.intermediate.repair.weight', 'vit.encoder.layer.7.intermediate.repair.weight', 'vit.encoder.layer.6.intermediate.repair.weight', 'vit.encoder.layer.2.intermediate.repair.weight', 'vit.encoder.layer.9.intermediate.repair.weight', 'vit.encoder.layer.10.intermediate.repair.weight', 'vit.encoder.layer.0.intermediate.repair.weight', 'vit.encoder.layer.4.intermediate.repair.weight', 'vit.encoder.layer.1.intermediate.repair.weight']\n",
      "You should probably TRAIN this model on a down-stream task to be able to use it for predictions and inference.\n"
     ]
    },
    {
     "name": "stdout",
     "output_type": "stream",
     "text": [
      "🛠️ Initializing intermediate.repair.weight as identity matrix (for missing weights)\n",
      "tgt_layer: 11, tgt_split: repair\n",
      "==========================================================================================\n",
      "Processing: ds=c100, k=0, tgt_rank=2, alpha=0.9090909090909091, misclf_type=tgt, fpfn=fp, w_num=11, fl_method=ours\n",
      "Device: cuda\n"
     ]
    },
    {
     "name": "stderr",
     "output_type": "stream",
     "text": [
      "Some weights of ViTForImageClassification were not initialized from the model checkpoint at /src/src/out_vit_c100_fold0 and are newly initialized: ['vit.encoder.layer.11.intermediate.repair.weight', 'vit.encoder.layer.3.intermediate.repair.weight', 'vit.encoder.layer.5.intermediate.repair.weight', 'vit.encoder.layer.8.intermediate.repair.weight', 'vit.encoder.layer.7.intermediate.repair.weight', 'vit.encoder.layer.6.intermediate.repair.weight', 'vit.encoder.layer.2.intermediate.repair.weight', 'vit.encoder.layer.9.intermediate.repair.weight', 'vit.encoder.layer.10.intermediate.repair.weight', 'vit.encoder.layer.0.intermediate.repair.weight', 'vit.encoder.layer.4.intermediate.repair.weight', 'vit.encoder.layer.1.intermediate.repair.weight']\n",
      "You should probably TRAIN this model on a down-stream task to be able to use it for predictions and inference.\n"
     ]
    },
    {
     "name": "stdout",
     "output_type": "stream",
     "text": [
      "🛠️ Initializing intermediate.repair.weight as identity matrix (for missing weights)\n",
      "tgt_layer: 11, tgt_split: repair\n",
      "==========================================================================================\n",
      "Processing: ds=c100, k=0, tgt_rank=2, alpha=0.9090909090909091, misclf_type=tgt, fpfn=fp, w_num=11, fl_method=bl\n",
      "Device: cuda\n"
     ]
    },
    {
     "name": "stderr",
     "output_type": "stream",
     "text": [
      "Some weights of ViTForImageClassification were not initialized from the model checkpoint at /src/src/out_vit_c100_fold0 and are newly initialized: ['vit.encoder.layer.11.intermediate.repair.weight', 'vit.encoder.layer.3.intermediate.repair.weight', 'vit.encoder.layer.5.intermediate.repair.weight', 'vit.encoder.layer.8.intermediate.repair.weight', 'vit.encoder.layer.7.intermediate.repair.weight', 'vit.encoder.layer.6.intermediate.repair.weight', 'vit.encoder.layer.2.intermediate.repair.weight', 'vit.encoder.layer.9.intermediate.repair.weight', 'vit.encoder.layer.10.intermediate.repair.weight', 'vit.encoder.layer.0.intermediate.repair.weight', 'vit.encoder.layer.4.intermediate.repair.weight', 'vit.encoder.layer.1.intermediate.repair.weight']\n",
      "You should probably TRAIN this model on a down-stream task to be able to use it for predictions and inference.\n"
     ]
    },
    {
     "name": "stdout",
     "output_type": "stream",
     "text": [
      "🛠️ Initializing intermediate.repair.weight as identity matrix (for missing weights)\n",
      "tgt_layer: 11, tgt_split: repair\n",
      "==========================================================================================\n",
      "Processing: ds=c100, k=0, tgt_rank=2, alpha=0.9090909090909091, misclf_type=tgt, fpfn=fp, w_num=236, fl_method=ours\n",
      "Device: cuda\n"
     ]
    },
    {
     "name": "stderr",
     "output_type": "stream",
     "text": [
      "Some weights of ViTForImageClassification were not initialized from the model checkpoint at /src/src/out_vit_c100_fold0 and are newly initialized: ['vit.encoder.layer.11.intermediate.repair.weight', 'vit.encoder.layer.3.intermediate.repair.weight', 'vit.encoder.layer.5.intermediate.repair.weight', 'vit.encoder.layer.8.intermediate.repair.weight', 'vit.encoder.layer.7.intermediate.repair.weight', 'vit.encoder.layer.6.intermediate.repair.weight', 'vit.encoder.layer.2.intermediate.repair.weight', 'vit.encoder.layer.9.intermediate.repair.weight', 'vit.encoder.layer.10.intermediate.repair.weight', 'vit.encoder.layer.0.intermediate.repair.weight', 'vit.encoder.layer.4.intermediate.repair.weight', 'vit.encoder.layer.1.intermediate.repair.weight']\n",
      "You should probably TRAIN this model on a down-stream task to be able to use it for predictions and inference.\n"
     ]
    },
    {
     "name": "stdout",
     "output_type": "stream",
     "text": [
      "🛠️ Initializing intermediate.repair.weight as identity matrix (for missing weights)\n",
      "tgt_layer: 11, tgt_split: repair\n",
      "==========================================================================================\n",
      "Processing: ds=c100, k=0, tgt_rank=2, alpha=0.9090909090909091, misclf_type=tgt, fpfn=fp, w_num=236, fl_method=bl\n",
      "Device: cuda\n"
     ]
    },
    {
     "name": "stderr",
     "output_type": "stream",
     "text": [
      "Some weights of ViTForImageClassification were not initialized from the model checkpoint at /src/src/out_vit_c100_fold0 and are newly initialized: ['vit.encoder.layer.11.intermediate.repair.weight', 'vit.encoder.layer.3.intermediate.repair.weight', 'vit.encoder.layer.5.intermediate.repair.weight', 'vit.encoder.layer.8.intermediate.repair.weight', 'vit.encoder.layer.7.intermediate.repair.weight', 'vit.encoder.layer.6.intermediate.repair.weight', 'vit.encoder.layer.2.intermediate.repair.weight', 'vit.encoder.layer.9.intermediate.repair.weight', 'vit.encoder.layer.10.intermediate.repair.weight', 'vit.encoder.layer.0.intermediate.repair.weight', 'vit.encoder.layer.4.intermediate.repair.weight', 'vit.encoder.layer.1.intermediate.repair.weight']\n",
      "You should probably TRAIN this model on a down-stream task to be able to use it for predictions and inference.\n"
     ]
    },
    {
     "name": "stdout",
     "output_type": "stream",
     "text": [
      "🛠️ Initializing intermediate.repair.weight as identity matrix (for missing weights)\n",
      "tgt_layer: 11, tgt_split: repair\n",
      "==========================================================================================\n",
      "Processing: ds=c100, k=0, tgt_rank=2, alpha=0.9090909090909091, misclf_type=tgt, fpfn=fp, w_num=472, fl_method=ours\n",
      "Device: cuda\n"
     ]
    },
    {
     "name": "stderr",
     "output_type": "stream",
     "text": [
      "Some weights of ViTForImageClassification were not initialized from the model checkpoint at /src/src/out_vit_c100_fold0 and are newly initialized: ['vit.encoder.layer.11.intermediate.repair.weight', 'vit.encoder.layer.3.intermediate.repair.weight', 'vit.encoder.layer.5.intermediate.repair.weight', 'vit.encoder.layer.8.intermediate.repair.weight', 'vit.encoder.layer.7.intermediate.repair.weight', 'vit.encoder.layer.6.intermediate.repair.weight', 'vit.encoder.layer.2.intermediate.repair.weight', 'vit.encoder.layer.9.intermediate.repair.weight', 'vit.encoder.layer.10.intermediate.repair.weight', 'vit.encoder.layer.0.intermediate.repair.weight', 'vit.encoder.layer.4.intermediate.repair.weight', 'vit.encoder.layer.1.intermediate.repair.weight']\n",
      "You should probably TRAIN this model on a down-stream task to be able to use it for predictions and inference.\n"
     ]
    },
    {
     "name": "stdout",
     "output_type": "stream",
     "text": [
      "🛠️ Initializing intermediate.repair.weight as identity matrix (for missing weights)\n",
      "tgt_layer: 11, tgt_split: repair\n",
      "==========================================================================================\n",
      "Processing: ds=c100, k=0, tgt_rank=2, alpha=0.9090909090909091, misclf_type=tgt, fpfn=fp, w_num=472, fl_method=bl\n",
      "Device: cuda\n"
     ]
    },
    {
     "name": "stderr",
     "output_type": "stream",
     "text": [
      "Some weights of ViTForImageClassification were not initialized from the model checkpoint at /src/src/out_vit_c100_fold0 and are newly initialized: ['vit.encoder.layer.11.intermediate.repair.weight', 'vit.encoder.layer.3.intermediate.repair.weight', 'vit.encoder.layer.5.intermediate.repair.weight', 'vit.encoder.layer.8.intermediate.repair.weight', 'vit.encoder.layer.7.intermediate.repair.weight', 'vit.encoder.layer.6.intermediate.repair.weight', 'vit.encoder.layer.2.intermediate.repair.weight', 'vit.encoder.layer.9.intermediate.repair.weight', 'vit.encoder.layer.10.intermediate.repair.weight', 'vit.encoder.layer.0.intermediate.repair.weight', 'vit.encoder.layer.4.intermediate.repair.weight', 'vit.encoder.layer.1.intermediate.repair.weight']\n",
      "You should probably TRAIN this model on a down-stream task to be able to use it for predictions and inference.\n"
     ]
    },
    {
     "name": "stdout",
     "output_type": "stream",
     "text": [
      "🛠️ Initializing intermediate.repair.weight as identity matrix (for missing weights)\n",
      "tgt_layer: 11, tgt_split: repair\n",
      "==========================================================================================\n",
      "Processing: ds=c100, k=0, tgt_rank=2, alpha=0.9090909090909091, misclf_type=tgt, fpfn=fp, w_num=944, fl_method=ours\n",
      "Device: cuda\n"
     ]
    },
    {
     "name": "stderr",
     "output_type": "stream",
     "text": [
      "Some weights of ViTForImageClassification were not initialized from the model checkpoint at /src/src/out_vit_c100_fold0 and are newly initialized: ['vit.encoder.layer.11.intermediate.repair.weight', 'vit.encoder.layer.3.intermediate.repair.weight', 'vit.encoder.layer.5.intermediate.repair.weight', 'vit.encoder.layer.8.intermediate.repair.weight', 'vit.encoder.layer.7.intermediate.repair.weight', 'vit.encoder.layer.6.intermediate.repair.weight', 'vit.encoder.layer.2.intermediate.repair.weight', 'vit.encoder.layer.9.intermediate.repair.weight', 'vit.encoder.layer.10.intermediate.repair.weight', 'vit.encoder.layer.0.intermediate.repair.weight', 'vit.encoder.layer.4.intermediate.repair.weight', 'vit.encoder.layer.1.intermediate.repair.weight']\n",
      "You should probably TRAIN this model on a down-stream task to be able to use it for predictions and inference.\n"
     ]
    },
    {
     "name": "stdout",
     "output_type": "stream",
     "text": [
      "🛠️ Initializing intermediate.repair.weight as identity matrix (for missing weights)\n",
      "tgt_layer: 11, tgt_split: repair\n",
      "==========================================================================================\n",
      "Processing: ds=c100, k=0, tgt_rank=2, alpha=0.9090909090909091, misclf_type=tgt, fpfn=fp, w_num=944, fl_method=bl\n",
      "Device: cuda\n"
     ]
    },
    {
     "name": "stderr",
     "output_type": "stream",
     "text": [
      "Some weights of ViTForImageClassification were not initialized from the model checkpoint at /src/src/out_vit_c100_fold0 and are newly initialized: ['vit.encoder.layer.11.intermediate.repair.weight', 'vit.encoder.layer.3.intermediate.repair.weight', 'vit.encoder.layer.5.intermediate.repair.weight', 'vit.encoder.layer.8.intermediate.repair.weight', 'vit.encoder.layer.7.intermediate.repair.weight', 'vit.encoder.layer.6.intermediate.repair.weight', 'vit.encoder.layer.2.intermediate.repair.weight', 'vit.encoder.layer.9.intermediate.repair.weight', 'vit.encoder.layer.10.intermediate.repair.weight', 'vit.encoder.layer.0.intermediate.repair.weight', 'vit.encoder.layer.4.intermediate.repair.weight', 'vit.encoder.layer.1.intermediate.repair.weight']\n",
      "You should probably TRAIN this model on a down-stream task to be able to use it for predictions and inference.\n"
     ]
    },
    {
     "name": "stdout",
     "output_type": "stream",
     "text": [
      "🛠️ Initializing intermediate.repair.weight as identity matrix (for missing weights)\n",
      "tgt_layer: 11, tgt_split: repair\n",
      "==========================================================================================\n",
      "Processing: ds=c100, k=0, tgt_rank=2, alpha=0.9090909090909091, misclf_type=tgt, fpfn=fn, w_num=11, fl_method=ours\n",
      "Device: cuda\n"
     ]
    },
    {
     "name": "stderr",
     "output_type": "stream",
     "text": [
      "Some weights of ViTForImageClassification were not initialized from the model checkpoint at /src/src/out_vit_c100_fold0 and are newly initialized: ['vit.encoder.layer.11.intermediate.repair.weight', 'vit.encoder.layer.3.intermediate.repair.weight', 'vit.encoder.layer.5.intermediate.repair.weight', 'vit.encoder.layer.8.intermediate.repair.weight', 'vit.encoder.layer.7.intermediate.repair.weight', 'vit.encoder.layer.6.intermediate.repair.weight', 'vit.encoder.layer.2.intermediate.repair.weight', 'vit.encoder.layer.9.intermediate.repair.weight', 'vit.encoder.layer.10.intermediate.repair.weight', 'vit.encoder.layer.0.intermediate.repair.weight', 'vit.encoder.layer.4.intermediate.repair.weight', 'vit.encoder.layer.1.intermediate.repair.weight']\n",
      "You should probably TRAIN this model on a down-stream task to be able to use it for predictions and inference.\n"
     ]
    },
    {
     "name": "stdout",
     "output_type": "stream",
     "text": [
      "🛠️ Initializing intermediate.repair.weight as identity matrix (for missing weights)\n",
      "tgt_layer: 11, tgt_split: repair\n",
      "==========================================================================================\n",
      "Processing: ds=c100, k=0, tgt_rank=2, alpha=0.9090909090909091, misclf_type=tgt, fpfn=fn, w_num=11, fl_method=bl\n",
      "Device: cuda\n"
     ]
    },
    {
     "name": "stderr",
     "output_type": "stream",
     "text": [
      "Some weights of ViTForImageClassification were not initialized from the model checkpoint at /src/src/out_vit_c100_fold0 and are newly initialized: ['vit.encoder.layer.11.intermediate.repair.weight', 'vit.encoder.layer.3.intermediate.repair.weight', 'vit.encoder.layer.5.intermediate.repair.weight', 'vit.encoder.layer.8.intermediate.repair.weight', 'vit.encoder.layer.7.intermediate.repair.weight', 'vit.encoder.layer.6.intermediate.repair.weight', 'vit.encoder.layer.2.intermediate.repair.weight', 'vit.encoder.layer.9.intermediate.repair.weight', 'vit.encoder.layer.10.intermediate.repair.weight', 'vit.encoder.layer.0.intermediate.repair.weight', 'vit.encoder.layer.4.intermediate.repair.weight', 'vit.encoder.layer.1.intermediate.repair.weight']\n",
      "You should probably TRAIN this model on a down-stream task to be able to use it for predictions and inference.\n"
     ]
    },
    {
     "name": "stdout",
     "output_type": "stream",
     "text": [
      "🛠️ Initializing intermediate.repair.weight as identity matrix (for missing weights)\n",
      "tgt_layer: 11, tgt_split: repair\n",
      "==========================================================================================\n",
      "Processing: ds=c100, k=0, tgt_rank=2, alpha=0.9090909090909091, misclf_type=tgt, fpfn=fn, w_num=236, fl_method=ours\n",
      "Device: cuda\n"
     ]
    },
    {
     "name": "stderr",
     "output_type": "stream",
     "text": [
      "Some weights of ViTForImageClassification were not initialized from the model checkpoint at /src/src/out_vit_c100_fold0 and are newly initialized: ['vit.encoder.layer.11.intermediate.repair.weight', 'vit.encoder.layer.3.intermediate.repair.weight', 'vit.encoder.layer.5.intermediate.repair.weight', 'vit.encoder.layer.8.intermediate.repair.weight', 'vit.encoder.layer.7.intermediate.repair.weight', 'vit.encoder.layer.6.intermediate.repair.weight', 'vit.encoder.layer.2.intermediate.repair.weight', 'vit.encoder.layer.9.intermediate.repair.weight', 'vit.encoder.layer.10.intermediate.repair.weight', 'vit.encoder.layer.0.intermediate.repair.weight', 'vit.encoder.layer.4.intermediate.repair.weight', 'vit.encoder.layer.1.intermediate.repair.weight']\n",
      "You should probably TRAIN this model on a down-stream task to be able to use it for predictions and inference.\n"
     ]
    },
    {
     "name": "stdout",
     "output_type": "stream",
     "text": [
      "🛠️ Initializing intermediate.repair.weight as identity matrix (for missing weights)\n",
      "tgt_layer: 11, tgt_split: repair\n",
      "==========================================================================================\n",
      "Processing: ds=c100, k=0, tgt_rank=2, alpha=0.9090909090909091, misclf_type=tgt, fpfn=fn, w_num=236, fl_method=bl\n",
      "Device: cuda\n"
     ]
    },
    {
     "name": "stderr",
     "output_type": "stream",
     "text": [
      "Some weights of ViTForImageClassification were not initialized from the model checkpoint at /src/src/out_vit_c100_fold0 and are newly initialized: ['vit.encoder.layer.11.intermediate.repair.weight', 'vit.encoder.layer.3.intermediate.repair.weight', 'vit.encoder.layer.5.intermediate.repair.weight', 'vit.encoder.layer.8.intermediate.repair.weight', 'vit.encoder.layer.7.intermediate.repair.weight', 'vit.encoder.layer.6.intermediate.repair.weight', 'vit.encoder.layer.2.intermediate.repair.weight', 'vit.encoder.layer.9.intermediate.repair.weight', 'vit.encoder.layer.10.intermediate.repair.weight', 'vit.encoder.layer.0.intermediate.repair.weight', 'vit.encoder.layer.4.intermediate.repair.weight', 'vit.encoder.layer.1.intermediate.repair.weight']\n",
      "You should probably TRAIN this model on a down-stream task to be able to use it for predictions and inference.\n"
     ]
    },
    {
     "name": "stdout",
     "output_type": "stream",
     "text": [
      "🛠️ Initializing intermediate.repair.weight as identity matrix (for missing weights)\n",
      "tgt_layer: 11, tgt_split: repair\n",
      "==========================================================================================\n",
      "Processing: ds=c100, k=0, tgt_rank=2, alpha=0.9090909090909091, misclf_type=tgt, fpfn=fn, w_num=472, fl_method=ours\n",
      "Device: cuda\n"
     ]
    },
    {
     "name": "stderr",
     "output_type": "stream",
     "text": [
      "Some weights of ViTForImageClassification were not initialized from the model checkpoint at /src/src/out_vit_c100_fold0 and are newly initialized: ['vit.encoder.layer.11.intermediate.repair.weight', 'vit.encoder.layer.3.intermediate.repair.weight', 'vit.encoder.layer.5.intermediate.repair.weight', 'vit.encoder.layer.8.intermediate.repair.weight', 'vit.encoder.layer.7.intermediate.repair.weight', 'vit.encoder.layer.6.intermediate.repair.weight', 'vit.encoder.layer.2.intermediate.repair.weight', 'vit.encoder.layer.9.intermediate.repair.weight', 'vit.encoder.layer.10.intermediate.repair.weight', 'vit.encoder.layer.0.intermediate.repair.weight', 'vit.encoder.layer.4.intermediate.repair.weight', 'vit.encoder.layer.1.intermediate.repair.weight']\n",
      "You should probably TRAIN this model on a down-stream task to be able to use it for predictions and inference.\n"
     ]
    },
    {
     "name": "stdout",
     "output_type": "stream",
     "text": [
      "🛠️ Initializing intermediate.repair.weight as identity matrix (for missing weights)\n",
      "tgt_layer: 11, tgt_split: repair\n",
      "==========================================================================================\n",
      "Processing: ds=c100, k=0, tgt_rank=2, alpha=0.9090909090909091, misclf_type=tgt, fpfn=fn, w_num=472, fl_method=bl\n",
      "Device: cuda\n"
     ]
    },
    {
     "name": "stderr",
     "output_type": "stream",
     "text": [
      "Some weights of ViTForImageClassification were not initialized from the model checkpoint at /src/src/out_vit_c100_fold0 and are newly initialized: ['vit.encoder.layer.11.intermediate.repair.weight', 'vit.encoder.layer.3.intermediate.repair.weight', 'vit.encoder.layer.5.intermediate.repair.weight', 'vit.encoder.layer.8.intermediate.repair.weight', 'vit.encoder.layer.7.intermediate.repair.weight', 'vit.encoder.layer.6.intermediate.repair.weight', 'vit.encoder.layer.2.intermediate.repair.weight', 'vit.encoder.layer.9.intermediate.repair.weight', 'vit.encoder.layer.10.intermediate.repair.weight', 'vit.encoder.layer.0.intermediate.repair.weight', 'vit.encoder.layer.4.intermediate.repair.weight', 'vit.encoder.layer.1.intermediate.repair.weight']\n",
      "You should probably TRAIN this model on a down-stream task to be able to use it for predictions and inference.\n"
     ]
    },
    {
     "name": "stdout",
     "output_type": "stream",
     "text": [
      "🛠️ Initializing intermediate.repair.weight as identity matrix (for missing weights)\n",
      "tgt_layer: 11, tgt_split: repair\n",
      "==========================================================================================\n",
      "Processing: ds=c100, k=0, tgt_rank=2, alpha=0.9090909090909091, misclf_type=tgt, fpfn=fn, w_num=944, fl_method=ours\n",
      "Device: cuda\n"
     ]
    },
    {
     "name": "stderr",
     "output_type": "stream",
     "text": [
      "Some weights of ViTForImageClassification were not initialized from the model checkpoint at /src/src/out_vit_c100_fold0 and are newly initialized: ['vit.encoder.layer.11.intermediate.repair.weight', 'vit.encoder.layer.3.intermediate.repair.weight', 'vit.encoder.layer.5.intermediate.repair.weight', 'vit.encoder.layer.8.intermediate.repair.weight', 'vit.encoder.layer.7.intermediate.repair.weight', 'vit.encoder.layer.6.intermediate.repair.weight', 'vit.encoder.layer.2.intermediate.repair.weight', 'vit.encoder.layer.9.intermediate.repair.weight', 'vit.encoder.layer.10.intermediate.repair.weight', 'vit.encoder.layer.0.intermediate.repair.weight', 'vit.encoder.layer.4.intermediate.repair.weight', 'vit.encoder.layer.1.intermediate.repair.weight']\n",
      "You should probably TRAIN this model on a down-stream task to be able to use it for predictions and inference.\n"
     ]
    },
    {
     "name": "stdout",
     "output_type": "stream",
     "text": [
      "🛠️ Initializing intermediate.repair.weight as identity matrix (for missing weights)\n",
      "tgt_layer: 11, tgt_split: repair\n",
      "==========================================================================================\n",
      "Processing: ds=c100, k=0, tgt_rank=2, alpha=0.9090909090909091, misclf_type=tgt, fpfn=fn, w_num=944, fl_method=bl\n",
      "Device: cuda\n"
     ]
    },
    {
     "name": "stderr",
     "output_type": "stream",
     "text": [
      "Some weights of ViTForImageClassification were not initialized from the model checkpoint at /src/src/out_vit_c100_fold0 and are newly initialized: ['vit.encoder.layer.11.intermediate.repair.weight', 'vit.encoder.layer.3.intermediate.repair.weight', 'vit.encoder.layer.5.intermediate.repair.weight', 'vit.encoder.layer.8.intermediate.repair.weight', 'vit.encoder.layer.7.intermediate.repair.weight', 'vit.encoder.layer.6.intermediate.repair.weight', 'vit.encoder.layer.2.intermediate.repair.weight', 'vit.encoder.layer.9.intermediate.repair.weight', 'vit.encoder.layer.10.intermediate.repair.weight', 'vit.encoder.layer.0.intermediate.repair.weight', 'vit.encoder.layer.4.intermediate.repair.weight', 'vit.encoder.layer.1.intermediate.repair.weight']\n",
      "You should probably TRAIN this model on a down-stream task to be able to use it for predictions and inference.\n"
     ]
    },
    {
     "name": "stdout",
     "output_type": "stream",
     "text": [
      "🛠️ Initializing intermediate.repair.weight as identity matrix (for missing weights)\n",
      "tgt_layer: 11, tgt_split: repair\n",
      "==========================================================================================\n",
      "Processing: ds=c100, k=0, tgt_rank=3, alpha=0.9090909090909091, misclf_type=src_tgt, fpfn=None, w_num=11, fl_method=ours\n",
      "Device: cuda\n"
     ]
    },
    {
     "name": "stderr",
     "output_type": "stream",
     "text": [
      "Some weights of ViTForImageClassification were not initialized from the model checkpoint at /src/src/out_vit_c100_fold0 and are newly initialized: ['vit.encoder.layer.11.intermediate.repair.weight', 'vit.encoder.layer.3.intermediate.repair.weight', 'vit.encoder.layer.5.intermediate.repair.weight', 'vit.encoder.layer.8.intermediate.repair.weight', 'vit.encoder.layer.7.intermediate.repair.weight', 'vit.encoder.layer.6.intermediate.repair.weight', 'vit.encoder.layer.2.intermediate.repair.weight', 'vit.encoder.layer.9.intermediate.repair.weight', 'vit.encoder.layer.10.intermediate.repair.weight', 'vit.encoder.layer.0.intermediate.repair.weight', 'vit.encoder.layer.4.intermediate.repair.weight', 'vit.encoder.layer.1.intermediate.repair.weight']\n",
      "You should probably TRAIN this model on a down-stream task to be able to use it for predictions and inference.\n"
     ]
    },
    {
     "name": "stdout",
     "output_type": "stream",
     "text": [
      "🛠️ Initializing intermediate.repair.weight as identity matrix (for missing weights)\n",
      "tgt_layer: 11, tgt_split: repair\n",
      "==========================================================================================\n",
      "Processing: ds=c100, k=0, tgt_rank=3, alpha=0.9090909090909091, misclf_type=src_tgt, fpfn=None, w_num=11, fl_method=bl\n",
      "Device: cuda\n"
     ]
    },
    {
     "name": "stderr",
     "output_type": "stream",
     "text": [
      "Some weights of ViTForImageClassification were not initialized from the model checkpoint at /src/src/out_vit_c100_fold0 and are newly initialized: ['vit.encoder.layer.11.intermediate.repair.weight', 'vit.encoder.layer.3.intermediate.repair.weight', 'vit.encoder.layer.5.intermediate.repair.weight', 'vit.encoder.layer.8.intermediate.repair.weight', 'vit.encoder.layer.7.intermediate.repair.weight', 'vit.encoder.layer.6.intermediate.repair.weight', 'vit.encoder.layer.2.intermediate.repair.weight', 'vit.encoder.layer.9.intermediate.repair.weight', 'vit.encoder.layer.10.intermediate.repair.weight', 'vit.encoder.layer.0.intermediate.repair.weight', 'vit.encoder.layer.4.intermediate.repair.weight', 'vit.encoder.layer.1.intermediate.repair.weight']\n",
      "You should probably TRAIN this model on a down-stream task to be able to use it for predictions and inference.\n"
     ]
    },
    {
     "name": "stdout",
     "output_type": "stream",
     "text": [
      "🛠️ Initializing intermediate.repair.weight as identity matrix (for missing weights)\n",
      "tgt_layer: 11, tgt_split: repair\n",
      "==========================================================================================\n",
      "Processing: ds=c100, k=0, tgt_rank=3, alpha=0.9090909090909091, misclf_type=src_tgt, fpfn=None, w_num=236, fl_method=ours\n",
      "Device: cuda\n"
     ]
    },
    {
     "name": "stderr",
     "output_type": "stream",
     "text": [
      "Some weights of ViTForImageClassification were not initialized from the model checkpoint at /src/src/out_vit_c100_fold0 and are newly initialized: ['vit.encoder.layer.11.intermediate.repair.weight', 'vit.encoder.layer.3.intermediate.repair.weight', 'vit.encoder.layer.5.intermediate.repair.weight', 'vit.encoder.layer.8.intermediate.repair.weight', 'vit.encoder.layer.7.intermediate.repair.weight', 'vit.encoder.layer.6.intermediate.repair.weight', 'vit.encoder.layer.2.intermediate.repair.weight', 'vit.encoder.layer.9.intermediate.repair.weight', 'vit.encoder.layer.10.intermediate.repair.weight', 'vit.encoder.layer.0.intermediate.repair.weight', 'vit.encoder.layer.4.intermediate.repair.weight', 'vit.encoder.layer.1.intermediate.repair.weight']\n",
      "You should probably TRAIN this model on a down-stream task to be able to use it for predictions and inference.\n"
     ]
    },
    {
     "name": "stdout",
     "output_type": "stream",
     "text": [
      "🛠️ Initializing intermediate.repair.weight as identity matrix (for missing weights)\n",
      "tgt_layer: 11, tgt_split: repair\n",
      "==========================================================================================\n",
      "Processing: ds=c100, k=0, tgt_rank=3, alpha=0.9090909090909091, misclf_type=src_tgt, fpfn=None, w_num=236, fl_method=bl\n",
      "Device: cuda\n"
     ]
    },
    {
     "name": "stderr",
     "output_type": "stream",
     "text": [
      "Some weights of ViTForImageClassification were not initialized from the model checkpoint at /src/src/out_vit_c100_fold0 and are newly initialized: ['vit.encoder.layer.11.intermediate.repair.weight', 'vit.encoder.layer.3.intermediate.repair.weight', 'vit.encoder.layer.5.intermediate.repair.weight', 'vit.encoder.layer.8.intermediate.repair.weight', 'vit.encoder.layer.7.intermediate.repair.weight', 'vit.encoder.layer.6.intermediate.repair.weight', 'vit.encoder.layer.2.intermediate.repair.weight', 'vit.encoder.layer.9.intermediate.repair.weight', 'vit.encoder.layer.10.intermediate.repair.weight', 'vit.encoder.layer.0.intermediate.repair.weight', 'vit.encoder.layer.4.intermediate.repair.weight', 'vit.encoder.layer.1.intermediate.repair.weight']\n",
      "You should probably TRAIN this model on a down-stream task to be able to use it for predictions and inference.\n"
     ]
    },
    {
     "name": "stdout",
     "output_type": "stream",
     "text": [
      "🛠️ Initializing intermediate.repair.weight as identity matrix (for missing weights)\n",
      "tgt_layer: 11, tgt_split: repair\n",
      "==========================================================================================\n",
      "Processing: ds=c100, k=0, tgt_rank=3, alpha=0.9090909090909091, misclf_type=src_tgt, fpfn=None, w_num=472, fl_method=ours\n",
      "Device: cuda\n"
     ]
    },
    {
     "name": "stderr",
     "output_type": "stream",
     "text": [
      "Some weights of ViTForImageClassification were not initialized from the model checkpoint at /src/src/out_vit_c100_fold0 and are newly initialized: ['vit.encoder.layer.11.intermediate.repair.weight', 'vit.encoder.layer.3.intermediate.repair.weight', 'vit.encoder.layer.5.intermediate.repair.weight', 'vit.encoder.layer.8.intermediate.repair.weight', 'vit.encoder.layer.7.intermediate.repair.weight', 'vit.encoder.layer.6.intermediate.repair.weight', 'vit.encoder.layer.2.intermediate.repair.weight', 'vit.encoder.layer.9.intermediate.repair.weight', 'vit.encoder.layer.10.intermediate.repair.weight', 'vit.encoder.layer.0.intermediate.repair.weight', 'vit.encoder.layer.4.intermediate.repair.weight', 'vit.encoder.layer.1.intermediate.repair.weight']\n",
      "You should probably TRAIN this model on a down-stream task to be able to use it for predictions and inference.\n"
     ]
    },
    {
     "name": "stdout",
     "output_type": "stream",
     "text": [
      "🛠️ Initializing intermediate.repair.weight as identity matrix (for missing weights)\n",
      "tgt_layer: 11, tgt_split: repair\n",
      "==========================================================================================\n",
      "Processing: ds=c100, k=0, tgt_rank=3, alpha=0.9090909090909091, misclf_type=src_tgt, fpfn=None, w_num=472, fl_method=bl\n",
      "Device: cuda\n"
     ]
    },
    {
     "name": "stderr",
     "output_type": "stream",
     "text": [
      "Some weights of ViTForImageClassification were not initialized from the model checkpoint at /src/src/out_vit_c100_fold0 and are newly initialized: ['vit.encoder.layer.11.intermediate.repair.weight', 'vit.encoder.layer.3.intermediate.repair.weight', 'vit.encoder.layer.5.intermediate.repair.weight', 'vit.encoder.layer.8.intermediate.repair.weight', 'vit.encoder.layer.7.intermediate.repair.weight', 'vit.encoder.layer.6.intermediate.repair.weight', 'vit.encoder.layer.2.intermediate.repair.weight', 'vit.encoder.layer.9.intermediate.repair.weight', 'vit.encoder.layer.10.intermediate.repair.weight', 'vit.encoder.layer.0.intermediate.repair.weight', 'vit.encoder.layer.4.intermediate.repair.weight', 'vit.encoder.layer.1.intermediate.repair.weight']\n",
      "You should probably TRAIN this model on a down-stream task to be able to use it for predictions and inference.\n"
     ]
    },
    {
     "name": "stdout",
     "output_type": "stream",
     "text": [
      "🛠️ Initializing intermediate.repair.weight as identity matrix (for missing weights)\n",
      "tgt_layer: 11, tgt_split: repair\n",
      "==========================================================================================\n",
      "Processing: ds=c100, k=0, tgt_rank=3, alpha=0.9090909090909091, misclf_type=src_tgt, fpfn=None, w_num=944, fl_method=ours\n",
      "Device: cuda\n"
     ]
    },
    {
     "name": "stderr",
     "output_type": "stream",
     "text": [
      "Some weights of ViTForImageClassification were not initialized from the model checkpoint at /src/src/out_vit_c100_fold0 and are newly initialized: ['vit.encoder.layer.11.intermediate.repair.weight', 'vit.encoder.layer.3.intermediate.repair.weight', 'vit.encoder.layer.5.intermediate.repair.weight', 'vit.encoder.layer.8.intermediate.repair.weight', 'vit.encoder.layer.7.intermediate.repair.weight', 'vit.encoder.layer.6.intermediate.repair.weight', 'vit.encoder.layer.2.intermediate.repair.weight', 'vit.encoder.layer.9.intermediate.repair.weight', 'vit.encoder.layer.10.intermediate.repair.weight', 'vit.encoder.layer.0.intermediate.repair.weight', 'vit.encoder.layer.4.intermediate.repair.weight', 'vit.encoder.layer.1.intermediate.repair.weight']\n",
      "You should probably TRAIN this model on a down-stream task to be able to use it for predictions and inference.\n"
     ]
    },
    {
     "name": "stdout",
     "output_type": "stream",
     "text": [
      "🛠️ Initializing intermediate.repair.weight as identity matrix (for missing weights)\n",
      "tgt_layer: 11, tgt_split: repair\n",
      "==========================================================================================\n",
      "Processing: ds=c100, k=0, tgt_rank=3, alpha=0.9090909090909091, misclf_type=src_tgt, fpfn=None, w_num=944, fl_method=bl\n",
      "Device: cuda\n"
     ]
    },
    {
     "name": "stderr",
     "output_type": "stream",
     "text": [
      "Some weights of ViTForImageClassification were not initialized from the model checkpoint at /src/src/out_vit_c100_fold0 and are newly initialized: ['vit.encoder.layer.11.intermediate.repair.weight', 'vit.encoder.layer.3.intermediate.repair.weight', 'vit.encoder.layer.5.intermediate.repair.weight', 'vit.encoder.layer.8.intermediate.repair.weight', 'vit.encoder.layer.7.intermediate.repair.weight', 'vit.encoder.layer.6.intermediate.repair.weight', 'vit.encoder.layer.2.intermediate.repair.weight', 'vit.encoder.layer.9.intermediate.repair.weight', 'vit.encoder.layer.10.intermediate.repair.weight', 'vit.encoder.layer.0.intermediate.repair.weight', 'vit.encoder.layer.4.intermediate.repair.weight', 'vit.encoder.layer.1.intermediate.repair.weight']\n",
      "You should probably TRAIN this model on a down-stream task to be able to use it for predictions and inference.\n"
     ]
    },
    {
     "name": "stdout",
     "output_type": "stream",
     "text": [
      "🛠️ Initializing intermediate.repair.weight as identity matrix (for missing weights)\n",
      "tgt_layer: 11, tgt_split: repair\n",
      "==========================================================================================\n",
      "Processing: ds=c100, k=0, tgt_rank=3, alpha=0.9090909090909091, misclf_type=tgt, fpfn=fp, w_num=11, fl_method=ours\n",
      "Device: cuda\n"
     ]
    },
    {
     "name": "stderr",
     "output_type": "stream",
     "text": [
      "Some weights of ViTForImageClassification were not initialized from the model checkpoint at /src/src/out_vit_c100_fold0 and are newly initialized: ['vit.encoder.layer.11.intermediate.repair.weight', 'vit.encoder.layer.3.intermediate.repair.weight', 'vit.encoder.layer.5.intermediate.repair.weight', 'vit.encoder.layer.8.intermediate.repair.weight', 'vit.encoder.layer.7.intermediate.repair.weight', 'vit.encoder.layer.6.intermediate.repair.weight', 'vit.encoder.layer.2.intermediate.repair.weight', 'vit.encoder.layer.9.intermediate.repair.weight', 'vit.encoder.layer.10.intermediate.repair.weight', 'vit.encoder.layer.0.intermediate.repair.weight', 'vit.encoder.layer.4.intermediate.repair.weight', 'vit.encoder.layer.1.intermediate.repair.weight']\n",
      "You should probably TRAIN this model on a down-stream task to be able to use it for predictions and inference.\n"
     ]
    },
    {
     "name": "stdout",
     "output_type": "stream",
     "text": [
      "🛠️ Initializing intermediate.repair.weight as identity matrix (for missing weights)\n",
      "tgt_layer: 11, tgt_split: repair\n",
      "==========================================================================================\n",
      "Processing: ds=c100, k=0, tgt_rank=3, alpha=0.9090909090909091, misclf_type=tgt, fpfn=fp, w_num=11, fl_method=bl\n",
      "Device: cuda\n"
     ]
    },
    {
     "name": "stderr",
     "output_type": "stream",
     "text": [
      "Some weights of ViTForImageClassification were not initialized from the model checkpoint at /src/src/out_vit_c100_fold0 and are newly initialized: ['vit.encoder.layer.11.intermediate.repair.weight', 'vit.encoder.layer.3.intermediate.repair.weight', 'vit.encoder.layer.5.intermediate.repair.weight', 'vit.encoder.layer.8.intermediate.repair.weight', 'vit.encoder.layer.7.intermediate.repair.weight', 'vit.encoder.layer.6.intermediate.repair.weight', 'vit.encoder.layer.2.intermediate.repair.weight', 'vit.encoder.layer.9.intermediate.repair.weight', 'vit.encoder.layer.10.intermediate.repair.weight', 'vit.encoder.layer.0.intermediate.repair.weight', 'vit.encoder.layer.4.intermediate.repair.weight', 'vit.encoder.layer.1.intermediate.repair.weight']\n",
      "You should probably TRAIN this model on a down-stream task to be able to use it for predictions and inference.\n"
     ]
    },
    {
     "name": "stdout",
     "output_type": "stream",
     "text": [
      "🛠️ Initializing intermediate.repair.weight as identity matrix (for missing weights)\n",
      "tgt_layer: 11, tgt_split: repair\n",
      "==========================================================================================\n",
      "Processing: ds=c100, k=0, tgt_rank=3, alpha=0.9090909090909091, misclf_type=tgt, fpfn=fp, w_num=236, fl_method=ours\n",
      "Device: cuda\n"
     ]
    },
    {
     "name": "stderr",
     "output_type": "stream",
     "text": [
      "Some weights of ViTForImageClassification were not initialized from the model checkpoint at /src/src/out_vit_c100_fold0 and are newly initialized: ['vit.encoder.layer.11.intermediate.repair.weight', 'vit.encoder.layer.3.intermediate.repair.weight', 'vit.encoder.layer.5.intermediate.repair.weight', 'vit.encoder.layer.8.intermediate.repair.weight', 'vit.encoder.layer.7.intermediate.repair.weight', 'vit.encoder.layer.6.intermediate.repair.weight', 'vit.encoder.layer.2.intermediate.repair.weight', 'vit.encoder.layer.9.intermediate.repair.weight', 'vit.encoder.layer.10.intermediate.repair.weight', 'vit.encoder.layer.0.intermediate.repair.weight', 'vit.encoder.layer.4.intermediate.repair.weight', 'vit.encoder.layer.1.intermediate.repair.weight']\n",
      "You should probably TRAIN this model on a down-stream task to be able to use it for predictions and inference.\n"
     ]
    },
    {
     "name": "stdout",
     "output_type": "stream",
     "text": [
      "🛠️ Initializing intermediate.repair.weight as identity matrix (for missing weights)\n",
      "tgt_layer: 11, tgt_split: repair\n",
      "==========================================================================================\n",
      "Processing: ds=c100, k=0, tgt_rank=3, alpha=0.9090909090909091, misclf_type=tgt, fpfn=fp, w_num=236, fl_method=bl\n",
      "Device: cuda\n"
     ]
    },
    {
     "name": "stderr",
     "output_type": "stream",
     "text": [
      "Some weights of ViTForImageClassification were not initialized from the model checkpoint at /src/src/out_vit_c100_fold0 and are newly initialized: ['vit.encoder.layer.11.intermediate.repair.weight', 'vit.encoder.layer.3.intermediate.repair.weight', 'vit.encoder.layer.5.intermediate.repair.weight', 'vit.encoder.layer.8.intermediate.repair.weight', 'vit.encoder.layer.7.intermediate.repair.weight', 'vit.encoder.layer.6.intermediate.repair.weight', 'vit.encoder.layer.2.intermediate.repair.weight', 'vit.encoder.layer.9.intermediate.repair.weight', 'vit.encoder.layer.10.intermediate.repair.weight', 'vit.encoder.layer.0.intermediate.repair.weight', 'vit.encoder.layer.4.intermediate.repair.weight', 'vit.encoder.layer.1.intermediate.repair.weight']\n",
      "You should probably TRAIN this model on a down-stream task to be able to use it for predictions and inference.\n"
     ]
    },
    {
     "name": "stdout",
     "output_type": "stream",
     "text": [
      "🛠️ Initializing intermediate.repair.weight as identity matrix (for missing weights)\n",
      "tgt_layer: 11, tgt_split: repair\n",
      "==========================================================================================\n",
      "Processing: ds=c100, k=0, tgt_rank=3, alpha=0.9090909090909091, misclf_type=tgt, fpfn=fp, w_num=472, fl_method=ours\n",
      "Device: cuda\n"
     ]
    },
    {
     "name": "stderr",
     "output_type": "stream",
     "text": [
      "Some weights of ViTForImageClassification were not initialized from the model checkpoint at /src/src/out_vit_c100_fold0 and are newly initialized: ['vit.encoder.layer.11.intermediate.repair.weight', 'vit.encoder.layer.3.intermediate.repair.weight', 'vit.encoder.layer.5.intermediate.repair.weight', 'vit.encoder.layer.8.intermediate.repair.weight', 'vit.encoder.layer.7.intermediate.repair.weight', 'vit.encoder.layer.6.intermediate.repair.weight', 'vit.encoder.layer.2.intermediate.repair.weight', 'vit.encoder.layer.9.intermediate.repair.weight', 'vit.encoder.layer.10.intermediate.repair.weight', 'vit.encoder.layer.0.intermediate.repair.weight', 'vit.encoder.layer.4.intermediate.repair.weight', 'vit.encoder.layer.1.intermediate.repair.weight']\n",
      "You should probably TRAIN this model on a down-stream task to be able to use it for predictions and inference.\n"
     ]
    },
    {
     "name": "stdout",
     "output_type": "stream",
     "text": [
      "🛠️ Initializing intermediate.repair.weight as identity matrix (for missing weights)\n",
      "tgt_layer: 11, tgt_split: repair\n",
      "==========================================================================================\n",
      "Processing: ds=c100, k=0, tgt_rank=3, alpha=0.9090909090909091, misclf_type=tgt, fpfn=fp, w_num=472, fl_method=bl\n",
      "Device: cuda\n"
     ]
    },
    {
     "name": "stderr",
     "output_type": "stream",
     "text": [
      "Some weights of ViTForImageClassification were not initialized from the model checkpoint at /src/src/out_vit_c100_fold0 and are newly initialized: ['vit.encoder.layer.11.intermediate.repair.weight', 'vit.encoder.layer.3.intermediate.repair.weight', 'vit.encoder.layer.5.intermediate.repair.weight', 'vit.encoder.layer.8.intermediate.repair.weight', 'vit.encoder.layer.7.intermediate.repair.weight', 'vit.encoder.layer.6.intermediate.repair.weight', 'vit.encoder.layer.2.intermediate.repair.weight', 'vit.encoder.layer.9.intermediate.repair.weight', 'vit.encoder.layer.10.intermediate.repair.weight', 'vit.encoder.layer.0.intermediate.repair.weight', 'vit.encoder.layer.4.intermediate.repair.weight', 'vit.encoder.layer.1.intermediate.repair.weight']\n",
      "You should probably TRAIN this model on a down-stream task to be able to use it for predictions and inference.\n"
     ]
    },
    {
     "name": "stdout",
     "output_type": "stream",
     "text": [
      "🛠️ Initializing intermediate.repair.weight as identity matrix (for missing weights)\n",
      "tgt_layer: 11, tgt_split: repair\n",
      "==========================================================================================\n",
      "Processing: ds=c100, k=0, tgt_rank=3, alpha=0.9090909090909091, misclf_type=tgt, fpfn=fp, w_num=944, fl_method=ours\n",
      "Device: cuda\n"
     ]
    },
    {
     "name": "stderr",
     "output_type": "stream",
     "text": [
      "Some weights of ViTForImageClassification were not initialized from the model checkpoint at /src/src/out_vit_c100_fold0 and are newly initialized: ['vit.encoder.layer.11.intermediate.repair.weight', 'vit.encoder.layer.3.intermediate.repair.weight', 'vit.encoder.layer.5.intermediate.repair.weight', 'vit.encoder.layer.8.intermediate.repair.weight', 'vit.encoder.layer.7.intermediate.repair.weight', 'vit.encoder.layer.6.intermediate.repair.weight', 'vit.encoder.layer.2.intermediate.repair.weight', 'vit.encoder.layer.9.intermediate.repair.weight', 'vit.encoder.layer.10.intermediate.repair.weight', 'vit.encoder.layer.0.intermediate.repair.weight', 'vit.encoder.layer.4.intermediate.repair.weight', 'vit.encoder.layer.1.intermediate.repair.weight']\n",
      "You should probably TRAIN this model on a down-stream task to be able to use it for predictions and inference.\n"
     ]
    },
    {
     "name": "stdout",
     "output_type": "stream",
     "text": [
      "🛠️ Initializing intermediate.repair.weight as identity matrix (for missing weights)\n",
      "tgt_layer: 11, tgt_split: repair\n",
      "==========================================================================================\n",
      "Processing: ds=c100, k=0, tgt_rank=3, alpha=0.9090909090909091, misclf_type=tgt, fpfn=fp, w_num=944, fl_method=bl\n",
      "Device: cuda\n"
     ]
    },
    {
     "name": "stderr",
     "output_type": "stream",
     "text": [
      "Some weights of ViTForImageClassification were not initialized from the model checkpoint at /src/src/out_vit_c100_fold0 and are newly initialized: ['vit.encoder.layer.11.intermediate.repair.weight', 'vit.encoder.layer.3.intermediate.repair.weight', 'vit.encoder.layer.5.intermediate.repair.weight', 'vit.encoder.layer.8.intermediate.repair.weight', 'vit.encoder.layer.7.intermediate.repair.weight', 'vit.encoder.layer.6.intermediate.repair.weight', 'vit.encoder.layer.2.intermediate.repair.weight', 'vit.encoder.layer.9.intermediate.repair.weight', 'vit.encoder.layer.10.intermediate.repair.weight', 'vit.encoder.layer.0.intermediate.repair.weight', 'vit.encoder.layer.4.intermediate.repair.weight', 'vit.encoder.layer.1.intermediate.repair.weight']\n",
      "You should probably TRAIN this model on a down-stream task to be able to use it for predictions and inference.\n"
     ]
    },
    {
     "name": "stdout",
     "output_type": "stream",
     "text": [
      "🛠️ Initializing intermediate.repair.weight as identity matrix (for missing weights)\n",
      "tgt_layer: 11, tgt_split: repair\n",
      "==========================================================================================\n",
      "Processing: ds=c100, k=0, tgt_rank=3, alpha=0.9090909090909091, misclf_type=tgt, fpfn=fn, w_num=11, fl_method=ours\n",
      "Device: cuda\n"
     ]
    },
    {
     "name": "stderr",
     "output_type": "stream",
     "text": [
      "Some weights of ViTForImageClassification were not initialized from the model checkpoint at /src/src/out_vit_c100_fold0 and are newly initialized: ['vit.encoder.layer.11.intermediate.repair.weight', 'vit.encoder.layer.3.intermediate.repair.weight', 'vit.encoder.layer.5.intermediate.repair.weight', 'vit.encoder.layer.8.intermediate.repair.weight', 'vit.encoder.layer.7.intermediate.repair.weight', 'vit.encoder.layer.6.intermediate.repair.weight', 'vit.encoder.layer.2.intermediate.repair.weight', 'vit.encoder.layer.9.intermediate.repair.weight', 'vit.encoder.layer.10.intermediate.repair.weight', 'vit.encoder.layer.0.intermediate.repair.weight', 'vit.encoder.layer.4.intermediate.repair.weight', 'vit.encoder.layer.1.intermediate.repair.weight']\n",
      "You should probably TRAIN this model on a down-stream task to be able to use it for predictions and inference.\n"
     ]
    },
    {
     "name": "stdout",
     "output_type": "stream",
     "text": [
      "🛠️ Initializing intermediate.repair.weight as identity matrix (for missing weights)\n",
      "tgt_layer: 11, tgt_split: repair\n",
      "==========================================================================================\n",
      "Processing: ds=c100, k=0, tgt_rank=3, alpha=0.9090909090909091, misclf_type=tgt, fpfn=fn, w_num=11, fl_method=bl\n",
      "Device: cuda\n"
     ]
    },
    {
     "name": "stderr",
     "output_type": "stream",
     "text": [
      "Some weights of ViTForImageClassification were not initialized from the model checkpoint at /src/src/out_vit_c100_fold0 and are newly initialized: ['vit.encoder.layer.11.intermediate.repair.weight', 'vit.encoder.layer.3.intermediate.repair.weight', 'vit.encoder.layer.5.intermediate.repair.weight', 'vit.encoder.layer.8.intermediate.repair.weight', 'vit.encoder.layer.7.intermediate.repair.weight', 'vit.encoder.layer.6.intermediate.repair.weight', 'vit.encoder.layer.2.intermediate.repair.weight', 'vit.encoder.layer.9.intermediate.repair.weight', 'vit.encoder.layer.10.intermediate.repair.weight', 'vit.encoder.layer.0.intermediate.repair.weight', 'vit.encoder.layer.4.intermediate.repair.weight', 'vit.encoder.layer.1.intermediate.repair.weight']\n",
      "You should probably TRAIN this model on a down-stream task to be able to use it for predictions and inference.\n"
     ]
    },
    {
     "name": "stdout",
     "output_type": "stream",
     "text": [
      "🛠️ Initializing intermediate.repair.weight as identity matrix (for missing weights)\n",
      "tgt_layer: 11, tgt_split: repair\n",
      "==========================================================================================\n",
      "Processing: ds=c100, k=0, tgt_rank=3, alpha=0.9090909090909091, misclf_type=tgt, fpfn=fn, w_num=236, fl_method=ours\n",
      "Device: cuda\n"
     ]
    },
    {
     "name": "stderr",
     "output_type": "stream",
     "text": [
      "Some weights of ViTForImageClassification were not initialized from the model checkpoint at /src/src/out_vit_c100_fold0 and are newly initialized: ['vit.encoder.layer.11.intermediate.repair.weight', 'vit.encoder.layer.3.intermediate.repair.weight', 'vit.encoder.layer.5.intermediate.repair.weight', 'vit.encoder.layer.8.intermediate.repair.weight', 'vit.encoder.layer.7.intermediate.repair.weight', 'vit.encoder.layer.6.intermediate.repair.weight', 'vit.encoder.layer.2.intermediate.repair.weight', 'vit.encoder.layer.9.intermediate.repair.weight', 'vit.encoder.layer.10.intermediate.repair.weight', 'vit.encoder.layer.0.intermediate.repair.weight', 'vit.encoder.layer.4.intermediate.repair.weight', 'vit.encoder.layer.1.intermediate.repair.weight']\n",
      "You should probably TRAIN this model on a down-stream task to be able to use it for predictions and inference.\n"
     ]
    },
    {
     "name": "stdout",
     "output_type": "stream",
     "text": [
      "🛠️ Initializing intermediate.repair.weight as identity matrix (for missing weights)\n",
      "tgt_layer: 11, tgt_split: repair\n",
      "==========================================================================================\n",
      "Processing: ds=c100, k=0, tgt_rank=3, alpha=0.9090909090909091, misclf_type=tgt, fpfn=fn, w_num=236, fl_method=bl\n",
      "Device: cuda\n"
     ]
    },
    {
     "name": "stderr",
     "output_type": "stream",
     "text": [
      "Some weights of ViTForImageClassification were not initialized from the model checkpoint at /src/src/out_vit_c100_fold0 and are newly initialized: ['vit.encoder.layer.11.intermediate.repair.weight', 'vit.encoder.layer.3.intermediate.repair.weight', 'vit.encoder.layer.5.intermediate.repair.weight', 'vit.encoder.layer.8.intermediate.repair.weight', 'vit.encoder.layer.7.intermediate.repair.weight', 'vit.encoder.layer.6.intermediate.repair.weight', 'vit.encoder.layer.2.intermediate.repair.weight', 'vit.encoder.layer.9.intermediate.repair.weight', 'vit.encoder.layer.10.intermediate.repair.weight', 'vit.encoder.layer.0.intermediate.repair.weight', 'vit.encoder.layer.4.intermediate.repair.weight', 'vit.encoder.layer.1.intermediate.repair.weight']\n",
      "You should probably TRAIN this model on a down-stream task to be able to use it for predictions and inference.\n"
     ]
    },
    {
     "name": "stdout",
     "output_type": "stream",
     "text": [
      "🛠️ Initializing intermediate.repair.weight as identity matrix (for missing weights)\n",
      "tgt_layer: 11, tgt_split: repair\n",
      "==========================================================================================\n",
      "Processing: ds=c100, k=0, tgt_rank=3, alpha=0.9090909090909091, misclf_type=tgt, fpfn=fn, w_num=472, fl_method=ours\n",
      "Device: cuda\n"
     ]
    },
    {
     "name": "stderr",
     "output_type": "stream",
     "text": [
      "Some weights of ViTForImageClassification were not initialized from the model checkpoint at /src/src/out_vit_c100_fold0 and are newly initialized: ['vit.encoder.layer.11.intermediate.repair.weight', 'vit.encoder.layer.3.intermediate.repair.weight', 'vit.encoder.layer.5.intermediate.repair.weight', 'vit.encoder.layer.8.intermediate.repair.weight', 'vit.encoder.layer.7.intermediate.repair.weight', 'vit.encoder.layer.6.intermediate.repair.weight', 'vit.encoder.layer.2.intermediate.repair.weight', 'vit.encoder.layer.9.intermediate.repair.weight', 'vit.encoder.layer.10.intermediate.repair.weight', 'vit.encoder.layer.0.intermediate.repair.weight', 'vit.encoder.layer.4.intermediate.repair.weight', 'vit.encoder.layer.1.intermediate.repair.weight']\n",
      "You should probably TRAIN this model on a down-stream task to be able to use it for predictions and inference.\n"
     ]
    },
    {
     "name": "stdout",
     "output_type": "stream",
     "text": [
      "🛠️ Initializing intermediate.repair.weight as identity matrix (for missing weights)\n",
      "tgt_layer: 11, tgt_split: repair\n",
      "==========================================================================================\n",
      "Processing: ds=c100, k=0, tgt_rank=3, alpha=0.9090909090909091, misclf_type=tgt, fpfn=fn, w_num=472, fl_method=bl\n",
      "Device: cuda\n"
     ]
    },
    {
     "name": "stderr",
     "output_type": "stream",
     "text": [
      "Some weights of ViTForImageClassification were not initialized from the model checkpoint at /src/src/out_vit_c100_fold0 and are newly initialized: ['vit.encoder.layer.11.intermediate.repair.weight', 'vit.encoder.layer.3.intermediate.repair.weight', 'vit.encoder.layer.5.intermediate.repair.weight', 'vit.encoder.layer.8.intermediate.repair.weight', 'vit.encoder.layer.7.intermediate.repair.weight', 'vit.encoder.layer.6.intermediate.repair.weight', 'vit.encoder.layer.2.intermediate.repair.weight', 'vit.encoder.layer.9.intermediate.repair.weight', 'vit.encoder.layer.10.intermediate.repair.weight', 'vit.encoder.layer.0.intermediate.repair.weight', 'vit.encoder.layer.4.intermediate.repair.weight', 'vit.encoder.layer.1.intermediate.repair.weight']\n",
      "You should probably TRAIN this model on a down-stream task to be able to use it for predictions and inference.\n"
     ]
    },
    {
     "name": "stdout",
     "output_type": "stream",
     "text": [
      "🛠️ Initializing intermediate.repair.weight as identity matrix (for missing weights)\n",
      "tgt_layer: 11, tgt_split: repair\n",
      "==========================================================================================\n",
      "Processing: ds=c100, k=0, tgt_rank=3, alpha=0.9090909090909091, misclf_type=tgt, fpfn=fn, w_num=944, fl_method=ours\n",
      "Device: cuda\n"
     ]
    },
    {
     "name": "stderr",
     "output_type": "stream",
     "text": [
      "Some weights of ViTForImageClassification were not initialized from the model checkpoint at /src/src/out_vit_c100_fold0 and are newly initialized: ['vit.encoder.layer.11.intermediate.repair.weight', 'vit.encoder.layer.3.intermediate.repair.weight', 'vit.encoder.layer.5.intermediate.repair.weight', 'vit.encoder.layer.8.intermediate.repair.weight', 'vit.encoder.layer.7.intermediate.repair.weight', 'vit.encoder.layer.6.intermediate.repair.weight', 'vit.encoder.layer.2.intermediate.repair.weight', 'vit.encoder.layer.9.intermediate.repair.weight', 'vit.encoder.layer.10.intermediate.repair.weight', 'vit.encoder.layer.0.intermediate.repair.weight', 'vit.encoder.layer.4.intermediate.repair.weight', 'vit.encoder.layer.1.intermediate.repair.weight']\n",
      "You should probably TRAIN this model on a down-stream task to be able to use it for predictions and inference.\n"
     ]
    },
    {
     "name": "stdout",
     "output_type": "stream",
     "text": [
      "🛠️ Initializing intermediate.repair.weight as identity matrix (for missing weights)\n",
      "tgt_layer: 11, tgt_split: repair\n",
      "==========================================================================================\n",
      "Processing: ds=c100, k=0, tgt_rank=3, alpha=0.9090909090909091, misclf_type=tgt, fpfn=fn, w_num=944, fl_method=bl\n",
      "Device: cuda\n"
     ]
    },
    {
     "name": "stderr",
     "output_type": "stream",
     "text": [
      "Some weights of ViTForImageClassification were not initialized from the model checkpoint at /src/src/out_vit_c100_fold0 and are newly initialized: ['vit.encoder.layer.11.intermediate.repair.weight', 'vit.encoder.layer.3.intermediate.repair.weight', 'vit.encoder.layer.5.intermediate.repair.weight', 'vit.encoder.layer.8.intermediate.repair.weight', 'vit.encoder.layer.7.intermediate.repair.weight', 'vit.encoder.layer.6.intermediate.repair.weight', 'vit.encoder.layer.2.intermediate.repair.weight', 'vit.encoder.layer.9.intermediate.repair.weight', 'vit.encoder.layer.10.intermediate.repair.weight', 'vit.encoder.layer.0.intermediate.repair.weight', 'vit.encoder.layer.4.intermediate.repair.weight', 'vit.encoder.layer.1.intermediate.repair.weight']\n",
      "You should probably TRAIN this model on a down-stream task to be able to use it for predictions and inference.\n"
     ]
    },
    {
     "name": "stdout",
     "output_type": "stream",
     "text": [
      "🛠️ Initializing intermediate.repair.weight as identity matrix (for missing weights)\n",
      "tgt_layer: 11, tgt_split: repair\n",
      "==========================================================================================\n",
      "Processing: ds=tiny-imagenet, k=0, tgt_rank=1, alpha=0.9090909090909091, misclf_type=src_tgt, fpfn=None, w_num=11, fl_method=ours\n",
      "Device: cuda\n",
      "tgt_layer: 11, tgt_split: repair\n",
      "==========================================================================================\n",
      "Processing: ds=tiny-imagenet, k=0, tgt_rank=1, alpha=0.9090909090909091, misclf_type=src_tgt, fpfn=None, w_num=11, fl_method=bl\n",
      "Device: cuda\n",
      "tgt_layer: 11, tgt_split: repair\n",
      "==========================================================================================\n",
      "Processing: ds=tiny-imagenet, k=0, tgt_rank=1, alpha=0.9090909090909091, misclf_type=src_tgt, fpfn=None, w_num=236, fl_method=ours\n",
      "Device: cuda\n",
      "tgt_layer: 11, tgt_split: repair\n",
      "==========================================================================================\n",
      "Processing: ds=tiny-imagenet, k=0, tgt_rank=1, alpha=0.9090909090909091, misclf_type=src_tgt, fpfn=None, w_num=236, fl_method=bl\n",
      "Device: cuda\n",
      "tgt_layer: 11, tgt_split: repair\n",
      "==========================================================================================\n",
      "Processing: ds=tiny-imagenet, k=0, tgt_rank=1, alpha=0.9090909090909091, misclf_type=src_tgt, fpfn=None, w_num=472, fl_method=ours\n",
      "Device: cuda\n",
      "tgt_layer: 11, tgt_split: repair\n",
      "==========================================================================================\n",
      "Processing: ds=tiny-imagenet, k=0, tgt_rank=1, alpha=0.9090909090909091, misclf_type=src_tgt, fpfn=None, w_num=472, fl_method=bl\n",
      "Device: cuda\n",
      "tgt_layer: 11, tgt_split: repair\n",
      "==========================================================================================\n",
      "Processing: ds=tiny-imagenet, k=0, tgt_rank=1, alpha=0.9090909090909091, misclf_type=src_tgt, fpfn=None, w_num=944, fl_method=ours\n",
      "Device: cuda\n",
      "tgt_layer: 11, tgt_split: repair\n",
      "==========================================================================================\n",
      "Processing: ds=tiny-imagenet, k=0, tgt_rank=1, alpha=0.9090909090909091, misclf_type=src_tgt, fpfn=None, w_num=944, fl_method=bl\n",
      "Device: cuda\n",
      "tgt_layer: 11, tgt_split: repair\n",
      "==========================================================================================\n",
      "Processing: ds=tiny-imagenet, k=0, tgt_rank=1, alpha=0.9090909090909091, misclf_type=tgt, fpfn=fp, w_num=11, fl_method=ours\n",
      "Device: cuda\n",
      "tgt_layer: 11, tgt_split: repair\n",
      "==========================================================================================\n",
      "Processing: ds=tiny-imagenet, k=0, tgt_rank=1, alpha=0.9090909090909091, misclf_type=tgt, fpfn=fp, w_num=11, fl_method=bl\n",
      "Device: cuda\n",
      "tgt_layer: 11, tgt_split: repair\n",
      "==========================================================================================\n",
      "Processing: ds=tiny-imagenet, k=0, tgt_rank=1, alpha=0.9090909090909091, misclf_type=tgt, fpfn=fp, w_num=236, fl_method=ours\n",
      "Device: cuda\n",
      "tgt_layer: 11, tgt_split: repair\n",
      "==========================================================================================\n",
      "Processing: ds=tiny-imagenet, k=0, tgt_rank=1, alpha=0.9090909090909091, misclf_type=tgt, fpfn=fp, w_num=236, fl_method=bl\n",
      "Device: cuda\n",
      "tgt_layer: 11, tgt_split: repair\n",
      "==========================================================================================\n",
      "Processing: ds=tiny-imagenet, k=0, tgt_rank=1, alpha=0.9090909090909091, misclf_type=tgt, fpfn=fp, w_num=472, fl_method=ours\n",
      "Device: cuda\n",
      "tgt_layer: 11, tgt_split: repair\n",
      "==========================================================================================\n",
      "Processing: ds=tiny-imagenet, k=0, tgt_rank=1, alpha=0.9090909090909091, misclf_type=tgt, fpfn=fp, w_num=472, fl_method=bl\n",
      "Device: cuda\n",
      "tgt_layer: 11, tgt_split: repair\n",
      "==========================================================================================\n",
      "Processing: ds=tiny-imagenet, k=0, tgt_rank=1, alpha=0.9090909090909091, misclf_type=tgt, fpfn=fp, w_num=944, fl_method=ours\n",
      "Device: cuda\n",
      "tgt_layer: 11, tgt_split: repair\n",
      "==========================================================================================\n",
      "Processing: ds=tiny-imagenet, k=0, tgt_rank=1, alpha=0.9090909090909091, misclf_type=tgt, fpfn=fp, w_num=944, fl_method=bl\n",
      "Device: cuda\n",
      "tgt_layer: 11, tgt_split: repair\n",
      "==========================================================================================\n",
      "Processing: ds=tiny-imagenet, k=0, tgt_rank=1, alpha=0.9090909090909091, misclf_type=tgt, fpfn=fn, w_num=11, fl_method=ours\n",
      "Device: cuda\n",
      "tgt_layer: 11, tgt_split: repair\n",
      "==========================================================================================\n",
      "Processing: ds=tiny-imagenet, k=0, tgt_rank=1, alpha=0.9090909090909091, misclf_type=tgt, fpfn=fn, w_num=11, fl_method=bl\n",
      "Device: cuda\n",
      "tgt_layer: 11, tgt_split: repair\n",
      "==========================================================================================\n",
      "Processing: ds=tiny-imagenet, k=0, tgt_rank=1, alpha=0.9090909090909091, misclf_type=tgt, fpfn=fn, w_num=236, fl_method=ours\n",
      "Device: cuda\n",
      "tgt_layer: 11, tgt_split: repair\n",
      "==========================================================================================\n",
      "Processing: ds=tiny-imagenet, k=0, tgt_rank=1, alpha=0.9090909090909091, misclf_type=tgt, fpfn=fn, w_num=236, fl_method=bl\n",
      "Device: cuda\n",
      "tgt_layer: 11, tgt_split: repair\n",
      "==========================================================================================\n",
      "Processing: ds=tiny-imagenet, k=0, tgt_rank=1, alpha=0.9090909090909091, misclf_type=tgt, fpfn=fn, w_num=472, fl_method=ours\n",
      "Device: cuda\n",
      "tgt_layer: 11, tgt_split: repair\n",
      "==========================================================================================\n",
      "Processing: ds=tiny-imagenet, k=0, tgt_rank=1, alpha=0.9090909090909091, misclf_type=tgt, fpfn=fn, w_num=472, fl_method=bl\n",
      "Device: cuda\n",
      "tgt_layer: 11, tgt_split: repair\n",
      "==========================================================================================\n",
      "Processing: ds=tiny-imagenet, k=0, tgt_rank=1, alpha=0.9090909090909091, misclf_type=tgt, fpfn=fn, w_num=944, fl_method=ours\n",
      "Device: cuda\n",
      "tgt_layer: 11, tgt_split: repair\n",
      "==========================================================================================\n",
      "Processing: ds=tiny-imagenet, k=0, tgt_rank=1, alpha=0.9090909090909091, misclf_type=tgt, fpfn=fn, w_num=944, fl_method=bl\n",
      "Device: cuda\n",
      "tgt_layer: 11, tgt_split: repair\n",
      "==========================================================================================\n",
      "Processing: ds=tiny-imagenet, k=0, tgt_rank=2, alpha=0.9090909090909091, misclf_type=src_tgt, fpfn=None, w_num=11, fl_method=ours\n",
      "Device: cuda\n",
      "tgt_layer: 11, tgt_split: repair\n",
      "==========================================================================================\n",
      "Processing: ds=tiny-imagenet, k=0, tgt_rank=2, alpha=0.9090909090909091, misclf_type=src_tgt, fpfn=None, w_num=11, fl_method=bl\n",
      "Device: cuda\n",
      "tgt_layer: 11, tgt_split: repair\n",
      "==========================================================================================\n",
      "Processing: ds=tiny-imagenet, k=0, tgt_rank=2, alpha=0.9090909090909091, misclf_type=src_tgt, fpfn=None, w_num=236, fl_method=ours\n",
      "Device: cuda\n",
      "tgt_layer: 11, tgt_split: repair\n",
      "==========================================================================================\n",
      "Processing: ds=tiny-imagenet, k=0, tgt_rank=2, alpha=0.9090909090909091, misclf_type=src_tgt, fpfn=None, w_num=236, fl_method=bl\n",
      "Device: cuda\n",
      "tgt_layer: 11, tgt_split: repair\n",
      "==========================================================================================\n",
      "Processing: ds=tiny-imagenet, k=0, tgt_rank=2, alpha=0.9090909090909091, misclf_type=src_tgt, fpfn=None, w_num=472, fl_method=ours\n",
      "Device: cuda\n",
      "tgt_layer: 11, tgt_split: repair\n",
      "==========================================================================================\n",
      "Processing: ds=tiny-imagenet, k=0, tgt_rank=2, alpha=0.9090909090909091, misclf_type=src_tgt, fpfn=None, w_num=472, fl_method=bl\n",
      "Device: cuda\n",
      "tgt_layer: 11, tgt_split: repair\n",
      "==========================================================================================\n",
      "Processing: ds=tiny-imagenet, k=0, tgt_rank=2, alpha=0.9090909090909091, misclf_type=src_tgt, fpfn=None, w_num=944, fl_method=ours\n",
      "Device: cuda\n",
      "tgt_layer: 11, tgt_split: repair\n",
      "==========================================================================================\n",
      "Processing: ds=tiny-imagenet, k=0, tgt_rank=2, alpha=0.9090909090909091, misclf_type=src_tgt, fpfn=None, w_num=944, fl_method=bl\n",
      "Device: cuda\n",
      "tgt_layer: 11, tgt_split: repair\n",
      "==========================================================================================\n",
      "Processing: ds=tiny-imagenet, k=0, tgt_rank=2, alpha=0.9090909090909091, misclf_type=tgt, fpfn=fp, w_num=11, fl_method=ours\n",
      "Device: cuda\n",
      "tgt_layer: 11, tgt_split: repair\n",
      "==========================================================================================\n",
      "Processing: ds=tiny-imagenet, k=0, tgt_rank=2, alpha=0.9090909090909091, misclf_type=tgt, fpfn=fp, w_num=11, fl_method=bl\n",
      "Device: cuda\n",
      "tgt_layer: 11, tgt_split: repair\n",
      "==========================================================================================\n",
      "Processing: ds=tiny-imagenet, k=0, tgt_rank=2, alpha=0.9090909090909091, misclf_type=tgt, fpfn=fp, w_num=236, fl_method=ours\n",
      "Device: cuda\n",
      "tgt_layer: 11, tgt_split: repair\n",
      "==========================================================================================\n",
      "Processing: ds=tiny-imagenet, k=0, tgt_rank=2, alpha=0.9090909090909091, misclf_type=tgt, fpfn=fp, w_num=236, fl_method=bl\n",
      "Device: cuda\n",
      "tgt_layer: 11, tgt_split: repair\n",
      "==========================================================================================\n",
      "Processing: ds=tiny-imagenet, k=0, tgt_rank=2, alpha=0.9090909090909091, misclf_type=tgt, fpfn=fp, w_num=472, fl_method=ours\n",
      "Device: cuda\n",
      "tgt_layer: 11, tgt_split: repair\n",
      "==========================================================================================\n",
      "Processing: ds=tiny-imagenet, k=0, tgt_rank=2, alpha=0.9090909090909091, misclf_type=tgt, fpfn=fp, w_num=472, fl_method=bl\n",
      "Device: cuda\n",
      "tgt_layer: 11, tgt_split: repair\n",
      "==========================================================================================\n",
      "Processing: ds=tiny-imagenet, k=0, tgt_rank=2, alpha=0.9090909090909091, misclf_type=tgt, fpfn=fp, w_num=944, fl_method=ours\n",
      "Device: cuda\n",
      "tgt_layer: 11, tgt_split: repair\n",
      "==========================================================================================\n",
      "Processing: ds=tiny-imagenet, k=0, tgt_rank=2, alpha=0.9090909090909091, misclf_type=tgt, fpfn=fp, w_num=944, fl_method=bl\n",
      "Device: cuda\n",
      "tgt_layer: 11, tgt_split: repair\n",
      "==========================================================================================\n",
      "Processing: ds=tiny-imagenet, k=0, tgt_rank=2, alpha=0.9090909090909091, misclf_type=tgt, fpfn=fn, w_num=11, fl_method=ours\n",
      "Device: cuda\n",
      "tgt_layer: 11, tgt_split: repair\n",
      "==========================================================================================\n",
      "Processing: ds=tiny-imagenet, k=0, tgt_rank=2, alpha=0.9090909090909091, misclf_type=tgt, fpfn=fn, w_num=11, fl_method=bl\n",
      "Device: cuda\n",
      "tgt_layer: 11, tgt_split: repair\n",
      "==========================================================================================\n",
      "Processing: ds=tiny-imagenet, k=0, tgt_rank=2, alpha=0.9090909090909091, misclf_type=tgt, fpfn=fn, w_num=236, fl_method=ours\n",
      "Device: cuda\n",
      "tgt_layer: 11, tgt_split: repair\n",
      "==========================================================================================\n",
      "Processing: ds=tiny-imagenet, k=0, tgt_rank=2, alpha=0.9090909090909091, misclf_type=tgt, fpfn=fn, w_num=236, fl_method=bl\n",
      "Device: cuda\n",
      "tgt_layer: 11, tgt_split: repair\n",
      "==========================================================================================\n",
      "Processing: ds=tiny-imagenet, k=0, tgt_rank=2, alpha=0.9090909090909091, misclf_type=tgt, fpfn=fn, w_num=472, fl_method=ours\n",
      "Device: cuda\n",
      "tgt_layer: 11, tgt_split: repair\n",
      "==========================================================================================\n",
      "Processing: ds=tiny-imagenet, k=0, tgt_rank=2, alpha=0.9090909090909091, misclf_type=tgt, fpfn=fn, w_num=472, fl_method=bl\n",
      "Device: cuda\n",
      "tgt_layer: 11, tgt_split: repair\n",
      "==========================================================================================\n",
      "Processing: ds=tiny-imagenet, k=0, tgt_rank=2, alpha=0.9090909090909091, misclf_type=tgt, fpfn=fn, w_num=944, fl_method=ours\n",
      "Device: cuda\n",
      "tgt_layer: 11, tgt_split: repair\n",
      "==========================================================================================\n",
      "Processing: ds=tiny-imagenet, k=0, tgt_rank=2, alpha=0.9090909090909091, misclf_type=tgt, fpfn=fn, w_num=944, fl_method=bl\n",
      "Device: cuda\n",
      "tgt_layer: 11, tgt_split: repair\n",
      "==========================================================================================\n",
      "Processing: ds=tiny-imagenet, k=0, tgt_rank=3, alpha=0.9090909090909091, misclf_type=src_tgt, fpfn=None, w_num=11, fl_method=ours\n",
      "Device: cuda\n",
      "tgt_layer: 11, tgt_split: repair\n",
      "==========================================================================================\n",
      "Processing: ds=tiny-imagenet, k=0, tgt_rank=3, alpha=0.9090909090909091, misclf_type=src_tgt, fpfn=None, w_num=11, fl_method=bl\n",
      "Device: cuda\n",
      "tgt_layer: 11, tgt_split: repair\n",
      "==========================================================================================\n",
      "Processing: ds=tiny-imagenet, k=0, tgt_rank=3, alpha=0.9090909090909091, misclf_type=src_tgt, fpfn=None, w_num=236, fl_method=ours\n",
      "Device: cuda\n",
      "tgt_layer: 11, tgt_split: repair\n",
      "==========================================================================================\n",
      "Processing: ds=tiny-imagenet, k=0, tgt_rank=3, alpha=0.9090909090909091, misclf_type=src_tgt, fpfn=None, w_num=236, fl_method=bl\n",
      "Device: cuda\n",
      "tgt_layer: 11, tgt_split: repair\n",
      "==========================================================================================\n",
      "Processing: ds=tiny-imagenet, k=0, tgt_rank=3, alpha=0.9090909090909091, misclf_type=src_tgt, fpfn=None, w_num=472, fl_method=ours\n",
      "Device: cuda\n",
      "tgt_layer: 11, tgt_split: repair\n",
      "==========================================================================================\n",
      "Processing: ds=tiny-imagenet, k=0, tgt_rank=3, alpha=0.9090909090909091, misclf_type=src_tgt, fpfn=None, w_num=472, fl_method=bl\n",
      "Device: cuda\n",
      "tgt_layer: 11, tgt_split: repair\n",
      "==========================================================================================\n",
      "Processing: ds=tiny-imagenet, k=0, tgt_rank=3, alpha=0.9090909090909091, misclf_type=src_tgt, fpfn=None, w_num=944, fl_method=ours\n",
      "Device: cuda\n",
      "tgt_layer: 11, tgt_split: repair\n",
      "==========================================================================================\n",
      "Processing: ds=tiny-imagenet, k=0, tgt_rank=3, alpha=0.9090909090909091, misclf_type=src_tgt, fpfn=None, w_num=944, fl_method=bl\n",
      "Device: cuda\n",
      "tgt_layer: 11, tgt_split: repair\n",
      "==========================================================================================\n",
      "Processing: ds=tiny-imagenet, k=0, tgt_rank=3, alpha=0.9090909090909091, misclf_type=tgt, fpfn=fp, w_num=11, fl_method=ours\n",
      "Device: cuda\n",
      "tgt_layer: 11, tgt_split: repair\n",
      "==========================================================================================\n",
      "Processing: ds=tiny-imagenet, k=0, tgt_rank=3, alpha=0.9090909090909091, misclf_type=tgt, fpfn=fp, w_num=11, fl_method=bl\n",
      "Device: cuda\n",
      "tgt_layer: 11, tgt_split: repair\n",
      "==========================================================================================\n",
      "Processing: ds=tiny-imagenet, k=0, tgt_rank=3, alpha=0.9090909090909091, misclf_type=tgt, fpfn=fp, w_num=236, fl_method=ours\n",
      "Device: cuda\n",
      "tgt_layer: 11, tgt_split: repair\n",
      "==========================================================================================\n",
      "Processing: ds=tiny-imagenet, k=0, tgt_rank=3, alpha=0.9090909090909091, misclf_type=tgt, fpfn=fp, w_num=236, fl_method=bl\n",
      "Device: cuda\n",
      "tgt_layer: 11, tgt_split: repair\n",
      "==========================================================================================\n",
      "Processing: ds=tiny-imagenet, k=0, tgt_rank=3, alpha=0.9090909090909091, misclf_type=tgt, fpfn=fp, w_num=472, fl_method=ours\n",
      "Device: cuda\n",
      "tgt_layer: 11, tgt_split: repair\n",
      "==========================================================================================\n",
      "Processing: ds=tiny-imagenet, k=0, tgt_rank=3, alpha=0.9090909090909091, misclf_type=tgt, fpfn=fp, w_num=472, fl_method=bl\n",
      "Device: cuda\n",
      "tgt_layer: 11, tgt_split: repair\n",
      "==========================================================================================\n",
      "Processing: ds=tiny-imagenet, k=0, tgt_rank=3, alpha=0.9090909090909091, misclf_type=tgt, fpfn=fp, w_num=944, fl_method=ours\n",
      "Device: cuda\n",
      "tgt_layer: 11, tgt_split: repair\n",
      "==========================================================================================\n",
      "Processing: ds=tiny-imagenet, k=0, tgt_rank=3, alpha=0.9090909090909091, misclf_type=tgt, fpfn=fp, w_num=944, fl_method=bl\n",
      "Device: cuda\n",
      "tgt_layer: 11, tgt_split: repair\n",
      "==========================================================================================\n",
      "Processing: ds=tiny-imagenet, k=0, tgt_rank=3, alpha=0.9090909090909091, misclf_type=tgt, fpfn=fn, w_num=11, fl_method=ours\n",
      "Device: cuda\n",
      "tgt_layer: 11, tgt_split: repair\n",
      "==========================================================================================\n",
      "Processing: ds=tiny-imagenet, k=0, tgt_rank=3, alpha=0.9090909090909091, misclf_type=tgt, fpfn=fn, w_num=11, fl_method=bl\n",
      "Device: cuda\n",
      "tgt_layer: 11, tgt_split: repair\n",
      "==========================================================================================\n",
      "Processing: ds=tiny-imagenet, k=0, tgt_rank=3, alpha=0.9090909090909091, misclf_type=tgt, fpfn=fn, w_num=236, fl_method=ours\n",
      "Device: cuda\n",
      "tgt_layer: 11, tgt_split: repair\n",
      "==========================================================================================\n",
      "Processing: ds=tiny-imagenet, k=0, tgt_rank=3, alpha=0.9090909090909091, misclf_type=tgt, fpfn=fn, w_num=236, fl_method=bl\n",
      "Device: cuda\n",
      "tgt_layer: 11, tgt_split: repair\n",
      "==========================================================================================\n",
      "Processing: ds=tiny-imagenet, k=0, tgt_rank=3, alpha=0.9090909090909091, misclf_type=tgt, fpfn=fn, w_num=472, fl_method=ours\n",
      "Device: cuda\n",
      "tgt_layer: 11, tgt_split: repair\n",
      "==========================================================================================\n",
      "Processing: ds=tiny-imagenet, k=0, tgt_rank=3, alpha=0.9090909090909091, misclf_type=tgt, fpfn=fn, w_num=472, fl_method=bl\n",
      "Device: cuda\n",
      "tgt_layer: 11, tgt_split: repair\n",
      "==========================================================================================\n",
      "Processing: ds=tiny-imagenet, k=0, tgt_rank=3, alpha=0.9090909090909091, misclf_type=tgt, fpfn=fn, w_num=944, fl_method=ours\n",
      "Device: cuda\n",
      "tgt_layer: 11, tgt_split: repair\n",
      "==========================================================================================\n",
      "Processing: ds=tiny-imagenet, k=0, tgt_rank=3, alpha=0.9090909090909091, misclf_type=tgt, fpfn=fn, w_num=944, fl_method=bl\n",
      "Device: cuda\n",
      "tgt_layer: 11, tgt_split: repair\n"
     ]
    }
   ],
   "source": [
    "from itertools import product\n",
    "\n",
    "# 結果格納用リスト（ヒートマップ用）\n",
    "results = {}\n",
    "\n",
    "ds_list = [\"c100\", \"tiny-imagenet\"]\n",
    "k_list = [0]\n",
    "tgt_rank_list = [1, 2, 3]\n",
    "misclf_type_list = [\"src_tgt\", \"tgt\"]\n",
    "fpfn_list = [None, \"fp\", \"fn\"]\n",
    "w_num_list = [11, 236, 472, 944]\n",
    "fl_method_list = [\"ours\", \"bl\"]  # \"random\"は未対応なので外す\n",
    "alpha = float(10 / 11)\n",
    "\n",
    "for ds, k, tgt_rank, misclf_type, fpfn, w_num, fl_method in product(ds_list, k_list, tgt_rank_list, misclf_type_list, fpfn_list, w_num_list, fl_method_list):\n",
    "    if (misclf_type == \"src_tgt\" or misclf_type == \"all\") and fpfn is not None:\n",
    "        continue\n",
    "    if misclf_type == \"tgt\" and fpfn is None:\n",
    "        continue\n",
    "\n",
    "    print(f\"{'='*90}\\nProcessing: ds={ds}, k={k}, tgt_rank={tgt_rank}, alpha={alpha}, misclf_type={misclf_type}, fpfn={fpfn}, w_num={w_num}, fl_method={fl_method}\")\n",
    "\n",
    "    # 引数をリスト形式で作成\n",
    "    argv = [\n",
    "        ds,\n",
    "        str(k),\n",
    "        str(tgt_rank),\n",
    "        str(w_num),\n",
    "        \"--fl_method\", fl_method,\n",
    "        \"--misclf_type\", misclf_type,\n",
    "        \"--custom_alpha\", str(alpha)\n",
    "    ]\n",
    "    if fpfn is not None:\n",
    "        argv.extend([\"--fpfn\", fpfn])\n",
    "\n",
    "    # 実行\n",
    "    try:\n",
    "        pos_before, pos_after = main(argv)\n",
    "        results[(ds, k, tgt_rank, misclf_type, fpfn, w_num, fl_method)] = (pos_before, pos_after)\n",
    "        # print(results)\n",
    "    except Exception as e:\n",
    "        print(f\"Error occurred for config: {argv}\")\n",
    "        print(e)"
   ]
  },
  {
   "cell_type": "code",
   "execution_count": 48,
   "id": "5152195f",
   "metadata": {},
   "outputs": [],
   "source": [
    "def plot_jaccard_ours_vs_bl(results, save_path=\"jaccard_heatmap.pdf\"):\n",
    "    import matplotlib.pyplot as plt\n",
    "    import seaborn as sns\n",
    "    import numpy as np\n",
    "    from collections import defaultdict\n",
    "    from matplotlib import gridspec\n",
    "\n",
    "    jaccard_dict = {}\n",
    "\n",
    "    for key, value in results.items():\n",
    "        ds, k, tgt_rank, misclf_type, fpfn, w_num, fl_method = key\n",
    "\n",
    "        ds_label = {\"c100\": \"C100\", \"tiny-imagenet\": \"TinyImg\"}.get(ds, ds)\n",
    "\n",
    "        if misclf_type == \"tgt\" and fpfn:\n",
    "            misclf_label = f\"TGT-{fpfn.upper()}\"\n",
    "        elif misclf_type == \"src_tgt\":\n",
    "            misclf_label = \"SRC-TGT\"\n",
    "        else:\n",
    "            misclf_label = misclf_type.upper()\n",
    "\n",
    "        label = (ds_label, tgt_rank, misclf_label, w_num)\n",
    "\n",
    "        # pos_before → (0, i, j), pos_after → (1, i, j)\n",
    "        full_pos = set((0, *p) for p in value[0]) | set((1, *p) for p in value[1])\n",
    "        if not w_num == 11:\n",
    "            assert len(full_pos) == w_num, f\"len(full_pos): {len(full_pos)}, w_num: {w_num}\"\n",
    "\n",
    "        if fl_method == \"ours\":\n",
    "            jaccard_dict.setdefault(label, {})[\"ours\"] = full_pos\n",
    "        elif fl_method == \"bl\":\n",
    "            jaccard_dict.setdefault(label, {})[\"bl\"] = full_pos\n",
    "\n",
    "    data = []\n",
    "    labels = []\n",
    "    for key, d in jaccard_dict.items():\n",
    "        if \"ours\" in d and \"bl\" in d:\n",
    "            ours, bl = d[\"ours\"], d[\"bl\"]\n",
    "            intersection = len(ours & bl)\n",
    "            union = len(ours | bl)\n",
    "            jacc = intersection / union if union > 0 else 0.0\n",
    "            data.append(jacc)\n",
    "            ds_label, r, misclf_label, w = key\n",
    "            if not w == 11:\n",
    "                assert len(ours) == len(bl) == w, f\"len(bl): {len(bl)}, len(ours): {len(ours)}, w_num: {w}\"\n",
    "            setting_label = f\"{ds_label}\\nRank {r}\\n{misclf_label}\"\n",
    "            labels.append((w, setting_label))\n",
    "\n",
    "    # ヒートマップデータ構築\n",
    "    heatmap_dict = defaultdict(dict)\n",
    "    for (wnum, label), jacc in zip(labels, data):\n",
    "        heatmap_dict[wnum][label] = jacc\n",
    "\n",
    "    sorted_ws = sorted(heatmap_dict.keys())\n",
    "    sorted_labels = sorted(set(k for v in heatmap_dict.values() for k in v))\n",
    "\n",
    "    matrix = np.zeros((len(sorted_ws), len(sorted_labels)))\n",
    "    for i, w in enumerate(sorted_ws):\n",
    "        for j, s in enumerate(sorted_labels):\n",
    "            matrix[i, j] = heatmap_dict[w].get(s, np.nan)\n",
    "\n",
    "    fig = plt.figure(figsize=(1.2 * len(sorted_labels), 0.8 * len(sorted_ws) + 1))\n",
    "    gs = gridspec.GridSpec(1, 2, width_ratios=[20, 1], wspace=0.05)\n",
    "    ax = fig.add_subplot(gs[0])\n",
    "    cbar_ax = fig.add_subplot(gs[1])\n",
    "\n",
    "    sns.heatmap(matrix, annot=True, xticklabels=sorted_labels, yticklabels=sorted_ws,\n",
    "                cmap=\"Greys\", fmt=\".2f\", ax=ax, cbar_ax=cbar_ax, annot_kws={\"fontsize\": 12})\n",
    "\n",
    "    ax.set_ylabel(\"Number of Weights (N_w)\", fontsize=12)\n",
    "    ax.set_xlabel(\"\")\n",
    "    ax.set_title(\"\")\n",
    "    ax.tick_params(axis='x', labelrotation=0, labelsize=12)\n",
    "    ax.tick_params(axis='y', labelrotation=0, labelsize=12)\n",
    "\n",
    "    plt.savefig(save_path, bbox_inches=\"tight\", pad_inches=0.1)\n",
    "    print(f\"Saved heatmap to {save_path}\")\n",
    "    plt.close(fig)"
   ]
  },
  {
   "cell_type": "code",
   "execution_count": 50,
   "id": "5863ec69",
   "metadata": {},
   "outputs": [
    {
     "name": "stdout",
     "output_type": "stream",
     "text": [
      "Saved heatmap to discuss_suspw.pdf\n"
     ]
    }
   ],
   "source": [
    "plot_jaccard_ours_vs_bl(results, save_path=\"discuss_suspw.pdf\")\n"
   ]
  },
  {
   "cell_type": "code",
   "execution_count": null,
   "id": "9fcf5dd2",
   "metadata": {},
   "outputs": [],
   "source": []
  }
 ],
 "metadata": {
  "kernelspec": {
   "display_name": "Python 3",
   "language": "python",
   "name": "python3"
  },
  "language_info": {
   "codemirror_mode": {
    "name": "ipython",
    "version": 3
   },
   "file_extension": ".py",
   "mimetype": "text/x-python",
   "name": "python",
   "nbconvert_exporter": "python",
   "pygments_lexer": "ipython3",
   "version": "3.7.16"
  }
 },
 "nbformat": 4,
 "nbformat_minor": 5
}
