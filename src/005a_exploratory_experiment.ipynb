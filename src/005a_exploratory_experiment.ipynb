{
 "cells": [
  {
   "cell_type": "code",
   "execution_count": 1,
   "metadata": {},
   "outputs": [
    {
     "name": "stderr",
     "output_type": "stream",
     "text": [
      "2024-09-23 02:57:14.931628: I tensorflow/core/platform/cpu_feature_guard.cc:193] This TensorFlow binary is optimized with oneAPI Deep Neural Network Library (oneDNN) to use the following CPU instructions in performance-critical operations:  AVX2 FMA\n",
      "To enable them in other operations, rebuild TensorFlow with the appropriate compiler flags.\n",
      "2024-09-23 02:57:15.087173: W tensorflow/compiler/xla/stream_executor/platform/default/dso_loader.cc:64] Could not load dynamic library 'libcudart.so.11.0'; dlerror: libcudart.so.11.0: cannot open shared object file: No such file or directory\n",
      "2024-09-23 02:57:15.087215: I tensorflow/compiler/xla/stream_executor/cuda/cudart_stub.cc:29] Ignore above cudart dlerror if you do not have a GPU set up on your machine.\n",
      "2024-09-23 02:57:15.953400: W tensorflow/compiler/xla/stream_executor/platform/default/dso_loader.cc:64] Could not load dynamic library 'libnvinfer.so.7'; dlerror: libnvinfer.so.7: cannot open shared object file: No such file or directory\n",
      "2024-09-23 02:57:15.953524: W tensorflow/compiler/xla/stream_executor/platform/default/dso_loader.cc:64] Could not load dynamic library 'libnvinfer_plugin.so.7'; dlerror: libnvinfer_plugin.so.7: cannot open shared object file: No such file or directory\n",
      "2024-09-23 02:57:15.953536: W tensorflow/compiler/tf2tensorrt/utils/py_utils.cc:38] TF-TRT Warning: Cannot dlopen some TensorRT libraries. If you would like to use Nvidia GPU with TensorRT, please make sure the missing libraries mentioned above are installed properly.\n"
     ]
    }
   ],
   "source": [
    "import os, sys, time\n",
    "from tqdm.notebook import tqdm\n",
    "import pandas as pd\n",
    "import json\n",
    "import numpy as np\n",
    "from collections import defaultdict\n",
    "from scipy import stats\n",
    "from datasets import load_from_disk\n",
    "from transformers import DefaultDataCollator, ViTForImageClassification, Trainer\n",
    "from utils.helper import get_device\n",
    "from utils.vit_util import transforms, transforms_c100\n",
    "from utils.constant import ViTExperiment\n",
    "import matplotlib.pyplot as plt\n",
    "import seaborn as sns\n",
    "sns.set_style(\"ticks\")\n",
    "import torch\n",
    "import math\n",
    "\n",
    "\n",
    "ds_name = \"c100\"\n",
    "k = 0"
   ]
  },
  {
   "cell_type": "code",
   "execution_count": 2,
   "metadata": {},
   "outputs": [
    {
     "name": "stdout",
     "output_type": "stream",
     "text": [
      "Device: cuda\n"
     ]
    }
   ],
   "source": [
    "# デバイス (cuda, or cpu) の取得\n",
    "device = get_device()\n",
    "# datasetをロード (初回の読み込みだけやや時間かかる)\n",
    "dataset_dir = ViTExperiment.DATASET_DIR\n",
    "# バッチごとの処理のためのdata_collator\n",
    "data_collator = DefaultDataCollator()\n",
    "# オリジナルのds name\n",
    "ds_ori_name = ds_name.rstrip(\"c\") if ds_name.endswith(\"c\") else ds_name\n",
    "# foldが記載されたdir name\n",
    "ds_dirname = f\"{ds_ori_name}_fold{k}\"\n",
    "# dsのload\n",
    "ds = load_from_disk(os.path.join(dataset_dir, ds_dirname))\n",
    "ds_preprocessed = ds.with_transform(transforms)\n",
    "\n",
    "# datasetごとに違う変数のセット\n",
    "if ds_name == \"c10\" or ds_name == \"c10c\":\n",
    "    tf_func = transforms\n",
    "    label_col = \"label\"\n",
    "elif ds_name == \"c100\" or ds_name == \"c100c\":\n",
    "    tf_func = transforms_c100\n",
    "    label_col = \"fine_label\"\n",
    "else:\n",
    "    NotImplementedError\n",
    "# 読み込まれた時にリアルタイムで前処理を適用するようにする\n",
    "ds_preprocessed = ds.with_transform(tf_func)\n",
    "# ラベルを示す文字列のlist\n",
    "labels = ds_preprocessed[\"train\"].features[label_col].names\n",
    "\n",
    "# pretrained modelのロード\n",
    "ori_pretrained_dir = getattr(ViTExperiment, ds_ori_name).OUTPUT_DIR.format(k=k)\n",
    "pretrained_dir = os.path.join(ori_pretrained_dir, \"repairing_by_de\")\n",
    "# このpythonのファイル名を取得\n",
    "\n",
    "model = ViTForImageClassification.from_pretrained(ori_pretrained_dir).to(device)\n",
    "model.eval()\n",
    "end_li = model.vit.config.num_hidden_layers\n",
    "# 学習時の設定をロード\n",
    "training_args = torch.load(os.path.join(ori_pretrained_dir, \"training_args.bin\"))\n",
    "# Trainerオブジェクトの作成\n",
    "training_args_dict = training_args.to_dict()\n",
    "train_batch_size = training_args_dict[\"per_device_train_batch_size\"]\n",
    "eval_batch_size = training_args_dict[\"per_device_eval_batch_size\"]\n",
    "# 予測結果格納ディレクトリ\n",
    "pred_out_dir = os.path.join(pretrained_dir, \"pred_results\", \"PredictionOutput\")\n",
    "# pred_out_dirがなければ作成\n",
    "if not os.path.exists(pred_out_dir):\n",
    "    os.makedirs(pred_out_dir)\n",
    "tgt_layer = 11\n",
    "tgt_pos = ViTExperiment.CLS_IDX\n",
    "\n",
    "train_iter = math.ceil(len(ds_preprocessed[\"train\"]) / train_batch_size)\n",
    "repair_iter = math.ceil(len(ds_preprocessed[\"repair\"]) / eval_batch_size)\n",
    "test_iter = math.ceil(len(ds_preprocessed[\"test\"]) / eval_batch_size)"
   ]
  },
  {
   "cell_type": "code",
   "execution_count": 3,
   "metadata": {},
   "outputs": [
    {
     "name": "stdout",
     "output_type": "stream",
     "text": [
      "Process repair (batch_size=32)...\n"
     ]
    },
    {
     "data": {
      "application/vnd.jupyter.widget-view+json": {
       "model_id": "eede332090cf4bc3b6748c153bfbc5d7",
       "version_major": 2,
       "version_minor": 0
      },
      "text/plain": [
       "  0%|          | 0/313 [00:00<?, ?it/s]"
      ]
     },
     "metadata": {},
     "output_type": "display_data"
    },
    {
     "name": "stdout",
     "output_type": "stream",
     "text": [
      "all_proba.shape: (10000, 100), all_pred_labels.shape: (10000,), true_labels.shape: (10000,)\n",
      "Process test (batch_size=32)...\n"
     ]
    },
    {
     "data": {
      "application/vnd.jupyter.widget-view+json": {
       "model_id": "d9249750285f47eb97f2fa56c271f083",
       "version_major": 2,
       "version_minor": 0
      },
      "text/plain": [
       "  0%|          | 0/313 [00:00<?, ?it/s]"
      ]
     },
     "metadata": {},
     "output_type": "display_data"
    },
    {
     "name": "stdout",
     "output_type": "stream",
     "text": [
      "all_proba.shape: (10000, 100), all_pred_labels.shape: (10000,), true_labels.shape: (10000,)\n"
     ]
    }
   ],
   "source": [
    "for split, batch_size in zip([\"repair\", \"test\"], [eval_batch_size, eval_batch_size]):\n",
    "    print(f\"Process {split} (batch_size={batch_size})...\")\n",
    "    all_proba = []\n",
    "    all_pred_labels = []\n",
    "    all_before_intermediates = []\n",
    "    all_intermediates = []\n",
    "    all_after_intermediates = []\n",
    "    # 各バッチに対する予測を実行\n",
    "    for entry_dic in tqdm(ds_preprocessed[split].iter(batch_size=batch_size), total=len(ds_preprocessed[split])//batch_size+1):\n",
    "        x, y = entry_dic[\"pixel_values\"].to(device), entry_dic[\"labels\"]\n",
    "        output = model.forward(x, tgt_pos=tgt_pos, output_hidden_states_before_layernorm=False, output_intermediate_states=True)\n",
    "        before_intermediate, intermediate, after_intermediate = output.intermediate_states[tgt_layer] # 3つの状態がタプルで入ってる\n",
    "        proba = torch.nn.functional.softmax(output.logits, dim=-1).cpu().detach().numpy()\n",
    "        # 予測結果のラベルを取得\n",
    "        pred_labels = proba.argmax(axis=-1)\n",
    "        all_proba.append(proba)\n",
    "        all_pred_labels.append(pred_labels)\n",
    "        all_before_intermediates.append(before_intermediate)\n",
    "        all_intermediates.append(intermediate)\n",
    "        all_after_intermediates.append(after_intermediate)\n",
    "    all_proba = np.concatenate(all_proba)\n",
    "    all_pred_labels = np.concatenate(all_pred_labels)\n",
    "    all_before_intermediates = np.concatenate(all_before_intermediates)\n",
    "    all_intermediates = np.concatenate(all_intermediates)\n",
    "    all_after_intermediates = np.concatenate(all_after_intermediates)\n",
    "    true_labels = np.array(ds[split][label_col])\n",
    "    print(f\"all_proba.shape: {all_proba.shape}, all_pred_labels.shape: {all_pred_labels.shape}, true_labels.shape: {true_labels.shape}\")"
   ]
  },
  {
   "cell_type": "code",
   "execution_count": 7,
   "metadata": {},
   "outputs": [
    {
     "name": "stdout",
     "output_type": "stream",
     "text": [
      "(10000, 768)\n",
      "(10000, 3072)\n",
      "(10000, 768)\n"
     ]
    }
   ],
   "source": [
    "print(all_before_intermediates.shape)\n",
    "print(all_intermediates.shape)\n",
    "print(all_after_intermediates.shape)"
   ]
  },
  {
   "cell_type": "code",
   "execution_count": null,
   "metadata": {},
   "outputs": [],
   "source": []
  }
 ],
 "metadata": {
  "kernelspec": {
   "display_name": "Python 3",
   "language": "python",
   "name": "python3"
  },
  "language_info": {
   "codemirror_mode": {
    "name": "ipython",
    "version": 3
   },
   "file_extension": ".py",
   "mimetype": "text/x-python",
   "name": "python",
   "nbconvert_exporter": "python",
   "pygments_lexer": "ipython3",
   "version": "3.7.16"
  }
 },
 "nbformat": 4,
 "nbformat_minor": 2
}
