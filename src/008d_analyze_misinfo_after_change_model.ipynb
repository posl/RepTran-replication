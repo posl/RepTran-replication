{
 "cells": [
  {
   "cell_type": "markdown",
   "metadata": {},
   "source": [
    "修正 or 再学習の前後で誤分類の頻度や種類がどれくらい変わったかを見たい"
   ]
  },
  {
   "cell_type": "code",
   "execution_count": 1,
   "metadata": {},
   "outputs": [],
   "source": [
    "import os, sys, time\n",
    "import argparse\n",
    "import numpy as np\n",
    "import pickle\n",
    "from itertools import product\n",
    "from utils.constant import ViTExperiment"
   ]
  },
  {
   "cell_type": "code",
   "execution_count": 2,
   "metadata": {},
   "outputs": [],
   "source": [
    "ds_name = \"c100\"\n",
    "k = 0\n",
    "tgt_rank = 1\n",
    "alpha_list = [0.2, 0.4, 0.6, 0.8]\n",
    "n_list = [77]"
   ]
  },
  {
   "cell_type": "code",
   "execution_count": 3,
   "metadata": {},
   "outputs": [],
   "source": [
    "def load_misinfo(save_dir, tgt_split):\n",
    "    # mis_matrixはnpyで，それ以外はpklで保存\n",
    "    mis_matrix = np.load(os.path.join(save_dir, f\"{tgt_split}_mis_matrix.npy\"))\n",
    "    with open(os.path.join(save_dir, f\"{tgt_split}_mis_ranking.pkl\"), \"rb\") as f:\n",
    "        mis_ranking = pickle.load(f)\n",
    "    with open(os.path.join(save_dir, f\"{tgt_split}_mis_indices.pkl\"), \"rb\") as f:\n",
    "        mis_indices = pickle.load(f)\n",
    "    with open(os.path.join(save_dir, f\"{tgt_split}_met_dict.pkl\"), \"rb\") as f:\n",
    "        met_dict = pickle.load(f)\n",
    "    return mis_matrix, mis_ranking, mis_indices, met_dict\n",
    "\n",
    "def get_misinfo_each_model(tgt_split):\n",
    "    # original modelのmisinfoを取得\n",
    "    ori_pretrained_dir = getattr(ViTExperiment, ds_name).OUTPUT_DIR.format(k=k)\n",
    "    ori_misinfo_dir = os.path.join(ori_pretrained_dir, \"misclf_info\")\n",
    "    ori_misinfo = load_misinfo(ori_misinfo_dir, tgt_split)\n",
    "    # retrained modelのmisinfoを取得\n",
    "    tgt_rank_dir = os.path.join(ori_pretrained_dir, f\"misclf_top{tgt_rank}\")\n",
    "    retrained_dir = os.path.join(tgt_rank_dir, \"retraining_with_only_repair_target\") # SHOULD BE CHANGED\n",
    "    retrained_misinfo_dir = os.path.join(retrained_dir, \"misclf_info\")\n",
    "    retrained_misinfo = load_misinfo(retrained_misinfo_dir, tgt_split)\n",
    "    # repaired modelのmisinfoを取得\n",
    "    repaired_dir = os.path.join(tgt_rank_dir, \"src_tgt_repair_weight_by_de\")\n",
    "    repaired_misinfo_list = []\n",
    "    for n, alpha in product(n_list, alpha_list):\n",
    "        repaired_misinfo_dir = os.path.join(repaired_dir, f\"misclf_info_n{n}_alpha{alpha}\")\n",
    "        repaired_misinfo_list.append(load_misinfo(repaired_misinfo_dir, tgt_split))\n",
    "    return ori_misinfo, retrained_misinfo, repaired_misinfo_list\n",
    "\n",
    "def summarize_met(met_list, topn):\n",
    "    sorted_indices = np.argsort(met_list)\n",
    "    return np.array([[sorted_indices[i], met_list[sorted_indices[i]]] for i in range(topn)])"
   ]
  },
  {
   "cell_type": "code",
   "execution_count": 4,
   "metadata": {},
   "outputs": [],
   "source": [
    "topn = 10\n",
    "for tgt_split in [\"repair\", \"test\"]:\n",
    "    ori_misinfo, retrained_misinfo, repaired_misinfo_list = get_misinfo_each_model(tgt_split)\n",
    "    ori_top10_misclf = np.array(ori_misinfo[1][:topn])\n",
    "    retrained_top10_misclf = np.array(retrained_misinfo[1][:topn])\n",
    "    repaired_top10_misclf_list = [np.array(repaired_misinfo[1][:topn]) for repaired_misinfo in repaired_misinfo_list]\n",
    "    misclf_arr = np.concatenate([ori_top10_misclf, retrained_top10_misclf] + repaired_top10_misclf_list, axis=1)\n",
    "    np.savetxt(f'./misclf_cnt_{tgt_split}.csv', misclf_arr, delimiter=',', fmt='%d')\n",
    "    for metric in [\"precision\", \"recall\", \"f1\"]:\n",
    "        ori_class_met = ori_misinfo[-1][metric]\n",
    "        ori_met_summary = summarize_met(ori_class_met, topn)\n",
    "        retrained_class_met = retrained_misinfo[-1][metric]\n",
    "        retrained_met_summary = summarize_met(retrained_class_met, topn)\n",
    "        repaired_class_met_list = [repaired_misinfo[-1][metric] for repaired_misinfo in repaired_misinfo_list]\n",
    "        repaired_met_summary_list = [summarize_met(repaired_classmet, topn) for repaired_classmet in repaired_class_met_list]\n",
    "        met_summary_list = [ori_met_summary, retrained_met_summary] + repaired_met_summary_list\n",
    "        met_summary_arr = np.concatenate(met_summary_list, axis=1)\n",
    "        np.savetxt(f'./{metric}_summary_{tgt_split}.csv', met_summary_arr, delimiter=',', fmt='%.3f')"
   ]
  }
 ],
 "metadata": {
  "kernelspec": {
   "display_name": "Python 3",
   "language": "python",
   "name": "python3"
  },
  "language_info": {
   "codemirror_mode": {
    "name": "ipython",
    "version": 3
   },
   "file_extension": ".py",
   "mimetype": "text/x-python",
   "name": "python",
   "nbconvert_exporter": "python",
   "pygments_lexer": "ipython3",
   "version": "3.7.16"
  }
 },
 "nbformat": 4,
 "nbformat_minor": 2
}
