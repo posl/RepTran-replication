{
 "cells": [
  {
   "cell_type": "markdown",
   "id": "4da31f62",
   "metadata": {},
   "source": [
    "# Arachne (Pareto) で特定された重み数の平均を取得"
   ]
  },
  {
   "cell_type": "code",
   "execution_count": 3,
   "id": "15680bf9",
   "metadata": {},
   "outputs": [
    {
     "name": "stdout",
     "output_type": "stream",
     "text": [
      "ds=tiny_imagenet, k=0, tgt_rank=1, misclf_type=src_tgt, fpfn=None, num_pos=11\n",
      "ds=tiny_imagenet, k=0, tgt_rank=1, misclf_type=tgt, fpfn=fp, num_pos=18\n",
      "ds=tiny_imagenet, k=0, tgt_rank=1, misclf_type=tgt, fpfn=fn, num_pos=10\n",
      "ds=tiny_imagenet, k=0, tgt_rank=2, misclf_type=src_tgt, fpfn=None, num_pos=10\n",
      "ds=tiny_imagenet, k=0, tgt_rank=2, misclf_type=tgt, fpfn=fp, num_pos=7\n",
      "ds=tiny_imagenet, k=0, tgt_rank=2, misclf_type=tgt, fpfn=fn, num_pos=12\n",
      "ds=tiny_imagenet, k=0, tgt_rank=3, misclf_type=src_tgt, fpfn=None, num_pos=12\n",
      "ds=tiny_imagenet, k=0, tgt_rank=3, misclf_type=tgt, fpfn=fp, num_pos=8\n",
      "ds=tiny_imagenet, k=0, tgt_rank=3, misclf_type=tgt, fpfn=fn, num_pos=11\n"
     ]
    }
   ],
   "source": [
    "import os\n",
    "import numpy as np\n",
    "from itertools import product\n",
    "from utils.constant import ViTExperiment, Experiment1, ExperimentRepair1, ExperimentRepair2, Experiment4\n",
    "\n",
    "\n",
    "ds = \"tiny_imagenet\"\n",
    "# k_list = range(5)\n",
    "k_list = [0]\n",
    "tgt_rank_list = range(1, 4)\n",
    "# tgt_rank_list = range(1, 4)\n",
    "misclf_type_list = [\"src_tgt\", \"tgt\"]\n",
    "# misclf_type_list = [\"all\", \"src_tgt\", \"tgt\"]\n",
    "fpfn_list = [None, \"fp\", \"fn\"]\n",
    "results = []\n",
    "num_pos_list = []\n",
    "for k, tgt_rank, misclf_type, fpfn in product(k_list, tgt_rank_list, misclf_type_list, fpfn_list):\n",
    "    if (misclf_type == \"src_tgt\" or misclf_type == \"all\") and fpfn is not None: # misclf_type == \"src_tgt\" or \"all\"の時はfpfnはNoneだけでいい\n",
    "        # print(f\"Skipping: misclf_type={misclf_type} with fpfn={fpfn} is not valid.\")\n",
    "        continue\n",
    "    if misclf_type == \"tgt\" and fpfn is None:\n",
    "        # print(f\"Skipping: misclf_type={misclf_type} with fpfn={fpfn} is not valid.\")\n",
    "        continue\n",
    "    pretrained_dir = getattr(ViTExperiment, ds).OUTPUT_DIR.format(k=k)\n",
    "    if fpfn is not None and misclf_type == \"tgt\":\n",
    "        location_save_dir = os.path.join(pretrained_dir, f\"misclf_top{tgt_rank}\", f\"{misclf_type}_{fpfn}_weights_location\")\n",
    "    elif misclf_type == \"all\":\n",
    "        location_save_dir = os.path.join(pretrained_dir, f\"all_weights_location\")\n",
    "    else:\n",
    "        location_save_dir = os.path.join(pretrained_dir, f\"misclf_top{tgt_rank}\", f\"{misclf_type}_weights_location\")\n",
    "    # old_location_save_path = os.path.join(location_save_dir, f\"exp-fl-2_location_weight_bl.npy\")\n",
    "    location_save_path = os.path.join(location_save_dir, f\"exp-fl-2_location_pareto_weight_bl.npy\")\n",
    "    pos_before, pos_after = np.load(location_save_path, allow_pickle=True)\n",
    "    num_pos = len(pos_before) + len(pos_after)\n",
    "    num_pos_list.append(num_pos)\n",
    "    print(f\"ds={ds}, k={k}, tgt_rank={tgt_rank}, misclf_type={misclf_type}, fpfn={fpfn}, num_pos={num_pos}\")"
   ]
  },
  {
   "cell_type": "code",
   "execution_count": 4,
   "id": "0be01370",
   "metadata": {},
   "outputs": [
    {
     "name": "stdout",
     "output_type": "stream",
     "text": [
      "Average number of positive weights: 11.0\n"
     ]
    }
   ],
   "source": [
    "# 平均の重み数を表示\n",
    "print(f\"Average number of positive weights: {np.mean(num_pos_list)}\")"
   ]
  },
  {
   "cell_type": "markdown",
   "id": "93bd608e",
   "metadata": {},
   "source": [
    "# 結果\n",
    "パレートフロントを取ると平均(11個, c100), (11個, tiny-imagenet) くらい重みが特定できる．\n",
    "\n",
    "Arachneの論文では以下のようにあったのでそんなに違ってない．\n",
    ">Since the average number of localised neural weights is 11.6, 7.6 and 14.3 respectively for C10, FM and GTSRB, GL and RS localisation methods were configured to select 12, 8 and 14 weights for C10, FM and GTSRB, respectively.\n",
    "\n",
    "ただし，ネットワークの規模が違うので，この数の重みではきっと不十分だと思う．\n",
    "\n",
    "従来手法のArachneのようなパレートフロントを取るだけでは大規模なネットワークに対応できない，という点は押しても良いかも．論文のmotivationとして．"
   ]
  }
 ],
 "metadata": {
  "kernelspec": {
   "display_name": "Python 3",
   "language": "python",
   "name": "python3"
  },
  "language_info": {
   "codemirror_mode": {
    "name": "ipython",
    "version": 3
   },
   "file_extension": ".py",
   "mimetype": "text/x-python",
   "name": "python",
   "nbconvert_exporter": "python",
   "pygments_lexer": "ipython3",
   "version": "3.7.16"
  }
 },
 "nbformat": 4,
 "nbformat_minor": 5
}
