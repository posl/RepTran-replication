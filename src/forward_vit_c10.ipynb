{
 "cells": [
  {
   "cell_type": "markdown",
   "metadata": {},
   "source": [
    "# C10でFine-tuningしたViTモデルのフォワードパスを実行する"
   ]
  },
  {
   "cell_type": "markdown",
   "metadata": {},
   "source": [
    "## ライブラリのインポート\n",
    "transoformersに関しては，.vscode/setting.jsonのextrapathにパスを記載したらうまくインポートできた．"
   ]
  },
  {
   "cell_type": "code",
   "execution_count": 1,
   "metadata": {},
   "outputs": [
    {
     "name": "stderr",
     "output_type": "stream",
     "text": [
      "2024-04-23 19:44:17.191574: I tensorflow/core/platform/cpu_feature_guard.cc:193] This TensorFlow binary is optimized with oneAPI Deep Neural Network Library (oneDNN) to use the following CPU instructions in performance-critical operations:  AVX2 FMA\n",
      "To enable them in other operations, rebuild TensorFlow with the appropriate compiler flags.\n",
      "2024-04-23 19:44:18.827673: W tensorflow/compiler/xla/stream_executor/platform/default/dso_loader.cc:64] Could not load dynamic library 'libnvinfer.so.7'; dlerror: libnvinfer.so.7: cannot open shared object file: No such file or directory\n",
      "2024-04-23 19:44:18.827829: W tensorflow/compiler/xla/stream_executor/platform/default/dso_loader.cc:64] Could not load dynamic library 'libnvinfer_plugin.so.7'; dlerror: libnvinfer_plugin.so.7: cannot open shared object file: No such file or directory\n",
      "2024-04-23 19:44:18.827842: W tensorflow/compiler/tf2tensorrt/utils/py_utils.cc:38] TF-TRT Warning: Cannot dlopen some TensorRT libraries. If you would like to use Nvidia GPU with TensorRT, please make sure the missing libraries mentioned above are installed properly.\n",
      "/src/src/utils/vit_util.py:8: FutureWarning: load_metric is deprecated and will be removed in the next major version of datasets. Use 'evaluate.load' instead, from the new library 🤗 Evaluate: https://huggingface.co/docs/evaluate\n",
      "  met_acc = load_metric(\"accuracy\")\n"
     ]
    }
   ],
   "source": [
    "import os, sys, math\n",
    "sys.path.append(\"../src\")\n",
    "import numpy as np\n",
    "import torch\n",
    "from datasets import load_from_disk\n",
    "from transformers import DefaultDataCollator, ViTForImageClassification, Trainer\n",
    "from utils.helper import get_device\n",
    "from utils.vit_util import processor, transforms, compute_metrics\n",
    "from utils.constant import ViTExperiment"
   ]
  },
  {
   "cell_type": "markdown",
   "metadata": {},
   "source": [
    "## 初期設定"
   ]
  },
  {
   "cell_type": "code",
   "execution_count": 2,
   "metadata": {},
   "outputs": [
    {
     "name": "stdout",
     "output_type": "stream",
     "text": [
      "Device: cuda\n"
     ]
    }
   ],
   "source": [
    "# デバイス (cuda, or cpu) の取得\n",
    "device = get_device()\n",
    "# datasetをロード (初回の読み込みだけやや時間かかる)\n",
    "dataset_dir = ViTExperiment.DATASET_DIR\n",
    "cifar10 = load_from_disk(os.path.join(dataset_dir, \"c10\"))\n",
    "# 読み込まれた時にリアルタイムで前処理を適用するようにする\n",
    "cifar10_preprocessed = cifar10.with_transform(transforms)\n",
    "# バッチごとの処理のためのdata_collator\n",
    "data_collator = DefaultDataCollator()\n",
    "# ラベルを示す文字列のlist\n",
    "labels = cifar10_preprocessed[\"train\"].features[\"label\"].names\n",
    "# pretrained modelのロード\n",
    "pretrained_dir = ViTExperiment.OUTPUT_DIR\n",
    "model = ViTForImageClassification.from_pretrained(pretrained_dir).to(device)\n",
    "model.eval()\n",
    "# 学習時の設定をロード\n",
    "training_args = torch.load(os.path.join(pretrained_dir, \"training_args.bin\"))\n",
    "# Trainerオブジェクトの作成\n",
    "trainer = Trainer(\n",
    "    model=model,\n",
    "    args=training_args,\n",
    "    data_collator=data_collator,\n",
    "    compute_metrics=compute_metrics,\n",
    "    train_dataset=cifar10_preprocessed[\"train\"],\n",
    "    eval_dataset=cifar10_preprocessed[\"test\"],\n",
    "    tokenizer=processor,\n",
    ")"
   ]
  },
  {
   "cell_type": "markdown",
   "metadata": {},
   "source": [
    "## 推論の実行"
   ]
  },
  {
   "cell_type": "code",
   "execution_count": 5,
   "metadata": {},
   "outputs": [
    {
     "name": "stdout",
     "output_type": "stream",
     "text": [
      "predict training data... #iter = 1563 (50000 samples / 32 batches)\n"
     ]
    },
    {
     "data": {
      "text/html": [],
      "text/plain": [
       "<IPython.core.display.HTML object>"
      ]
     },
     "metadata": {},
     "output_type": "display_data"
    },
    {
     "name": "stdout",
     "output_type": "stream",
     "text": [
      "predict evaluation data... #iter = 313 (10000 samples / 32 batches)\n"
     ]
    },
    {
     "data": {
      "text/html": [],
      "text/plain": [
       "<IPython.core.display.HTML object>"
      ]
     },
     "metadata": {},
     "output_type": "display_data"
    }
   ],
   "source": [
    "# データセットのサイズとバッチサイズからイテレーション回数を計算\n",
    "training_args_dict = training_args.to_dict()\n",
    "train_batch_size = training_args_dict[\"per_device_train_batch_size\"]\n",
    "eval_batch_size = training_args_dict[\"per_device_eval_batch_size\"]\n",
    "train_iter = math.ceil(len(cifar10_preprocessed[\"train\"]) / train_batch_size)\n",
    "eval_iter = math.ceil(len(cifar10_preprocessed[\"test\"]) / eval_batch_size)\n",
    "\n",
    "# 訓練・テストデータに対する推論の実行\n",
    "print(f\"predict training data... #iter = {train_iter} ({len(cifar10_preprocessed['train'])} samples / {train_batch_size} batches)\")\n",
    "train_pred = trainer.predict(cifar10_preprocessed[\"train\"])\n",
    "print(f\"predict evaluation data... #iter = {eval_iter} ({len(cifar10_preprocessed['test'])} samples / {eval_batch_size} batches)\")\n",
    "test_pred = trainer.predict(cifar10_preprocessed[\"test\"])"
   ]
  },
  {
   "cell_type": "markdown",
   "metadata": {},
   "source": [
    "## 推論結果をnpyで保存する"
   ]
  },
  {
   "cell_type": "code",
   "execution_count": 6,
   "metadata": {},
   "outputs": [
    {
     "data": {
      "text/plain": [
       "(array([0, 1, 2, 3, 4, 5, 6, 7, 8, 9]),\n",
       " array([5000, 5000, 5000, 5000, 5000, 5000, 5000, 5000, 5000, 5000]))"
      ]
     },
     "execution_count": 6,
     "metadata": {},
     "output_type": "execute_result"
    }
   ],
   "source": [
    "# just for check\n",
    "np.unique(np.array(cifar10[\"train\"][\"label\"]), return_counts=True)"
   ]
  },
  {
   "cell_type": "code",
   "execution_count": 7,
   "metadata": {},
   "outputs": [],
   "source": [
    "train_labels = np.array(cifar10[\"train\"][\"label\"])"
   ]
  },
  {
   "cell_type": "code",
   "execution_count": 19,
   "metadata": {},
   "outputs": [
    {
     "name": "stdout",
     "output_type": "stream",
     "text": [
      "train_proba_0.npy ((5000, 10)) saved\n",
      "train_proba_1.npy ((5000, 10)) saved\n",
      "train_proba_2.npy ((5000, 10)) saved\n",
      "train_proba_3.npy ((5000, 10)) saved\n",
      "train_proba_4.npy ((5000, 10)) saved\n",
      "train_proba_5.npy ((5000, 10)) saved\n",
      "train_proba_6.npy ((5000, 10)) saved\n",
      "train_proba_7.npy ((5000, 10)) saved\n",
      "train_proba_8.npy ((5000, 10)) saved\n",
      "train_proba_9.npy ((5000, 10)) saved\n"
     ]
    }
   ],
   "source": [
    "# train_pred.predictions[1]をsoftmax関数に通して確率に変換\n",
    "train_pred_proba = torch.nn.functional.softmax(torch.tensor(train_pred.predictions[1]), dim=-1)\n",
    "# train_pred_probaをnumpy配列に変換\n",
    "train_pred_proba = train_pred_proba.cpu().numpy()\n",
    "# ラベルごとに違うファイルとして保存\n",
    "for c in range(len(labels)):\n",
    "    tgt_proba = train_pred_proba[train_labels == c]\n",
    "    # train_pred_probaを保存\n",
    "    np.save(os.path.join(pretrained_dir, \"pred_results\", f\"train_proba_{c}.npy\"), tgt_proba)\n",
    "    print(f\"train_proba_{c}.npy ({tgt_proba.shape}) saved\")"
   ]
  },
  {
   "cell_type": "code",
   "execution_count": 20,
   "metadata": {},
   "outputs": [
    {
     "data": {
      "text/plain": [
       "(array([0, 1, 2, 3, 4, 5, 6, 7, 8, 9]),\n",
       " array([1000, 1000, 1000, 1000, 1000, 1000, 1000, 1000, 1000, 1000]))"
      ]
     },
     "execution_count": 20,
     "metadata": {},
     "output_type": "execute_result"
    }
   ],
   "source": [
    "# just for check\n",
    "np.unique(np.array(cifar10[\"test\"][\"label\"]), return_counts=True)"
   ]
  },
  {
   "cell_type": "code",
   "execution_count": 21,
   "metadata": {},
   "outputs": [],
   "source": [
    "test_labels = np.array(cifar10[\"test\"][\"label\"])"
   ]
  },
  {
   "cell_type": "code",
   "execution_count": 23,
   "metadata": {},
   "outputs": [
    {
     "name": "stdout",
     "output_type": "stream",
     "text": [
      "(1000, 10)\n",
      "test_proba_0.npy ((1000, 10)) saved\n",
      "(1000, 10)\n",
      "test_proba_1.npy ((1000, 10)) saved\n",
      "(1000, 10)\n",
      "test_proba_2.npy ((1000, 10)) saved\n",
      "(1000, 10)\n",
      "test_proba_3.npy ((1000, 10)) saved\n",
      "(1000, 10)\n",
      "test_proba_4.npy ((1000, 10)) saved\n",
      "(1000, 10)\n",
      "test_proba_5.npy ((1000, 10)) saved\n",
      "(1000, 10)\n",
      "test_proba_6.npy ((1000, 10)) saved\n",
      "(1000, 10)\n",
      "test_proba_7.npy ((1000, 10)) saved\n",
      "(1000, 10)\n",
      "test_proba_8.npy ((1000, 10)) saved\n",
      "(1000, 10)\n",
      "test_proba_9.npy ((1000, 10)) saved\n"
     ]
    }
   ],
   "source": [
    "test_pred_proba = torch.nn.functional.softmax(torch.tensor(test_pred.predictions[1]), dim=-1)\n",
    "test_pred_proba = test_pred_proba.cpu().numpy()\n",
    "# ラベルごとに違うファイルとして保存\n",
    "for c in range(len(labels)):\n",
    "    tgt_proba = test_pred_proba[test_labels == c]\n",
    "    print(tgt_proba.shape)\n",
    "    # train_pred_probaを保存\n",
    "    np.save(os.path.join(pretrained_dir, \"pred_results\", f\"test_proba_{c}.npy\"), tgt_proba)\n",
    "    print(f\"test_proba_{c}.npy ({tgt_proba.shape}) saved\")"
   ]
  }
 ],
 "metadata": {
  "kernelspec": {
   "display_name": "Python 3",
   "language": "python",
   "name": "python3"
  },
  "language_info": {
   "codemirror_mode": {
    "name": "ipython",
    "version": 3
   },
   "file_extension": ".py",
   "mimetype": "text/x-python",
   "name": "python",
   "nbconvert_exporter": "python",
   "pygments_lexer": "ipython3",
   "version": "3.7.16"
  }
 },
 "nbformat": 4,
 "nbformat_minor": 2
}
