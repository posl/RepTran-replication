{
 "cells": [
  {
   "cell_type": "markdown",
   "metadata": {},
   "source": [
    "# C10でFine-tuningしたViTモデルのフォワードパスを実行する"
   ]
  },
  {
   "cell_type": "markdown",
   "metadata": {},
   "source": [
    "## ライブラリのインポート\n",
    "transoformersに関しては，.vscode/setting.jsonのextrapathにパスを記載したらうまくインポートできた．"
   ]
  },
  {
   "cell_type": "code",
   "execution_count": 6,
   "metadata": {},
   "outputs": [],
   "source": [
    "import os, sys, math\n",
    "sys.path.append(\"../src\")\n",
    "import numpy as np\n",
    "import torch\n",
    "from datasets import load_dataset, load_metric\n",
    "from transformers import DefaultDataCollator, ViTForImageClassification, TrainingArguments, Trainer\n",
    "from utils.helper import get_device\n",
    "from utils.vit_util import processor, transforms, compute_metrics"
   ]
  },
  {
   "cell_type": "markdown",
   "metadata": {},
   "source": [
    "## 初期設定"
   ]
  },
  {
   "cell_type": "code",
   "execution_count": 2,
   "metadata": {},
   "outputs": [
    {
     "name": "stdout",
     "output_type": "stream",
     "text": [
      "Device: cuda\n"
     ]
    },
    {
     "name": "stderr",
     "output_type": "stream",
     "text": [
      "Found cached dataset parquet (/root/.cache/huggingface/datasets/parquet/plain_text-d4c080360fb556b0/0.0.0/14a00e99c0d15a23649d0db8944380ac81082d4b021f398733dd84f3a6c569a7)\n"
     ]
    },
    {
     "data": {
      "application/vnd.jupyter.widget-view+json": {
       "model_id": "7e1ed0ec354544ceb0d8a2953e0978ab",
       "version_major": 2,
       "version_minor": 0
      },
      "text/plain": [
       "  0%|          | 0/2 [00:00<?, ?it/s]"
      ]
     },
     "metadata": {},
     "output_type": "display_data"
    }
   ],
   "source": [
    "# デバイス (cuda, or cpu) の取得\n",
    "device = get_device()\n",
    "# datasetをロード (初回の読み込みだけやや時間かかる)\n",
    "cifar10 = load_dataset(\"cifar10\")\n",
    "# 読み込まれた時にリアルタイムで前処理を適用するようにする\n",
    "cifar10_preprocessed = cifar10.with_transform(transforms)\n",
    "# バッチごとの処理のためのdata_collator\n",
    "data_collator = DefaultDataCollator()\n",
    "# ラベルを示す文字列のlist\n",
    "labels = cifar10_preprocessed[\"train\"].features[\"label\"].names\n",
    "# pretrained modelのロード\n",
    "pretrained_dir = \"/src/src/out_vit_c10\"\n",
    "model = ViTForImageClassification.from_pretrained(pretrained_dir).to(device)\n",
    "model.eval()\n",
    "# 学習時の設定をロード\n",
    "training_args = torch.load(os.path.join(pretrained_dir, \"training_args.bin\"))\n",
    "# Trainerオブジェクトの作成\n",
    "trainer = Trainer(\n",
    "    model=model,\n",
    "    args=training_args,\n",
    "    data_collator=data_collator,\n",
    "    compute_metrics=compute_metrics,\n",
    "    train_dataset=cifar10_preprocessed[\"train\"],\n",
    "    eval_dataset=cifar10_preprocessed[\"test\"],\n",
    "    tokenizer=processor,\n",
    ")"
   ]
  },
  {
   "cell_type": "markdown",
   "metadata": {},
   "source": [
    "## 推論の実行"
   ]
  },
  {
   "cell_type": "code",
   "execution_count": 3,
   "metadata": {},
   "outputs": [
    {
     "name": "stdout",
     "output_type": "stream",
     "text": [
      "predict training data... #iter = 1563 (50000 samples / 32 batches)\n"
     ]
    },
    {
     "data": {
      "text/html": [],
      "text/plain": [
       "<IPython.core.display.HTML object>"
      ]
     },
     "metadata": {},
     "output_type": "display_data"
    },
    {
     "name": "stdout",
     "output_type": "stream",
     "text": [
      "predict evaluation data... #iter = 313 (10000 samples / 32 batches)\n"
     ]
    },
    {
     "data": {
      "text/html": [],
      "text/plain": [
       "<IPython.core.display.HTML object>"
      ]
     },
     "metadata": {},
     "output_type": "display_data"
    }
   ],
   "source": [
    "# データセットのサイズとバッチサイズからイテレーション回数を計算\n",
    "training_args_dict = training_args.to_dict()\n",
    "train_batch_size = training_args_dict[\"per_device_train_batch_size\"]\n",
    "eval_batch_size = training_args_dict[\"per_device_eval_batch_size\"]\n",
    "train_iter = math.ceil(len(cifar10_preprocessed[\"train\"]) / train_batch_size)\n",
    "eval_iter = math.ceil(len(cifar10_preprocessed[\"test\"]) / eval_batch_size)\n",
    "\n",
    "# 訓練・テストデータに対する推論の実行\n",
    "print(f\"predict training data... #iter = {train_iter} ({len(cifar10_preprocessed['train'])} samples / {train_batch_size} batches)\")\n",
    "train_pred = trainer.predict(cifar10_preprocessed[\"train\"])\n",
    "print(f\"predict evaluation data... #iter = {eval_iter} ({len(cifar10_preprocessed['test'])} samples / {eval_batch_size} batches)\")\n",
    "test_pred = trainer.predict(cifar10_preprocessed[\"test\"])"
   ]
  },
  {
   "cell_type": "markdown",
   "metadata": {},
   "source": [
    "## 推論結果の確認"
   ]
  },
  {
   "cell_type": "code",
   "execution_count": 4,
   "metadata": {},
   "outputs": [
    {
     "data": {
      "text/plain": [
       "{'test_loss': 0.005070374347269535,\n",
       " 'test_accuracy': {'accuracy': 0.99916},\n",
       " 'test_f1': {'f1': 0.9991599698695797},\n",
       " 'test_runtime': 2008.7579,\n",
       " 'test_samples_per_second': 24.891,\n",
       " 'test_steps_per_second': 0.778}"
      ]
     },
     "execution_count": 4,
     "metadata": {},
     "output_type": "execute_result"
    }
   ],
   "source": [
    "train_pred.metrics"
   ]
  },
  {
   "cell_type": "code",
   "execution_count": 5,
   "metadata": {},
   "outputs": [
    {
     "data": {
      "text/plain": [
       "{'test_loss': 0.05960104987025261,\n",
       " 'test_accuracy': {'accuracy': 0.9829},\n",
       " 'test_f1': {'f1': 0.9829188809430107},\n",
       " 'test_runtime': 397.1701,\n",
       " 'test_samples_per_second': 25.178,\n",
       " 'test_steps_per_second': 0.788}"
      ]
     },
     "execution_count": 5,
     "metadata": {},
     "output_type": "execute_result"
    }
   ],
   "source": [
    "test_pred.metrics"
   ]
  }
 ],
 "metadata": {
  "kernelspec": {
   "display_name": "Python 3",
   "language": "python",
   "name": "python3"
  },
  "language_info": {
   "codemirror_mode": {
    "name": "ipython",
    "version": 3
   },
   "file_extension": ".py",
   "mimetype": "text/x-python",
   "name": "python",
   "nbconvert_exporter": "python",
   "pygments_lexer": "ipython3",
   "version": "3.7.16"
  }
 },
 "nbformat": 4,
 "nbformat_minor": 2
}
