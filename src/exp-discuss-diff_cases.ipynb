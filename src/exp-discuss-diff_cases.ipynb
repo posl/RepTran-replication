{
 "cells": [
  {
   "cell_type": "code",
   "execution_count": 45,
   "id": "3fa46dca",
   "metadata": {},
   "outputs": [],
   "source": [
    "import os\n",
    "import numpy as np\n",
    "import matplotlib.pyplot as plt\n",
    "from itertools import product\n",
    "from matplotlib_venn import venn2\n",
    "from utils.vit_util import ViTExperiment  # 仮のインポート、実際のパスに合わせてください\n",
    "import matplotlib.gridspec as gridspec\n",
    "from collections import defaultdict\n",
    "import matplotlib.patheffects as path_effects\n",
    "from matplotlib import rcParams"
   ]
  },
  {
   "cell_type": "code",
   "execution_count": 46,
   "id": "ebe8be39",
   "metadata": {},
   "outputs": [],
   "source": [
    "# ====================================\n",
    "# 設定\n",
    "# ====================================\n",
    "ds_list = [\"c100\", \"tiny-imagenet\"]\n",
    "k_list = [0]\n",
    "tgt_rank_list = [1, 2, 3]\n",
    "misclf_type_list = [\"src_tgt\", \"tgt\"]\n",
    "fpfn_list = [None, \"fp\", \"fn\"]\n",
    "w_num_list = [236, 472, 944]\n",
    "tgt_split = \"test\"\n",
    "num_reps = 5\n",
    "\n",
    "# ====================================\n",
    "# 図の出力フォルダ\n",
    "# ====================================\n",
    "output_dir = \"./venn_outputs\"\n",
    "os.makedirs(output_dir, exist_ok=True)\n",
    "\n",
    "# ====================================\n",
    "# 補助関数\n",
    "# ====================================\n",
    "def load_indices(base_path, tgt_rank, wnum, fl_method, reps_id, misclf_type, fpfn, indices_type=\"repair_indices_tgt\"):\n",
    "    # setting id\n",
    "    parts = [f\"n{wnum}\", \"alpha0.9090909090909091\", \"boundsArachne\"]\n",
    "    setting_id = \"_\".join(parts)\n",
    "\n",
    "    if misclf_type == \"src_tgt\":\n",
    "        misclf_folder = f\"misclf_top{tgt_rank}/{misclf_type}_repair_weight_by_de\"\n",
    "    elif misclf_type == \"tgt\" and fpfn is not None:\n",
    "        misclf_folder = f\"misclf_top{tgt_rank}/{misclf_type}_{fpfn}_repair_weight_by_de\"\n",
    "    else:\n",
    "        return None\n",
    "\n",
    "    save_dir = os.path.join(base_path, misclf_folder)\n",
    "    filename = f\"exp-repair-4-1-change_indices_{tgt_split}_{setting_id}_{fl_method}_reps{reps_id}.npz\"\n",
    "    filepath = os.path.join(save_dir, filename)\n",
    "\n",
    "    if not os.path.exists(filepath):\n",
    "        return None\n",
    "    data = np.load(filepath)\n",
    "    return set(data[indices_type])\n"
   ]
  },
  {
   "cell_type": "markdown",
   "id": "e5cfa09a",
   "metadata": {},
   "source": [
    "# N_w, rankごとにまとめたグリッド状のプロットを作る\n",
    "各プロットは横軸が誤分類タイプ (3つ) ，縦がデータセット (2つ) ．\n",
    "それが N_w, rankの分だけある (合計9つ)"
   ]
  },
  {
   "cell_type": "code",
   "execution_count": 47,
   "id": "35982a95",
   "metadata": {},
   "outputs": [
    {
     "name": "stderr",
     "output_type": "stream",
     "text": [
      "/usr/local/lib/python3.7/site-packages/ipykernel_launcher.py:66: UserWarning: This figure includes Axes that are not compatible with tight_layout, so results might be incorrect.\n",
      "findfont: Font family ['sans-serif'] not found. Falling back to DejaVu Sans.\n",
      "findfont: Generic family 'sans-serif' not found because none of the following families were found: Helvetica\n"
     ]
    },
    {
     "name": "stdout",
     "output_type": "stream",
     "text": [
      "Saved: ./venn_outputs/repaired_venn_rank1_n236.pdf\n"
     ]
    },
    {
     "name": "stderr",
     "output_type": "stream",
     "text": [
      "/usr/local/lib/python3.7/site-packages/ipykernel_launcher.py:66: UserWarning: This figure includes Axes that are not compatible with tight_layout, so results might be incorrect.\n",
      "/usr/local/lib/python3.7/site-packages/ipykernel_launcher.py:66: UserWarning: This figure includes Axes that are not compatible with tight_layout, so results might be incorrect.\n"
     ]
    },
    {
     "name": "stdout",
     "output_type": "stream",
     "text": [
      "Saved: ./venn_outputs/repaired_venn_rank1_n472.pdf\n",
      "Saved: ./venn_outputs/repaired_venn_rank1_n944.pdf\n"
     ]
    },
    {
     "name": "stderr",
     "output_type": "stream",
     "text": [
      "/usr/local/lib/python3.7/site-packages/ipykernel_launcher.py:66: UserWarning: This figure includes Axes that are not compatible with tight_layout, so results might be incorrect.\n",
      "/usr/local/lib/python3.7/site-packages/ipykernel_launcher.py:66: UserWarning: This figure includes Axes that are not compatible with tight_layout, so results might be incorrect.\n"
     ]
    },
    {
     "name": "stdout",
     "output_type": "stream",
     "text": [
      "Saved: ./venn_outputs/repaired_venn_rank2_n236.pdf\n",
      "Saved: ./venn_outputs/repaired_venn_rank2_n472.pdf\n"
     ]
    },
    {
     "name": "stderr",
     "output_type": "stream",
     "text": [
      "/usr/local/lib/python3.7/site-packages/ipykernel_launcher.py:66: UserWarning: This figure includes Axes that are not compatible with tight_layout, so results might be incorrect.\n",
      "/usr/local/lib/python3.7/site-packages/ipykernel_launcher.py:66: UserWarning: This figure includes Axes that are not compatible with tight_layout, so results might be incorrect.\n"
     ]
    },
    {
     "name": "stdout",
     "output_type": "stream",
     "text": [
      "Saved: ./venn_outputs/repaired_venn_rank2_n944.pdf\n",
      "Saved: ./venn_outputs/repaired_venn_rank3_n236.pdf\n"
     ]
    },
    {
     "name": "stderr",
     "output_type": "stream",
     "text": [
      "/usr/local/lib/python3.7/site-packages/ipykernel_launcher.py:66: UserWarning: This figure includes Axes that are not compatible with tight_layout, so results might be incorrect.\n",
      "/usr/local/lib/python3.7/site-packages/ipykernel_launcher.py:66: UserWarning: This figure includes Axes that are not compatible with tight_layout, so results might be incorrect.\n"
     ]
    },
    {
     "name": "stdout",
     "output_type": "stream",
     "text": [
      "Saved: ./venn_outputs/repaired_venn_rank3_n472.pdf\n",
      "Saved: ./venn_outputs/repaired_venn_rank3_n944.pdf\n"
     ]
    }
   ],
   "source": [
    "output_dir = \"./venn_outputs\"\n",
    "os.makedirs(output_dir, exist_ok=True)\n",
    "\n",
    "type_fpfn_labels = [(\"src_tgt\", None), (\"tgt\", \"fp\"), (\"tgt\", \"fn\")]\n",
    "    \n",
    "\n",
    "for tgt_rank, wnum in product(tgt_rank_list, w_num_list):\n",
    "    fig = plt.figure(figsize=(9, 6))\n",
    "    gs = gridspec.GridSpec(len(ds_list), len(type_fpfn_labels), figure=fig, hspace=0.2)\n",
    "\n",
    "    for row, ds in enumerate(ds_list):\n",
    "        for misclf_type, fpfn in product(misclf_type_list, fpfn_list):\n",
    "            if misclf_type == \"src_tgt\" and fpfn is not None:\n",
    "                continue\n",
    "            if misclf_type == \"tgt\" and fpfn is None:\n",
    "                continue\n",
    "\n",
    "            ds_key = ds.replace(\"-\", \"_\")\n",
    "            pretrained_dir = getattr(ViTExperiment, ds_key).OUTPUT_DIR.format(k=0)\n",
    "\n",
    "            # 5回すべてで登場したインデックスのみを残す\n",
    "            ours_counter = defaultdict(int)\n",
    "            bl_counter = defaultdict(int)\n",
    "\n",
    "            for reps_id in range(num_reps):\n",
    "                ours = load_indices(pretrained_dir, tgt_rank, wnum, \"ours\", reps_id, misclf_type, fpfn)\n",
    "                bl = load_indices(pretrained_dir, tgt_rank, wnum, \"bl\", reps_id, misclf_type, fpfn)\n",
    "                if ours is None or bl is None:\n",
    "                    continue\n",
    "                for idx in ours:\n",
    "                    ours_counter[idx] += 1\n",
    "                for idx in bl:\n",
    "                    bl_counter[idx] += 1\n",
    "\n",
    "            ours_final = set(idx for idx, cnt in ours_counter.items() if cnt == num_reps)\n",
    "            bl_final = set(idx for idx, cnt in bl_counter.items() if cnt == num_reps)\n",
    "\n",
    "            # プロット\n",
    "            col = type_fpfn_labels.index((misclf_type, fpfn))\n",
    "            # print(ds, row, col, misclf_type, fpfn, len(ours_final), len(bl_final))\n",
    "            ax = fig.add_subplot(gs[row, col])\n",
    "            venn = venn2([ours_final, bl_final], set_labels=(\"\", \"\"), ax=ax, set_colors=(\"#1f77b4\", \"#2ca02c\"))\n",
    "            # ラベルの位置を調整（例：左の0を左に少し移動）\n",
    "            if venn.get_label_by_id(\"10\"):\n",
    "                x, y = venn.get_label_by_id(\"10\").get_position()\n",
    "                venn.get_label_by_id(\"10\").set_position((x - 0.025, y))\n",
    "\n",
    "            if venn.get_label_by_id(\"01\"):\n",
    "                x, y = venn.get_label_by_id(\"01\").get_position()\n",
    "                venn.get_label_by_id(\"01\").set_position((x + 0.025, y))\n",
    "            # 色の透明度を調整して濃くする（デフォルトは alpha=0.4）\n",
    "            for subset_id in ('10', '01', '11'):\n",
    "                patch = venn.get_patch_by_id(subset_id)\n",
    "                if patch:\n",
    "                    patch.set_alpha(1)  # 1.0で完全に不透明にもできる\n",
    "                    if subset_id == '11':\n",
    "                        patch.set_color('grey')\n",
    "                        patch.set_edgecolor('grey')  # 共通部分の境界線を黒に\n",
    "                        patch.set_alpha(0.3)\n",
    "            misclf_str = \"SRC-TGT\" if misclf_type == \"src_tgt\" else f\"TGT-{fpfn.upper()}\"\n",
    "            ds_repr = \"C100\" if ds == \"c100\" else \"TinyImg\"\n",
    "            ax.set_title(f\"{ds_repr}, {misclf_str}\", fontstyle=\"italic\")\n",
    "\n",
    "    fig.legend([\"REPTRAN\", \"ArachneW\"], loc=\"lower center\", ncol=2, fontsize=12, frameon=True)\n",
    "    fname = f\"repaired_venn_rank{tgt_rank}_n{wnum}.pdf\"\n",
    "    plt.tight_layout(rect=[0, 0.1, 1, 1])\n",
    "    plt.savefig(os.path.join(output_dir, fname), bbox_inches='tight', dpi=300)\n",
    "    print(f\"Saved: {os.path.join(output_dir, fname)}\")\n",
    "    plt.close()\n"
   ]
  },
  {
   "cell_type": "markdown",
   "id": "b5544f90",
   "metadata": {},
   "source": [
    "# (repaired) N_w ごとにまとめたプロット"
   ]
  },
  {
   "cell_type": "code",
   "execution_count": 80,
   "id": "16a11f5d",
   "metadata": {},
   "outputs": [
    {
     "name": "stderr",
     "output_type": "stream",
     "text": [
      "/usr/local/lib/python3.7/site-packages/ipykernel_launcher.py:80: UserWarning: This figure includes Axes that are not compatible with tight_layout, so results might be incorrect.\n"
     ]
    },
    {
     "name": "stdout",
     "output_type": "stream",
     "text": [
      "Saved: ./venn_outputs/repaired_venn_n236.pdf\n"
     ]
    },
    {
     "name": "stderr",
     "output_type": "stream",
     "text": [
      "/usr/local/lib/python3.7/site-packages/ipykernel_launcher.py:80: UserWarning: This figure includes Axes that are not compatible with tight_layout, so results might be incorrect.\n"
     ]
    },
    {
     "name": "stdout",
     "output_type": "stream",
     "text": [
      "Saved: ./venn_outputs/repaired_venn_n472.pdf\n"
     ]
    },
    {
     "name": "stderr",
     "output_type": "stream",
     "text": [
      "/usr/local/lib/python3.7/site-packages/ipykernel_launcher.py:80: UserWarning: This figure includes Axes that are not compatible with tight_layout, so results might be incorrect.\n"
     ]
    },
    {
     "name": "stdout",
     "output_type": "stream",
     "text": [
      "Saved: ./venn_outputs/repaired_venn_n944.pdf\n"
     ]
    }
   ],
   "source": [
    "output_dir = \"./venn_outputs\"\n",
    "os.makedirs(output_dir, exist_ok=True)\n",
    "\n",
    "type_fpfn_labels = [(\"src_tgt\", None), (\"tgt\", \"fp\"), (\"tgt\", \"fn\")]\n",
    "    \n",
    "\n",
    "for wnum in w_num_list:\n",
    "    fig = plt.figure(figsize=(12, 6))\n",
    "    gs = gridspec.GridSpec(len(tgt_rank_list), len(type_fpfn_labels) * len(ds_list), figure=fig, hspace=0.3, wspace=0.2)\n",
    "\n",
    "    for row, tgt_rank in enumerate(tgt_rank_list):\n",
    "        for id_ds, ds in enumerate(ds_list):\n",
    "            ds_key = ds.replace(\"-\", \"_\")\n",
    "            pretrained_dir = getattr(ViTExperiment, ds_key).OUTPUT_DIR.format(k=0)\n",
    "            \n",
    "            for misclf_type, fpfn in product(misclf_type_list, fpfn_list):\n",
    "                if misclf_type == \"src_tgt\" and fpfn is not None:\n",
    "                    continue\n",
    "                if misclf_type == \"tgt\" and fpfn is None:\n",
    "                    continue\n",
    "                \n",
    "                # 5回すべてで登場したインデックスのみを残す\n",
    "                ours_counter = defaultdict(int)\n",
    "                bl_counter = defaultdict(int)\n",
    "\n",
    "                for reps_id in range(num_reps):\n",
    "                    ours = load_indices(pretrained_dir, tgt_rank, wnum, \"ours\", reps_id, misclf_type, fpfn)\n",
    "                    bl = load_indices(pretrained_dir, tgt_rank, wnum, \"bl\", reps_id, misclf_type, fpfn)\n",
    "                    if ours is None or bl is None:\n",
    "                        continue\n",
    "                    for idx in ours:\n",
    "                        ours_counter[idx] += 1\n",
    "                    for idx in bl:\n",
    "                        bl_counter[idx] += 1\n",
    "\n",
    "                ours_final = set(idx for idx, cnt in ours_counter.items() if cnt == num_reps)\n",
    "                bl_final = set(idx for idx, cnt in bl_counter.items() if cnt == num_reps)\n",
    "\n",
    "                # プロット\n",
    "                col = type_fpfn_labels.index((misclf_type, fpfn)) + id_ds * len(type_fpfn_labels)\n",
    "                # print(ds, row, col, misclf_type, fpfn, len(ours_final), len(bl_final))\n",
    "                ax = fig.add_subplot(gs[row, col])\n",
    "                venn = venn2([ours_final, bl_final], set_labels=(\"\", \"\"), ax=ax, set_colors=(\"#1f77b4\", \"#2ca02c\"))\n",
    "                # ラベルの位置を調整（例：左の0を左に少し移動）\n",
    "                if venn.get_label_by_id(\"10\"):\n",
    "                    x, y = venn.get_label_by_id(\"10\").get_position()\n",
    "                    venn.get_label_by_id(\"10\").set_position((x - 0.1, y))\n",
    "                if venn.get_label_by_id(\"01\"):\n",
    "                    x, y = venn.get_label_by_id(\"01\").get_position()\n",
    "                    venn.get_label_by_id(\"01\").set_position((x + 0.1, y))\n",
    "                # 色の透明度を調整して濃くする（デフォルトは alpha=0.4）\n",
    "                for subset_id in ('10', '01', '11'):\n",
    "                    patch = venn.get_patch_by_id(subset_id)\n",
    "                    label = venn.get_label_by_id(subset_id)\n",
    "                    if patch:\n",
    "                        patch.set_edgecolor(\"black\")     # 枠線の色\n",
    "                        patch.set_linewidth(1.0)         # 枠線の太さ\n",
    "                        patch.set_alpha(1.0)  # 1.0で完全に不透明にもできる\n",
    "                        if subset_id == '11':\n",
    "                            patch.set_color(\"#888888\")\n",
    "                            patch.set_alpha(0.2)\n",
    "                    if label:\n",
    "                        # 値が0なら非表示に\n",
    "                        if label.get_text() == \"0\":\n",
    "                            label.set_text(\"\")\n",
    "                        label.set_fontsize(20)\n",
    "                        label.set_fontweight(\"bold\")\n",
    "                        if subset_id == '10' or subset_id == '01':\n",
    "                            label.set_color(\"black\")\n",
    "                            label.set_path_effects([\n",
    "                                path_effects.Stroke(linewidth=2.0, foreground='white'),\n",
    "                                path_effects.Normal()\n",
    "                            ])\n",
    "                misclf_str = \"SRC-TGT\" if misclf_type == \"src_tgt\" else f\"TGT-{fpfn.upper()}\"\n",
    "                ds_repr = \"C100\" if ds == \"c100\" else \"TinyImg\"\n",
    "                ax.set_title(f\"{ds_repr},\\nRank {tgt_rank}, {misclf_str}\", fontsize=10, pad=1)\n",
    "\n",
    "    fig.legend([\"REPTRAN\", \"ArachneW\"], loc=\"lower center\", ncol=2, fontsize=12, frameon=True)\n",
    "    fname = f\"repaired_venn_n{wnum}.pdf\"\n",
    "    plt.tight_layout(rect=[0, 0, 1, 1])\n",
    "    plt.savefig(os.path.join(output_dir, fname), bbox_inches='tight', dpi=300)\n",
    "    print(f\"Saved: {os.path.join(output_dir, fname)}\")\n",
    "    plt.close()\n"
   ]
  },
  {
   "cell_type": "markdown",
   "id": "c1dd8872",
   "metadata": {},
   "source": [
    "# (broken) N_w ごとにまとめたプロット"
   ]
  },
  {
   "cell_type": "code",
   "execution_count": 32,
   "id": "bc7b5bf3",
   "metadata": {},
   "outputs": [
    {
     "name": "stderr",
     "output_type": "stream",
     "text": [
      "/usr/local/lib/python3.7/site-packages/ipykernel_launcher.py:79: UserWarning: This figure includes Axes that are not compatible with tight_layout, so results might be incorrect.\n",
      "findfont: Font family ['serif'] not found. Falling back to DejaVu Sans.\n",
      "findfont: Generic family 'serif' not found because none of the following families were found: Times, Palatino, serif\n",
      "findfont: Font family ['serif'] not found. Falling back to DejaVu Sans.\n",
      "findfont: Generic family 'serif' not found because none of the following families were found: Times, Palatino, serif\n",
      "findfont: Font family ['serif'] not found. Falling back to DejaVu Sans.\n",
      "findfont: Generic family 'serif' not found because none of the following families were found: Times, Palatino, serif\n",
      "findfont: Font family ['serif'] not found. Falling back to DejaVu Sans.\n",
      "findfont: Generic family 'serif' not found because none of the following families were found: Times, Palatino, serif\n"
     ]
    },
    {
     "name": "stdout",
     "output_type": "stream",
     "text": [
      "Saved: ./venn_outputs/broken_venn_n236.pdf\n"
     ]
    },
    {
     "name": "stderr",
     "output_type": "stream",
     "text": [
      "/usr/local/lib/python3.7/site-packages/ipykernel_launcher.py:79: UserWarning: This figure includes Axes that are not compatible with tight_layout, so results might be incorrect.\n"
     ]
    },
    {
     "name": "stdout",
     "output_type": "stream",
     "text": [
      "Saved: ./venn_outputs/broken_venn_n472.pdf\n"
     ]
    },
    {
     "name": "stderr",
     "output_type": "stream",
     "text": [
      "/usr/local/lib/python3.7/site-packages/ipykernel_launcher.py:79: UserWarning: This figure includes Axes that are not compatible with tight_layout, so results might be incorrect.\n"
     ]
    },
    {
     "name": "stdout",
     "output_type": "stream",
     "text": [
      "Saved: ./venn_outputs/broken_venn_n944.pdf\n"
     ]
    }
   ],
   "source": [
    "output_dir = \"./venn_outputs\"\n",
    "os.makedirs(output_dir, exist_ok=True)\n",
    "\n",
    "type_fpfn_labels = [(\"src_tgt\", None), (\"tgt\", \"fp\"), (\"tgt\", \"fn\")]\n",
    "    \n",
    "\n",
    "for wnum in w_num_list:\n",
    "    fig = plt.figure(figsize=(12, 6))\n",
    "    gs = gridspec.GridSpec(len(tgt_rank_list), len(type_fpfn_labels) * len(ds_list), figure=fig, hspace=0.35, wspace=0.2)\n",
    "\n",
    "    for row, tgt_rank in enumerate(tgt_rank_list):\n",
    "        for id_ds, ds in enumerate(ds_list):\n",
    "            ds_key = ds.replace(\"-\", \"_\")\n",
    "            pretrained_dir = getattr(ViTExperiment, ds_key).OUTPUT_DIR.format(k=0)\n",
    "            \n",
    "            for misclf_type, fpfn in product(misclf_type_list, fpfn_list):\n",
    "                if misclf_type == \"src_tgt\" and fpfn is not None:\n",
    "                    continue\n",
    "                if misclf_type == \"tgt\" and fpfn is None:\n",
    "                    continue\n",
    "                \n",
    "                # 5回すべてで登場したインデックスのみを残す\n",
    "                ours_counter = defaultdict(int)\n",
    "                bl_counter = defaultdict(int)\n",
    "\n",
    "                for reps_id in range(num_reps):\n",
    "                    ours = load_indices(pretrained_dir, tgt_rank, wnum, \"ours\", reps_id, misclf_type, fpfn, indices_type=\"break_indices_overall\")\n",
    "                    bl = load_indices(pretrained_dir, tgt_rank, wnum, \"bl\", reps_id, misclf_type, fpfn, indices_type=\"break_indices_overall\")\n",
    "                    if ours is None or bl is None:\n",
    "                        continue\n",
    "                    for idx in ours:\n",
    "                        ours_counter[idx] += 1\n",
    "                    for idx in bl:\n",
    "                        bl_counter[idx] += 1\n",
    "\n",
    "                ours_final = set(idx for idx, cnt in ours_counter.items() if cnt == num_reps)\n",
    "                bl_final = set(idx for idx, cnt in bl_counter.items() if cnt == num_reps)\n",
    "\n",
    "                # プロット\n",
    "                col = type_fpfn_labels.index((misclf_type, fpfn)) + id_ds * len(type_fpfn_labels)\n",
    "                # print(ds, row, col, misclf_type, fpfn, len(ours_final), len(bl_final))\n",
    "                ax = fig.add_subplot(gs[row, col])\n",
    "                venn = venn2([ours_final, bl_final], set_labels=(\"\", \"\"), ax=ax, set_colors=(\"#1f77b4\", \"#2ca02c\"))\n",
    "                # ラベルの位置を調整（例：左の0を左に少し移動）\n",
    "                if venn.get_label_by_id(\"10\"):\n",
    "                    x, y = venn.get_label_by_id(\"10\").get_position()\n",
    "                    venn.get_label_by_id(\"10\").set_position((x - 0.1, y))\n",
    "\n",
    "                if venn.get_label_by_id(\"01\"):\n",
    "                    x, y = venn.get_label_by_id(\"01\").get_position()\n",
    "                    venn.get_label_by_id(\"01\").set_position((x + 0.1, y))\n",
    "                # 色の透明度を調整して濃くする（デフォルトは alpha=0.4）\n",
    "                for subset_id in ('10', '01', '11'):\n",
    "                    patch = venn.get_patch_by_id(subset_id)\n",
    "                    label = venn.get_label_by_id(subset_id)\n",
    "                    if patch:\n",
    "                        patch.set_edgecolor(\"black\")     # 枠線の色\n",
    "                        patch.set_linewidth(1.0)         # 枠線の太さ\n",
    "                        patch.set_alpha(1.0)  # 1.0で完全に不透明にもできる\n",
    "                        if subset_id == '11':\n",
    "                            patch.set_color('grey')\n",
    "                            patch.set_edgecolor('grey')  # 共通部分の境界線を黒に\n",
    "                            patch.set_alpha(0.3)\n",
    "                    if label:\n",
    "                        label.set_fontsize(14)\n",
    "                        if subset_id == '10' or subset_id == '01':\n",
    "                            label.set_fontweight(\"bold\")\n",
    "                            label.set_color(\"white\")\n",
    "                            label.set_path_effects([\n",
    "                                path_effects.Stroke(linewidth=2.5, foreground='black'),\n",
    "                                path_effects.Normal()\n",
    "                            ])\n",
    "                misclf_str = \"SRC-TGT\" if misclf_type == \"src_tgt\" else f\"TGT-{fpfn.upper()}\"\n",
    "                ds_repr = \"C100\" if ds == \"c100\" else \"TinyImg\"\n",
    "                ax.set_title(f\"{ds_repr},\\nRank {tgt_rank}, {misclf_str}\", fontsize=10, pad=1)\n",
    "\n",
    "    fig.legend([\"REPTRAN\", \"ArachneW\"], loc=\"lower center\", ncol=2, fontsize=12, frameon=True)\n",
    "    fname = f\"broken_venn_n{wnum}.pdf\"\n",
    "    plt.tight_layout(rect=[0, 0, 1, 1])\n",
    "    plt.savefig(os.path.join(output_dir, fname), bbox_inches='tight', dpi=300)\n",
    "    print(f\"Saved: {os.path.join(output_dir, fname)}\")\n",
    "    plt.close()\n"
   ]
  },
  {
   "cell_type": "code",
   "execution_count": null,
   "id": "17b12e26",
   "metadata": {},
   "outputs": [],
   "source": []
  }
 ],
 "metadata": {
  "kernelspec": {
   "display_name": "Python 3",
   "language": "python",
   "name": "python3"
  },
  "language_info": {
   "codemirror_mode": {
    "name": "ipython",
    "version": 3
   },
   "file_extension": ".py",
   "mimetype": "text/x-python",
   "name": "python",
   "nbconvert_exporter": "python",
   "pygments_lexer": "ipython3",
   "version": "3.7.16"
  }
 },
 "nbformat": 4,
 "nbformat_minor": 5
}
