{
 "cells": [
  {
   "cell_type": "markdown",
   "metadata": {},
   "source": [
    "# 目的\n",
    "違う手法ごとに特定された重みの位置の性質を見る．\n",
    "\n",
    "具体的には，中間ニューロンのインデックスのユニーク性をチェックしたい．"
   ]
  },
  {
   "cell_type": "code",
   "execution_count": 28,
   "metadata": {},
   "outputs": [
    {
     "name": "stdout",
     "output_type": "stream",
     "text": [
      "The autoreload extension is already loaded. To reload it, use:\n",
      "  %reload_ext autoreload\n"
     ]
    }
   ],
   "source": [
    "%load_ext autoreload\n",
    "%autoreload 2"
   ]
  },
  {
   "cell_type": "code",
   "execution_count": 29,
   "metadata": {},
   "outputs": [
    {
     "name": "stdout",
     "output_type": "stream",
     "text": [
      "Device: cuda\n"
     ]
    }
   ],
   "source": [
    "from utils.vit_util import transforms_c100, get_batched_hs, get_batched_labels, ViTFromLastLayer, get_ori_model_predictions, identfy_tgt_misclf\n",
    "from utils.constant import ViTExperiment, Experiment1, Experiment3, ExperimentRepair1, ExperimentRepair2, ExperimentRepair3\n",
    "from utils.helper import get_device\n",
    "from utils.de import set_new_weights\n",
    "from transformers import ViTForImageClassification\n",
    "from tqdm import tqdm\n",
    "import torch\n",
    "import torch.nn as nn\n",
    "import os\n",
    "from collections import defaultdict\n",
    "import numpy as np\n",
    "import pandas as pd\n",
    "from datasets import load_from_disk\n",
    "\n",
    "# デバイスの設定\n",
    "device = get_device()\n",
    "\n",
    "def get_location_path(n, w_num, fl_method, location_dir, generate_random=True):\n",
    "    if fl_method == \"ours\":\n",
    "        location_file = f\"exp-fl-3_location_n{n}_w{w_num}_weight.npy\"\n",
    "    elif fl_method == \"bl\":\n",
    "        location_file = f\"exp-fl-2_location_n{n}_weight_bl.npy\"\n",
    "    elif fl_method == \"random\":\n",
    "        location_file = f\"exp-fl-1_location_n{n}_weight_random.npy\"\n",
    "    else:\n",
    "        raise ValueError(f\"Unknown fl_method: {fl_method}\")\n",
    "    location_path = os.path.join(location_dir, location_file)\n",
    "    return location_path"
   ]
  },
  {
   "cell_type": "code",
   "execution_count": 30,
   "metadata": {},
   "outputs": [],
   "source": [
    "def main(fl_method, n, w_num, rank):\n",
    "    # rank を tgt_rank として利用（int型）\n",
    "    tgt_rank = rank\n",
    "    tgt_pos = ViTExperiment.CLS_IDX\n",
    "    \n",
    "    # プリトレーニング済みモデルとキャッシュの hidden states のロード\n",
    "    pretrained_dir = ViTExperiment.c100.OUTPUT_DIR.format(k=0)\n",
    "    \n",
    "    # 実験条件のループ（misclf_type と fpfn は内部ループ）\n",
    "    misclf_type_list = [\"src_tgt\", \"tgt\"] # allは対象外にする\n",
    "    fpfn_list = [None, \"fp\", \"fn\"]\n",
    "    results_list = []\n",
    "    for misclf_type in misclf_type_list:\n",
    "        for fpfn in fpfn_list:\n",
    "            # ルール：misclf_type==\"all\" は tgt_rank が 1 かつ fpfn が None のみ有効\n",
    "            if misclf_type == \"all\":\n",
    "                if tgt_rank >= 2 or fpfn is not None:\n",
    "                    continue\n",
    "            # misclf_type==\"src_tgt\" の場合、fpfn は None のみ\n",
    "            if misclf_type == \"src_tgt\" and fpfn is not None:\n",
    "                continue\n",
    "            location_dir = os.path.join(pretrained_dir, f\"misclf_top{tgt_rank}\", f\"{misclf_type}_weights_location\")\n",
    "            location_path = get_location_path(n, w_num, fl_method, location_dir)\n",
    "            pos_before, pos_after = np.load(location_path, allow_pickle=True)\n",
    "            print(f\"Location file: {location_path}\")\n",
    "            print(f\"pos_before.shape: {pos_before.shape}, pos_after.shape: {pos_after.shape}\")\n",
    "            results_list.append({\n",
    "                \"misclf_type\": misclf_type,\n",
    "                \"fpfn\": fpfn,\n",
    "                \"pos_before\": pos_before,\n",
    "                \"pos_after\": pos_after,\n",
    "            })\n",
    "    return results_list"
   ]
  },
  {
   "cell_type": "code",
   "execution_count": 31,
   "metadata": {},
   "outputs": [
    {
     "name": "stdout",
     "output_type": "stream",
     "text": [
      "\n",
      "fl_method: ours, n_ratio: 0.12, w_num: 18432, tgt_rank: 1\n",
      "========================\n",
      "Location file: /src/src/out_vit_c100_fold0/misclf_top1/src_tgt_weights_location/exp-fl-3_location_n0.12_w18432_weight.npy\n",
      "pos_before.shape: (8503, 2), pos_after.shape: (9929, 2)\n",
      "Location file: /src/src/out_vit_c100_fold0/misclf_top1/tgt_weights_location/exp-fl-3_location_n0.12_w18432_weight.npy\n",
      "pos_before.shape: (10912, 2), pos_after.shape: (7520, 2)\n",
      "Location file: /src/src/out_vit_c100_fold0/misclf_top1/tgt_weights_location/exp-fl-3_location_n0.12_w18432_weight.npy\n",
      "pos_before.shape: (10912, 2), pos_after.shape: (7520, 2)\n",
      "Location file: /src/src/out_vit_c100_fold0/misclf_top1/tgt_weights_location/exp-fl-3_location_n0.12_w18432_weight.npy\n",
      "pos_before.shape: (10912, 2), pos_after.shape: (7520, 2)\n",
      "\n",
      "fl_method: bl, n_ratio: 48, w_num: None, tgt_rank: 1\n",
      "========================\n",
      "Location file: /src/src/out_vit_c100_fold0/misclf_top1/src_tgt_weights_location/exp-fl-2_location_n48_weight_bl.npy\n",
      "pos_before.shape: (9042, 2), pos_after.shape: (9390, 2)\n",
      "Location file: /src/src/out_vit_c100_fold0/misclf_top1/tgt_weights_location/exp-fl-2_location_n48_weight_bl.npy\n",
      "pos_before.shape: (10458, 2), pos_after.shape: (7974, 2)\n",
      "Location file: /src/src/out_vit_c100_fold0/misclf_top1/tgt_weights_location/exp-fl-2_location_n48_weight_bl.npy\n",
      "pos_before.shape: (10458, 2), pos_after.shape: (7974, 2)\n",
      "Location file: /src/src/out_vit_c100_fold0/misclf_top1/tgt_weights_location/exp-fl-2_location_n48_weight_bl.npy\n",
      "pos_before.shape: (10458, 2), pos_after.shape: (7974, 2)\n",
      "\n",
      "fl_method: random, n_ratio: 48, w_num: None, tgt_rank: 1\n",
      "========================\n",
      "Location file: /src/src/out_vit_c100_fold0/misclf_top1/src_tgt_weights_location/exp-fl-1_location_n48_weight_random.npy\n",
      "pos_before.shape: (9216, 2), pos_after.shape: (9216, 2)\n",
      "Location file: /src/src/out_vit_c100_fold0/misclf_top1/tgt_weights_location/exp-fl-1_location_n48_weight_random.npy\n",
      "pos_before.shape: (9216, 2), pos_after.shape: (9216, 2)\n",
      "Location file: /src/src/out_vit_c100_fold0/misclf_top1/tgt_weights_location/exp-fl-1_location_n48_weight_random.npy\n",
      "pos_before.shape: (9216, 2), pos_after.shape: (9216, 2)\n",
      "Location file: /src/src/out_vit_c100_fold0/misclf_top1/tgt_weights_location/exp-fl-1_location_n48_weight_random.npy\n",
      "pos_before.shape: (9216, 2), pos_after.shape: (9216, 2)\n",
      "\n",
      "fl_method: ours, n_ratio: 0.12, w_num: 18432, tgt_rank: 2\n",
      "========================\n",
      "Location file: /src/src/out_vit_c100_fold0/misclf_top2/src_tgt_weights_location/exp-fl-3_location_n0.12_w18432_weight.npy\n",
      "pos_before.shape: (9673, 2), pos_after.shape: (8759, 2)\n",
      "Location file: /src/src/out_vit_c100_fold0/misclf_top2/tgt_weights_location/exp-fl-3_location_n0.12_w18432_weight.npy\n",
      "pos_before.shape: (11412, 2), pos_after.shape: (7020, 2)\n",
      "Location file: /src/src/out_vit_c100_fold0/misclf_top2/tgt_weights_location/exp-fl-3_location_n0.12_w18432_weight.npy\n",
      "pos_before.shape: (11412, 2), pos_after.shape: (7020, 2)\n",
      "Location file: /src/src/out_vit_c100_fold0/misclf_top2/tgt_weights_location/exp-fl-3_location_n0.12_w18432_weight.npy\n",
      "pos_before.shape: (11412, 2), pos_after.shape: (7020, 2)\n",
      "\n",
      "fl_method: bl, n_ratio: 48, w_num: None, tgt_rank: 2\n",
      "========================\n",
      "Location file: /src/src/out_vit_c100_fold0/misclf_top2/src_tgt_weights_location/exp-fl-2_location_n48_weight_bl.npy\n",
      "pos_before.shape: (9339, 2), pos_after.shape: (9093, 2)\n",
      "Location file: /src/src/out_vit_c100_fold0/misclf_top2/tgt_weights_location/exp-fl-2_location_n48_weight_bl.npy\n",
      "pos_before.shape: (10593, 2), pos_after.shape: (7839, 2)\n",
      "Location file: /src/src/out_vit_c100_fold0/misclf_top2/tgt_weights_location/exp-fl-2_location_n48_weight_bl.npy\n",
      "pos_before.shape: (10593, 2), pos_after.shape: (7839, 2)\n",
      "Location file: /src/src/out_vit_c100_fold0/misclf_top2/tgt_weights_location/exp-fl-2_location_n48_weight_bl.npy\n",
      "pos_before.shape: (10593, 2), pos_after.shape: (7839, 2)\n",
      "\n",
      "fl_method: random, n_ratio: 48, w_num: None, tgt_rank: 2\n",
      "========================\n",
      "Location file: /src/src/out_vit_c100_fold0/misclf_top2/src_tgt_weights_location/exp-fl-1_location_n48_weight_random.npy\n",
      "pos_before.shape: (9216, 2), pos_after.shape: (9216, 2)\n",
      "Location file: /src/src/out_vit_c100_fold0/misclf_top2/tgt_weights_location/exp-fl-1_location_n48_weight_random.npy\n",
      "pos_before.shape: (9216, 2), pos_after.shape: (9216, 2)\n",
      "Location file: /src/src/out_vit_c100_fold0/misclf_top2/tgt_weights_location/exp-fl-1_location_n48_weight_random.npy\n",
      "pos_before.shape: (9216, 2), pos_after.shape: (9216, 2)\n",
      "Location file: /src/src/out_vit_c100_fold0/misclf_top2/tgt_weights_location/exp-fl-1_location_n48_weight_random.npy\n",
      "pos_before.shape: (9216, 2), pos_after.shape: (9216, 2)\n",
      "\n",
      "fl_method: ours, n_ratio: 0.12, w_num: 18432, tgt_rank: 3\n",
      "========================\n",
      "Location file: /src/src/out_vit_c100_fold0/misclf_top3/src_tgt_weights_location/exp-fl-3_location_n0.12_w18432_weight.npy\n",
      "pos_before.shape: (9254, 2), pos_after.shape: (9178, 2)\n",
      "Location file: /src/src/out_vit_c100_fold0/misclf_top3/tgt_weights_location/exp-fl-3_location_n0.12_w18432_weight.npy\n",
      "pos_before.shape: (9991, 2), pos_after.shape: (8441, 2)\n",
      "Location file: /src/src/out_vit_c100_fold0/misclf_top3/tgt_weights_location/exp-fl-3_location_n0.12_w18432_weight.npy\n",
      "pos_before.shape: (9991, 2), pos_after.shape: (8441, 2)\n",
      "Location file: /src/src/out_vit_c100_fold0/misclf_top3/tgt_weights_location/exp-fl-3_location_n0.12_w18432_weight.npy\n",
      "pos_before.shape: (9991, 2), pos_after.shape: (8441, 2)\n",
      "\n",
      "fl_method: bl, n_ratio: 48, w_num: None, tgt_rank: 3\n",
      "========================\n",
      "Location file: /src/src/out_vit_c100_fold0/misclf_top3/src_tgt_weights_location/exp-fl-2_location_n48_weight_bl.npy\n",
      "pos_before.shape: (9322, 2), pos_after.shape: (9110, 2)\n",
      "Location file: /src/src/out_vit_c100_fold0/misclf_top3/tgt_weights_location/exp-fl-2_location_n48_weight_bl.npy\n",
      "pos_before.shape: (9912, 2), pos_after.shape: (8520, 2)\n",
      "Location file: /src/src/out_vit_c100_fold0/misclf_top3/tgt_weights_location/exp-fl-2_location_n48_weight_bl.npy\n",
      "pos_before.shape: (9912, 2), pos_after.shape: (8520, 2)\n",
      "Location file: /src/src/out_vit_c100_fold0/misclf_top3/tgt_weights_location/exp-fl-2_location_n48_weight_bl.npy\n",
      "pos_before.shape: (9912, 2), pos_after.shape: (8520, 2)\n",
      "\n",
      "fl_method: random, n_ratio: 48, w_num: None, tgt_rank: 3\n",
      "========================\n",
      "Location file: /src/src/out_vit_c100_fold0/misclf_top3/src_tgt_weights_location/exp-fl-1_location_n48_weight_random.npy\n",
      "pos_before.shape: (9216, 2), pos_after.shape: (9216, 2)\n",
      "Location file: /src/src/out_vit_c100_fold0/misclf_top3/tgt_weights_location/exp-fl-1_location_n48_weight_random.npy\n",
      "pos_before.shape: (9216, 2), pos_after.shape: (9216, 2)\n",
      "Location file: /src/src/out_vit_c100_fold0/misclf_top3/tgt_weights_location/exp-fl-1_location_n48_weight_random.npy\n",
      "pos_before.shape: (9216, 2), pos_after.shape: (9216, 2)\n",
      "Location file: /src/src/out_vit_c100_fold0/misclf_top3/tgt_weights_location/exp-fl-1_location_n48_weight_random.npy\n",
      "pos_before.shape: (9216, 2), pos_after.shape: (9216, 2)\n",
      "\n",
      "fl_method: ours, n_ratio: 0.12, w_num: 18432, tgt_rank: 4\n",
      "========================\n",
      "Location file: /src/src/out_vit_c100_fold0/misclf_top4/src_tgt_weights_location/exp-fl-3_location_n0.12_w18432_weight.npy\n",
      "pos_before.shape: (11132, 2), pos_after.shape: (7300, 2)\n",
      "Location file: /src/src/out_vit_c100_fold0/misclf_top4/tgt_weights_location/exp-fl-3_location_n0.12_w18432_weight.npy\n",
      "pos_before.shape: (8637, 2), pos_after.shape: (9795, 2)\n",
      "Location file: /src/src/out_vit_c100_fold0/misclf_top4/tgt_weights_location/exp-fl-3_location_n0.12_w18432_weight.npy\n",
      "pos_before.shape: (8637, 2), pos_after.shape: (9795, 2)\n",
      "Location file: /src/src/out_vit_c100_fold0/misclf_top4/tgt_weights_location/exp-fl-3_location_n0.12_w18432_weight.npy\n",
      "pos_before.shape: (8637, 2), pos_after.shape: (9795, 2)\n",
      "\n",
      "fl_method: bl, n_ratio: 48, w_num: None, tgt_rank: 4\n",
      "========================\n",
      "Location file: /src/src/out_vit_c100_fold0/misclf_top4/src_tgt_weights_location/exp-fl-2_location_n48_weight_bl.npy\n",
      "pos_before.shape: (10195, 2), pos_after.shape: (8237, 2)\n",
      "Location file: /src/src/out_vit_c100_fold0/misclf_top4/tgt_weights_location/exp-fl-2_location_n48_weight_bl.npy\n",
      "pos_before.shape: (8947, 2), pos_after.shape: (9485, 2)\n",
      "Location file: /src/src/out_vit_c100_fold0/misclf_top4/tgt_weights_location/exp-fl-2_location_n48_weight_bl.npy\n",
      "pos_before.shape: (8947, 2), pos_after.shape: (9485, 2)\n",
      "Location file: /src/src/out_vit_c100_fold0/misclf_top4/tgt_weights_location/exp-fl-2_location_n48_weight_bl.npy\n",
      "pos_before.shape: (8947, 2), pos_after.shape: (9485, 2)\n",
      "\n",
      "fl_method: random, n_ratio: 48, w_num: None, tgt_rank: 4\n",
      "========================\n",
      "Location file: /src/src/out_vit_c100_fold0/misclf_top4/src_tgt_weights_location/exp-fl-1_location_n48_weight_random.npy\n",
      "pos_before.shape: (9216, 2), pos_after.shape: (9216, 2)\n",
      "Location file: /src/src/out_vit_c100_fold0/misclf_top4/tgt_weights_location/exp-fl-1_location_n48_weight_random.npy\n",
      "pos_before.shape: (9216, 2), pos_after.shape: (9216, 2)\n",
      "Location file: /src/src/out_vit_c100_fold0/misclf_top4/tgt_weights_location/exp-fl-1_location_n48_weight_random.npy\n",
      "pos_before.shape: (9216, 2), pos_after.shape: (9216, 2)\n",
      "Location file: /src/src/out_vit_c100_fold0/misclf_top4/tgt_weights_location/exp-fl-1_location_n48_weight_random.npy\n",
      "pos_before.shape: (9216, 2), pos_after.shape: (9216, 2)\n",
      "\n",
      "fl_method: ours, n_ratio: 0.12, w_num: 18432, tgt_rank: 5\n",
      "========================\n",
      "Location file: /src/src/out_vit_c100_fold0/misclf_top5/src_tgt_weights_location/exp-fl-3_location_n0.12_w18432_weight.npy\n",
      "pos_before.shape: (9886, 2), pos_after.shape: (8546, 2)\n",
      "Location file: /src/src/out_vit_c100_fold0/misclf_top5/tgt_weights_location/exp-fl-3_location_n0.12_w18432_weight.npy\n",
      "pos_before.shape: (10477, 2), pos_after.shape: (7955, 2)\n",
      "Location file: /src/src/out_vit_c100_fold0/misclf_top5/tgt_weights_location/exp-fl-3_location_n0.12_w18432_weight.npy\n",
      "pos_before.shape: (10477, 2), pos_after.shape: (7955, 2)\n",
      "Location file: /src/src/out_vit_c100_fold0/misclf_top5/tgt_weights_location/exp-fl-3_location_n0.12_w18432_weight.npy\n",
      "pos_before.shape: (10477, 2), pos_after.shape: (7955, 2)\n",
      "\n",
      "fl_method: bl, n_ratio: 48, w_num: None, tgt_rank: 5\n",
      "========================\n",
      "Location file: /src/src/out_vit_c100_fold0/misclf_top5/src_tgt_weights_location/exp-fl-2_location_n48_weight_bl.npy\n",
      "pos_before.shape: (9969, 2), pos_after.shape: (8463, 2)\n",
      "Location file: /src/src/out_vit_c100_fold0/misclf_top5/tgt_weights_location/exp-fl-2_location_n48_weight_bl.npy\n",
      "pos_before.shape: (10930, 2), pos_after.shape: (7502, 2)\n",
      "Location file: /src/src/out_vit_c100_fold0/misclf_top5/tgt_weights_location/exp-fl-2_location_n48_weight_bl.npy\n",
      "pos_before.shape: (10930, 2), pos_after.shape: (7502, 2)\n",
      "Location file: /src/src/out_vit_c100_fold0/misclf_top5/tgt_weights_location/exp-fl-2_location_n48_weight_bl.npy\n",
      "pos_before.shape: (10930, 2), pos_after.shape: (7502, 2)\n",
      "\n",
      "fl_method: random, n_ratio: 48, w_num: None, tgt_rank: 5\n",
      "========================\n",
      "Location file: /src/src/out_vit_c100_fold0/misclf_top5/src_tgt_weights_location/exp-fl-1_location_n48_weight_random.npy\n",
      "pos_before.shape: (9216, 2), pos_after.shape: (9216, 2)\n",
      "Location file: /src/src/out_vit_c100_fold0/misclf_top5/tgt_weights_location/exp-fl-1_location_n48_weight_random.npy\n",
      "pos_before.shape: (9216, 2), pos_after.shape: (9216, 2)\n",
      "Location file: /src/src/out_vit_c100_fold0/misclf_top5/tgt_weights_location/exp-fl-1_location_n48_weight_random.npy\n",
      "pos_before.shape: (9216, 2), pos_after.shape: (9216, 2)\n",
      "Location file: /src/src/out_vit_c100_fold0/misclf_top5/tgt_weights_location/exp-fl-1_location_n48_weight_random.npy\n",
      "pos_before.shape: (9216, 2), pos_after.shape: (9216, 2)\n"
     ]
    }
   ],
   "source": [
    "all_results = []\n",
    "fl_method_list = [\"ours\", \"bl\", \"random\"]\n",
    "tgt_rank_list = [1, 2, 3, 4, 5]\n",
    "\n",
    "for tgt_rank in tgt_rank_list:\n",
    "    for fl_method in fl_method_list:\n",
    "        if fl_method in [\"bl\", \"random\"]:\n",
    "            exp_list = [ExperimentRepair2]\n",
    "            # exp_list = [Experiment1, ExperimentRepair1, ExperimentRepair2]\n",
    "        else:\n",
    "            exp_list = [ExperimentRepair3]\n",
    "            # exp_list = [Experiment3, ExperimentRepair1, ExperimentRepair2]\n",
    "        for exp in exp_list:\n",
    "            if fl_method in [\"bl\", \"random\"]:\n",
    "                n_ratio = exp.NUM_IDENTIFIED_WEIGHTS\n",
    "                w_num = None\n",
    "            else:\n",
    "                n_ratio, w_num = exp.NUM_IDENTIFIED_NEURONS_RATIO, exp.NUM_IDENTIFIED_WEIGHTS\n",
    "                w_num = 8 * w_num * w_num\n",
    "            print(f\"\\nfl_method: {fl_method}, n_ratio: {n_ratio}, w_num: {w_num}, tgt_rank: {tgt_rank}\")\n",
    "            print(f\"========================\")\n",
    "            ret_list = main(fl_method=fl_method, n=n_ratio, w_num=w_num, rank=tgt_rank)\n",
    "\n",
    "            for result in ret_list:\n",
    "                all_results.append({\n",
    "                    \"fl_method\": fl_method,\n",
    "                    \"tgt_rank\": tgt_rank,\n",
    "                    \"n_ratio\": n_ratio,\n",
    "                    \"w_num\": w_num,\n",
    "                    \"misclf_type\": result[\"misclf_type\"],\n",
    "                    \"fpfn\": result[\"fpfn\"],\n",
    "                    \"pos_before\": result[\"pos_before\"],\n",
    "                    \"pos_after\": result[\"pos_after\"],\n",
    "                })\n"
   ]
  },
  {
   "cell_type": "code",
   "execution_count": 32,
   "metadata": {},
   "outputs": [],
   "source": [
    "df_all = pd.DataFrame(all_results)\n",
    "df_all[\"misclf_type_name\"] = df_all.apply(\n",
    "    lambda row: row[\"misclf_type\"] if row[\"fpfn\"] is None else f'{row[\"misclf_type\"]}_{row[\"fpfn\"]}',\n",
    "    axis=1\n",
    ")"
   ]
  },
  {
   "cell_type": "code",
   "execution_count": 42,
   "metadata": {},
   "outputs": [
    {
     "data": {
      "text/plain": [
       "(8503, 2)"
      ]
     },
     "execution_count": 42,
     "metadata": {},
     "output_type": "execute_result"
    }
   ],
   "source": [
    "df_all[\"pos_before\"].values[0].shape"
   ]
  },
  {
   "cell_type": "code",
   "execution_count": 46,
   "metadata": {},
   "outputs": [],
   "source": [
    "from collections import defaultdict\n",
    "\n",
    "# 結果を記録する辞書\n",
    "summary_before = defaultdict(defaultdict)\n",
    "summary_after = defaultdict(defaultdict)\n",
    "\n",
    "# グループ単位で集計\n",
    "for (misclf_type_name, tgt_rank), group in df_all.groupby([\"misclf_type_name\", \"tgt_rank\"]):\n",
    "    summary_before[misclf_type_name][tgt_rank] = {}\n",
    "    summary_after[misclf_type_name][tgt_rank] = {}\n",
    "    for fl_method in group[\"fl_method\"].unique():\n",
    "        subset = group[group[\"fl_method\"] == fl_method]\n",
    "        # pos_before の行インデックスを集めてユニーク数をカウント\n",
    "        all_rows = []\n",
    "        for arr in subset[\"pos_before\"]:\n",
    "            arr = np.array(arr)  # 念のため明示\n",
    "            all_rows.append(arr[:, 0])  # 行方向インデックス（3072次元の方）を抽出\n",
    "        if all_rows:\n",
    "            flat = np.concatenate(all_rows)\n",
    "            flat_unique = np.unique(flat)\n",
    "            unique_count = len(flat_unique)\n",
    "        else:\n",
    "            unique_count = 0\n",
    "        summary_before[misclf_type_name][tgt_rank][fl_method] = unique_count\n",
    "        \n",
    "        # pos_after の行インデックスを集めてユニーク数をカウント\n",
    "        all_cols = []\n",
    "        for arr in subset[\"pos_after\"]:\n",
    "            arr = np.array(arr)\n",
    "            all_cols.append(arr[:, 1])  # 行方向（W_aft なら 768の方）に変えるならここで調整\n",
    "        if all_cols:\n",
    "            flat = np.concatenate(all_cols)\n",
    "            flat_unique = np.unique(flat)\n",
    "            unique_count = len(flat_unique)\n",
    "        else:\n",
    "            unique_count = 0\n",
    "        summary_after[misclf_type_name][tgt_rank][fl_method] = unique_count\n",
    "\n",
    "# 表形式で表示（pandas）\n",
    "# import pandas as pd\n",
    "# df_summary = pd.DataFrame(summary).T  # index: (misclf_type, fpfn), columns: fl_method\n",
    "# df_summary.index.names = [\"misclf_type\", \"fpfn\"]"
   ]
  },
  {
   "cell_type": "code",
   "execution_count": 47,
   "metadata": {},
   "outputs": [
    {
     "data": {
      "text/plain": [
       "defaultdict(collections.defaultdict,\n",
       "            {'src_tgt': defaultdict(None,\n",
       "                         {1: {'ours': 119, 'bl': 162, 'random': 192},\n",
       "                          2: {'ours': 145, 'bl': 176, 'random': 192},\n",
       "                          3: {'ours': 169, 'bl': 216, 'random': 192},\n",
       "                          4: {'ours': 157, 'bl': 180, 'random': 192},\n",
       "                          5: {'ours': 170, 'bl': 188, 'random': 192}}),\n",
       "             'tgt': defaultdict(None,\n",
       "                         {1: {'ours': 169, 'bl': 267, 'random': 192},\n",
       "                          2: {'ours': 215, 'bl': 339, 'random': 192},\n",
       "                          3: {'ours': 221, 'bl': 312, 'random': 192},\n",
       "                          4: {'ours': 197, 'bl': 293, 'random': 192},\n",
       "                          5: {'ours': 213, 'bl': 402, 'random': 192}}),\n",
       "             'tgt_fn': defaultdict(None,\n",
       "                         {1: {'ours': 169, 'bl': 267, 'random': 192},\n",
       "                          2: {'ours': 215, 'bl': 339, 'random': 192},\n",
       "                          3: {'ours': 221, 'bl': 312, 'random': 192},\n",
       "                          4: {'ours': 197, 'bl': 293, 'random': 192},\n",
       "                          5: {'ours': 213, 'bl': 402, 'random': 192}}),\n",
       "             'tgt_fp': defaultdict(None,\n",
       "                         {1: {'ours': 169, 'bl': 267, 'random': 192},\n",
       "                          2: {'ours': 215, 'bl': 339, 'random': 192},\n",
       "                          3: {'ours': 221, 'bl': 312, 'random': 192},\n",
       "                          4: {'ours': 197, 'bl': 293, 'random': 192},\n",
       "                          5: {'ours': 213, 'bl': 402, 'random': 192}})})"
      ]
     },
     "execution_count": 47,
     "metadata": {},
     "output_type": "execute_result"
    }
   ],
   "source": [
    "summary_before"
   ]
  },
  {
   "cell_type": "code",
   "execution_count": 48,
   "metadata": {},
   "outputs": [
    {
     "data": {
      "text/plain": [
       "defaultdict(collections.defaultdict,\n",
       "            {'src_tgt': defaultdict(None,\n",
       "                         {1: {'ours': 133, 'bl': 163, 'random': 192},\n",
       "                          2: {'ours': 114, 'bl': 148, 'random': 192},\n",
       "                          3: {'ours': 125, 'bl': 142, 'random': 192},\n",
       "                          4: {'ours': 127, 'bl': 171, 'random': 192},\n",
       "                          5: {'ours': 124, 'bl': 155, 'random': 192}}),\n",
       "             'tgt': defaultdict(None,\n",
       "                         {1: {'ours': 125, 'bl': 160, 'random': 192},\n",
       "                          2: {'ours': 143, 'bl': 191, 'random': 192},\n",
       "                          3: {'ours': 139, 'bl': 178, 'random': 192},\n",
       "                          4: {'ours': 129, 'bl': 170, 'random': 192},\n",
       "                          5: {'ours': 162, 'bl': 206, 'random': 192}}),\n",
       "             'tgt_fn': defaultdict(None,\n",
       "                         {1: {'ours': 125, 'bl': 160, 'random': 192},\n",
       "                          2: {'ours': 143, 'bl': 191, 'random': 192},\n",
       "                          3: {'ours': 139, 'bl': 178, 'random': 192},\n",
       "                          4: {'ours': 129, 'bl': 170, 'random': 192},\n",
       "                          5: {'ours': 162, 'bl': 206, 'random': 192}}),\n",
       "             'tgt_fp': defaultdict(None,\n",
       "                         {1: {'ours': 125, 'bl': 160, 'random': 192},\n",
       "                          2: {'ours': 143, 'bl': 191, 'random': 192},\n",
       "                          3: {'ours': 139, 'bl': 178, 'random': 192},\n",
       "                          4: {'ours': 129, 'bl': 170, 'random': 192},\n",
       "                          5: {'ours': 162, 'bl': 206, 'random': 192}})})"
      ]
     },
     "execution_count": 48,
     "metadata": {},
     "output_type": "execute_result"
    }
   ],
   "source": [
    "summary_after"
   ]
  },
  {
   "cell_type": "markdown",
   "metadata": {},
   "source": [
    "# 逆にしてみる"
   ]
  },
  {
   "cell_type": "code",
   "execution_count": 49,
   "metadata": {},
   "outputs": [],
   "source": [
    "from collections import defaultdict\n",
    "\n",
    "# 結果を記録する辞書\n",
    "summary_before = defaultdict(defaultdict)\n",
    "summary_after = defaultdict(defaultdict)\n",
    "\n",
    "# グループ単位で集計\n",
    "for (misclf_type_name, tgt_rank), group in df_all.groupby([\"misclf_type_name\", \"tgt_rank\"]):\n",
    "    summary_before[misclf_type_name][tgt_rank] = {}\n",
    "    summary_after[misclf_type_name][tgt_rank] = {}\n",
    "    for fl_method in group[\"fl_method\"].unique():\n",
    "        subset = group[group[\"fl_method\"] == fl_method]\n",
    "        # pos_before の行インデックスを集めてユニーク数をカウント\n",
    "        all_rows = []\n",
    "        for arr in subset[\"pos_before\"]:\n",
    "            arr = np.array(arr)  # 念のため明示\n",
    "            all_rows.append(arr[:, 1])  # 行方向インデックス（3072次元の方）を抽出\n",
    "        if all_rows:\n",
    "            flat = np.concatenate(all_rows)\n",
    "            flat_unique = np.unique(flat)\n",
    "            unique_count = len(flat_unique)\n",
    "        else:\n",
    "            unique_count = 0\n",
    "        summary_before[misclf_type_name][tgt_rank][fl_method] = unique_count\n",
    "        \n",
    "        # pos_after の行インデックスを集めてユニーク数をカウント\n",
    "        all_cols = []\n",
    "        for arr in subset[\"pos_after\"]:\n",
    "            arr = np.array(arr)\n",
    "            all_cols.append(arr[:, 0])  # 行方向（W_aft なら 768の方）に変えるならここで調整\n",
    "        if all_cols:\n",
    "            flat = np.concatenate(all_cols)\n",
    "            flat_unique = np.unique(flat)\n",
    "            unique_count = len(flat_unique)\n",
    "        else:\n",
    "            unique_count = 0\n",
    "        summary_after[misclf_type_name][tgt_rank][fl_method] = unique_count\n",
    "\n",
    "# 表形式で表示（pandas）\n",
    "# import pandas as pd\n",
    "# df_summary = pd.DataFrame(summary).T  # index: (misclf_type, fpfn), columns: fl_method\n",
    "# df_summary.index.names = [\"misclf_type\", \"fpfn\"]"
   ]
  },
  {
   "cell_type": "code",
   "execution_count": 50,
   "metadata": {},
   "outputs": [
    {
     "data": {
      "text/plain": [
       "defaultdict(collections.defaultdict,\n",
       "            {'src_tgt': defaultdict(None,\n",
       "                         {1: {'ours': 474, 'bl': 527, 'random': 48},\n",
       "                          2: {'ours': 476, 'bl': 538, 'random': 48},\n",
       "                          3: {'ours': 468, 'bl': 533, 'random': 48},\n",
       "                          4: {'ours': 528, 'bl': 570, 'random': 48},\n",
       "                          5: {'ours': 468, 'bl': 540, 'random': 48}}),\n",
       "             'tgt': defaultdict(None,\n",
       "                         {1: {'ours': 642, 'bl': 683, 'random': 48},\n",
       "                          2: {'ours': 676, 'bl': 694, 'random': 48},\n",
       "                          3: {'ours': 625, 'bl': 655, 'random': 48},\n",
       "                          4: {'ours': 606, 'bl': 612, 'random': 48},\n",
       "                          5: {'ours': 697, 'bl': 695, 'random': 48}}),\n",
       "             'tgt_fn': defaultdict(None,\n",
       "                         {1: {'ours': 642, 'bl': 683, 'random': 48},\n",
       "                          2: {'ours': 676, 'bl': 694, 'random': 48},\n",
       "                          3: {'ours': 625, 'bl': 655, 'random': 48},\n",
       "                          4: {'ours': 606, 'bl': 612, 'random': 48},\n",
       "                          5: {'ours': 697, 'bl': 695, 'random': 48}}),\n",
       "             'tgt_fp': defaultdict(None,\n",
       "                         {1: {'ours': 642, 'bl': 683, 'random': 48},\n",
       "                          2: {'ours': 676, 'bl': 694, 'random': 48},\n",
       "                          3: {'ours': 625, 'bl': 655, 'random': 48},\n",
       "                          4: {'ours': 606, 'bl': 612, 'random': 48},\n",
       "                          5: {'ours': 697, 'bl': 695, 'random': 48}})})"
      ]
     },
     "execution_count": 50,
     "metadata": {},
     "output_type": "execute_result"
    }
   ],
   "source": [
    "summary_before"
   ]
  },
  {
   "cell_type": "code",
   "execution_count": 51,
   "metadata": {},
   "outputs": [
    {
     "data": {
      "text/plain": [
       "defaultdict(collections.defaultdict,\n",
       "            {'src_tgt': defaultdict(None,\n",
       "                         {1: {'ours': 384, 'bl': 236, 'random': 48},\n",
       "                          2: {'ours': 285, 'bl': 206, 'random': 48},\n",
       "                          3: {'ours': 332, 'bl': 229, 'random': 48},\n",
       "                          4: {'ours': 242, 'bl': 181, 'random': 48},\n",
       "                          5: {'ours': 301, 'bl': 209, 'random': 48}}),\n",
       "             'tgt': defaultdict(None,\n",
       "                         {1: {'ours': 457, 'bl': 352, 'random': 48},\n",
       "                          2: {'ours': 470, 'bl': 330, 'random': 48},\n",
       "                          3: {'ours': 401, 'bl': 265, 'random': 48},\n",
       "                          4: {'ours': 311, 'bl': 223, 'random': 48},\n",
       "                          5: {'ours': 488, 'bl': 327, 'random': 48}}),\n",
       "             'tgt_fn': defaultdict(None,\n",
       "                         {1: {'ours': 457, 'bl': 352, 'random': 48},\n",
       "                          2: {'ours': 470, 'bl': 330, 'random': 48},\n",
       "                          3: {'ours': 401, 'bl': 265, 'random': 48},\n",
       "                          4: {'ours': 311, 'bl': 223, 'random': 48},\n",
       "                          5: {'ours': 488, 'bl': 327, 'random': 48}}),\n",
       "             'tgt_fp': defaultdict(None,\n",
       "                         {1: {'ours': 457, 'bl': 352, 'random': 48},\n",
       "                          2: {'ours': 470, 'bl': 330, 'random': 48},\n",
       "                          3: {'ours': 401, 'bl': 265, 'random': 48},\n",
       "                          4: {'ours': 311, 'bl': 223, 'random': 48},\n",
       "                          5: {'ours': 488, 'bl': 327, 'random': 48}})})"
      ]
     },
     "execution_count": 51,
     "metadata": {},
     "output_type": "execute_result"
    }
   ],
   "source": [
    "summary_after"
   ]
  },
  {
   "cell_type": "code",
   "execution_count": 37,
   "metadata": {},
   "outputs": [],
   "source": [
    "from collections import defaultdict\n",
    "\n",
    "# 結果を記録する辞書\n",
    "summary_before = defaultdict(dict)\n",
    "summary_after = defaultdict(dict)\n",
    "\n",
    "# グループ単位で集計\n",
    "for misclf_type_name, group in df_all.groupby([\"misclf_type_name\"]):\n",
    "    for fl_method in group[\"fl_method\"].unique():\n",
    "        subset = group[group[\"fl_method\"] == fl_method]\n",
    "        # pos_before の行インデックスを集めてユニーク数をカウント\n",
    "        all_rows = []\n",
    "        for arr in subset[\"pos_before\"]:\n",
    "            arr = np.array(arr)  # 念のため明示\n",
    "            all_rows.append(arr[:, 1])  # 行方向インデックス（3072次元の方）を抽出 # XXX: ここが逆！\n",
    "        if all_rows:\n",
    "            flat = np.concatenate(all_rows)\n",
    "            flat_unique = np.unique(flat)\n",
    "            unique_count = len(flat_unique)\n",
    "        else:\n",
    "            unique_count = 0\n",
    "        summary_before[misclf_type_name][fl_method] = unique_count\n",
    "        \n",
    "        # pos_after の行インデックスを集めてユニーク数をカウント\n",
    "        all_cols = []\n",
    "        for arr in subset[\"pos_after\"]:\n",
    "            arr = np.array(arr)\n",
    "            all_cols.append(arr[:, 0])  # 行方向（W_aft なら 768の方）に変えるならここで調整 # XXX: ここが逆！\n",
    "        if all_cols:\n",
    "            flat = np.concatenate(all_cols)\n",
    "            flat_unique = np.unique(flat)\n",
    "            unique_count = len(flat_unique)\n",
    "        else:\n",
    "            unique_count = 0\n",
    "        summary_after[misclf_type_name][fl_method] = unique_count\n"
   ]
  },
  {
   "cell_type": "code",
   "execution_count": 38,
   "metadata": {},
   "outputs": [
    {
     "data": {
      "text/plain": [
       "defaultdict(dict,\n",
       "            {'src_tgt': {'ours': 753, 'bl': 758, 'random': 214},\n",
       "             'tgt': {'ours': 767, 'bl': 768, 'random': 214},\n",
       "             'tgt_fn': {'ours': 767, 'bl': 768, 'random': 214},\n",
       "             'tgt_fp': {'ours': 767, 'bl': 768, 'random': 214}})"
      ]
     },
     "execution_count": 38,
     "metadata": {},
     "output_type": "execute_result"
    }
   ],
   "source": [
    "summary_before"
   ]
  },
  {
   "cell_type": "code",
   "execution_count": 39,
   "metadata": {},
   "outputs": [
    {
     "data": {
      "text/plain": [
       "defaultdict(dict,\n",
       "            {'src_tgt': {'ours': 685, 'bl': 640, 'random': 211},\n",
       "             'tgt': {'ours': 746, 'bl': 690, 'random': 213},\n",
       "             'tgt_fn': {'ours': 746, 'bl': 690, 'random': 213},\n",
       "             'tgt_fp': {'ours': 746, 'bl': 690, 'random': 213}})"
      ]
     },
     "execution_count": 39,
     "metadata": {},
     "output_type": "execute_result"
    }
   ],
   "source": [
    "summary_after"
   ]
  },
  {
   "cell_type": "code",
   "execution_count": null,
   "metadata": {},
   "outputs": [],
   "source": []
  }
 ],
 "metadata": {
  "kernelspec": {
   "display_name": "Python 3",
   "language": "python",
   "name": "python3"
  },
  "language_info": {
   "codemirror_mode": {
    "name": "ipython",
    "version": 3
   },
   "file_extension": ".py",
   "mimetype": "text/x-python",
   "name": "python",
   "nbconvert_exporter": "python",
   "pygments_lexer": "ipython3",
   "version": "3.7.16"
  }
 },
 "nbformat": 4,
 "nbformat_minor": 2
}
