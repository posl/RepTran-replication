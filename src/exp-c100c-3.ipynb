{
 "cells": [
  {
   "cell_type": "code",
   "execution_count": 2,
   "metadata": {},
   "outputs": [],
   "source": [
    "import numpy as np\n",
    "import os\n",
    "import json"
   ]
  },
  {
   "cell_type": "code",
   "execution_count": 5,
   "metadata": {},
   "outputs": [
    {
     "name": "stdout",
     "output_type": "stream",
     "text": [
      "(1958, 2) (2650, 2)\n",
      "4608\n"
     ]
    }
   ],
   "source": [
    "path = \"/src/src/out_vit_c100_fold0/corruptions_top1/weights_location/exp-c100c-fl-2_location_n24_weight_bl.npy\"\n",
    "pos_bef, pos_aft = np.load(path, allow_pickle=True)\n",
    "print(pos_bef.shape, pos_aft.shape)\n",
    "print(pos_bef.shape[0] + pos_aft.shape[0])"
   ]
  },
  {
   "cell_type": "code",
   "execution_count": 7,
   "metadata": {},
   "outputs": [
    {
     "name": "stdout",
     "output_type": "stream",
     "text": [
      "(1767, 2) (2841, 2)\n",
      "4608\n"
     ]
    }
   ],
   "source": [
    "path = \"/src/src/out_vit_c100_fold0/corruptions_top1/weights_location/exp-c100c-fl-1_location_n0.03_w4608_weight.npy\"\n",
    "pos_bef, pos_aft = np.load(path, allow_pickle=True)\n",
    "print(pos_bef.shape, pos_aft.shape)\n",
    "print(pos_bef.shape[0] + pos_aft.shape[0])"
   ]
  },
  {
   "cell_type": "code",
   "execution_count": 3,
   "metadata": {},
   "outputs": [
    {
     "name": "stdout",
     "output_type": "stream",
     "text": [
      "(10000, 197, 768)\n"
     ]
    }
   ],
   "source": [
    "path = \"/src/src/out_vit_c100_fold0/cache_hidden_states_before_layernorm_repair/hidden_states_before_layernorm_11.npy\"\n",
    "cache_states = np.load(path, mmap_mode='r')\n",
    "print(cache_states.shape)"
   ]
  },
  {
   "cell_type": "code",
   "execution_count": 4,
   "metadata": {},
   "outputs": [
    {
     "name": "stdout",
     "output_type": "stream",
     "text": [
      "(50000, 197, 768)\n"
     ]
    }
   ],
   "source": [
    "path = \"/src/src/out_vit_c100_fold0/cache_hidden_states_before_layernorm_glass_blur/hidden_states_before_layernorm_11.npy\"\n",
    "cache_states = np.load(path, mmap_mode='r')\n",
    "print(cache_states.shape)"
   ]
  },
  {
   "cell_type": "code",
   "execution_count": null,
   "metadata": {},
   "outputs": [],
   "source": []
  }
 ],
 "metadata": {
  "kernelspec": {
   "display_name": "Python 3",
   "language": "python",
   "name": "python3"
  },
  "language_info": {
   "codemirror_mode": {
    "name": "ipython",
    "version": 3
   },
   "file_extension": ".py",
   "mimetype": "text/x-python",
   "name": "python",
   "nbconvert_exporter": "python",
   "pygments_lexer": "ipython3",
   "version": "3.7.16"
  }
 },
 "nbformat": 4,
 "nbformat_minor": 2
}
