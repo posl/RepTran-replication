{
 "cells": [
  {
   "cell_type": "markdown",
   "metadata": {},
   "source": [
    "# C10でFine-tuningしたViTモデルのフォワードパスを実行し，C10を予測する"
   ]
  },
  {
   "cell_type": "markdown",
   "metadata": {},
   "source": [
    "## ライブラリのインポート"
   ]
  },
  {
   "cell_type": "code",
   "execution_count": 13,
   "metadata": {},
   "outputs": [],
   "source": [
    "import os, sys, math\n",
    "sys.path.append(\"../src\")\n",
    "import numpy as np\n",
    "import torch\n",
    "import pickle\n",
    "from datasets import load_from_disk\n",
    "from transformers import DefaultDataCollator, ViTForImageClassification, Trainer\n",
    "from utils.helper import get_device\n",
    "from utils.vit_util import processor, transforms, compute_metrics\n",
    "from utils.constant import ViTExperiment"
   ]
  },
  {
   "cell_type": "markdown",
   "metadata": {},
   "source": [
    "## 初期設定"
   ]
  },
  {
   "cell_type": "code",
   "execution_count": 2,
   "metadata": {},
   "outputs": [
    {
     "name": "stdout",
     "output_type": "stream",
     "text": [
      "Device: cuda\n"
     ]
    }
   ],
   "source": [
    "# デバイス (cuda, or cpu) の取得\n",
    "device = get_device()\n",
    "# datasetをロード (初回の読み込みだけやや時間かかる)\n",
    "dataset_dir = ViTExperiment.DATASET_DIR\n",
    "cifar10 = load_from_disk(os.path.join(dataset_dir, \"c10\"))\n",
    "# 読み込まれた時にリアルタイムで前処理を適用するようにする\n",
    "cifar10_preprocessed = cifar10.with_transform(transforms)\n",
    "# バッチごとの処理のためのdata_collator\n",
    "data_collator = DefaultDataCollator()\n",
    "# ラベルを示す文字列のlist\n",
    "labels = cifar10_preprocessed[\"train\"].features[\"label\"].names\n",
    "# pretrained modelのロード\n",
    "pretrained_dir = ViTExperiment.OUTPUT_DIR\n",
    "model = ViTForImageClassification.from_pretrained(pretrained_dir).to(device)\n",
    "model.eval()\n",
    "# 学習時の設定をロード\n",
    "training_args = torch.load(os.path.join(pretrained_dir, \"training_args.bin\"))\n",
    "# Trainerオブジェクトの作成\n",
    "trainer = Trainer(\n",
    "    model=model,\n",
    "    args=training_args,\n",
    "    data_collator=data_collator,\n",
    "    compute_metrics=compute_metrics,\n",
    "    train_dataset=cifar10_preprocessed[\"train\"],\n",
    "    eval_dataset=cifar10_preprocessed[\"test\"],\n",
    "    tokenizer=processor,\n",
    ")"
   ]
  },
  {
   "cell_type": "code",
   "execution_count": 15,
   "metadata": {},
   "outputs": [
    {
     "data": {
      "text/html": [],
      "text/plain": [
       "<IPython.core.display.HTML object>"
      ]
     },
     "metadata": {},
     "output_type": "display_data"
    }
   ],
   "source": [
    "# 少ないサンプルで実験\n",
    "sample_size = 33\n",
    "sample_indices = np.random.choice(len(cifar10_preprocessed[\"test\"]), sample_size)\n",
    "pred = trainer.predict(cifar10_preprocessed[\"test\"].select(sample_indices))\n",
    "# predをpickleで保存\n",
    "with open(os.path.join(\"./\", \"pred.pkl\"), \"wb\") as f:\n",
    "    pickle.dump(pred, f)"
   ]
  },
  {
   "cell_type": "markdown",
   "metadata": {},
   "source": [
    "## 推論の実行"
   ]
  },
  {
   "cell_type": "code",
   "execution_count": 3,
   "metadata": {},
   "outputs": [
    {
     "name": "stdout",
     "output_type": "stream",
     "text": [
      "predict training data... #iter = 1563 (50000 samples / 32 batches)\n"
     ]
    },
    {
     "data": {
      "text/html": [],
      "text/plain": [
       "<IPython.core.display.HTML object>"
      ]
     },
     "metadata": {},
     "output_type": "display_data"
    },
    {
     "name": "stdout",
     "output_type": "stream",
     "text": [
      "predict evaluation data... #iter = 313 (10000 samples / 32 batches)\n"
     ]
    },
    {
     "data": {
      "text/html": [],
      "text/plain": [
       "<IPython.core.display.HTML object>"
      ]
     },
     "metadata": {},
     "output_type": "display_data"
    }
   ],
   "source": [
    "# データセットのサイズとバッチサイズからイテレーション回数を計算\n",
    "training_args_dict = training_args.to_dict()\n",
    "train_batch_size = training_args_dict[\"per_device_train_batch_size\"]\n",
    "eval_batch_size = training_args_dict[\"per_device_eval_batch_size\"]\n",
    "train_iter = math.ceil(len(cifar10_preprocessed[\"train\"]) / train_batch_size)\n",
    "eval_iter = math.ceil(len(cifar10_preprocessed[\"test\"]) / eval_batch_size)\n",
    "\n",
    "# 訓練・テストデータに対する推論の実行\n",
    "print(f\"predict training data... #iter = {train_iter} ({len(cifar10_preprocessed['train'])} samples / {train_batch_size} batches)\")\n",
    "train_pred = trainer.predict(cifar10_preprocessed[\"train\"])\n",
    "print(f\"predict evaluation data... #iter = {eval_iter} ({len(cifar10_preprocessed['test'])} samples / {eval_batch_size} batches)\")\n",
    "test_pred = trainer.predict(cifar10_preprocessed[\"test\"])"
   ]
  },
  {
   "cell_type": "markdown",
   "metadata": {},
   "source": [
    "## 推論結果をnpyで保存する"
   ]
  },
  {
   "cell_type": "code",
   "execution_count": null,
   "metadata": {},
   "outputs": [],
   "source": [
    "# just for check\n",
    "np.unique(np.array(cifar10[\"train\"][\"label\"]), return_counts=True)"
   ]
  },
  {
   "cell_type": "code",
   "execution_count": null,
   "metadata": {},
   "outputs": [],
   "source": [
    "train_labels = np.array(cifar10[\"train\"][\"label\"])\n",
    "# train_pred.predictions[1]をsoftmax関数に通して確率に変換\n",
    "train_pred_proba = torch.nn.functional.softmax(torch.tensor(train_pred.predictions[1]), dim=-1)\n",
    "# train_pred_probaをnumpy配列に変換\n",
    "train_pred_proba = train_pred_proba.cpu().numpy()\n",
    "# ラベルごとに違うファイルとして保存\n",
    "for c in range(len(labels)):\n",
    "    tgt_proba = train_pred_proba[train_labels == c]\n",
    "    # train_pred_probaを保存\n",
    "    np.save(os.path.join(pretrained_dir, \"pred_results\", f\"train_proba_{c}.npy\"), tgt_proba)\n",
    "    print(f\"train_proba_{c}.npy ({tgt_proba.shape}) saved\")"
   ]
  },
  {
   "cell_type": "code",
   "execution_count": null,
   "metadata": {},
   "outputs": [],
   "source": [
    "# just for check\n",
    "np.unique(np.array(cifar10[\"test\"][\"label\"]), return_counts=True)"
   ]
  },
  {
   "cell_type": "code",
   "execution_count": null,
   "metadata": {},
   "outputs": [],
   "source": [
    "test_labels = np.array(cifar10[\"test\"][\"label\"])"
   ]
  },
  {
   "cell_type": "code",
   "execution_count": null,
   "metadata": {},
   "outputs": [],
   "source": [
    "test_pred_proba = torch.nn.functional.softmax(torch.tensor(test_pred.predictions[1]), dim=-1)\n",
    "test_pred_proba = test_pred_proba.cpu().numpy()\n",
    "# ラベルごとに違うファイルとして保存\n",
    "for c in range(len(labels)):\n",
    "    tgt_proba = test_pred_proba[test_labels == c]\n",
    "    print(tgt_proba.shape)\n",
    "    # train_pred_probaを保存\n",
    "    np.save(os.path.join(pretrained_dir, \"pred_results\", f\"test_proba_{c}.npy\"), tgt_proba)\n",
    "    print(f\"test_proba_{c}.npy ({tgt_proba.shape}) saved\")"
   ]
  },
  {
   "cell_type": "markdown",
   "metadata": {},
   "source": [
    "# C10でFine-tuningしたViTモデルのフォワードパスを実行し，C10Cを予測する"
   ]
  },
  {
   "cell_type": "markdown",
   "metadata": {},
   "source": [
    "## 初期設定"
   ]
  },
  {
   "cell_type": "code",
   "execution_count": null,
   "metadata": {},
   "outputs": [],
   "source": [
    "# デバイス (cuda, or cpu) の取得\n",
    "device = get_device()\n",
    "# datasetをロード (初回の読み込みだけやや時間かかる)\n",
    "dataset_dir = ViTExperiment.DATASET_DIR\n",
    "c10c = load_from_disk(os.path.join(dataset_dir, \"c10c\"))\n",
    "tmp_key = \"zoom_blur\"\n",
    "c10c[tmp_key]"
   ]
  },
  {
   "cell_type": "code",
   "execution_count": null,
   "metadata": {},
   "outputs": [],
   "source": [
    "# 読み込まれた時にリアルタイムで前処理を適用するようにする\n",
    "cifar10_preprocessed = c10c[tmp_key].with_transform(transforms)\n",
    "# バッチごとの処理のためのdata_collator\n",
    "data_collator = DefaultDataCollator()\n",
    "# ラベルを示す文字列のlist\n",
    "labels = cifar10_preprocessed.features[\"label\"].names\n",
    "# pretrained modelのロード\n",
    "pretrained_dir = ViTExperiment.OUTPUT_DIR\n",
    "model = ViTForImageClassification.from_pretrained(pretrained_dir).to(device)\n",
    "model.eval()\n",
    "# 学習時の設定をロード\n",
    "training_args = torch.load(os.path.join(pretrained_dir, \"training_args.bin\"))\n",
    "# Trainerオブジェクトの作成\n",
    "trainer = Trainer(\n",
    "    model=model,\n",
    "    args=training_args,\n",
    "    data_collator=data_collator,\n",
    "    compute_metrics=compute_metrics,\n",
    "    eval_dataset=cifar10_preprocessed,\n",
    "    tokenizer=processor,\n",
    ")"
   ]
  },
  {
   "cell_type": "markdown",
   "metadata": {},
   "source": [
    "## 推論の実行"
   ]
  },
  {
   "cell_type": "code",
   "execution_count": null,
   "metadata": {},
   "outputs": [],
   "source": [
    "# データセットのサイズとバッチサイズからイテレーション回数を計算\n",
    "training_args_dict = training_args.to_dict()\n",
    "eval_batch_size = training_args_dict[\"per_device_eval_batch_size\"]\n",
    "eval_iter = math.ceil(len(cifar10_preprocessed) / eval_batch_size)\n",
    "\n",
    "# 推論の実行\n",
    "print(f\"predict evaluation data... #iter = {eval_iter} ({len(cifar10_preprocessed)} samples / {eval_batch_size} batches)\")\n",
    "test_pred = trainer.predict(cifar10_preprocessed)"
   ]
  },
  {
   "cell_type": "code",
   "execution_count": null,
   "metadata": {},
   "outputs": [],
   "source": [
    "test_pred"
   ]
  }
 ],
 "metadata": {
  "kernelspec": {
   "display_name": "Python 3",
   "language": "python",
   "name": "python3"
  },
  "language_info": {
   "codemirror_mode": {
    "name": "ipython",
    "version": 3
   },
   "file_extension": ".py",
   "mimetype": "text/x-python",
   "name": "python",
   "nbconvert_exporter": "python",
   "pygments_lexer": "ipython3",
   "version": "3.7.16"
  }
 },
 "nbformat": 4,
 "nbformat_minor": 2
}
