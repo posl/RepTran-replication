{
 "cells": [
  {
   "cell_type": "code",
   "execution_count": 1,
   "metadata": {},
   "outputs": [
    {
     "data": {
      "text/plain": [
       "device(type='cuda')"
      ]
     },
     "execution_count": 1,
     "metadata": {},
     "output_type": "execute_result"
    }
   ],
   "source": [
    "import torch\n",
    "device = torch.device(\"cuda\" if torch.cuda.is_available() else \"cpu\")\n",
    "device"
   ]
  },
  {
   "cell_type": "markdown",
   "metadata": {},
   "source": [
    "# CIFAR-10データセットの読み込み"
   ]
  },
  {
   "cell_type": "code",
   "execution_count": 2,
   "metadata": {},
   "outputs": [
    {
     "name": "stderr",
     "output_type": "stream",
     "text": [
      "Found cached dataset parquet (/root/.cache/huggingface/datasets/parquet/plain_text-d4c080360fb556b0/0.0.0/14a00e99c0d15a23649d0db8944380ac81082d4b021f398733dd84f3a6c569a7)\n"
     ]
    },
    {
     "data": {
      "application/vnd.jupyter.widget-view+json": {
       "model_id": "b59c466281794fe8bb42f18fb8ea7969",
       "version_major": 2,
       "version_minor": 0
      },
      "text/plain": [
       "  0%|          | 0/2 [00:00<?, ?it/s]"
      ]
     },
     "metadata": {},
     "output_type": "display_data"
    }
   ],
   "source": [
    "from datasets import load_dataset\n",
    "# datasetをロード (初回の読み込みだけやや時間かかる)\n",
    "cifar10 = load_dataset(\"cifar10\")"
   ]
  },
  {
   "cell_type": "code",
   "execution_count": 3,
   "metadata": {},
   "outputs": [
    {
     "data": {
      "text/plain": [
       "DatasetDict({\n",
       "    train: Dataset({\n",
       "        features: ['img', 'label'],\n",
       "        num_rows: 50000\n",
       "    })\n",
       "    test: Dataset({\n",
       "        features: ['img', 'label'],\n",
       "        num_rows: 10000\n",
       "    })\n",
       "})"
      ]
     },
     "execution_count": 3,
     "metadata": {},
     "output_type": "execute_result"
    }
   ],
   "source": [
    "cifar10"
   ]
  },
  {
   "cell_type": "code",
   "execution_count": 3,
   "metadata": {},
   "outputs": [
    {
     "data": {
      "text/plain": [
       "Dataset({\n",
       "    features: ['img', 'label'],\n",
       "    num_rows: 50000\n",
       "})"
      ]
     },
     "execution_count": 3,
     "metadata": {},
     "output_type": "execute_result"
    }
   ],
   "source": [
    "# 訓練セットだけ取り出す\n",
    "train_ds = cifar10[\"train\"]\n",
    "train_ds"
   ]
  },
  {
   "cell_type": "code",
   "execution_count": 4,
   "metadata": {},
   "outputs": [
    {
     "data": {
      "text/plain": [
       "50000"
      ]
     },
     "execution_count": 4,
     "metadata": {},
     "output_type": "execute_result"
    }
   ],
   "source": [
    "len(train_ds)"
   ]
  },
  {
   "cell_type": "code",
   "execution_count": 5,
   "metadata": {},
   "outputs": [
    {
     "data": {
      "text/plain": [
       "{'img': <PIL.PngImagePlugin.PngImageFile image mode=RGB size=32x32>,\n",
       " 'label': 0}"
      ]
     },
     "execution_count": 5,
     "metadata": {},
     "output_type": "execute_result"
    }
   ],
   "source": [
    "train_ds[0]"
   ]
  },
  {
   "cell_type": "code",
   "execution_count": 6,
   "metadata": {},
   "outputs": [
    {
     "data": {
      "text/plain": [
       "['img', 'label']"
      ]
     },
     "execution_count": 6,
     "metadata": {},
     "output_type": "execute_result"
    }
   ],
   "source": [
    "train_ds.column_names"
   ]
  },
  {
   "cell_type": "code",
   "execution_count": 7,
   "metadata": {},
   "outputs": [
    {
     "name": "stdout",
     "output_type": "stream",
     "text": [
      "{'img': Image(decode=True, id=None), 'label': ClassLabel(names=['airplane', 'automobile', 'bird', 'cat', 'deer', 'dog', 'frog', 'horse', 'ship', 'truck'], id=None)}\n"
     ]
    }
   ],
   "source": [
    "print(train_ds.features)"
   ]
  },
  {
   "cell_type": "code",
   "execution_count": 8,
   "metadata": {},
   "outputs": [
    {
     "name": "stdout",
     "output_type": "stream",
     "text": [
      "{'img': [<PIL.PngImagePlugin.PngImageFile image mode=RGB size=32x32 at 0x7FDA849C2BD0>, <PIL.PngImagePlugin.PngImageFile image mode=RGB size=32x32 at 0x7FDA849C2B10>, <PIL.PngImagePlugin.PngImageFile image mode=RGB size=32x32 at 0x7FDA849C2C10>, <PIL.PngImagePlugin.PngImageFile image mode=RGB size=32x32 at 0x7FDA849C2B90>, <PIL.PngImagePlugin.PngImageFile image mode=RGB size=32x32 at 0x7FDA849C2A50>], 'label': [0, 6, 0, 2, 7]}\n"
     ]
    }
   ],
   "source": [
    "print(train_ds[:5])"
   ]
  },
  {
   "cell_type": "code",
   "execution_count": 9,
   "metadata": {},
   "outputs": [
    {
     "data": {
      "text/html": [
       "<div>\n",
       "<style scoped>\n",
       "    .dataframe tbody tr th:only-of-type {\n",
       "        vertical-align: middle;\n",
       "    }\n",
       "\n",
       "    .dataframe tbody tr th {\n",
       "        vertical-align: top;\n",
       "    }\n",
       "\n",
       "    .dataframe thead th {\n",
       "        text-align: right;\n",
       "    }\n",
       "</style>\n",
       "<table border=\"1\" class=\"dataframe\">\n",
       "  <thead>\n",
       "    <tr style=\"text-align: right;\">\n",
       "      <th></th>\n",
       "      <th>img</th>\n",
       "      <th>label</th>\n",
       "    </tr>\n",
       "  </thead>\n",
       "  <tbody>\n",
       "    <tr>\n",
       "      <th>0</th>\n",
       "      <td>&lt;PIL.PngImagePlugin.PngImageFile image mode=RG...</td>\n",
       "      <td>0</td>\n",
       "    </tr>\n",
       "    <tr>\n",
       "      <th>1</th>\n",
       "      <td>&lt;PIL.PngImagePlugin.PngImageFile image mode=RG...</td>\n",
       "      <td>6</td>\n",
       "    </tr>\n",
       "    <tr>\n",
       "      <th>2</th>\n",
       "      <td>&lt;PIL.PngImagePlugin.PngImageFile image mode=RG...</td>\n",
       "      <td>0</td>\n",
       "    </tr>\n",
       "    <tr>\n",
       "      <th>3</th>\n",
       "      <td>&lt;PIL.PngImagePlugin.PngImageFile image mode=RG...</td>\n",
       "      <td>2</td>\n",
       "    </tr>\n",
       "    <tr>\n",
       "      <th>4</th>\n",
       "      <td>&lt;PIL.PngImagePlugin.PngImageFile image mode=RG...</td>\n",
       "      <td>7</td>\n",
       "    </tr>\n",
       "  </tbody>\n",
       "</table>\n",
       "</div>"
      ],
      "text/plain": [
       "                                                 img  label\n",
       "0  <PIL.PngImagePlugin.PngImageFile image mode=RG...      0\n",
       "1  <PIL.PngImagePlugin.PngImageFile image mode=RG...      6\n",
       "2  <PIL.PngImagePlugin.PngImageFile image mode=RG...      0\n",
       "3  <PIL.PngImagePlugin.PngImageFile image mode=RG...      2\n",
       "4  <PIL.PngImagePlugin.PngImageFile image mode=RG...      7"
      ]
     },
     "execution_count": 9,
     "metadata": {},
     "output_type": "execute_result"
    }
   ],
   "source": [
    "import pandas as pd\n",
    "\n",
    "cifar10.set_format(\"pandas\")\n",
    "df = cifar10[\"train\"][:]\n",
    "df.head()"
   ]
  },
  {
   "cell_type": "code",
   "execution_count": 10,
   "metadata": {},
   "outputs": [
    {
     "data": {
      "text/html": [
       "<div>\n",
       "<style scoped>\n",
       "    .dataframe tbody tr th:only-of-type {\n",
       "        vertical-align: middle;\n",
       "    }\n",
       "\n",
       "    .dataframe tbody tr th {\n",
       "        vertical-align: top;\n",
       "    }\n",
       "\n",
       "    .dataframe thead th {\n",
       "        text-align: right;\n",
       "    }\n",
       "</style>\n",
       "<table border=\"1\" class=\"dataframe\">\n",
       "  <thead>\n",
       "    <tr style=\"text-align: right;\">\n",
       "      <th></th>\n",
       "      <th>img</th>\n",
       "      <th>label</th>\n",
       "      <th>label_name</th>\n",
       "    </tr>\n",
       "  </thead>\n",
       "  <tbody>\n",
       "    <tr>\n",
       "      <th>0</th>\n",
       "      <td>&lt;PIL.PngImagePlugin.PngImageFile image mode=RG...</td>\n",
       "      <td>0</td>\n",
       "      <td>airplane</td>\n",
       "    </tr>\n",
       "    <tr>\n",
       "      <th>1</th>\n",
       "      <td>&lt;PIL.PngImagePlugin.PngImageFile image mode=RG...</td>\n",
       "      <td>6</td>\n",
       "      <td>frog</td>\n",
       "    </tr>\n",
       "    <tr>\n",
       "      <th>2</th>\n",
       "      <td>&lt;PIL.PngImagePlugin.PngImageFile image mode=RG...</td>\n",
       "      <td>0</td>\n",
       "      <td>airplane</td>\n",
       "    </tr>\n",
       "    <tr>\n",
       "      <th>3</th>\n",
       "      <td>&lt;PIL.PngImagePlugin.PngImageFile image mode=RG...</td>\n",
       "      <td>2</td>\n",
       "      <td>bird</td>\n",
       "    </tr>\n",
       "    <tr>\n",
       "      <th>4</th>\n",
       "      <td>&lt;PIL.PngImagePlugin.PngImageFile image mode=RG...</td>\n",
       "      <td>7</td>\n",
       "      <td>horse</td>\n",
       "    </tr>\n",
       "  </tbody>\n",
       "</table>\n",
       "</div>"
      ],
      "text/plain": [
       "                                                 img  label label_name\n",
       "0  <PIL.PngImagePlugin.PngImageFile image mode=RG...      0   airplane\n",
       "1  <PIL.PngImagePlugin.PngImageFile image mode=RG...      6       frog\n",
       "2  <PIL.PngImagePlugin.PngImageFile image mode=RG...      0   airplane\n",
       "3  <PIL.PngImagePlugin.PngImageFile image mode=RG...      2       bird\n",
       "4  <PIL.PngImagePlugin.PngImageFile image mode=RG...      7      horse"
      ]
     },
     "execution_count": 10,
     "metadata": {},
     "output_type": "execute_result"
    }
   ],
   "source": [
    "def label_int2str(row):\n",
    "    return cifar10[\"train\"].features[\"label\"].int2str(row)\n",
    "\n",
    "df[\"label_name\"] = df[\"label\"].apply(label_int2str)\n",
    "df.head()"
   ]
  },
  {
   "cell_type": "code",
   "execution_count": 11,
   "metadata": {},
   "outputs": [
    {
     "data": {
      "image/png": "[encoded data removed]",
      "text/plain": [
       "<Figure size 640x480 with 1 Axes>"
      ]
     },
     "metadata": {},
     "output_type": "display_data"
    }
   ],
   "source": [
    "import matplotlib.pyplot as plt\n",
    "import seaborn as sns\n",
    "sns.set_theme()\n",
    "\n",
    "df[\"label_name\"].value_counts(ascending=True).plot.barh()\n",
    "plt.title(\"Frequency of Classes in CIFAR-10\")\n",
    "plt.show()"
   ]
  },
  {
   "cell_type": "code",
   "execution_count": 12,
   "metadata": {},
   "outputs": [],
   "source": [
    "# pandas形式のデータセットをリセット\n",
    "cifar10.reset_format()"
   ]
  },
  {
   "cell_type": "markdown",
   "metadata": {},
   "source": [
    "# データセットの前処理\n",
    "ViTで使われている前処理を適用する．"
   ]
  },
  {
   "cell_type": "code",
   "execution_count": 13,
   "metadata": {},
   "outputs": [
    {
     "name": "stderr",
     "output_type": "stream",
     "text": [
      "2024-04-04 19:43:42.946936: I tensorflow/core/platform/cpu_feature_guard.cc:193] This TensorFlow binary is optimized with oneAPI Deep Neural Network Library (oneDNN) to use the following CPU instructions in performance-critical operations:  AVX2 FMA\n",
      "To enable them in other operations, rebuild TensorFlow with the appropriate compiler flags.\n",
      "2024-04-04 19:43:44.206294: W tensorflow/compiler/xla/stream_executor/platform/default/dso_loader.cc:64] Could not load dynamic library 'libnvinfer.so.7'; dlerror: libnvinfer.so.7: cannot open shared object file: No such file or directory\n",
      "2024-04-04 19:43:44.206423: W tensorflow/compiler/xla/stream_executor/platform/default/dso_loader.cc:64] Could not load dynamic library 'libnvinfer_plugin.so.7'; dlerror: libnvinfer_plugin.so.7: cannot open shared object file: No such file or directory\n",
      "2024-04-04 19:43:44.206435: W tensorflow/compiler/tf2tensorrt/utils/py_utils.cc:38] TF-TRT Warning: Cannot dlopen some TensorRT libraries. If you would like to use Nvidia GPU with TensorRT, please make sure the missing libraries mentioned above are installed properly.\n"
     ]
    },
    {
     "data": {
      "text/plain": [
       "ViTImageProcessor {\n",
       "  \"do_normalize\": true,\n",
       "  \"do_rescale\": true,\n",
       "  \"do_resize\": true,\n",
       "  \"image_mean\": [\n",
       "    0.5,\n",
       "    0.5,\n",
       "    0.5\n",
       "  ],\n",
       "  \"image_processor_type\": \"ViTImageProcessor\",\n",
       "  \"image_std\": [\n",
       "    0.5,\n",
       "    0.5,\n",
       "    0.5\n",
       "  ],\n",
       "  \"resample\": 2,\n",
       "  \"rescale_factor\": 0.00392156862745098,\n",
       "  \"size\": {\n",
       "    \"height\": 224,\n",
       "    \"width\": 224\n",
       "  }\n",
       "}"
      ]
     },
     "execution_count": 13,
     "metadata": {},
     "output_type": "execute_result"
    }
   ],
   "source": [
    "from transformers import ViTImageProcessor\n",
    "\n",
    "# 今回は https://huggingface.co/google/vit-base-patch16-224-in21k を利用\n",
    "model_name_or_path = 'google/vit-base-patch16-224-in21k'\n",
    "processor = ViTImageProcessor.from_pretrained(model_name_or_path)\n",
    "processor"
   ]
  },
  {
   "cell_type": "code",
   "execution_count": 14,
   "metadata": {},
   "outputs": [
    {
     "data": {
      "text/plain": [
       "torch.Size([5, 3, 224, 224])"
      ]
     },
     "execution_count": 14,
     "metadata": {},
     "output_type": "execute_result"
    }
   ],
   "source": [
    "# 前処理を5件のサンプルに適用してみる\n",
    "processed_imgs = processor(images=train_ds[:5][\"img\"], return_tensors=\"pt\")\n",
    "processed_imgs[\"pixel_values\"].shape # (batch, channel, height, width)になっている"
   ]
  },
  {
   "cell_type": "code",
   "execution_count": 15,
   "metadata": {},
   "outputs": [
    {
     "data": {
      "text/plain": [
       "['pixel_values']"
      ]
     },
     "execution_count": 15,
     "metadata": {},
     "output_type": "execute_result"
    }
   ],
   "source": [
    "processor.model_input_names # モデルがフォワードパスで期待するフィールド名"
   ]
  },
  {
   "cell_type": "code",
   "execution_count": 16,
   "metadata": {},
   "outputs": [],
   "source": [
    "def transforms(batch):\n",
    "    # 画像のバッチを変換してtorch.tensorにする\n",
    "    inputs = processor(images=batch[\"img\"], return_tensors=\"pt\")\n",
    "\n",
    "    # ラベルのフィールドも前処理時に追加\n",
    "    inputs[\"labels\"] = batch[\"label\"]\n",
    "    return inputs"
   ]
  },
  {
   "cell_type": "code",
   "execution_count": 17,
   "metadata": {},
   "outputs": [
    {
     "name": "stdout",
     "output_type": "stream",
     "text": [
      "{'pixel_values': tensor([[[[ 0.3961,  0.3961,  0.3961,  ...,  0.2941,  0.2941,  0.2941],\n",
      "          [ 0.3961,  0.3961,  0.3961,  ...,  0.2941,  0.2941,  0.2941],\n",
      "          [ 0.3961,  0.3961,  0.3961,  ...,  0.2941,  0.2941,  0.2941],\n",
      "          ...,\n",
      "          [-0.1922, -0.1922, -0.1922,  ..., -0.2863, -0.2863, -0.2863],\n",
      "          [-0.1922, -0.1922, -0.1922,  ..., -0.2863, -0.2863, -0.2863],\n",
      "          [-0.1922, -0.1922, -0.1922,  ..., -0.2863, -0.2863, -0.2863]],\n",
      "\n",
      "         [[ 0.3804,  0.3804,  0.3804,  ...,  0.2784,  0.2784,  0.2784],\n",
      "          [ 0.3804,  0.3804,  0.3804,  ...,  0.2784,  0.2784,  0.2784],\n",
      "          [ 0.3804,  0.3804,  0.3804,  ...,  0.2784,  0.2784,  0.2784],\n",
      "          ...,\n",
      "          [-0.2471, -0.2471, -0.2471,  ..., -0.3412, -0.3412, -0.3412],\n",
      "          [-0.2471, -0.2471, -0.2471,  ..., -0.3412, -0.3412, -0.3412],\n",
      "          [-0.2471, -0.2471, -0.2471,  ..., -0.3412, -0.3412, -0.3412]],\n",
      "\n",
      "         [[ 0.4824,  0.4824,  0.4824,  ...,  0.3647,  0.3647,  0.3647],\n",
      "          [ 0.4824,  0.4824,  0.4824,  ...,  0.3647,  0.3647,  0.3647],\n",
      "          [ 0.4824,  0.4824,  0.4824,  ...,  0.3647,  0.3647,  0.3647],\n",
      "          ...,\n",
      "          [-0.2784, -0.2784, -0.2784,  ..., -0.3961, -0.3961, -0.3961],\n",
      "          [-0.2784, -0.2784, -0.2784,  ..., -0.3961, -0.3961, -0.3961],\n",
      "          [-0.2784, -0.2784, -0.2784,  ..., -0.3961, -0.3961, -0.3961]]],\n",
      "\n",
      "\n",
      "        [[[-0.7725, -0.7725, -0.7725,  ...,  0.5608,  0.5608,  0.5608],\n",
      "          [-0.7725, -0.7725, -0.7725,  ...,  0.5608,  0.5608,  0.5608],\n",
      "          [-0.7725, -0.7725, -0.7725,  ...,  0.5608,  0.5608,  0.5608],\n",
      "          ...,\n",
      "          [-0.5843, -0.5843, -0.5843,  ..., -0.8196, -0.8196, -0.8196],\n",
      "          [-0.5843, -0.5843, -0.5843,  ..., -0.8196, -0.8196, -0.8196],\n",
      "          [-0.5843, -0.5843, -0.5843,  ..., -0.8196, -0.8196, -0.8196]],\n",
      "\n",
      "         [[-0.6627, -0.6627, -0.6627,  ...,  0.7412,  0.7412,  0.7412],\n",
      "          [-0.6627, -0.6627, -0.6627,  ...,  0.7412,  0.7412,  0.7412],\n",
      "          [-0.6627, -0.6627, -0.6627,  ...,  0.7412,  0.7412,  0.7412],\n",
      "          ...,\n",
      "          [-0.6863, -0.6863, -0.6863,  ..., -0.7882, -0.7882, -0.7882],\n",
      "          [-0.6863, -0.6863, -0.6863,  ..., -0.7882, -0.7882, -0.7882],\n",
      "          [-0.6863, -0.6863, -0.6863,  ..., -0.7882, -0.7882, -0.7882]],\n",
      "\n",
      "         [[-0.9216, -0.9216, -0.9216,  ...,  0.0980,  0.0980,  0.0980],\n",
      "          [-0.9216, -0.9216, -0.9216,  ...,  0.0980,  0.0980,  0.0980],\n",
      "          [-0.9216, -0.9216, -0.9216,  ...,  0.0980,  0.0980,  0.0980],\n",
      "          ...,\n",
      "          [-0.8196, -0.8196, -0.8196,  ..., -0.7647, -0.7647, -0.7647],\n",
      "          [-0.8196, -0.8196, -0.8196,  ..., -0.7647, -0.7647, -0.7647],\n",
      "          [-0.8196, -0.8196, -0.8196,  ..., -0.7647, -0.7647, -0.7647]]],\n",
      "\n",
      "\n",
      "        [[[-0.7176, -0.7176, -0.7176,  ..., -0.7725, -0.7725, -0.7725],\n",
      "          [-0.7176, -0.7176, -0.7176,  ..., -0.7725, -0.7725, -0.7725],\n",
      "          [-0.7176, -0.7176, -0.7176,  ..., -0.7725, -0.7725, -0.7725],\n",
      "          ...,\n",
      "          [ 0.3176,  0.3176,  0.3176,  ...,  0.4118,  0.4118,  0.4118],\n",
      "          [ 0.3176,  0.3176,  0.3176,  ...,  0.4118,  0.4118,  0.4118],\n",
      "          [ 0.3176,  0.3176,  0.3176,  ...,  0.4118,  0.4118,  0.4118]],\n",
      "\n",
      "         [[-0.4902, -0.4902, -0.4902,  ..., -0.7725, -0.7725, -0.7725],\n",
      "          [-0.4902, -0.4902, -0.4902,  ..., -0.7725, -0.7725, -0.7725],\n",
      "          [-0.4902, -0.4902, -0.4902,  ..., -0.7725, -0.7725, -0.7725],\n",
      "          ...,\n",
      "          [ 0.3647,  0.3647,  0.3647,  ...,  0.3490,  0.3490,  0.3490],\n",
      "          [ 0.3647,  0.3647,  0.3647,  ...,  0.3490,  0.3490,  0.3490],\n",
      "          [ 0.3647,  0.3647,  0.3647,  ...,  0.3490,  0.3490,  0.3490]],\n",
      "\n",
      "         [[-0.2000, -0.2000, -0.2000,  ..., -0.7569, -0.7569, -0.7569],\n",
      "          [-0.2000, -0.2000, -0.2000,  ..., -0.7569, -0.7569, -0.7569],\n",
      "          [-0.2000, -0.2000, -0.2000,  ..., -0.7569, -0.7569, -0.7569],\n",
      "          ...,\n",
      "          [ 0.3020,  0.3020,  0.3020,  ...,  0.3333,  0.3333,  0.3333],\n",
      "          [ 0.3020,  0.3020,  0.3020,  ...,  0.3333,  0.3333,  0.3333],\n",
      "          [ 0.3020,  0.3020,  0.3020,  ...,  0.3333,  0.3333,  0.3333]]],\n",
      "\n",
      "\n",
      "        [[[-0.7647, -0.7647, -0.7647,  ...,  0.2784,  0.2784,  0.2784],\n",
      "          [-0.7647, -0.7647, -0.7647,  ...,  0.2784,  0.2784,  0.2784],\n",
      "          [-0.7647, -0.7647, -0.7647,  ...,  0.2784,  0.2784,  0.2784],\n",
      "          ...,\n",
      "          [ 0.2941,  0.2941,  0.2941,  ...,  0.2392,  0.2392,  0.2392],\n",
      "          [ 0.2941,  0.2941,  0.2941,  ...,  0.2392,  0.2392,  0.2392],\n",
      "          [ 0.2941,  0.2941,  0.2941,  ...,  0.2392,  0.2392,  0.2392]],\n",
      "\n",
      "         [[-0.4118, -0.4118, -0.4118,  ...,  0.2784,  0.2784,  0.2784],\n",
      "          [-0.4118, -0.4118, -0.4118,  ...,  0.2784,  0.2784,  0.2784],\n",
      "          [-0.4118, -0.4118, -0.4118,  ...,  0.2784,  0.2784,  0.2784],\n",
      "          ...,\n",
      "          [ 0.3490,  0.3490,  0.3490,  ...,  0.2549,  0.2549,  0.2549],\n",
      "          [ 0.3490,  0.3490,  0.3490,  ...,  0.2549,  0.2549,  0.2549],\n",
      "          [ 0.3490,  0.3490,  0.3490,  ...,  0.2549,  0.2549,  0.2549]],\n",
      "\n",
      "         [[-0.8196, -0.8196, -0.8196,  ...,  0.2784,  0.2784,  0.2784],\n",
      "          [-0.8196, -0.8196, -0.8196,  ...,  0.2784,  0.2784,  0.2784],\n",
      "          [-0.8196, -0.8196, -0.8196,  ...,  0.2784,  0.2784,  0.2784],\n",
      "          ...,\n",
      "          [ 0.1529,  0.1529,  0.1529,  ...,  0.1529,  0.1529,  0.1529],\n",
      "          [ 0.1529,  0.1529,  0.1529,  ...,  0.1529,  0.1529,  0.1529],\n",
      "          [ 0.1529,  0.1529,  0.1529,  ...,  0.1529,  0.1529,  0.1529]]],\n",
      "\n",
      "\n",
      "        [[[-0.7255, -0.7255, -0.7255,  ...,  0.2000,  0.2000,  0.2000],\n",
      "          [-0.7255, -0.7255, -0.7255,  ...,  0.2000,  0.2000,  0.2000],\n",
      "          [-0.7255, -0.7255, -0.7255,  ...,  0.2000,  0.2000,  0.2000],\n",
      "          ...,\n",
      "          [ 0.3020,  0.3020,  0.3020,  ..., -0.2078, -0.2078, -0.2078],\n",
      "          [ 0.3020,  0.3020,  0.3020,  ..., -0.2078, -0.2078, -0.2078],\n",
      "          [ 0.3020,  0.3020,  0.3020,  ..., -0.2078, -0.2078, -0.2078]],\n",
      "\n",
      "         [[-0.5686, -0.5686, -0.5686,  ...,  0.3961,  0.3961,  0.3961],\n",
      "          [-0.5686, -0.5686, -0.5686,  ...,  0.3961,  0.3961,  0.3961],\n",
      "          [-0.5686, -0.5686, -0.5686,  ...,  0.3961,  0.3961,  0.3961],\n",
      "          ...,\n",
      "          [ 0.1608,  0.1608,  0.1608,  ..., -0.1529, -0.1529, -0.1529],\n",
      "          [ 0.1608,  0.1608,  0.1608,  ..., -0.1529, -0.1529, -0.1529],\n",
      "          [ 0.1608,  0.1608,  0.1608,  ..., -0.1529, -0.1529, -0.1529]],\n",
      "\n",
      "         [[-0.6706, -0.6706, -0.6706,  ...,  0.2549,  0.2549,  0.2549],\n",
      "          [-0.6706, -0.6706, -0.6706,  ...,  0.2549,  0.2549,  0.2549],\n",
      "          [-0.6706, -0.6706, -0.6706,  ...,  0.2549,  0.2549,  0.2549],\n",
      "          ...,\n",
      "          [ 0.0745,  0.0745,  0.0745,  ..., -0.2784, -0.2784, -0.2784],\n",
      "          [ 0.0745,  0.0745,  0.0745,  ..., -0.2784, -0.2784, -0.2784],\n",
      "          [ 0.0745,  0.0745,  0.0745,  ..., -0.2784, -0.2784, -0.2784]]]]), 'labels': [0, 6, 0, 2, 7]}\n",
      "torch.Size([5, 3, 224, 224])\n",
      "5\n"
     ]
    }
   ],
   "source": [
    "transformed_ex = transforms(train_ds[:5])\n",
    "print(transformed_ex)\n",
    "print(transformed_ex[\"pixel_values\"].size())\n",
    "print(len(transformed_ex[\"labels\"]))"
   ]
  },
  {
   "cell_type": "code",
   "execution_count": 18,
   "metadata": {},
   "outputs": [],
   "source": [
    "# cifar10_preprocessed = cifar10.map(preprocess, batched=True, batch_size=None)\n",
    "# 上記だと時間がかかるので必要な時にリアルタイムで前処理を適用するようにする\n",
    "cifar10_preprocessed = cifar10.with_transform(transforms)"
   ]
  },
  {
   "cell_type": "code",
   "execution_count": 19,
   "metadata": {},
   "outputs": [
    {
     "data": {
      "text/plain": [
       "DatasetDict({\n",
       "    train: Dataset({\n",
       "        features: ['img', 'label'],\n",
       "        num_rows: 50000\n",
       "    })\n",
       "    test: Dataset({\n",
       "        features: ['img', 'label'],\n",
       "        num_rows: 10000\n",
       "    })\n",
       "})"
      ]
     },
     "execution_count": 19,
     "metadata": {},
     "output_type": "execute_result"
    }
   ],
   "source": [
    "cifar10_preprocessed"
   ]
  },
  {
   "cell_type": "code",
   "execution_count": 20,
   "metadata": {},
   "outputs": [
    {
     "name": "stdout",
     "output_type": "stream",
     "text": [
      "{'pixel_values': tensor([[[[ 0.3961,  0.3961,  0.3961,  ...,  0.2941,  0.2941,  0.2941],\n",
      "          [ 0.3961,  0.3961,  0.3961,  ...,  0.2941,  0.2941,  0.2941],\n",
      "          [ 0.3961,  0.3961,  0.3961,  ...,  0.2941,  0.2941,  0.2941],\n",
      "          ...,\n",
      "          [-0.1922, -0.1922, -0.1922,  ..., -0.2863, -0.2863, -0.2863],\n",
      "          [-0.1922, -0.1922, -0.1922,  ..., -0.2863, -0.2863, -0.2863],\n",
      "          [-0.1922, -0.1922, -0.1922,  ..., -0.2863, -0.2863, -0.2863]],\n",
      "\n",
      "         [[ 0.3804,  0.3804,  0.3804,  ...,  0.2784,  0.2784,  0.2784],\n",
      "          [ 0.3804,  0.3804,  0.3804,  ...,  0.2784,  0.2784,  0.2784],\n",
      "          [ 0.3804,  0.3804,  0.3804,  ...,  0.2784,  0.2784,  0.2784],\n",
      "          ...,\n",
      "          [-0.2471, -0.2471, -0.2471,  ..., -0.3412, -0.3412, -0.3412],\n",
      "          [-0.2471, -0.2471, -0.2471,  ..., -0.3412, -0.3412, -0.3412],\n",
      "          [-0.2471, -0.2471, -0.2471,  ..., -0.3412, -0.3412, -0.3412]],\n",
      "\n",
      "         [[ 0.4824,  0.4824,  0.4824,  ...,  0.3647,  0.3647,  0.3647],\n",
      "          [ 0.4824,  0.4824,  0.4824,  ...,  0.3647,  0.3647,  0.3647],\n",
      "          [ 0.4824,  0.4824,  0.4824,  ...,  0.3647,  0.3647,  0.3647],\n",
      "          ...,\n",
      "          [-0.2784, -0.2784, -0.2784,  ..., -0.3961, -0.3961, -0.3961],\n",
      "          [-0.2784, -0.2784, -0.2784,  ..., -0.3961, -0.3961, -0.3961],\n",
      "          [-0.2784, -0.2784, -0.2784,  ..., -0.3961, -0.3961, -0.3961]]],\n",
      "\n",
      "\n",
      "        [[[-0.7725, -0.7725, -0.7725,  ...,  0.5608,  0.5608,  0.5608],\n",
      "          [-0.7725, -0.7725, -0.7725,  ...,  0.5608,  0.5608,  0.5608],\n",
      "          [-0.7725, -0.7725, -0.7725,  ...,  0.5608,  0.5608,  0.5608],\n",
      "          ...,\n",
      "          [-0.5843, -0.5843, -0.5843,  ..., -0.8196, -0.8196, -0.8196],\n",
      "          [-0.5843, -0.5843, -0.5843,  ..., -0.8196, -0.8196, -0.8196],\n",
      "          [-0.5843, -0.5843, -0.5843,  ..., -0.8196, -0.8196, -0.8196]],\n",
      "\n",
      "         [[-0.6627, -0.6627, -0.6627,  ...,  0.7412,  0.7412,  0.7412],\n",
      "          [-0.6627, -0.6627, -0.6627,  ...,  0.7412,  0.7412,  0.7412],\n",
      "          [-0.6627, -0.6627, -0.6627,  ...,  0.7412,  0.7412,  0.7412],\n",
      "          ...,\n",
      "          [-0.6863, -0.6863, -0.6863,  ..., -0.7882, -0.7882, -0.7882],\n",
      "          [-0.6863, -0.6863, -0.6863,  ..., -0.7882, -0.7882, -0.7882],\n",
      "          [-0.6863, -0.6863, -0.6863,  ..., -0.7882, -0.7882, -0.7882]],\n",
      "\n",
      "         [[-0.9216, -0.9216, -0.9216,  ...,  0.0980,  0.0980,  0.0980],\n",
      "          [-0.9216, -0.9216, -0.9216,  ...,  0.0980,  0.0980,  0.0980],\n",
      "          [-0.9216, -0.9216, -0.9216,  ...,  0.0980,  0.0980,  0.0980],\n",
      "          ...,\n",
      "          [-0.8196, -0.8196, -0.8196,  ..., -0.7647, -0.7647, -0.7647],\n",
      "          [-0.8196, -0.8196, -0.8196,  ..., -0.7647, -0.7647, -0.7647],\n",
      "          [-0.8196, -0.8196, -0.8196,  ..., -0.7647, -0.7647, -0.7647]]],\n",
      "\n",
      "\n",
      "        [[[-0.7176, -0.7176, -0.7176,  ..., -0.7725, -0.7725, -0.7725],\n",
      "          [-0.7176, -0.7176, -0.7176,  ..., -0.7725, -0.7725, -0.7725],\n",
      "          [-0.7176, -0.7176, -0.7176,  ..., -0.7725, -0.7725, -0.7725],\n",
      "          ...,\n",
      "          [ 0.3176,  0.3176,  0.3176,  ...,  0.4118,  0.4118,  0.4118],\n",
      "          [ 0.3176,  0.3176,  0.3176,  ...,  0.4118,  0.4118,  0.4118],\n",
      "          [ 0.3176,  0.3176,  0.3176,  ...,  0.4118,  0.4118,  0.4118]],\n",
      "\n",
      "         [[-0.4902, -0.4902, -0.4902,  ..., -0.7725, -0.7725, -0.7725],\n",
      "          [-0.4902, -0.4902, -0.4902,  ..., -0.7725, -0.7725, -0.7725],\n",
      "          [-0.4902, -0.4902, -0.4902,  ..., -0.7725, -0.7725, -0.7725],\n",
      "          ...,\n",
      "          [ 0.3647,  0.3647,  0.3647,  ...,  0.3490,  0.3490,  0.3490],\n",
      "          [ 0.3647,  0.3647,  0.3647,  ...,  0.3490,  0.3490,  0.3490],\n",
      "          [ 0.3647,  0.3647,  0.3647,  ...,  0.3490,  0.3490,  0.3490]],\n",
      "\n",
      "         [[-0.2000, -0.2000, -0.2000,  ..., -0.7569, -0.7569, -0.7569],\n",
      "          [-0.2000, -0.2000, -0.2000,  ..., -0.7569, -0.7569, -0.7569],\n",
      "          [-0.2000, -0.2000, -0.2000,  ..., -0.7569, -0.7569, -0.7569],\n",
      "          ...,\n",
      "          [ 0.3020,  0.3020,  0.3020,  ...,  0.3333,  0.3333,  0.3333],\n",
      "          [ 0.3020,  0.3020,  0.3020,  ...,  0.3333,  0.3333,  0.3333],\n",
      "          [ 0.3020,  0.3020,  0.3020,  ...,  0.3333,  0.3333,  0.3333]]],\n",
      "\n",
      "\n",
      "        [[[-0.7647, -0.7647, -0.7647,  ...,  0.2784,  0.2784,  0.2784],\n",
      "          [-0.7647, -0.7647, -0.7647,  ...,  0.2784,  0.2784,  0.2784],\n",
      "          [-0.7647, -0.7647, -0.7647,  ...,  0.2784,  0.2784,  0.2784],\n",
      "          ...,\n",
      "          [ 0.2941,  0.2941,  0.2941,  ...,  0.2392,  0.2392,  0.2392],\n",
      "          [ 0.2941,  0.2941,  0.2941,  ...,  0.2392,  0.2392,  0.2392],\n",
      "          [ 0.2941,  0.2941,  0.2941,  ...,  0.2392,  0.2392,  0.2392]],\n",
      "\n",
      "         [[-0.4118, -0.4118, -0.4118,  ...,  0.2784,  0.2784,  0.2784],\n",
      "          [-0.4118, -0.4118, -0.4118,  ...,  0.2784,  0.2784,  0.2784],\n",
      "          [-0.4118, -0.4118, -0.4118,  ...,  0.2784,  0.2784,  0.2784],\n",
      "          ...,\n",
      "          [ 0.3490,  0.3490,  0.3490,  ...,  0.2549,  0.2549,  0.2549],\n",
      "          [ 0.3490,  0.3490,  0.3490,  ...,  0.2549,  0.2549,  0.2549],\n",
      "          [ 0.3490,  0.3490,  0.3490,  ...,  0.2549,  0.2549,  0.2549]],\n",
      "\n",
      "         [[-0.8196, -0.8196, -0.8196,  ...,  0.2784,  0.2784,  0.2784],\n",
      "          [-0.8196, -0.8196, -0.8196,  ...,  0.2784,  0.2784,  0.2784],\n",
      "          [-0.8196, -0.8196, -0.8196,  ...,  0.2784,  0.2784,  0.2784],\n",
      "          ...,\n",
      "          [ 0.1529,  0.1529,  0.1529,  ...,  0.1529,  0.1529,  0.1529],\n",
      "          [ 0.1529,  0.1529,  0.1529,  ...,  0.1529,  0.1529,  0.1529],\n",
      "          [ 0.1529,  0.1529,  0.1529,  ...,  0.1529,  0.1529,  0.1529]]],\n",
      "\n",
      "\n",
      "        [[[-0.7255, -0.7255, -0.7255,  ...,  0.2000,  0.2000,  0.2000],\n",
      "          [-0.7255, -0.7255, -0.7255,  ...,  0.2000,  0.2000,  0.2000],\n",
      "          [-0.7255, -0.7255, -0.7255,  ...,  0.2000,  0.2000,  0.2000],\n",
      "          ...,\n",
      "          [ 0.3020,  0.3020,  0.3020,  ..., -0.2078, -0.2078, -0.2078],\n",
      "          [ 0.3020,  0.3020,  0.3020,  ..., -0.2078, -0.2078, -0.2078],\n",
      "          [ 0.3020,  0.3020,  0.3020,  ..., -0.2078, -0.2078, -0.2078]],\n",
      "\n",
      "         [[-0.5686, -0.5686, -0.5686,  ...,  0.3961,  0.3961,  0.3961],\n",
      "          [-0.5686, -0.5686, -0.5686,  ...,  0.3961,  0.3961,  0.3961],\n",
      "          [-0.5686, -0.5686, -0.5686,  ...,  0.3961,  0.3961,  0.3961],\n",
      "          ...,\n",
      "          [ 0.1608,  0.1608,  0.1608,  ..., -0.1529, -0.1529, -0.1529],\n",
      "          [ 0.1608,  0.1608,  0.1608,  ..., -0.1529, -0.1529, -0.1529],\n",
      "          [ 0.1608,  0.1608,  0.1608,  ..., -0.1529, -0.1529, -0.1529]],\n",
      "\n",
      "         [[-0.6706, -0.6706, -0.6706,  ...,  0.2549,  0.2549,  0.2549],\n",
      "          [-0.6706, -0.6706, -0.6706,  ...,  0.2549,  0.2549,  0.2549],\n",
      "          [-0.6706, -0.6706, -0.6706,  ...,  0.2549,  0.2549,  0.2549],\n",
      "          ...,\n",
      "          [ 0.0745,  0.0745,  0.0745,  ..., -0.2784, -0.2784, -0.2784],\n",
      "          [ 0.0745,  0.0745,  0.0745,  ..., -0.2784, -0.2784, -0.2784],\n",
      "          [ 0.0745,  0.0745,  0.0745,  ..., -0.2784, -0.2784, -0.2784]]]]), 'labels': [0, 6, 0, 2, 7]}\n",
      "dict_keys(['pixel_values', 'labels'])\n",
      "torch.Size([5, 3, 224, 224])\n",
      "{'img': [<PIL.PngImagePlugin.PngImageFile image mode=RGB size=32x32 at 0x7FDA08B14310>, <PIL.PngImagePlugin.PngImageFile image mode=RGB size=32x32 at 0x7FDA08AC4C10>, <PIL.PngImagePlugin.PngImageFile image mode=RGB size=32x32 at 0x7FDA08B026D0>, <PIL.PngImagePlugin.PngImageFile image mode=RGB size=32x32 at 0x7FDA08B02D90>, <PIL.PngImagePlugin.PngImageFile image mode=RGB size=32x32 at 0x7FDA08B02110>], 'label': [0, 6, 0, 2, 7]}\n",
      "dict_keys(['img', 'label'])\n",
      "[<PIL.PngImagePlugin.PngImageFile image mode=RGB size=32x32 at 0x7FDA08AC4350>, <PIL.PngImagePlugin.PngImageFile image mode=RGB size=32x32 at 0x7FDA08AC4C10>, <PIL.PngImagePlugin.PngImageFile image mode=RGB size=32x32 at 0x7FDA08AC4710>, <PIL.PngImagePlugin.PngImageFile image mode=RGB size=32x32 at 0x7FDA08AC49D0>, <PIL.PngImagePlugin.PngImageFile image mode=RGB size=32x32 at 0x7FDA08B02110>]\n"
     ]
    }
   ],
   "source": [
    "# 形状が224x224になっていることを確認\n",
    "print(cifar10_preprocessed[\"train\"][:5])\n",
    "print(cifar10_preprocessed[\"train\"][:5].keys())\n",
    "print(cifar10_preprocessed[\"train\"][:5][\"pixel_values\"].shape)\n",
    "# 変換前\n",
    "print(cifar10[\"train\"][:5])\n",
    "print(cifar10[\"train\"][:5].keys())\n",
    "print(cifar10[\"train\"][:5][\"img\"])"
   ]
  },
  {
   "cell_type": "code",
   "execution_count": 21,
   "metadata": {},
   "outputs": [],
   "source": [
    "from transformers import DefaultDataCollator\n",
    "\n",
    "data_collator = DefaultDataCollator()"
   ]
  },
  {
   "cell_type": "markdown",
   "metadata": {},
   "source": [
    "# ViTのfine-tuningを行う"
   ]
  },
  {
   "cell_type": "markdown",
   "metadata": {},
   "source": [
    "## 評価指標の設定"
   ]
  },
  {
   "cell_type": "code",
   "execution_count": 22,
   "metadata": {},
   "outputs": [
    {
     "name": "stderr",
     "output_type": "stream",
     "text": [
      "/usr/local/lib/python3.7/site-packages/ipykernel_launcher.py:2: FutureWarning: list_metrics is deprecated and will be removed in the next major version of datasets. Use 'evaluate.list_evaluation_modules' instead, from the new library 🤗 Evaluate: https://huggingface.co/docs/evaluate\n",
      "  \n"
     ]
    },
    {
     "data": {
      "text/plain": [
       "235"
      ]
     },
     "execution_count": 22,
     "metadata": {},
     "output_type": "execute_result"
    }
   ],
   "source": [
    "from datasets import list_metrics, load_metric\n",
    "metrics_list = list_metrics()\n",
    "len(metrics_list)"
   ]
  },
  {
   "cell_type": "code",
   "execution_count": 23,
   "metadata": {},
   "outputs": [
    {
     "data": {
      "text/plain": [
       "['accuracy', 'f1']"
      ]
     },
     "execution_count": 23,
     "metadata": {},
     "output_type": "execute_result"
    }
   ],
   "source": [
    "# accかf1を使いたい\n",
    "wanted_list = [\"acc\", \"f1\"]\n",
    "# wanted_listのどれかで始まるメトリクスをmetrics_listから取り出す\n",
    "wanted_metrics = [metric for metric in metrics_list if any(metric.startswith(w) for w in wanted_list)]\n",
    "wanted_metrics"
   ]
  },
  {
   "cell_type": "code",
   "execution_count": 24,
   "metadata": {},
   "outputs": [
    {
     "name": "stderr",
     "output_type": "stream",
     "text": [
      "/usr/local/lib/python3.7/site-packages/ipykernel_launcher.py:1: FutureWarning: load_metric is deprecated and will be removed in the next major version of datasets. Use 'evaluate.load' instead, from the new library 🤗 Evaluate: https://huggingface.co/docs/evaluate\n",
      "  \"\"\"Entry point for launching an IPython kernel.\n"
     ]
    }
   ],
   "source": [
    "met_acc = load_metric(\"accuracy\")\n",
    "met_f1 = load_metric(\"f1\")"
   ]
  },
  {
   "cell_type": "code",
   "execution_count": 25,
   "metadata": {},
   "outputs": [],
   "source": [
    "def compute_metrics(pred):\n",
    "    labels = pred.label_ids\n",
    "    preds = pred.predictions.argmax(-1)\n",
    "    acc = met_acc.compute(predictions=preds, references=labels)\n",
    "    f1 = met_f1.compute(predictions=preds, references=labels, average=\"macro\")\n",
    "    return {\n",
    "        \"accuracy\": acc,\n",
    "        \"f1\": f1\n",
    "    }"
   ]
  },
  {
   "cell_type": "markdown",
   "metadata": {},
   "source": [
    "## pretrained modelのロード"
   ]
  },
  {
   "cell_type": "code",
   "execution_count": 26,
   "metadata": {},
   "outputs": [
    {
     "name": "stderr",
     "output_type": "stream",
     "text": [
      "Some weights of the model checkpoint at google/vit-base-patch16-224-in21k were not used when initializing ViTForImageClassification: ['pooler.dense.bias', 'pooler.dense.weight']\n",
      "- This IS expected if you are initializing ViTForImageClassification from the checkpoint of a model trained on another task or with another architecture (e.g. initializing a BertForSequenceClassification model from a BertForPreTraining model).\n",
      "- This IS NOT expected if you are initializing ViTForImageClassification from the checkpoint of a model that you expect to be exactly identical (initializing a BertForSequenceClassification model from a BertForSequenceClassification model).\n",
      "Some weights of ViTForImageClassification were not initialized from the model checkpoint at google/vit-base-patch16-224-in21k and are newly initialized: ['classifier.bias', 'classifier.weight']\n",
      "You should probably TRAIN this model on a down-stream task to be able to use it for predictions and inference.\n"
     ]
    }
   ],
   "source": [
    "from transformers import ViTForImageClassification\n",
    "\n",
    "labels = cifar10_preprocessed[\"train\"].features[\"label\"].names\n",
    "\n",
    "model = ViTForImageClassification.from_pretrained(\n",
    "    model_name_or_path,\n",
    "    num_labels=len(labels),\n",
    "    id2label={str(i): c for i, c in enumerate(labels)},\n",
    "    label2id={c: str(i) for i, c in enumerate(labels)}\n",
    ").to(device)"
   ]
  },
  {
   "cell_type": "code",
   "execution_count": 27,
   "metadata": {},
   "outputs": [
    {
     "data": {
      "text/plain": [
       "device(type='cuda', index=0)"
      ]
     },
     "execution_count": 27,
     "metadata": {},
     "output_type": "execute_result"
    }
   ],
   "source": [
    "model.device # gpuに載ってることを確認"
   ]
  },
  {
   "cell_type": "markdown",
   "metadata": {},
   "source": [
    "## 訓練の設定をしてfine-tuneを実行"
   ]
  },
  {
   "cell_type": "code",
   "execution_count": 5,
   "metadata": {},
   "outputs": [
    {
     "name": "stderr",
     "output_type": "stream",
     "text": [
      "2024-04-17 14:11:21.998871: I tensorflow/core/platform/cpu_feature_guard.cc:193] This TensorFlow binary is optimized with oneAPI Deep Neural Network Library (oneDNN) to use the following CPU instructions in performance-critical operations:  AVX2 FMA\n",
      "To enable them in other operations, rebuild TensorFlow with the appropriate compiler flags.\n",
      "2024-04-17 14:11:26.375409: W tensorflow/compiler/xla/stream_executor/platform/default/dso_loader.cc:64] Could not load dynamic library 'libnvinfer.so.7'; dlerror: libnvinfer.so.7: cannot open shared object file: No such file or directory\n",
      "2024-04-17 14:11:26.375591: W tensorflow/compiler/xla/stream_executor/platform/default/dso_loader.cc:64] Could not load dynamic library 'libnvinfer_plugin.so.7'; dlerror: libnvinfer_plugin.so.7: cannot open shared object file: No such file or directory\n",
      "2024-04-17 14:11:26.375605: W tensorflow/compiler/tf2tensorrt/utils/py_utils.cc:38] TF-TRT Warning: Cannot dlopen some TensorRT libraries. If you would like to use Nvidia GPU with TensorRT, please make sure the missing libraries mentioned above are installed properly.\n"
     ]
    },
    {
     "ename": "NameError",
     "evalue": "name 'cifar10_preprocessed' is not defined",
     "output_type": "error",
     "traceback": [
      "\u001b[0;31m---------------------------------------------------------------------------\u001b[0m",
      "\u001b[0;31mNameError\u001b[0m                                 Traceback (most recent call last)",
      "\u001b[0;32m/tmp/ipykernel_990/3207471247.py\u001b[0m in \u001b[0;36m<module>\u001b[0;34m\u001b[0m\n\u001b[1;32m      2\u001b[0m \u001b[0;34m\u001b[0m\u001b[0m\n\u001b[1;32m      3\u001b[0m \u001b[0mbatch_size\u001b[0m \u001b[0;34m=\u001b[0m \u001b[0;36m64\u001b[0m\u001b[0;34m\u001b[0m\u001b[0;34m\u001b[0m\u001b[0m\n\u001b[0;32m----> 4\u001b[0;31m \u001b[0mlogging_steps\u001b[0m \u001b[0;34m=\u001b[0m \u001b[0mlen\u001b[0m\u001b[0;34m(\u001b[0m\u001b[0mcifar10_preprocessed\u001b[0m\u001b[0;34m[\u001b[0m\u001b[0;34m\"train\"\u001b[0m\u001b[0;34m]\u001b[0m\u001b[0;34m)\u001b[0m \u001b[0;34m//\u001b[0m \u001b[0mbatch_size\u001b[0m\u001b[0;34m\u001b[0m\u001b[0;34m\u001b[0m\u001b[0m\n\u001b[0m\u001b[1;32m      5\u001b[0m training_args = TrainingArguments(\n\u001b[1;32m      6\u001b[0m     \u001b[0moutput_dir\u001b[0m\u001b[0;34m=\u001b[0m\u001b[0;34m\"./vit-c10\"\u001b[0m\u001b[0;34m,\u001b[0m\u001b[0;34m\u001b[0m\u001b[0;34m\u001b[0m\u001b[0m\n",
      "\u001b[0;31mNameError\u001b[0m: name 'cifar10_preprocessed' is not defined"
     ]
    }
   ],
   "source": [
    "from transformers import TrainingArguments\n",
    "\n",
    "batch_size = 64\n",
    "logging_steps = len(cifar10_preprocessed[\"train\"]) // batch_size\n",
    "training_args = TrainingArguments(\n",
    "    output_dir=\"./vit-c10\",\n",
    "    num_train_epochs=2,\n",
    "    learning_rate=2e-4,\n",
    "    per_device_train_batch_size=batch_size,\n",
    "    per_device_eval_batch_size=batch_size,\n",
    "    remove_unused_columns=False, # img列がないとエラーになるので必要\n",
    "    evaluation_strategy=\"epoch\",\n",
    "    logging_strategy=\"epoch\",\n",
    "    push_to_hub=False,\n",
    "    disable_tqdm=False,\n",
    "    log_level=\"error\",\n",
    ")"
   ]
  },
  {
   "cell_type": "code",
   "execution_count": null,
   "metadata": {},
   "outputs": [],
   "source": [
    "from transformers import Trainer\n",
    "\n",
    "trainer = Trainer(\n",
    "    model=model,\n",
    "    args=training_args,\n",
    "    data_collator=data_collator,\n",
    "    compute_metrics=compute_metrics,\n",
    "    train_dataset=cifar10_preprocessed[\"train\"],\n",
    "    tokenizer=processor,\n",
    ")\n"
   ]
  },
  {
   "cell_type": "markdown",
   "metadata": {},
   "source": [
    "# 訓練はpyファイルの方で終わっているので，そのモデルをロードして推論したい"
   ]
  },
  {
   "cell_type": "code",
   "execution_count": 2,
   "metadata": {},
   "outputs": [],
   "source": [
    "from transformers import AutoModelForImageClassification, AutoTokenizer"
   ]
  },
  {
   "cell_type": "code",
   "execution_count": 3,
   "metadata": {},
   "outputs": [
    {
     "data": {
      "text/plain": [
       "ViTForImageClassification(\n",
       "  (vit): ViTModel(\n",
       "    (embeddings): ViTEmbeddings(\n",
       "      (patch_embeddings): ViTPatchEmbeddings(\n",
       "        (projection): Conv2d(3, 768, kernel_size=(16, 16), stride=(16, 16))\n",
       "      )\n",
       "      (dropout): Dropout(p=0.0, inplace=False)\n",
       "    )\n",
       "    (encoder): ViTEncoder(\n",
       "      (layer): ModuleList(\n",
       "        (0): ViTLayer(\n",
       "          (attention): ViTAttention(\n",
       "            (attention): ViTSelfAttention(\n",
       "              (query): Linear(in_features=768, out_features=768, bias=True)\n",
       "              (key): Linear(in_features=768, out_features=768, bias=True)\n",
       "              (value): Linear(in_features=768, out_features=768, bias=True)\n",
       "              (dropout): Dropout(p=0.0, inplace=False)\n",
       "            )\n",
       "            (output): ViTSelfOutput(\n",
       "              (dense): Linear(in_features=768, out_features=768, bias=True)\n",
       "              (dropout): Dropout(p=0.0, inplace=False)\n",
       "            )\n",
       "          )\n",
       "          (intermediate): ViTIntermediate(\n",
       "            (dense): Linear(in_features=768, out_features=3072, bias=True)\n",
       "            (intermediate_act_fn): GELUActivation()\n",
       "          )\n",
       "          (output): ViTOutput(\n",
       "            (dense): Linear(in_features=3072, out_features=768, bias=True)\n",
       "            (dropout): Dropout(p=0.0, inplace=False)\n",
       "          )\n",
       "          (layernorm_before): LayerNorm((768,), eps=1e-12, elementwise_affine=True)\n",
       "          (layernorm_after): LayerNorm((768,), eps=1e-12, elementwise_affine=True)\n",
       "        )\n",
       "        (1): ViTLayer(\n",
       "          (attention): ViTAttention(\n",
       "            (attention): ViTSelfAttention(\n",
       "              (query): Linear(in_features=768, out_features=768, bias=True)\n",
       "              (key): Linear(in_features=768, out_features=768, bias=True)\n",
       "              (value): Linear(in_features=768, out_features=768, bias=True)\n",
       "              (dropout): Dropout(p=0.0, inplace=False)\n",
       "            )\n",
       "            (output): ViTSelfOutput(\n",
       "              (dense): Linear(in_features=768, out_features=768, bias=True)\n",
       "              (dropout): Dropout(p=0.0, inplace=False)\n",
       "            )\n",
       "          )\n",
       "          (intermediate): ViTIntermediate(\n",
       "            (dense): Linear(in_features=768, out_features=3072, bias=True)\n",
       "            (intermediate_act_fn): GELUActivation()\n",
       "          )\n",
       "          (output): ViTOutput(\n",
       "            (dense): Linear(in_features=3072, out_features=768, bias=True)\n",
       "            (dropout): Dropout(p=0.0, inplace=False)\n",
       "          )\n",
       "          (layernorm_before): LayerNorm((768,), eps=1e-12, elementwise_affine=True)\n",
       "          (layernorm_after): LayerNorm((768,), eps=1e-12, elementwise_affine=True)\n",
       "        )\n",
       "        (2): ViTLayer(\n",
       "          (attention): ViTAttention(\n",
       "            (attention): ViTSelfAttention(\n",
       "              (query): Linear(in_features=768, out_features=768, bias=True)\n",
       "              (key): Linear(in_features=768, out_features=768, bias=True)\n",
       "              (value): Linear(in_features=768, out_features=768, bias=True)\n",
       "              (dropout): Dropout(p=0.0, inplace=False)\n",
       "            )\n",
       "            (output): ViTSelfOutput(\n",
       "              (dense): Linear(in_features=768, out_features=768, bias=True)\n",
       "              (dropout): Dropout(p=0.0, inplace=False)\n",
       "            )\n",
       "          )\n",
       "          (intermediate): ViTIntermediate(\n",
       "            (dense): Linear(in_features=768, out_features=3072, bias=True)\n",
       "            (intermediate_act_fn): GELUActivation()\n",
       "          )\n",
       "          (output): ViTOutput(\n",
       "            (dense): Linear(in_features=3072, out_features=768, bias=True)\n",
       "            (dropout): Dropout(p=0.0, inplace=False)\n",
       "          )\n",
       "          (layernorm_before): LayerNorm((768,), eps=1e-12, elementwise_affine=True)\n",
       "          (layernorm_after): LayerNorm((768,), eps=1e-12, elementwise_affine=True)\n",
       "        )\n",
       "        (3): ViTLayer(\n",
       "          (attention): ViTAttention(\n",
       "            (attention): ViTSelfAttention(\n",
       "              (query): Linear(in_features=768, out_features=768, bias=True)\n",
       "              (key): Linear(in_features=768, out_features=768, bias=True)\n",
       "              (value): Linear(in_features=768, out_features=768, bias=True)\n",
       "              (dropout): Dropout(p=0.0, inplace=False)\n",
       "            )\n",
       "            (output): ViTSelfOutput(\n",
       "              (dense): Linear(in_features=768, out_features=768, bias=True)\n",
       "              (dropout): Dropout(p=0.0, inplace=False)\n",
       "            )\n",
       "          )\n",
       "          (intermediate): ViTIntermediate(\n",
       "            (dense): Linear(in_features=768, out_features=3072, bias=True)\n",
       "            (intermediate_act_fn): GELUActivation()\n",
       "          )\n",
       "          (output): ViTOutput(\n",
       "            (dense): Linear(in_features=3072, out_features=768, bias=True)\n",
       "            (dropout): Dropout(p=0.0, inplace=False)\n",
       "          )\n",
       "          (layernorm_before): LayerNorm((768,), eps=1e-12, elementwise_affine=True)\n",
       "          (layernorm_after): LayerNorm((768,), eps=1e-12, elementwise_affine=True)\n",
       "        )\n",
       "        (4): ViTLayer(\n",
       "          (attention): ViTAttention(\n",
       "            (attention): ViTSelfAttention(\n",
       "              (query): Linear(in_features=768, out_features=768, bias=True)\n",
       "              (key): Linear(in_features=768, out_features=768, bias=True)\n",
       "              (value): Linear(in_features=768, out_features=768, bias=True)\n",
       "              (dropout): Dropout(p=0.0, inplace=False)\n",
       "            )\n",
       "            (output): ViTSelfOutput(\n",
       "              (dense): Linear(in_features=768, out_features=768, bias=True)\n",
       "              (dropout): Dropout(p=0.0, inplace=False)\n",
       "            )\n",
       "          )\n",
       "          (intermediate): ViTIntermediate(\n",
       "            (dense): Linear(in_features=768, out_features=3072, bias=True)\n",
       "            (intermediate_act_fn): GELUActivation()\n",
       "          )\n",
       "          (output): ViTOutput(\n",
       "            (dense): Linear(in_features=3072, out_features=768, bias=True)\n",
       "            (dropout): Dropout(p=0.0, inplace=False)\n",
       "          )\n",
       "          (layernorm_before): LayerNorm((768,), eps=1e-12, elementwise_affine=True)\n",
       "          (layernorm_after): LayerNorm((768,), eps=1e-12, elementwise_affine=True)\n",
       "        )\n",
       "        (5): ViTLayer(\n",
       "          (attention): ViTAttention(\n",
       "            (attention): ViTSelfAttention(\n",
       "              (query): Linear(in_features=768, out_features=768, bias=True)\n",
       "              (key): Linear(in_features=768, out_features=768, bias=True)\n",
       "              (value): Linear(in_features=768, out_features=768, bias=True)\n",
       "              (dropout): Dropout(p=0.0, inplace=False)\n",
       "            )\n",
       "            (output): ViTSelfOutput(\n",
       "              (dense): Linear(in_features=768, out_features=768, bias=True)\n",
       "              (dropout): Dropout(p=0.0, inplace=False)\n",
       "            )\n",
       "          )\n",
       "          (intermediate): ViTIntermediate(\n",
       "            (dense): Linear(in_features=768, out_features=3072, bias=True)\n",
       "            (intermediate_act_fn): GELUActivation()\n",
       "          )\n",
       "          (output): ViTOutput(\n",
       "            (dense): Linear(in_features=3072, out_features=768, bias=True)\n",
       "            (dropout): Dropout(p=0.0, inplace=False)\n",
       "          )\n",
       "          (layernorm_before): LayerNorm((768,), eps=1e-12, elementwise_affine=True)\n",
       "          (layernorm_after): LayerNorm((768,), eps=1e-12, elementwise_affine=True)\n",
       "        )\n",
       "        (6): ViTLayer(\n",
       "          (attention): ViTAttention(\n",
       "            (attention): ViTSelfAttention(\n",
       "              (query): Linear(in_features=768, out_features=768, bias=True)\n",
       "              (key): Linear(in_features=768, out_features=768, bias=True)\n",
       "              (value): Linear(in_features=768, out_features=768, bias=True)\n",
       "              (dropout): Dropout(p=0.0, inplace=False)\n",
       "            )\n",
       "            (output): ViTSelfOutput(\n",
       "              (dense): Linear(in_features=768, out_features=768, bias=True)\n",
       "              (dropout): Dropout(p=0.0, inplace=False)\n",
       "            )\n",
       "          )\n",
       "          (intermediate): ViTIntermediate(\n",
       "            (dense): Linear(in_features=768, out_features=3072, bias=True)\n",
       "            (intermediate_act_fn): GELUActivation()\n",
       "          )\n",
       "          (output): ViTOutput(\n",
       "            (dense): Linear(in_features=3072, out_features=768, bias=True)\n",
       "            (dropout): Dropout(p=0.0, inplace=False)\n",
       "          )\n",
       "          (layernorm_before): LayerNorm((768,), eps=1e-12, elementwise_affine=True)\n",
       "          (layernorm_after): LayerNorm((768,), eps=1e-12, elementwise_affine=True)\n",
       "        )\n",
       "        (7): ViTLayer(\n",
       "          (attention): ViTAttention(\n",
       "            (attention): ViTSelfAttention(\n",
       "              (query): Linear(in_features=768, out_features=768, bias=True)\n",
       "              (key): Linear(in_features=768, out_features=768, bias=True)\n",
       "              (value): Linear(in_features=768, out_features=768, bias=True)\n",
       "              (dropout): Dropout(p=0.0, inplace=False)\n",
       "            )\n",
       "            (output): ViTSelfOutput(\n",
       "              (dense): Linear(in_features=768, out_features=768, bias=True)\n",
       "              (dropout): Dropout(p=0.0, inplace=False)\n",
       "            )\n",
       "          )\n",
       "          (intermediate): ViTIntermediate(\n",
       "            (dense): Linear(in_features=768, out_features=3072, bias=True)\n",
       "            (intermediate_act_fn): GELUActivation()\n",
       "          )\n",
       "          (output): ViTOutput(\n",
       "            (dense): Linear(in_features=3072, out_features=768, bias=True)\n",
       "            (dropout): Dropout(p=0.0, inplace=False)\n",
       "          )\n",
       "          (layernorm_before): LayerNorm((768,), eps=1e-12, elementwise_affine=True)\n",
       "          (layernorm_after): LayerNorm((768,), eps=1e-12, elementwise_affine=True)\n",
       "        )\n",
       "        (8): ViTLayer(\n",
       "          (attention): ViTAttention(\n",
       "            (attention): ViTSelfAttention(\n",
       "              (query): Linear(in_features=768, out_features=768, bias=True)\n",
       "              (key): Linear(in_features=768, out_features=768, bias=True)\n",
       "              (value): Linear(in_features=768, out_features=768, bias=True)\n",
       "              (dropout): Dropout(p=0.0, inplace=False)\n",
       "            )\n",
       "            (output): ViTSelfOutput(\n",
       "              (dense): Linear(in_features=768, out_features=768, bias=True)\n",
       "              (dropout): Dropout(p=0.0, inplace=False)\n",
       "            )\n",
       "          )\n",
       "          (intermediate): ViTIntermediate(\n",
       "            (dense): Linear(in_features=768, out_features=3072, bias=True)\n",
       "            (intermediate_act_fn): GELUActivation()\n",
       "          )\n",
       "          (output): ViTOutput(\n",
       "            (dense): Linear(in_features=3072, out_features=768, bias=True)\n",
       "            (dropout): Dropout(p=0.0, inplace=False)\n",
       "          )\n",
       "          (layernorm_before): LayerNorm((768,), eps=1e-12, elementwise_affine=True)\n",
       "          (layernorm_after): LayerNorm((768,), eps=1e-12, elementwise_affine=True)\n",
       "        )\n",
       "        (9): ViTLayer(\n",
       "          (attention): ViTAttention(\n",
       "            (attention): ViTSelfAttention(\n",
       "              (query): Linear(in_features=768, out_features=768, bias=True)\n",
       "              (key): Linear(in_features=768, out_features=768, bias=True)\n",
       "              (value): Linear(in_features=768, out_features=768, bias=True)\n",
       "              (dropout): Dropout(p=0.0, inplace=False)\n",
       "            )\n",
       "            (output): ViTSelfOutput(\n",
       "              (dense): Linear(in_features=768, out_features=768, bias=True)\n",
       "              (dropout): Dropout(p=0.0, inplace=False)\n",
       "            )\n",
       "          )\n",
       "          (intermediate): ViTIntermediate(\n",
       "            (dense): Linear(in_features=768, out_features=3072, bias=True)\n",
       "            (intermediate_act_fn): GELUActivation()\n",
       "          )\n",
       "          (output): ViTOutput(\n",
       "            (dense): Linear(in_features=3072, out_features=768, bias=True)\n",
       "            (dropout): Dropout(p=0.0, inplace=False)\n",
       "          )\n",
       "          (layernorm_before): LayerNorm((768,), eps=1e-12, elementwise_affine=True)\n",
       "          (layernorm_after): LayerNorm((768,), eps=1e-12, elementwise_affine=True)\n",
       "        )\n",
       "        (10): ViTLayer(\n",
       "          (attention): ViTAttention(\n",
       "            (attention): ViTSelfAttention(\n",
       "              (query): Linear(in_features=768, out_features=768, bias=True)\n",
       "              (key): Linear(in_features=768, out_features=768, bias=True)\n",
       "              (value): Linear(in_features=768, out_features=768, bias=True)\n",
       "              (dropout): Dropout(p=0.0, inplace=False)\n",
       "            )\n",
       "            (output): ViTSelfOutput(\n",
       "              (dense): Linear(in_features=768, out_features=768, bias=True)\n",
       "              (dropout): Dropout(p=0.0, inplace=False)\n",
       "            )\n",
       "          )\n",
       "          (intermediate): ViTIntermediate(\n",
       "            (dense): Linear(in_features=768, out_features=3072, bias=True)\n",
       "            (intermediate_act_fn): GELUActivation()\n",
       "          )\n",
       "          (output): ViTOutput(\n",
       "            (dense): Linear(in_features=3072, out_features=768, bias=True)\n",
       "            (dropout): Dropout(p=0.0, inplace=False)\n",
       "          )\n",
       "          (layernorm_before): LayerNorm((768,), eps=1e-12, elementwise_affine=True)\n",
       "          (layernorm_after): LayerNorm((768,), eps=1e-12, elementwise_affine=True)\n",
       "        )\n",
       "        (11): ViTLayer(\n",
       "          (attention): ViTAttention(\n",
       "            (attention): ViTSelfAttention(\n",
       "              (query): Linear(in_features=768, out_features=768, bias=True)\n",
       "              (key): Linear(in_features=768, out_features=768, bias=True)\n",
       "              (value): Linear(in_features=768, out_features=768, bias=True)\n",
       "              (dropout): Dropout(p=0.0, inplace=False)\n",
       "            )\n",
       "            (output): ViTSelfOutput(\n",
       "              (dense): Linear(in_features=768, out_features=768, bias=True)\n",
       "              (dropout): Dropout(p=0.0, inplace=False)\n",
       "            )\n",
       "          )\n",
       "          (intermediate): ViTIntermediate(\n",
       "            (dense): Linear(in_features=768, out_features=3072, bias=True)\n",
       "            (intermediate_act_fn): GELUActivation()\n",
       "          )\n",
       "          (output): ViTOutput(\n",
       "            (dense): Linear(in_features=3072, out_features=768, bias=True)\n",
       "            (dropout): Dropout(p=0.0, inplace=False)\n",
       "          )\n",
       "          (layernorm_before): LayerNorm((768,), eps=1e-12, elementwise_affine=True)\n",
       "          (layernorm_after): LayerNorm((768,), eps=1e-12, elementwise_affine=True)\n",
       "        )\n",
       "      )\n",
       "    )\n",
       "    (layernorm): LayerNorm((768,), eps=1e-12, elementwise_affine=True)\n",
       "  )\n",
       "  (classifier): Linear(in_features=768, out_features=10, bias=True)\n",
       ")"
      ]
     },
     "execution_count": 3,
     "metadata": {},
     "output_type": "execute_result"
    }
   ],
   "source": [
    "# ロード\n",
    "loaded_model = AutoModelForImageClassification.from_pretrained(f\"/src/src/out_vit_c10\").to(device)\n",
    "loaded_model.eval()"
   ]
  },
  {
   "cell_type": "code",
   "execution_count": 6,
   "metadata": {},
   "outputs": [
    {
     "ename": "NameError",
     "evalue": "name 'Trainer' is not defined",
     "output_type": "error",
     "traceback": [
      "\u001b[0;31m---------------------------------------------------------------------------\u001b[0m",
      "\u001b[0;31mNameError\u001b[0m                                 Traceback (most recent call last)",
      "\u001b[0;32m/tmp/ipykernel_990/4271498.py\u001b[0m in \u001b[0;36m<module>\u001b[0;34m\u001b[0m\n\u001b[0;32m----> 1\u001b[0;31m trainer = Trainer(\n\u001b[0m\u001b[1;32m      2\u001b[0m     \u001b[0mmodel\u001b[0m\u001b[0;34m=\u001b[0m\u001b[0mloaded_model\u001b[0m\u001b[0;34m,\u001b[0m\u001b[0;34m\u001b[0m\u001b[0;34m\u001b[0m\u001b[0m\n\u001b[1;32m      3\u001b[0m     \u001b[0margs\u001b[0m\u001b[0;34m=\u001b[0m\u001b[0mtraining_args\u001b[0m\u001b[0;34m,\u001b[0m\u001b[0;34m\u001b[0m\u001b[0;34m\u001b[0m\u001b[0m\n\u001b[1;32m      4\u001b[0m     \u001b[0mdata_collator\u001b[0m\u001b[0;34m=\u001b[0m\u001b[0mdata_collator\u001b[0m\u001b[0;34m,\u001b[0m\u001b[0;34m\u001b[0m\u001b[0;34m\u001b[0m\u001b[0m\n\u001b[1;32m      5\u001b[0m     \u001b[0mcompute_metrics\u001b[0m\u001b[0;34m=\u001b[0m\u001b[0mcompute_metrics\u001b[0m\u001b[0;34m,\u001b[0m\u001b[0;34m\u001b[0m\u001b[0;34m\u001b[0m\u001b[0m\n",
      "\u001b[0;31mNameError\u001b[0m: name 'Trainer' is not defined"
     ]
    }
   ],
   "source": [
    "trainer = Trainer(\n",
    "    model=loaded_model,\n",
    "    args=training_args,\n",
    "    data_collator=data_collator,\n",
    "    compute_metrics=compute_metrics,\n",
    "    train_dataset=cifar10_preprocessed[\"train\"],\n",
    "    tokenizer=processor,\n",
    ")"
   ]
  },
  {
   "cell_type": "code",
   "execution_count": 44,
   "metadata": {},
   "outputs": [
    {
     "data": {
      "text/html": [],
      "text/plain": [
       "<IPython.core.display.HTML object>"
      ]
     },
     "metadata": {},
     "output_type": "display_data"
    },
    {
     "data": {
      "text/html": [],
      "text/plain": [
       "<IPython.core.display.HTML object>"
      ]
     },
     "metadata": {},
     "output_type": "display_data"
    }
   ],
   "source": [
    "train_pred = trainer.predict(cifar10_preprocessed[\"train\"])\n",
    "test_pred = trainer.predict(cifar10_preprocessed[\"test\"])"
   ]
  },
  {
   "cell_type": "code",
   "execution_count": 45,
   "metadata": {},
   "outputs": [],
   "source": [
    "from sklearn.metrics import ConfusionMatrixDisplay, confusion_matrix\n",
    "\n",
    "def plot_confusion_matrix(y_preds, y_true, labels):\n",
    "    cm = confusion_matrix(y_true, y_preds, normalize=\"true\")\n",
    "    fig, ax = plt.subplots(figsize=(12, 12))\n",
    "    disp = ConfusionMatrixDisplay(confusion_matrix=cm, display_labels=labels)\n",
    "    disp.plot(cmap=\"Blues\", values_format=\".2f\", ax=ax, colorbar=False)\n",
    "    plt.title(\"Normalized confusion matrix\")\n",
    "    plt.show()"
   ]
  },
  {
   "cell_type": "code",
   "execution_count": 65,
   "metadata": {},
   "outputs": [],
   "source": [
    "import numpy as np\n",
    "# 予測確率を取得\n",
    "train_prob = np.argmax(train_pred.predictions, axis=1)\n",
    "test_prob = np.argmax(test_pred.predictions, axis=1)\n",
    "# train_pred, test_predに対応する正解ラベルのリストをそれぞれ取得\n",
    "train_label = train_pred.label_ids\n",
    "test_label = test_pred.label_ids"
   ]
  },
  {
   "cell_type": "code",
   "execution_count": 66,
   "metadata": {},
   "outputs": [
    {
     "data": {
      "image/png": "[encoded data removed]",
      "text/plain": [
       "<Figure size 1200x1200 with 1 Axes>"
      ]
     },
     "metadata": {},
     "output_type": "display_data"
    }
   ],
   "source": [
    "plot_confusion_matrix(train_prob, train_label, labels)"
   ]
  },
  {
   "cell_type": "code",
   "execution_count": 67,
   "metadata": {},
   "outputs": [
    {
     "data": {
      "image/png": "[encoded data removed]",
      "text/plain": [
       "<Figure size 1200x1200 with 1 Axes>"
      ]
     },
     "metadata": {},
     "output_type": "display_data"
    }
   ],
   "source": [
    "plot_confusion_matrix(test_prob, test_label, labels)"
   ]
  },
  {
   "cell_type": "code",
   "execution_count": 70,
   "metadata": {},
   "outputs": [
    {
     "data": {
      "text/plain": [
       "{'test_loss': 0.005070374347269535,\n",
       " 'test_accuracy': {'accuracy': 0.99916},\n",
       " 'test_f1': {'f1': 0.9991599698695797},\n",
       " 'test_runtime': 1968.5808,\n",
       " 'test_samples_per_second': 25.399,\n",
       " 'test_steps_per_second': 0.397}"
      ]
     },
     "execution_count": 70,
     "metadata": {},
     "output_type": "execute_result"
    }
   ],
   "source": [
    "train_pred.metrics"
   ]
  },
  {
   "cell_type": "code",
   "execution_count": 71,
   "metadata": {},
   "outputs": [
    {
     "data": {
      "text/plain": [
       "{'test_loss': 0.05960104987025261,\n",
       " 'test_accuracy': {'accuracy': 0.9829},\n",
       " 'test_f1': {'f1': 0.9829188809430107},\n",
       " 'test_runtime': 392.0372,\n",
       " 'test_samples_per_second': 25.508,\n",
       " 'test_steps_per_second': 0.4}"
      ]
     },
     "execution_count": 71,
     "metadata": {},
     "output_type": "execute_result"
    }
   ],
   "source": [
    "test_pred.metrics"
   ]
  },
  {
   "cell_type": "code",
   "execution_count": null,
   "metadata": {},
   "outputs": [],
   "source": []
  }
 ],
 "metadata": {
  "kernelspec": {
   "display_name": "Python 3",
   "language": "python",
   "name": "python3"
  },
  "language_info": {
   "codemirror_mode": {
    "name": "ipython",
    "version": 3
   },
   "file_extension": ".py",
   "mimetype": "text/x-python",
   "name": "python",
   "nbconvert_exporter": "python",
   "pygments_lexer": "ipython3",
   "version": "3.7.16"
  }
 },
 "nbformat": 4,
 "nbformat_minor": 2
}
