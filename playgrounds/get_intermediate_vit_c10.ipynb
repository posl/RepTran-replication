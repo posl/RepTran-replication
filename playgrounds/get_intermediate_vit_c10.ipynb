{
 "cells": [
  {
   "cell_type": "code",
   "execution_count": 2,
   "metadata": {},
   "outputs": [
    {
     "name": "stderr",
     "output_type": "stream",
     "text": [
      "2024-04-19 15:26:34.288151: I tensorflow/core/platform/cpu_feature_guard.cc:193] This TensorFlow binary is optimized with oneAPI Deep Neural Network Library (oneDNN) to use the following CPU instructions in performance-critical operations:  AVX2 FMA\n",
      "To enable them in other operations, rebuild TensorFlow with the appropriate compiler flags.\n",
      "2024-04-19 15:26:35.392791: W tensorflow/compiler/xla/stream_executor/platform/default/dso_loader.cc:64] Could not load dynamic library 'libnvinfer.so.7'; dlerror: libnvinfer.so.7: cannot open shared object file: No such file or directory\n",
      "2024-04-19 15:26:35.392928: W tensorflow/compiler/xla/stream_executor/platform/default/dso_loader.cc:64] Could not load dynamic library 'libnvinfer_plugin.so.7'; dlerror: libnvinfer_plugin.so.7: cannot open shared object file: No such file or directory\n",
      "2024-04-19 15:26:35.392939: W tensorflow/compiler/tf2tensorrt/utils/py_utils.cc:38] TF-TRT Warning: Cannot dlopen some TensorRT libraries. If you would like to use Nvidia GPU with TensorRT, please make sure the missing libraries mentioned above are installed properly.\n",
      "../src/utils/vit_util.py:5: FutureWarning: load_metric is deprecated and will be removed in the next major version of datasets. Use 'evaluate.load' instead, from the new library 🤗 Evaluate: https://huggingface.co/docs/evaluate\n",
      "  met_acc = load_metric(\"accuracy\")\n"
     ]
    }
   ],
   "source": [
    "\"\"\"\n",
    "C10でFine-tuningしたViTモデルのフォワードパスを実行する\n",
    "\"\"\"\n",
    "\n",
    "import os, sys, math\n",
    "sys.path.append(\"../src\")\n",
    "import numpy as np\n",
    "import torch\n",
    "from datasets import load_dataset, load_metric\n",
    "from transformers import DefaultDataCollator, ViTForImageClassification, TrainingArguments, Trainer\n",
    "from utils.helper import get_device\n",
    "from utils.vit_util import processor, transforms, compute_metrics"
   ]
  },
  {
   "cell_type": "code",
   "execution_count": 62,
   "metadata": {},
   "outputs": [
    {
     "data": {
      "application/vnd.jupyter.widget-view+json": {
       "model_id": "1f03558c90e445b3b38fa9f90780f0c3",
       "version_major": 2,
       "version_minor": 0
      },
      "text/plain": [
       "Saving the dataset (0/1 shards):   0%|          | 0/50000 [00:00<?, ? examples/s]"
      ]
     },
     "metadata": {},
     "output_type": "display_data"
    },
    {
     "data": {
      "application/vnd.jupyter.widget-view+json": {
       "model_id": "6f07f914343a438392bd91cb5ce53243",
       "version_major": 2,
       "version_minor": 0
      },
      "text/plain": [
       "Saving the dataset (0/1 shards):   0%|          | 0/10000 [00:00<?, ? examples/s]"
      ]
     },
     "metadata": {},
     "output_type": "display_data"
    }
   ],
   "source": [
    "# dsのsaveとload\n",
    "cifar10.save_to_disk(\"cifar10\")"
   ]
  },
  {
   "cell_type": "code",
   "execution_count": 66,
   "metadata": {},
   "outputs": [
    {
     "data": {
      "text/plain": [
       "DatasetDict({\n",
       "    train: Dataset({\n",
       "        features: ['img', 'label'],\n",
       "        num_rows: 50000\n",
       "    })\n",
       "    test: Dataset({\n",
       "        features: ['img', 'label'],\n",
       "        num_rows: 10000\n",
       "    })\n",
       "})"
      ]
     },
     "execution_count": 66,
     "metadata": {},
     "output_type": "execute_result"
    }
   ],
   "source": [
    "# dsのsaveとload\n",
    "from datasets import load_from_disk\n",
    "cifar10 = load_from_disk(\"cifar10\")\n",
    "cifar10"
   ]
  },
  {
   "cell_type": "code",
   "execution_count": 3,
   "metadata": {},
   "outputs": [
    {
     "name": "stdout",
     "output_type": "stream",
     "text": [
      "Device: cuda\n"
     ]
    },
    {
     "name": "stderr",
     "output_type": "stream",
     "text": [
      "Found cached dataset parquet (/root/.cache/huggingface/datasets/parquet/plain_text-d4c080360fb556b0/0.0.0/14a00e99c0d15a23649d0db8944380ac81082d4b021f398733dd84f3a6c569a7)\n"
     ]
    },
    {
     "data": {
      "application/vnd.jupyter.widget-view+json": {
       "model_id": "9e319b40021d458eaae284bab9b00cc0",
       "version_major": 2,
       "version_minor": 0
      },
      "text/plain": [
       "  0%|          | 0/2 [00:00<?, ?it/s]"
      ]
     },
     "metadata": {},
     "output_type": "display_data"
    }
   ],
   "source": [
    "# デバイス (cuda, or cpu) の取得\n",
    "device = get_device()\n",
    "# datasetをロード (初回の読み込みだけやや時間かかる)\n",
    "cifar10 = load_dataset(\"cifar10\")\n",
    "# 読み込まれた時にリアルタイムで前処理を適用するようにする\n",
    "cifar10_preprocessed = cifar10.with_transform(transforms)\n",
    "# バッチごとの処理のためのdata_collator\n",
    "data_collator = DefaultDataCollator()\n",
    "# ラベルを示す文字列のlist\n",
    "labels = cifar10_preprocessed[\"train\"].features[\"label\"].names\n",
    "# pretrained modelのロード\n",
    "pretrained_dir = \"/src/src/out_vit_c10\"\n",
    "model = ViTForImageClassification.from_pretrained(pretrained_dir).to(device)\n",
    "model.eval()\n",
    "# 学習時の設定をロード\n",
    "training_args = torch.load(os.path.join(pretrained_dir, \"training_args.bin\"))\n",
    "# Trainerオブジェクトの作成\n",
    "trainer = Trainer(\n",
    "    model=model,\n",
    "    args=training_args,\n",
    "    data_collator=data_collator,\n",
    "    compute_metrics=compute_metrics,\n",
    "    train_dataset=cifar10_preprocessed[\"train\"],\n",
    "    eval_dataset=cifar10_preprocessed[\"test\"],\n",
    "    tokenizer=processor,\n",
    ")"
   ]
  },
  {
   "cell_type": "code",
   "execution_count": 4,
   "metadata": {},
   "outputs": [
    {
     "data": {
      "text/plain": [
       "TrainingArguments(\n",
       "_n_gpu=1,\n",
       "adafactor=False,\n",
       "adam_beta1=0.9,\n",
       "adam_beta2=0.999,\n",
       "adam_epsilon=1e-08,\n",
       "auto_find_batch_size=False,\n",
       "bf16=False,\n",
       "bf16_full_eval=False,\n",
       "data_seed=None,\n",
       "dataloader_drop_last=False,\n",
       "dataloader_num_workers=0,\n",
       "dataloader_pin_memory=True,\n",
       "ddp_backend=None,\n",
       "ddp_bucket_cap_mb=None,\n",
       "ddp_find_unused_parameters=None,\n",
       "ddp_timeout=1800,\n",
       "debug=[],\n",
       "deepspeed=None,\n",
       "disable_tqdm=False,\n",
       "do_eval=True,\n",
       "do_predict=False,\n",
       "do_train=False,\n",
       "eval_accumulation_steps=None,\n",
       "eval_delay=0,\n",
       "eval_steps=None,\n",
       "evaluation_strategy=epoch,\n",
       "fp16=False,\n",
       "fp16_backend=auto,\n",
       "fp16_full_eval=False,\n",
       "fp16_opt_level=O1,\n",
       "fsdp=[],\n",
       "fsdp_config={'fsdp_min_num_params': 0, 'xla': False, 'xla_fsdp_grad_ckpt': False},\n",
       "fsdp_min_num_params=0,\n",
       "fsdp_transformer_layer_cls_to_wrap=None,\n",
       "full_determinism=False,\n",
       "gradient_accumulation_steps=1,\n",
       "gradient_checkpointing=False,\n",
       "greater_is_better=False,\n",
       "group_by_length=False,\n",
       "half_precision_backend=auto,\n",
       "hub_model_id=None,\n",
       "hub_private_repo=False,\n",
       "hub_strategy=every_save,\n",
       "hub_token=<HUB_TOKEN>,\n",
       "ignore_data_skip=False,\n",
       "include_inputs_for_metrics=False,\n",
       "jit_mode_eval=False,\n",
       "label_names=None,\n",
       "label_smoothing_factor=0.0,\n",
       "learning_rate=0.0002,\n",
       "length_column_name=length,\n",
       "load_best_model_at_end=True,\n",
       "local_rank=0,\n",
       "log_level=error,\n",
       "log_level_replica=warning,\n",
       "log_on_each_node=True,\n",
       "logging_dir=./out_vit_c10/runs/Apr04_11-22-09_2edbb20b41c7,\n",
       "logging_first_step=False,\n",
       "logging_nan_inf_filter=True,\n",
       "logging_steps=500,\n",
       "logging_strategy=epoch,\n",
       "lr_scheduler_type=linear,\n",
       "max_grad_norm=1.0,\n",
       "max_steps=-1,\n",
       "metric_for_best_model=loss,\n",
       "mp_parameters=,\n",
       "no_cuda=False,\n",
       "num_train_epochs=2,\n",
       "optim=adamw_hf,\n",
       "optim_args=None,\n",
       "output_dir=./out_vit_c10,\n",
       "overwrite_output_dir=False,\n",
       "past_index=-1,\n",
       "per_device_eval_batch_size=32,\n",
       "per_device_train_batch_size=32,\n",
       "prediction_loss_only=False,\n",
       "push_to_hub=False,\n",
       "push_to_hub_model_id=None,\n",
       "push_to_hub_organization=None,\n",
       "push_to_hub_token=<PUSH_TO_HUB_TOKEN>,\n",
       "ray_scope=last,\n",
       "remove_unused_columns=False,\n",
       "report_to=['tensorboard'],\n",
       "resume_from_checkpoint=None,\n",
       "run_name=./out_vit_c10,\n",
       "save_on_each_node=False,\n",
       "save_safetensors=False,\n",
       "save_steps=500,\n",
       "save_strategy=epoch,\n",
       "save_total_limit=None,\n",
       "seed=42,\n",
       "sharded_ddp=[],\n",
       "skip_memory_metrics=True,\n",
       "tf32=None,\n",
       "torch_compile=False,\n",
       "torch_compile_backend=None,\n",
       "torch_compile_mode=None,\n",
       "torchdynamo=None,\n",
       "tpu_metrics_debug=False,\n",
       "tpu_num_cores=None,\n",
       "use_ipex=False,\n",
       "use_legacy_prediction_loop=False,\n",
       "use_mps_device=False,\n",
       "warmup_ratio=0.0,\n",
       "warmup_steps=0,\n",
       "weight_decay=0.01,\n",
       "xpu_backend=None,\n",
       ")"
      ]
     },
     "execution_count": 4,
     "metadata": {},
     "output_type": "execute_result"
    }
   ],
   "source": [
    "training_args"
   ]
  },
  {
   "cell_type": "code",
   "execution_count": 3,
   "metadata": {},
   "outputs": [
    {
     "name": "stdout",
     "output_type": "stream",
     "text": [
      "vit.encoder.layer.0.intermediate.dense.weight torch.Size([3072, 768])\n",
      "vit.encoder.layer.1.intermediate.dense.weight torch.Size([3072, 768])\n",
      "vit.encoder.layer.2.intermediate.dense.weight torch.Size([3072, 768])\n",
      "vit.encoder.layer.3.intermediate.dense.weight torch.Size([3072, 768])\n",
      "vit.encoder.layer.4.intermediate.dense.weight torch.Size([3072, 768])\n",
      "vit.encoder.layer.5.intermediate.dense.weight torch.Size([3072, 768])\n",
      "vit.encoder.layer.6.intermediate.dense.weight torch.Size([3072, 768])\n",
      "vit.encoder.layer.7.intermediate.dense.weight torch.Size([3072, 768])\n",
      "vit.encoder.layer.8.intermediate.dense.weight torch.Size([3072, 768])\n",
      "vit.encoder.layer.9.intermediate.dense.weight torch.Size([3072, 768])\n",
      "vit.encoder.layer.10.intermediate.dense.weight torch.Size([3072, 768])\n",
      "vit.encoder.layer.11.intermediate.dense.weight torch.Size([3072, 768])\n"
     ]
    }
   ],
   "source": [
    "# nameが vit.encoder.layer.{i}.intermediate.dense.weight のパターンにマッチするレイヤだけ表示 (iは数字)\n",
    "for name, param in model.named_parameters():\n",
    "    if \"vit.encoder.layer\" in name and \"intermediate.dense.weight\" in name:\n",
    "        print(name, param.size())"
   ]
  },
  {
   "cell_type": "code",
   "execution_count": 6,
   "metadata": {},
   "outputs": [
    {
     "data": {
      "text/plain": [
       "torch.Size([5, 3, 224, 224])"
      ]
     },
     "execution_count": 6,
     "metadata": {},
     "output_type": "execute_result"
    }
   ],
   "source": [
    "dum_input = cifar10_preprocessed[\"train\"][:5][\"pixel_values\"].to(device)\n",
    "dum_input.shape"
   ]
  },
  {
   "cell_type": "code",
   "execution_count": 44,
   "metadata": {},
   "outputs": [
    {
     "data": {
      "image/png": "[encoded data removed]",
      "text/plain": [
       "<Figure size 640x480 with 1 Axes>"
      ]
     },
     "metadata": {},
     "output_type": "display_data"
    },
    {
     "name": "stderr",
     "output_type": "stream",
     "text": [
      "Clipping input data to the valid range for imshow with RGB data ([0..1] for floats or [0..255] for integers).\n"
     ]
    },
    {
     "data": {
      "image/png": "[encoded data removed]",
      "text/plain": [
       "<Figure size 640x480 with 1 Axes>"
      ]
     },
     "metadata": {},
     "output_type": "display_data"
    }
   ],
   "source": [
    "import torch\n",
    "import matplotlib.pyplot as plt\n",
    "import matplotlib.pyplot as plt\n",
    "import torchvision.transforms as transforms\n",
    "\n",
    "transform = transforms.ToTensor()\n",
    "tensor = transform(cifar10[\"train\"][0][\"img\"])\n",
    "\n",
    "# テンソルを画像として表示します\n",
    "plt.imshow(tensor.permute(1, 2, 0))  # テンソルの次元を(64, 64, 3)に変換して表示します\n",
    "plt.axis('off')  # 軸を非表示にします\n",
    "plt.show()\n",
    "\n",
    "# テンソルを画像として表示します\n",
    "plt.imshow(cifar10_preprocessed[\"train\"][0][\"pixel_values\"].permute(1, 2, 0))  # テンソルの次元を(64, 64, 3)に変換して表示します\n",
    "plt.axis('off')  # 軸を非表示にします\n",
    "plt.show()"
   ]
  },
  {
   "cell_type": "code",
   "execution_count": 58,
   "metadata": {},
   "outputs": [
    {
     "name": "stdout",
     "output_type": "stream",
     "text": [
      "torch.Size([32, 3, 224, 224]) 32\n",
      "[0, 6, 0, 2, 7, 2, 1, 2, 4, 1, 5, 6, 6, 3, 1, 3, 5, 5, 8, 1, 4, 2, 3, 2, 1, 2, 8, 9, 5, 0, 7, 6]\n"
     ]
    }
   ],
   "source": [
    "for entry_dic in cifar10_preprocessed[\"train\"].iter(batch_size=32):\n",
    "    x, y = entry_dic[\"pixel_values\"], entry_dic[\"labels\"]\n",
    "    print(x.shape, len(y))\n",
    "    print(y)\n",
    "    break"
   ]
  },
  {
   "cell_type": "code",
   "execution_count": 9,
   "metadata": {},
   "outputs": [
    {
     "name": "stdout",
     "output_type": "stream",
     "text": [
      "odict_keys(['logits', 'hidden_states', 'attentions', 'intermediate_states'])\n",
      "[13, 12, 12]\n"
     ]
    }
   ],
   "source": [
    "mf = model.forward(dum_input, output_hidden_states=True, output_attentions=True, output_intermediate_states=True)\n",
    "print(mf.keys())\n",
    "# 後ろの3つのキーのタプルの長さを取得\n",
    "print([len(mf[k]) for k in list(mf.keys())[-3:]])"
   ]
  },
  {
   "cell_type": "code",
   "execution_count": 5,
   "metadata": {},
   "outputs": [
    {
     "data": {
      "text/plain": [
       "torch.Size([5, 10])"
      ]
     },
     "execution_count": 5,
     "metadata": {},
     "output_type": "execute_result"
    }
   ],
   "source": [
    "mf.logits.shape"
   ]
  },
  {
   "cell_type": "code",
   "execution_count": 6,
   "metadata": {},
   "outputs": [
    {
     "name": "stdout",
     "output_type": "stream",
     "text": [
      "13\n",
      "mf.hidden_states[0].shape = torch.Size([5, 197, 768])\n",
      "mf.hidden_states[0][:, 0, :].shape = torch.Size([5, 768])\n",
      "mf.hidden_states[1].shape = torch.Size([5, 197, 768])\n",
      "mf.hidden_states[1][:, 0, :].shape = torch.Size([5, 768])\n",
      "mf.hidden_states[2].shape = torch.Size([5, 197, 768])\n",
      "mf.hidden_states[2][:, 0, :].shape = torch.Size([5, 768])\n",
      "mf.hidden_states[3].shape = torch.Size([5, 197, 768])\n",
      "mf.hidden_states[3][:, 0, :].shape = torch.Size([5, 768])\n",
      "mf.hidden_states[4].shape = torch.Size([5, 197, 768])\n",
      "mf.hidden_states[4][:, 0, :].shape = torch.Size([5, 768])\n",
      "mf.hidden_states[5].shape = torch.Size([5, 197, 768])\n",
      "mf.hidden_states[5][:, 0, :].shape = torch.Size([5, 768])\n",
      "mf.hidden_states[6].shape = torch.Size([5, 197, 768])\n",
      "mf.hidden_states[6][:, 0, :].shape = torch.Size([5, 768])\n",
      "mf.hidden_states[7].shape = torch.Size([5, 197, 768])\n",
      "mf.hidden_states[7][:, 0, :].shape = torch.Size([5, 768])\n",
      "mf.hidden_states[8].shape = torch.Size([5, 197, 768])\n",
      "mf.hidden_states[8][:, 0, :].shape = torch.Size([5, 768])\n",
      "mf.hidden_states[9].shape = torch.Size([5, 197, 768])\n",
      "mf.hidden_states[9][:, 0, :].shape = torch.Size([5, 768])\n",
      "mf.hidden_states[10].shape = torch.Size([5, 197, 768])\n",
      "mf.hidden_states[10][:, 0, :].shape = torch.Size([5, 768])\n",
      "mf.hidden_states[11].shape = torch.Size([5, 197, 768])\n",
      "mf.hidden_states[11][:, 0, :].shape = torch.Size([5, 768])\n",
      "mf.hidden_states[12].shape = torch.Size([5, 197, 768])\n",
      "mf.hidden_states[12][:, 0, :].shape = torch.Size([5, 768])\n"
     ]
    }
   ],
   "source": [
    "print(len(mf.hidden_states))\n",
    "for i, hs in enumerate(mf.hidden_states):\n",
    "    print(f\"mf.hidden_states[{i}].shape = {hs.shape}\")\n",
    "    print(f\"mf.hidden_states[{i}][:, 0, :].shape = {hs[:, 0, :].shape}\")"
   ]
  },
  {
   "cell_type": "code",
   "execution_count": 10,
   "metadata": {},
   "outputs": [
    {
     "name": "stdout",
     "output_type": "stream",
     "text": [
      "12\n",
      "mf.attentions[0].shape = torch.Size([5, 12, 197, 197])\n",
      "mf.attentions[1].shape = torch.Size([5, 12, 197, 197])\n",
      "mf.attentions[2].shape = torch.Size([5, 12, 197, 197])\n",
      "mf.attentions[3].shape = torch.Size([5, 12, 197, 197])\n",
      "mf.attentions[4].shape = torch.Size([5, 12, 197, 197])\n",
      "mf.attentions[5].shape = torch.Size([5, 12, 197, 197])\n",
      "mf.attentions[6].shape = torch.Size([5, 12, 197, 197])\n",
      "mf.attentions[7].shape = torch.Size([5, 12, 197, 197])\n",
      "mf.attentions[8].shape = torch.Size([5, 12, 197, 197])\n",
      "mf.attentions[9].shape = torch.Size([5, 12, 197, 197])\n",
      "mf.attentions[10].shape = torch.Size([5, 12, 197, 197])\n",
      "mf.attentions[11].shape = torch.Size([5, 12, 197, 197])\n"
     ]
    }
   ],
   "source": [
    "print(len(mf.attentions))\n",
    "for i, attn in enumerate(mf.attentions):\n",
    "    print(f\"mf.attentions[{i}].shape = {attn.shape}\")"
   ]
  },
  {
   "cell_type": "code",
   "execution_count": 11,
   "metadata": {},
   "outputs": [
    {
     "name": "stdout",
     "output_type": "stream",
     "text": [
      "12\n",
      "mf.intermediate_states[0].shape = torch.Size([5, 197, 3072])\n",
      "mf.intermediate_states[1].shape = torch.Size([5, 197, 3072])\n",
      "mf.intermediate_states[2].shape = torch.Size([5, 197, 3072])\n",
      "mf.intermediate_states[3].shape = torch.Size([5, 197, 3072])\n",
      "mf.intermediate_states[4].shape = torch.Size([5, 197, 3072])\n",
      "mf.intermediate_states[5].shape = torch.Size([5, 197, 3072])\n",
      "mf.intermediate_states[6].shape = torch.Size([5, 197, 3072])\n",
      "mf.intermediate_states[7].shape = torch.Size([5, 197, 3072])\n",
      "mf.intermediate_states[8].shape = torch.Size([5, 197, 3072])\n",
      "mf.intermediate_states[9].shape = torch.Size([5, 197, 3072])\n",
      "mf.intermediate_states[10].shape = torch.Size([5, 197, 3072])\n",
      "mf.intermediate_states[11].shape = torch.Size([5, 197, 3072])\n"
     ]
    }
   ],
   "source": [
    "print(len(mf.intermediate_states))\n",
    "for i, med in enumerate(mf.intermediate_states):\n",
    "    print(f\"mf.intermediate_states[{i}].shape = {med.shape}\")"
   ]
  }
 ],
 "metadata": {
  "kernelspec": {
   "display_name": "Python 3",
   "language": "python",
   "name": "python3"
  },
  "language_info": {
   "codemirror_mode": {
    "name": "ipython",
    "version": 3
   },
   "file_extension": ".py",
   "mimetype": "text/x-python",
   "name": "python",
   "nbconvert_exporter": "python",
   "pygments_lexer": "ipython3",
   "version": "3.7.16"
  }
 },
 "nbformat": 4,
 "nbformat_minor": 2
}
