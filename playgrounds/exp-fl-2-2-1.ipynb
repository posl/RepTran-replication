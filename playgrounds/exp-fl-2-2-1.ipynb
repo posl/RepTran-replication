{
 "cells": [
  {
   "cell_type": "code",
   "execution_count": 1,
   "metadata": {},
   "outputs": [],
   "source": [
    "import torch\n",
    "import torch.nn as nn\n",
    "import torch.optim as optim\n",
    "\n",
    "# モデル定義\n",
    "class StackedModel(nn.Module):\n",
    "    def __init__(self):\n",
    "        super(StackedModel, self).__init__()\n",
    "        self.layer1 = nn.Linear(4, 8)\n",
    "        self.layer2 = nn.Linear(8, 16)\n",
    "        self.layer3 = nn.Linear(16, 1)\n",
    "\n",
    "    def forward(self, x):\n",
    "        x = torch.relu(self.layer1(x))\n",
    "        x = torch.relu(self.layer2(x))\n",
    "        x = self.layer3(x)\n",
    "        return x\n",
    "# モデル初期化\n",
    "model = StackedModel()\n",
    "\n",
    "# ダミーデータ\n",
    "inputs = torch.tensor([[1.0, 2.0, 3.0, 4.0]], requires_grad=True)\n",
    "targets = torch.tensor([[5.0]])"
   ]
  },
  {
   "cell_type": "markdown",
   "metadata": {},
   "source": [
    "# lossに関する重みの勾配"
   ]
  },
  {
   "cell_type": "code",
   "execution_count": 4,
   "metadata": {},
   "outputs": [
    {
     "name": "stdout",
     "output_type": "stream",
     "text": [
      "Weight gradients: (torch.Size([1, 16])) tensor([[-15.6780,  -4.2667,   0.0000,   0.0000,   0.0000,  -4.5858,  -4.3228,\n",
      "           0.0000,   0.0000, -10.9119,  -5.4721,  -9.6747,   0.0000, -11.7262,\n",
      "          -5.3415,  -9.2127]])\n",
      "Bias gradients: (torch.Size([1])) tensor([-9.6139])\n"
     ]
    }
   ],
   "source": [
    "# 順伝播\n",
    "outputs = model(inputs)\n",
    "\n",
    "# ロスの計算\n",
    "criterion = nn.MSELoss()\n",
    "loss = criterion(outputs, targets)\n",
    "\n",
    "# 勾配計算\n",
    "optimizer = optim.SGD(model.parameters(), lr=0.01)\n",
    "optimizer.zero_grad()\n",
    "loss.backward()\n",
    "\n",
    "# 特定のパラメータの勾配を取得\n",
    "weight_grad = model.layer3.weight.grad\n",
    "bias_grad = model.layer3.bias.grad\n",
    "\n",
    "print(f\"Weight gradients: ({weight_grad.shape})\", weight_grad)\n",
    "print(f\"Bias gradients: ({bias_grad.shape})\", bias_grad)"
   ]
  },
  {
   "cell_type": "markdown",
   "metadata": {},
   "source": [
    "# 最終出力の一個前のレイヤのニューロン値に関する他のレイヤの重みの勾配"
   ]
  },
  {
   "cell_type": "code",
   "execution_count": 25,
   "metadata": {},
   "outputs": [
    {
     "name": "stdout",
     "output_type": "stream",
     "text": [
      "torch.Size([8, 4])\n",
      "tensor([[-0.0930, -0.1861, -0.2791, -0.3721],\n",
      "        [ 0.0000,  0.0000,  0.0000,  0.0000],\n",
      "        [ 0.0580,  0.1161,  0.1741,  0.2321],\n",
      "        [ 0.0041,  0.0083,  0.0124,  0.0165],\n",
      "        [ 0.0189,  0.0378,  0.0567,  0.0756],\n",
      "        [ 0.0468,  0.0936,  0.1404,  0.1872],\n",
      "        [ 0.0477,  0.0953,  0.1430,  0.1906],\n",
      "        [-0.0353, -0.0706, -0.1058, -0.1411]])\n"
     ]
    }
   ],
   "source": [
    "# 順伝播\n",
    "outputs = model(inputs)\n",
    "# PyTorchによる勾配計算\n",
    "# layer3の出力に関するlayer1の重みの勾配\n",
    "autograd_grad = torch.autograd.grad(outputs, model.layer1.weight, retain_graph=True)[0]\n",
    "print(autograd_grad.shape)\n",
    "print(autograd_grad)"
   ]
  },
  {
   "cell_type": "markdown",
   "metadata": {},
   "source": [
    "## autogradの結果を数値微分の結果と比較"
   ]
  },
  {
   "cell_type": "code",
   "execution_count": 26,
   "metadata": {},
   "outputs": [
    {
     "name": "stdout",
     "output_type": "stream",
     "text": [
      "torch.Size([8, 4])\n",
      "tensor([[-0.0931, -0.1848, -0.2816, -0.3718],\n",
      "        [ 0.0000,  0.0000,  0.0000,  0.0000],\n",
      "        [ 0.0596,  0.1170,  0.1736,  0.2302],\n",
      "        [ 0.0037,  0.0089,  0.0142,  0.0179],\n",
      "        [ 0.0179,  0.0350,  0.0559,  0.0767],\n",
      "        [ 0.0469,  0.0931,  0.1416,  0.1878],\n",
      "        [ 0.0499,  0.0946,  0.1431,  0.1907],\n",
      "        [-0.0373, -0.0708, -0.1065, -0.1431]])\n"
     ]
    }
   ],
   "source": [
    "# 数値微分での勾配計算\n",
    "epsilon = 1e-5\n",
    "numerical_grad = torch.zeros_like(model.layer1.weight)\n",
    "\n",
    "for i in range(model.layer1.weight.shape[0]):\n",
    "    for j in range(model.layer1.weight.shape[1]):\n",
    "        # w + epsilon\n",
    "        model.layer1.weight.data[i, j] += epsilon\n",
    "        outputs_plus = model(inputs) # f(w + epsilon)\n",
    "        \n",
    "        # w - epsilon\n",
    "        model.layer1.weight.data[i, j] -= 2 * epsilon\n",
    "        outputs_minus = model(inputs) # f(w - epsilon)\n",
    "\n",
    "        # 勾配の有限差分近似\n",
    "        numerical_grad[i, j] = (outputs_plus - outputs_minus).item() / (2 * epsilon) # f(w + epsilon) - f(w - epsilon) / 2 * epsilon\n",
    "        \n",
    "        # 重みを元に戻す\n",
    "        model.layer1.weight.data[i, j] += epsilon\n",
    "print(numerical_grad.shape)\n",
    "print(numerical_grad)"
   ]
  },
  {
   "cell_type": "code",
   "execution_count": 27,
   "metadata": {},
   "outputs": [
    {
     "name": "stdout",
     "output_type": "stream",
     "text": [
      "Difference between numerical and autograd gradients:\n",
      "tensor([[9.9368e-05, 1.2914e-03, 2.5333e-03, 3.4758e-04],\n",
      "        [0.0000e+00, 0.0000e+00, 0.0000e+00, 0.0000e+00],\n",
      "        [1.5708e-03, 9.0638e-04, 5.0308e-04, 1.9125e-03],\n",
      "        [4.1025e-04, 6.6962e-04, 1.7495e-03, 1.3392e-03],\n",
      "        [1.0081e-03, 2.7614e-03, 7.8927e-04, 1.1828e-03],\n",
      "        [1.4442e-04, 4.5621e-04, 1.1783e-03, 5.7769e-04],\n",
      "        [2.2575e-03, 7.0047e-04, 6.6876e-05, 8.9169e-05],\n",
      "        [1.9744e-03, 2.2356e-04, 7.0787e-04, 1.9372e-03]])\n"
     ]
    }
   ],
   "source": [
    "# 差分を表示\n",
    "difference = torch.abs(numerical_grad - autograd_grad)\n",
    "print(\"Difference between numerical and autograd gradients:\")\n",
    "print(difference)"
   ]
  }
 ],
 "metadata": {
  "kernelspec": {
   "display_name": "Python 3",
   "language": "python",
   "name": "python3"
  },
  "language_info": {
   "codemirror_mode": {
    "name": "ipython",
    "version": 3
   },
   "file_extension": ".py",
   "mimetype": "text/x-python",
   "name": "python",
   "nbconvert_exporter": "python",
   "pygments_lexer": "ipython3",
   "version": "3.7.16"
  }
 },
 "nbformat": 4,
 "nbformat_minor": 2
}
