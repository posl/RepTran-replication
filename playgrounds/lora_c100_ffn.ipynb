{
 "cells": [
  {
   "cell_type": "code",
   "execution_count": 3,
   "id": "6df8ba95",
   "metadata": {},
   "outputs": [],
   "source": [
    "%load_ext autoreload\n",
    "%autoreload 2"
   ]
  },
  {
   "cell_type": "code",
   "execution_count": 4,
   "id": "58efcb36",
   "metadata": {},
   "outputs": [
    {
     "name": "stderr",
     "output_type": "stream",
     "text": [
      "2025-04-26 22:09:49.849580: I tensorflow/core/platform/cpu_feature_guard.cc:193] This TensorFlow binary is optimized with oneAPI Deep Neural Network Library (oneDNN) to use the following CPU instructions in performance-critical operations:  AVX2 AVX_VNNI FMA\n",
      "To enable them in other operations, rebuild TensorFlow with the appropriate compiler flags.\n",
      "2025-04-26 22:09:50.052262: I tensorflow/core/util/port.cc:104] oneDNN custom operations are on. You may see slightly different numerical results due to floating-point round-off errors from different computation orders. To turn them off, set the environment variable `TF_ENABLE_ONEDNN_OPTS=0`.\n",
      "2025-04-26 22:09:50.717339: W tensorflow/compiler/xla/stream_executor/platform/default/dso_loader.cc:64] Could not load dynamic library 'libnvinfer.so.7'; dlerror: libnvinfer.so.7: cannot open shared object file: No such file or directory\n",
      "2025-04-26 22:09:50.717417: W tensorflow/compiler/xla/stream_executor/platform/default/dso_loader.cc:64] Could not load dynamic library 'libnvinfer_plugin.so.7'; dlerror: libnvinfer_plugin.so.7: cannot open shared object file: No such file or directory\n",
      "2025-04-26 22:09:50.717421: W tensorflow/compiler/tf2tensorrt/utils/py_utils.cc:38] TF-TRT Warning: Cannot dlopen some TensorRT libraries. If you would like to use Nvidia GPU with TensorRT, please make sure the missing libraries mentioned above are installed properly.\n"
     ]
    },
    {
     "name": "stdout",
     "output_type": "stream",
     "text": [
      "Device: cuda\n"
     ]
    }
   ],
   "source": [
    "import os, sys\n",
    "os.sys.path.append(\"../src\")\n",
    "from utils.constant import ViTExperiment\n",
    "from transformers import ViTForImageClassification\n",
    "from utils.helper import get_device\n",
    "from utils.vit_util import maybe_initialize_repair_weights_\n",
    "device = get_device()\n",
    "pretrained_dir = getattr(ViTExperiment, \"c100\").OUTPUT_DIR.format(k=0)"
   ]
  },
  {
   "cell_type": "markdown",
   "id": "401e7fc2",
   "metadata": {},
   "source": [
    "# データセット周りの処理"
   ]
  },
  {
   "cell_type": "code",
   "execution_count": 5,
   "id": "8a3a9ceb",
   "metadata": {},
   "outputs": [],
   "source": [
    "\n",
    "from datasets import load_from_disk\n",
    "from transformers import DefaultDataCollator, ViTForImageClassification, TrainingArguments, Trainer\n",
    "from utils.vit_util import processor, transforms, transforms_c100, compute_metrics\n",
    "import torch\n",
    "\n",
    "dataset_dir = ViTExperiment.DATASET_DIR\n",
    "ds = load_from_disk(os.path.join(dataset_dir, f\"c100_fold0\"))\n",
    "tf_func = transforms_c100\n",
    "label_col = \"fine_label\"\n",
    "\n",
    "# 読み込まれた時にリアルタイムで前処理を適用するようにする\n",
    "ds_preprocessed = ds.with_transform(tf_func)\n",
    "# バッチごとの処理のためのdata_collator\n",
    "data_collator = DefaultDataCollator()\n",
    "# ラベルを示す文字列のlist\n",
    "labels = ds_preprocessed[\"train\"].features[label_col].names\n",
    "\n",
    "# 学習の設定\n",
    "batch_size = ViTExperiment.BATCH_SIZE\n",
    "logging_steps = len(ds_preprocessed[\"train\"]) // batch_size"
   ]
  },
  {
   "cell_type": "code",
   "execution_count": 6,
   "id": "98262ee8",
   "metadata": {},
   "outputs": [],
   "source": [
    "ds_limited = ds_preprocessed.copy()\n",
    "ds_limited[\"train\"] = ds_preprocessed[\"train\"].select(range(1000))\n",
    "ds_limited[\"test\"] = ds_preprocessed[\"test\"].select(range(100))"
   ]
  },
  {
   "cell_type": "markdown",
   "id": "b9891489",
   "metadata": {},
   "source": [
    "# 初期モデルロード"
   ]
  },
  {
   "cell_type": "code",
   "execution_count": 7,
   "id": "e22f49d2",
   "metadata": {},
   "outputs": [
    {
     "name": "stderr",
     "output_type": "stream",
     "text": [
      "Some weights of the model checkpoint at google/vit-base-patch16-224-in21k were not used when initializing ViTForImageClassification: ['pooler.dense.bias', 'pooler.dense.weight']\n",
      "- This IS expected if you are initializing ViTForImageClassification from the checkpoint of a model trained on another task or with another architecture (e.g. initializing a BertForSequenceClassification model from a BertForPreTraining model).\n",
      "- This IS NOT expected if you are initializing ViTForImageClassification from the checkpoint of a model that you expect to be exactly identical (initializing a BertForSequenceClassification model from a BertForSequenceClassification model).\n",
      "Some weights of ViTForImageClassification were not initialized from the model checkpoint at google/vit-base-patch16-224-in21k and are newly initialized: ['encoder.layer.10.intermediate.repair.weight', 'encoder.layer.5.intermediate.repair.weight', 'encoder.layer.0.intermediate.repair.weight', 'encoder.layer.2.intermediate.repair.weight', 'classifier.bias', 'classifier.weight', 'encoder.layer.7.intermediate.repair.weight', 'encoder.layer.3.intermediate.repair.weight', 'encoder.layer.1.intermediate.repair.weight', 'encoder.layer.6.intermediate.repair.weight', 'encoder.layer.8.intermediate.repair.weight', 'encoder.layer.4.intermediate.repair.weight', 'encoder.layer.11.intermediate.repair.weight', 'encoder.layer.9.intermediate.repair.weight']\n",
      "You should probably TRAIN this model on a down-stream task to be able to use it for predictions and inference.\n"
     ]
    },
    {
     "name": "stdout",
     "output_type": "stream",
     "text": [
      "🛠️ Initializing intermediate.repair.weight as identity matrix (for missing weights)\n"
     ]
    }
   ],
   "source": [
    "# pretrained modelのロード\n",
    "model, loading_info = ViTForImageClassification.from_pretrained(\n",
    "    ViTExperiment.ViT_PATH,\n",
    "    num_labels=len(labels),\n",
    "    id2label={str(i): c for i, c in enumerate(labels)},\n",
    "    label2id={c: str(i) for i, c in enumerate(labels)},\n",
    "    output_loading_info=True\n",
    ")\n",
    "model = model.to(device)\n",
    "model = maybe_initialize_repair_weights_(model, loading_info[\"missing_keys\"])"
   ]
  },
  {
   "cell_type": "markdown",
   "id": "d4d827a2",
   "metadata": {},
   "source": [
    "# 訓練周りの設定"
   ]
  },
  {
   "cell_type": "code",
   "execution_count": 8,
   "id": "5bc69734",
   "metadata": {},
   "outputs": [],
   "source": [
    "training_args = TrainingArguments(\n",
    "    output_dir=\"./\",\n",
    "    num_train_epochs=5,\n",
    "    learning_rate=2e-4,\n",
    "    weight_decay=0.01,\n",
    "    per_device_train_batch_size=batch_size,\n",
    "    per_device_eval_batch_size=batch_size,\n",
    "    remove_unused_columns=False, # img列がないとエラーになるので必要\n",
    "    evaluation_strategy=\"epoch\", # エポックの終わりごとにeval_datasetで評価\n",
    "    logging_strategy=\"epoch\",\n",
    "    save_strategy=\"epoch\",\n",
    "    push_to_hub=False,\n",
    "    disable_tqdm=False,\n",
    "    log_level=\"error\",\n",
    "    report_to=\"tensorboard\",\n",
    "    load_best_model_at_end=True,\n",
    ")"
   ]
  },
  {
   "cell_type": "code",
   "execution_count": 9,
   "id": "79d1b379",
   "metadata": {},
   "outputs": [
    {
     "name": "stdout",
     "output_type": "stream",
     "text": [
      "1000 100\n"
     ]
    }
   ],
   "source": [
    "print(len(ds_limited[\"train\"]), len(ds_limited[\"test\"]))"
   ]
  },
  {
   "cell_type": "markdown",
   "id": "21823584",
   "metadata": {},
   "source": [
    "# full fine-tuning (一部のデータ)"
   ]
  },
  {
   "cell_type": "code",
   "execution_count": 43,
   "id": "4bdfaff0",
   "metadata": {},
   "outputs": [
    {
     "name": "stdout",
     "output_type": "stream",
     "text": [
      "📋 パラメータ一覧（trainable / untrainable 含む）\n",
      "✅ trainable  | vit.embeddings.cls_token                                     | shape: (1, 1, 768)               | #params: 768\n",
      "✅ trainable  | vit.embeddings.position_embeddings                           | shape: (1, 197, 768)             | #params: 151296\n",
      "✅ trainable  | vit.embeddings.patch_embeddings.projection.weight            | shape: (768, 3, 16, 16)          | #params: 589824\n",
      "✅ trainable  | vit.embeddings.patch_embeddings.projection.bias              | shape: (768,)                    | #params: 768\n",
      "✅ trainable  | vit.encoder.layer.0.attention.attention.query.weight         | shape: (768, 768)                | #params: 589824\n",
      "✅ trainable  | vit.encoder.layer.0.attention.attention.query.bias           | shape: (768,)                    | #params: 768\n",
      "✅ trainable  | vit.encoder.layer.0.attention.attention.key.weight           | shape: (768, 768)                | #params: 589824\n",
      "✅ trainable  | vit.encoder.layer.0.attention.attention.key.bias             | shape: (768,)                    | #params: 768\n",
      "✅ trainable  | vit.encoder.layer.0.attention.attention.value.weight         | shape: (768, 768)                | #params: 589824\n",
      "✅ trainable  | vit.encoder.layer.0.attention.attention.value.bias           | shape: (768,)                    | #params: 768\n",
      "✅ trainable  | vit.encoder.layer.0.attention.output.dense.weight            | shape: (768, 768)                | #params: 589824\n",
      "✅ trainable  | vit.encoder.layer.0.attention.output.dense.bias              | shape: (768,)                    | #params: 768\n",
      "✅ trainable  | vit.encoder.layer.0.intermediate.dense.weight                | shape: (3072, 768)               | #params: 2359296\n",
      "✅ trainable  | vit.encoder.layer.0.intermediate.dense.bias                  | shape: (3072,)                   | #params: 3072\n",
      "❌ frozen     | vit.encoder.layer.0.intermediate.repair.weight               | shape: (3072, 3072)              | #params: 9437184\n",
      "✅ trainable  | vit.encoder.layer.0.output.dense.weight                      | shape: (768, 3072)               | #params: 2359296\n",
      "✅ trainable  | vit.encoder.layer.0.output.dense.bias                        | shape: (768,)                    | #params: 768\n",
      "✅ trainable  | vit.encoder.layer.0.layernorm_before.weight                  | shape: (768,)                    | #params: 768\n",
      "✅ trainable  | vit.encoder.layer.0.layernorm_before.bias                    | shape: (768,)                    | #params: 768\n",
      "✅ trainable  | vit.encoder.layer.0.layernorm_after.weight                   | shape: (768,)                    | #params: 768\n",
      "✅ trainable  | vit.encoder.layer.0.layernorm_after.bias                     | shape: (768,)                    | #params: 768\n",
      "✅ trainable  | vit.encoder.layer.1.attention.attention.query.weight         | shape: (768, 768)                | #params: 589824\n",
      "✅ trainable  | vit.encoder.layer.1.attention.attention.query.bias           | shape: (768,)                    | #params: 768\n",
      "✅ trainable  | vit.encoder.layer.1.attention.attention.key.weight           | shape: (768, 768)                | #params: 589824\n",
      "✅ trainable  | vit.encoder.layer.1.attention.attention.key.bias             | shape: (768,)                    | #params: 768\n",
      "✅ trainable  | vit.encoder.layer.1.attention.attention.value.weight         | shape: (768, 768)                | #params: 589824\n",
      "✅ trainable  | vit.encoder.layer.1.attention.attention.value.bias           | shape: (768,)                    | #params: 768\n",
      "✅ trainable  | vit.encoder.layer.1.attention.output.dense.weight            | shape: (768, 768)                | #params: 589824\n",
      "✅ trainable  | vit.encoder.layer.1.attention.output.dense.bias              | shape: (768,)                    | #params: 768\n",
      "✅ trainable  | vit.encoder.layer.1.intermediate.dense.weight                | shape: (3072, 768)               | #params: 2359296\n",
      "✅ trainable  | vit.encoder.layer.1.intermediate.dense.bias                  | shape: (3072,)                   | #params: 3072\n",
      "❌ frozen     | vit.encoder.layer.1.intermediate.repair.weight               | shape: (3072, 3072)              | #params: 9437184\n",
      "✅ trainable  | vit.encoder.layer.1.output.dense.weight                      | shape: (768, 3072)               | #params: 2359296\n",
      "✅ trainable  | vit.encoder.layer.1.output.dense.bias                        | shape: (768,)                    | #params: 768\n",
      "✅ trainable  | vit.encoder.layer.1.layernorm_before.weight                  | shape: (768,)                    | #params: 768\n",
      "✅ trainable  | vit.encoder.layer.1.layernorm_before.bias                    | shape: (768,)                    | #params: 768\n",
      "✅ trainable  | vit.encoder.layer.1.layernorm_after.weight                   | shape: (768,)                    | #params: 768\n",
      "✅ trainable  | vit.encoder.layer.1.layernorm_after.bias                     | shape: (768,)                    | #params: 768\n",
      "✅ trainable  | vit.encoder.layer.2.attention.attention.query.weight         | shape: (768, 768)                | #params: 589824\n",
      "✅ trainable  | vit.encoder.layer.2.attention.attention.query.bias           | shape: (768,)                    | #params: 768\n",
      "✅ trainable  | vit.encoder.layer.2.attention.attention.key.weight           | shape: (768, 768)                | #params: 589824\n",
      "✅ trainable  | vit.encoder.layer.2.attention.attention.key.bias             | shape: (768,)                    | #params: 768\n",
      "✅ trainable  | vit.encoder.layer.2.attention.attention.value.weight         | shape: (768, 768)                | #params: 589824\n",
      "✅ trainable  | vit.encoder.layer.2.attention.attention.value.bias           | shape: (768,)                    | #params: 768\n",
      "✅ trainable  | vit.encoder.layer.2.attention.output.dense.weight            | shape: (768, 768)                | #params: 589824\n",
      "✅ trainable  | vit.encoder.layer.2.attention.output.dense.bias              | shape: (768,)                    | #params: 768\n",
      "✅ trainable  | vit.encoder.layer.2.intermediate.dense.weight                | shape: (3072, 768)               | #params: 2359296\n",
      "✅ trainable  | vit.encoder.layer.2.intermediate.dense.bias                  | shape: (3072,)                   | #params: 3072\n",
      "❌ frozen     | vit.encoder.layer.2.intermediate.repair.weight               | shape: (3072, 3072)              | #params: 9437184\n",
      "✅ trainable  | vit.encoder.layer.2.output.dense.weight                      | shape: (768, 3072)               | #params: 2359296\n",
      "✅ trainable  | vit.encoder.layer.2.output.dense.bias                        | shape: (768,)                    | #params: 768\n",
      "✅ trainable  | vit.encoder.layer.2.layernorm_before.weight                  | shape: (768,)                    | #params: 768\n",
      "✅ trainable  | vit.encoder.layer.2.layernorm_before.bias                    | shape: (768,)                    | #params: 768\n",
      "✅ trainable  | vit.encoder.layer.2.layernorm_after.weight                   | shape: (768,)                    | #params: 768\n",
      "✅ trainable  | vit.encoder.layer.2.layernorm_after.bias                     | shape: (768,)                    | #params: 768\n",
      "✅ trainable  | vit.encoder.layer.3.attention.attention.query.weight         | shape: (768, 768)                | #params: 589824\n",
      "✅ trainable  | vit.encoder.layer.3.attention.attention.query.bias           | shape: (768,)                    | #params: 768\n",
      "✅ trainable  | vit.encoder.layer.3.attention.attention.key.weight           | shape: (768, 768)                | #params: 589824\n",
      "✅ trainable  | vit.encoder.layer.3.attention.attention.key.bias             | shape: (768,)                    | #params: 768\n",
      "✅ trainable  | vit.encoder.layer.3.attention.attention.value.weight         | shape: (768, 768)                | #params: 589824\n",
      "✅ trainable  | vit.encoder.layer.3.attention.attention.value.bias           | shape: (768,)                    | #params: 768\n",
      "✅ trainable  | vit.encoder.layer.3.attention.output.dense.weight            | shape: (768, 768)                | #params: 589824\n",
      "✅ trainable  | vit.encoder.layer.3.attention.output.dense.bias              | shape: (768,)                    | #params: 768\n",
      "✅ trainable  | vit.encoder.layer.3.intermediate.dense.weight                | shape: (3072, 768)               | #params: 2359296\n",
      "✅ trainable  | vit.encoder.layer.3.intermediate.dense.bias                  | shape: (3072,)                   | #params: 3072\n",
      "❌ frozen     | vit.encoder.layer.3.intermediate.repair.weight               | shape: (3072, 3072)              | #params: 9437184\n",
      "✅ trainable  | vit.encoder.layer.3.output.dense.weight                      | shape: (768, 3072)               | #params: 2359296\n",
      "✅ trainable  | vit.encoder.layer.3.output.dense.bias                        | shape: (768,)                    | #params: 768\n",
      "✅ trainable  | vit.encoder.layer.3.layernorm_before.weight                  | shape: (768,)                    | #params: 768\n",
      "✅ trainable  | vit.encoder.layer.3.layernorm_before.bias                    | shape: (768,)                    | #params: 768\n",
      "✅ trainable  | vit.encoder.layer.3.layernorm_after.weight                   | shape: (768,)                    | #params: 768\n",
      "✅ trainable  | vit.encoder.layer.3.layernorm_after.bias                     | shape: (768,)                    | #params: 768\n",
      "✅ trainable  | vit.encoder.layer.4.attention.attention.query.weight         | shape: (768, 768)                | #params: 589824\n",
      "✅ trainable  | vit.encoder.layer.4.attention.attention.query.bias           | shape: (768,)                    | #params: 768\n",
      "✅ trainable  | vit.encoder.layer.4.attention.attention.key.weight           | shape: (768, 768)                | #params: 589824\n",
      "✅ trainable  | vit.encoder.layer.4.attention.attention.key.bias             | shape: (768,)                    | #params: 768\n",
      "✅ trainable  | vit.encoder.layer.4.attention.attention.value.weight         | shape: (768, 768)                | #params: 589824\n",
      "✅ trainable  | vit.encoder.layer.4.attention.attention.value.bias           | shape: (768,)                    | #params: 768\n",
      "✅ trainable  | vit.encoder.layer.4.attention.output.dense.weight            | shape: (768, 768)                | #params: 589824\n",
      "✅ trainable  | vit.encoder.layer.4.attention.output.dense.bias              | shape: (768,)                    | #params: 768\n",
      "✅ trainable  | vit.encoder.layer.4.intermediate.dense.weight                | shape: (3072, 768)               | #params: 2359296\n",
      "✅ trainable  | vit.encoder.layer.4.intermediate.dense.bias                  | shape: (3072,)                   | #params: 3072\n",
      "❌ frozen     | vit.encoder.layer.4.intermediate.repair.weight               | shape: (3072, 3072)              | #params: 9437184\n",
      "✅ trainable  | vit.encoder.layer.4.output.dense.weight                      | shape: (768, 3072)               | #params: 2359296\n",
      "✅ trainable  | vit.encoder.layer.4.output.dense.bias                        | shape: (768,)                    | #params: 768\n",
      "✅ trainable  | vit.encoder.layer.4.layernorm_before.weight                  | shape: (768,)                    | #params: 768\n",
      "✅ trainable  | vit.encoder.layer.4.layernorm_before.bias                    | shape: (768,)                    | #params: 768\n",
      "✅ trainable  | vit.encoder.layer.4.layernorm_after.weight                   | shape: (768,)                    | #params: 768\n",
      "✅ trainable  | vit.encoder.layer.4.layernorm_after.bias                     | shape: (768,)                    | #params: 768\n",
      "✅ trainable  | vit.encoder.layer.5.attention.attention.query.weight         | shape: (768, 768)                | #params: 589824\n",
      "✅ trainable  | vit.encoder.layer.5.attention.attention.query.bias           | shape: (768,)                    | #params: 768\n",
      "✅ trainable  | vit.encoder.layer.5.attention.attention.key.weight           | shape: (768, 768)                | #params: 589824\n",
      "✅ trainable  | vit.encoder.layer.5.attention.attention.key.bias             | shape: (768,)                    | #params: 768\n",
      "✅ trainable  | vit.encoder.layer.5.attention.attention.value.weight         | shape: (768, 768)                | #params: 589824\n",
      "✅ trainable  | vit.encoder.layer.5.attention.attention.value.bias           | shape: (768,)                    | #params: 768\n",
      "✅ trainable  | vit.encoder.layer.5.attention.output.dense.weight            | shape: (768, 768)                | #params: 589824\n",
      "✅ trainable  | vit.encoder.layer.5.attention.output.dense.bias              | shape: (768,)                    | #params: 768\n",
      "✅ trainable  | vit.encoder.layer.5.intermediate.dense.weight                | shape: (3072, 768)               | #params: 2359296\n",
      "✅ trainable  | vit.encoder.layer.5.intermediate.dense.bias                  | shape: (3072,)                   | #params: 3072\n",
      "❌ frozen     | vit.encoder.layer.5.intermediate.repair.weight               | shape: (3072, 3072)              | #params: 9437184\n",
      "✅ trainable  | vit.encoder.layer.5.output.dense.weight                      | shape: (768, 3072)               | #params: 2359296\n",
      "✅ trainable  | vit.encoder.layer.5.output.dense.bias                        | shape: (768,)                    | #params: 768\n",
      "✅ trainable  | vit.encoder.layer.5.layernorm_before.weight                  | shape: (768,)                    | #params: 768\n",
      "✅ trainable  | vit.encoder.layer.5.layernorm_before.bias                    | shape: (768,)                    | #params: 768\n",
      "✅ trainable  | vit.encoder.layer.5.layernorm_after.weight                   | shape: (768,)                    | #params: 768\n",
      "✅ trainable  | vit.encoder.layer.5.layernorm_after.bias                     | shape: (768,)                    | #params: 768\n",
      "✅ trainable  | vit.encoder.layer.6.attention.attention.query.weight         | shape: (768, 768)                | #params: 589824\n",
      "✅ trainable  | vit.encoder.layer.6.attention.attention.query.bias           | shape: (768,)                    | #params: 768\n",
      "✅ trainable  | vit.encoder.layer.6.attention.attention.key.weight           | shape: (768, 768)                | #params: 589824\n",
      "✅ trainable  | vit.encoder.layer.6.attention.attention.key.bias             | shape: (768,)                    | #params: 768\n",
      "✅ trainable  | vit.encoder.layer.6.attention.attention.value.weight         | shape: (768, 768)                | #params: 589824\n",
      "✅ trainable  | vit.encoder.layer.6.attention.attention.value.bias           | shape: (768,)                    | #params: 768\n",
      "✅ trainable  | vit.encoder.layer.6.attention.output.dense.weight            | shape: (768, 768)                | #params: 589824\n",
      "✅ trainable  | vit.encoder.layer.6.attention.output.dense.bias              | shape: (768,)                    | #params: 768\n",
      "✅ trainable  | vit.encoder.layer.6.intermediate.dense.weight                | shape: (3072, 768)               | #params: 2359296\n",
      "✅ trainable  | vit.encoder.layer.6.intermediate.dense.bias                  | shape: (3072,)                   | #params: 3072\n",
      "❌ frozen     | vit.encoder.layer.6.intermediate.repair.weight               | shape: (3072, 3072)              | #params: 9437184\n",
      "✅ trainable  | vit.encoder.layer.6.output.dense.weight                      | shape: (768, 3072)               | #params: 2359296\n",
      "✅ trainable  | vit.encoder.layer.6.output.dense.bias                        | shape: (768,)                    | #params: 768\n",
      "✅ trainable  | vit.encoder.layer.6.layernorm_before.weight                  | shape: (768,)                    | #params: 768\n",
      "✅ trainable  | vit.encoder.layer.6.layernorm_before.bias                    | shape: (768,)                    | #params: 768\n",
      "✅ trainable  | vit.encoder.layer.6.layernorm_after.weight                   | shape: (768,)                    | #params: 768\n",
      "✅ trainable  | vit.encoder.layer.6.layernorm_after.bias                     | shape: (768,)                    | #params: 768\n",
      "✅ trainable  | vit.encoder.layer.7.attention.attention.query.weight         | shape: (768, 768)                | #params: 589824\n",
      "✅ trainable  | vit.encoder.layer.7.attention.attention.query.bias           | shape: (768,)                    | #params: 768\n",
      "✅ trainable  | vit.encoder.layer.7.attention.attention.key.weight           | shape: (768, 768)                | #params: 589824\n",
      "✅ trainable  | vit.encoder.layer.7.attention.attention.key.bias             | shape: (768,)                    | #params: 768\n",
      "✅ trainable  | vit.encoder.layer.7.attention.attention.value.weight         | shape: (768, 768)                | #params: 589824\n",
      "✅ trainable  | vit.encoder.layer.7.attention.attention.value.bias           | shape: (768,)                    | #params: 768\n",
      "✅ trainable  | vit.encoder.layer.7.attention.output.dense.weight            | shape: (768, 768)                | #params: 589824\n",
      "✅ trainable  | vit.encoder.layer.7.attention.output.dense.bias              | shape: (768,)                    | #params: 768\n",
      "✅ trainable  | vit.encoder.layer.7.intermediate.dense.weight                | shape: (3072, 768)               | #params: 2359296\n",
      "✅ trainable  | vit.encoder.layer.7.intermediate.dense.bias                  | shape: (3072,)                   | #params: 3072\n",
      "❌ frozen     | vit.encoder.layer.7.intermediate.repair.weight               | shape: (3072, 3072)              | #params: 9437184\n",
      "✅ trainable  | vit.encoder.layer.7.output.dense.weight                      | shape: (768, 3072)               | #params: 2359296\n",
      "✅ trainable  | vit.encoder.layer.7.output.dense.bias                        | shape: (768,)                    | #params: 768\n",
      "✅ trainable  | vit.encoder.layer.7.layernorm_before.weight                  | shape: (768,)                    | #params: 768\n",
      "✅ trainable  | vit.encoder.layer.7.layernorm_before.bias                    | shape: (768,)                    | #params: 768\n",
      "✅ trainable  | vit.encoder.layer.7.layernorm_after.weight                   | shape: (768,)                    | #params: 768\n",
      "✅ trainable  | vit.encoder.layer.7.layernorm_after.bias                     | shape: (768,)                    | #params: 768\n",
      "✅ trainable  | vit.encoder.layer.8.attention.attention.query.weight         | shape: (768, 768)                | #params: 589824\n",
      "✅ trainable  | vit.encoder.layer.8.attention.attention.query.bias           | shape: (768,)                    | #params: 768\n",
      "✅ trainable  | vit.encoder.layer.8.attention.attention.key.weight           | shape: (768, 768)                | #params: 589824\n",
      "✅ trainable  | vit.encoder.layer.8.attention.attention.key.bias             | shape: (768,)                    | #params: 768\n",
      "✅ trainable  | vit.encoder.layer.8.attention.attention.value.weight         | shape: (768, 768)                | #params: 589824\n",
      "✅ trainable  | vit.encoder.layer.8.attention.attention.value.bias           | shape: (768,)                    | #params: 768\n",
      "✅ trainable  | vit.encoder.layer.8.attention.output.dense.weight            | shape: (768, 768)                | #params: 589824\n",
      "✅ trainable  | vit.encoder.layer.8.attention.output.dense.bias              | shape: (768,)                    | #params: 768\n",
      "✅ trainable  | vit.encoder.layer.8.intermediate.dense.weight                | shape: (3072, 768)               | #params: 2359296\n",
      "✅ trainable  | vit.encoder.layer.8.intermediate.dense.bias                  | shape: (3072,)                   | #params: 3072\n",
      "❌ frozen     | vit.encoder.layer.8.intermediate.repair.weight               | shape: (3072, 3072)              | #params: 9437184\n",
      "✅ trainable  | vit.encoder.layer.8.output.dense.weight                      | shape: (768, 3072)               | #params: 2359296\n",
      "✅ trainable  | vit.encoder.layer.8.output.dense.bias                        | shape: (768,)                    | #params: 768\n",
      "✅ trainable  | vit.encoder.layer.8.layernorm_before.weight                  | shape: (768,)                    | #params: 768\n",
      "✅ trainable  | vit.encoder.layer.8.layernorm_before.bias                    | shape: (768,)                    | #params: 768\n",
      "✅ trainable  | vit.encoder.layer.8.layernorm_after.weight                   | shape: (768,)                    | #params: 768\n",
      "✅ trainable  | vit.encoder.layer.8.layernorm_after.bias                     | shape: (768,)                    | #params: 768\n",
      "✅ trainable  | vit.encoder.layer.9.attention.attention.query.weight         | shape: (768, 768)                | #params: 589824\n",
      "✅ trainable  | vit.encoder.layer.9.attention.attention.query.bias           | shape: (768,)                    | #params: 768\n",
      "✅ trainable  | vit.encoder.layer.9.attention.attention.key.weight           | shape: (768, 768)                | #params: 589824\n",
      "✅ trainable  | vit.encoder.layer.9.attention.attention.key.bias             | shape: (768,)                    | #params: 768\n",
      "✅ trainable  | vit.encoder.layer.9.attention.attention.value.weight         | shape: (768, 768)                | #params: 589824\n",
      "✅ trainable  | vit.encoder.layer.9.attention.attention.value.bias           | shape: (768,)                    | #params: 768\n",
      "✅ trainable  | vit.encoder.layer.9.attention.output.dense.weight            | shape: (768, 768)                | #params: 589824\n",
      "✅ trainable  | vit.encoder.layer.9.attention.output.dense.bias              | shape: (768,)                    | #params: 768\n",
      "✅ trainable  | vit.encoder.layer.9.intermediate.dense.weight                | shape: (3072, 768)               | #params: 2359296\n",
      "✅ trainable  | vit.encoder.layer.9.intermediate.dense.bias                  | shape: (3072,)                   | #params: 3072\n",
      "❌ frozen     | vit.encoder.layer.9.intermediate.repair.weight               | shape: (3072, 3072)              | #params: 9437184\n",
      "✅ trainable  | vit.encoder.layer.9.output.dense.weight                      | shape: (768, 3072)               | #params: 2359296\n",
      "✅ trainable  | vit.encoder.layer.9.output.dense.bias                        | shape: (768,)                    | #params: 768\n",
      "✅ trainable  | vit.encoder.layer.9.layernorm_before.weight                  | shape: (768,)                    | #params: 768\n",
      "✅ trainable  | vit.encoder.layer.9.layernorm_before.bias                    | shape: (768,)                    | #params: 768\n",
      "✅ trainable  | vit.encoder.layer.9.layernorm_after.weight                   | shape: (768,)                    | #params: 768\n",
      "✅ trainable  | vit.encoder.layer.9.layernorm_after.bias                     | shape: (768,)                    | #params: 768\n",
      "✅ trainable  | vit.encoder.layer.10.attention.attention.query.weight        | shape: (768, 768)                | #params: 589824\n",
      "✅ trainable  | vit.encoder.layer.10.attention.attention.query.bias          | shape: (768,)                    | #params: 768\n",
      "✅ trainable  | vit.encoder.layer.10.attention.attention.key.weight          | shape: (768, 768)                | #params: 589824\n",
      "✅ trainable  | vit.encoder.layer.10.attention.attention.key.bias            | shape: (768,)                    | #params: 768\n",
      "✅ trainable  | vit.encoder.layer.10.attention.attention.value.weight        | shape: (768, 768)                | #params: 589824\n",
      "✅ trainable  | vit.encoder.layer.10.attention.attention.value.bias          | shape: (768,)                    | #params: 768\n",
      "✅ trainable  | vit.encoder.layer.10.attention.output.dense.weight           | shape: (768, 768)                | #params: 589824\n",
      "✅ trainable  | vit.encoder.layer.10.attention.output.dense.bias             | shape: (768,)                    | #params: 768\n",
      "✅ trainable  | vit.encoder.layer.10.intermediate.dense.weight               | shape: (3072, 768)               | #params: 2359296\n",
      "✅ trainable  | vit.encoder.layer.10.intermediate.dense.bias                 | shape: (3072,)                   | #params: 3072\n",
      "❌ frozen     | vit.encoder.layer.10.intermediate.repair.weight              | shape: (3072, 3072)              | #params: 9437184\n",
      "✅ trainable  | vit.encoder.layer.10.output.dense.weight                     | shape: (768, 3072)               | #params: 2359296\n",
      "✅ trainable  | vit.encoder.layer.10.output.dense.bias                       | shape: (768,)                    | #params: 768\n",
      "✅ trainable  | vit.encoder.layer.10.layernorm_before.weight                 | shape: (768,)                    | #params: 768\n",
      "✅ trainable  | vit.encoder.layer.10.layernorm_before.bias                   | shape: (768,)                    | #params: 768\n",
      "✅ trainable  | vit.encoder.layer.10.layernorm_after.weight                  | shape: (768,)                    | #params: 768\n",
      "✅ trainable  | vit.encoder.layer.10.layernorm_after.bias                    | shape: (768,)                    | #params: 768\n",
      "✅ trainable  | vit.encoder.layer.11.attention.attention.query.weight        | shape: (768, 768)                | #params: 589824\n",
      "✅ trainable  | vit.encoder.layer.11.attention.attention.query.bias          | shape: (768,)                    | #params: 768\n",
      "✅ trainable  | vit.encoder.layer.11.attention.attention.key.weight          | shape: (768, 768)                | #params: 589824\n",
      "✅ trainable  | vit.encoder.layer.11.attention.attention.key.bias            | shape: (768,)                    | #params: 768\n",
      "✅ trainable  | vit.encoder.layer.11.attention.attention.value.weight        | shape: (768, 768)                | #params: 589824\n",
      "✅ trainable  | vit.encoder.layer.11.attention.attention.value.bias          | shape: (768,)                    | #params: 768\n",
      "✅ trainable  | vit.encoder.layer.11.attention.output.dense.weight           | shape: (768, 768)                | #params: 589824\n",
      "✅ trainable  | vit.encoder.layer.11.attention.output.dense.bias             | shape: (768,)                    | #params: 768\n",
      "✅ trainable  | vit.encoder.layer.11.intermediate.dense.weight               | shape: (3072, 768)               | #params: 2359296\n",
      "✅ trainable  | vit.encoder.layer.11.intermediate.dense.bias                 | shape: (3072,)                   | #params: 3072\n",
      "❌ frozen     | vit.encoder.layer.11.intermediate.repair.weight              | shape: (3072, 3072)              | #params: 9437184\n",
      "✅ trainable  | vit.encoder.layer.11.output.dense.weight                     | shape: (768, 3072)               | #params: 2359296\n",
      "✅ trainable  | vit.encoder.layer.11.output.dense.bias                       | shape: (768,)                    | #params: 768\n",
      "✅ trainable  | vit.encoder.layer.11.layernorm_before.weight                 | shape: (768,)                    | #params: 768\n",
      "✅ trainable  | vit.encoder.layer.11.layernorm_before.bias                   | shape: (768,)                    | #params: 768\n",
      "✅ trainable  | vit.encoder.layer.11.layernorm_after.weight                  | shape: (768,)                    | #params: 768\n",
      "✅ trainable  | vit.encoder.layer.11.layernorm_after.bias                    | shape: (768,)                    | #params: 768\n",
      "✅ trainable  | vit.layernorm.weight                                         | shape: (768,)                    | #params: 768\n",
      "✅ trainable  | vit.layernorm.bias                                           | shape: (768,)                    | #params: 768\n",
      "✅ trainable  | classifier.weight                                            | shape: (100, 768)                | #params: 76800\n",
      "✅ trainable  | classifier.bias                                              | shape: (100,)                    | #params: 100\n",
      "\n",
      "📊 Summary\n",
      "Trainable: 85,875,556 / 199,121,764 (43.13%)\n"
     ]
    }
   ],
   "source": [
    "print(\"📋 パラメータ一覧（trainable / untrainable 含む）\")\n",
    "\n",
    "total_elements = 0\n",
    "trainable_elements = 0\n",
    "\n",
    "for name, param in model.named_parameters():\n",
    "    numel = param.numel()\n",
    "    total_elements += numel\n",
    "    if param.requires_grad:\n",
    "        trainable_elements += numel\n",
    "        status = \"✅ trainable\"\n",
    "    else:\n",
    "        status = \"❌ frozen\"\n",
    "    print(f\"{status:12} | {name:60} | shape: {str(tuple(param.shape)):25} | #params: {numel}\")\n",
    "\n",
    "print(\"\\n📊 Summary\")\n",
    "print(f\"Trainable: {trainable_elements:,} / {total_elements:,} ({100 * trainable_elements / total_elements:.2f}%)\")\n"
   ]
  },
  {
   "cell_type": "code",
   "execution_count": 44,
   "id": "78af8b28",
   "metadata": {},
   "outputs": [
    {
     "name": "stderr",
     "output_type": "stream",
     "text": [
      "/src/transformers-4.30.2/src/transformers/optimization.py:415: FutureWarning: This implementation of AdamW is deprecated and will be removed in a future version. Use the PyTorch implementation torch.optim.AdamW instead, or set `no_deprecation_warning=True` to disable this warning\n",
      "  FutureWarning,\n"
     ]
    },
    {
     "data": {
      "text/html": [
       "\n",
       "    <div>\n",
       "      \n",
       "      <progress value='160' max='160' style='width:300px; height:20px; vertical-align: middle;'></progress>\n",
       "      [160/160 02:07, Epoch 5/5]\n",
       "    </div>\n",
       "    <table border=\"1\" class=\"dataframe\">\n",
       "  <thead>\n",
       " <tr style=\"text-align: left;\">\n",
       "      <th>Epoch</th>\n",
       "      <th>Training Loss</th>\n",
       "      <th>Validation Loss</th>\n",
       "      <th>Accuracy</th>\n",
       "      <th>F1</th>\n",
       "    </tr>\n",
       "  </thead>\n",
       "  <tbody>\n",
       "    <tr>\n",
       "      <td>1</td>\n",
       "      <td>4.047500</td>\n",
       "      <td>3.857394</td>\n",
       "      <td>{'accuracy': 0.48}</td>\n",
       "      <td>{'f1': 0.36001564945226916}</td>\n",
       "    </tr>\n",
       "    <tr>\n",
       "      <td>2</td>\n",
       "      <td>3.316200</td>\n",
       "      <td>3.419569</td>\n",
       "      <td>{'accuracy': 0.56}</td>\n",
       "      <td>{'f1': 0.3906186406186406}</td>\n",
       "    </tr>\n",
       "    <tr>\n",
       "      <td>3</td>\n",
       "      <td>2.709800</td>\n",
       "      <td>3.124991</td>\n",
       "      <td>{'accuracy': 0.61}</td>\n",
       "      <td>{'f1': 0.4697434224831485}</td>\n",
       "    </tr>\n",
       "    <tr>\n",
       "      <td>4</td>\n",
       "      <td>2.283600</td>\n",
       "      <td>2.943212</td>\n",
       "      <td>{'accuracy': 0.63}</td>\n",
       "      <td>{'f1': 0.4822179322179322}</td>\n",
       "    </tr>\n",
       "    <tr>\n",
       "      <td>5</td>\n",
       "      <td>2.031900</td>\n",
       "      <td>2.883371</td>\n",
       "      <td>{'accuracy': 0.67}</td>\n",
       "      <td>{'f1': 0.5060774081322026}</td>\n",
       "    </tr>\n",
       "  </tbody>\n",
       "</table><p>"
      ],
      "text/plain": [
       "<IPython.core.display.HTML object>"
      ]
     },
     "metadata": {},
     "output_type": "display_data"
    }
   ],
   "source": [
    "# NOTE: 表示されるプログレスバーの分母の数字は，num_epoch*num_sample/batch_size\n",
    "trainer = Trainer(\n",
    "    model=model,\n",
    "    args=training_args,\n",
    "    data_collator=data_collator,\n",
    "    compute_metrics=compute_metrics,\n",
    "    train_dataset=ds_limited[\"train\"],\n",
    "    eval_dataset=ds_limited[\"test\"],\n",
    "    tokenizer=processor,\n",
    ")\n",
    "train_results = trainer.train()"
   ]
  },
  {
   "cell_type": "markdown",
   "id": "71a5b382",
   "metadata": {},
   "source": [
    "# full fine-tuning (全部のデータ)"
   ]
  },
  {
   "cell_type": "code",
   "execution_count": 48,
   "id": "9dcb2b2c",
   "metadata": {},
   "outputs": [
    {
     "name": "stdout",
     "output_type": "stream",
     "text": [
      "40000 10000\n"
     ]
    }
   ],
   "source": [
    "print(len(ds_preprocessed[\"train\"]), len(ds_preprocessed[\"test\"]))"
   ]
  },
  {
   "cell_type": "code",
   "execution_count": 49,
   "id": "7a3241be",
   "metadata": {},
   "outputs": [
    {
     "name": "stdout",
     "output_type": "stream",
     "text": [
      "🛠️ Initializing intermediate.repair.weight as identity matrix (for missing weights)\n"
     ]
    },
    {
     "name": "stderr",
     "output_type": "stream",
     "text": [
      "/src/transformers-4.30.2/src/transformers/optimization.py:415: FutureWarning: This implementation of AdamW is deprecated and will be removed in a future version. Use the PyTorch implementation torch.optim.AdamW instead, or set `no_deprecation_warning=True` to disable this warning\n",
      "  FutureWarning,\n"
     ]
    },
    {
     "data": {
      "text/html": [
       "\n",
       "    <div>\n",
       "      \n",
       "      <progress value='6250' max='6250' style='width:300px; height:20px; vertical-align: middle;'></progress>\n",
       "      [6250/6250 1:15:54, Epoch 5/5]\n",
       "    </div>\n",
       "    <table border=\"1\" class=\"dataframe\">\n",
       "  <thead>\n",
       " <tr style=\"text-align: left;\">\n",
       "      <th>Epoch</th>\n",
       "      <th>Training Loss</th>\n",
       "      <th>Validation Loss</th>\n",
       "      <th>Accuracy</th>\n",
       "      <th>F1</th>\n",
       "    </tr>\n",
       "  </thead>\n",
       "  <tbody>\n",
       "    <tr>\n",
       "      <td>1</td>\n",
       "      <td>1.224500</td>\n",
       "      <td>0.670846</td>\n",
       "      <td>{'accuracy': 0.819}</td>\n",
       "      <td>{'f1': 0.8179123374587242}</td>\n",
       "    </tr>\n",
       "    <tr>\n",
       "      <td>2</td>\n",
       "      <td>0.355600</td>\n",
       "      <td>0.529411</td>\n",
       "      <td>{'accuracy': 0.8502}</td>\n",
       "      <td>{'f1': 0.8508037342498159}</td>\n",
       "    </tr>\n",
       "    <tr>\n",
       "      <td>3</td>\n",
       "      <td>0.170800</td>\n",
       "      <td>0.473328</td>\n",
       "      <td>{'accuracy': 0.8758}</td>\n",
       "      <td>{'f1': 0.8764186321518354}</td>\n",
       "    </tr>\n",
       "    <tr>\n",
       "      <td>4</td>\n",
       "      <td>0.068800</td>\n",
       "      <td>0.455630</td>\n",
       "      <td>{'accuracy': 0.8919}</td>\n",
       "      <td>{'f1': 0.8919041060700329}</td>\n",
       "    </tr>\n",
       "    <tr>\n",
       "      <td>5</td>\n",
       "      <td>0.019300</td>\n",
       "      <td>0.444790</td>\n",
       "      <td>{'accuracy': 0.8978}</td>\n",
       "      <td>{'f1': 0.8980407835784112}</td>\n",
       "    </tr>\n",
       "  </tbody>\n",
       "</table><p>"
      ],
      "text/plain": [
       "<IPython.core.display.HTML object>"
      ]
     },
     "metadata": {},
     "output_type": "display_data"
    }
   ],
   "source": [
    "# pretrained modelのロード\n",
    "model, loading_info = ViTForImageClassification.from_pretrained(\n",
    "    ViTExperiment.ViT_PATH,\n",
    "    num_labels=len(labels),\n",
    "    id2label={str(i): c for i, c in enumerate(labels)},\n",
    "    label2id={c: str(i) for i, c in enumerate(labels)},\n",
    "    output_loading_info=True\n",
    ")\n",
    "model = model.to(device)\n",
    "model = maybe_initialize_repair_weights_(model, loading_info[\"missing_keys\"])\n",
    "\n",
    "# NOTE: 表示されるプログレスバーの分母の数字は，num_epoch*num_sample/batch_size\n",
    "trainer = Trainer(\n",
    "    model=model,\n",
    "    args=training_args,\n",
    "    data_collator=data_collator,\n",
    "    compute_metrics=compute_metrics,\n",
    "    train_dataset=ds_preprocessed[\"train\"],\n",
    "    eval_dataset=ds_preprocessed[\"test\"],\n",
    "    tokenizer=processor,\n",
    ")\n",
    "train_results = trainer.train()"
   ]
  },
  {
   "cell_type": "markdown",
   "id": "92db5243",
   "metadata": {},
   "source": [
    "# 中間状態のアップデートのLoRA化 (一部のデータ)"
   ]
  },
  {
   "cell_type": "code",
   "execution_count": 50,
   "id": "bcfedab3",
   "metadata": {},
   "outputs": [
    {
     "name": "stdout",
     "output_type": "stream",
     "text": [
      "🛠️ Initializing intermediate.repair.weight as identity matrix (for missing weights)\n"
     ]
    }
   ],
   "source": [
    "# pretrained modelのロード\n",
    "model, loading_info = ViTForImageClassification.from_pretrained(\n",
    "    ViTExperiment.ViT_PATH,\n",
    "    num_labels=len(labels),\n",
    "    id2label={str(i): c for i, c in enumerate(labels)},\n",
    "    label2id={c: str(i) for i, c in enumerate(labels)},\n",
    "    output_loading_info=True\n",
    ")\n",
    "model = model.to(device)\n",
    "model = maybe_initialize_repair_weights_(model, loading_info[\"missing_keys\"])\n",
    "\n",
    "from peft import LoraConfig, get_peft_model\n",
    "\n",
    "config = LoraConfig(\n",
    "    r=16,\n",
    "    lora_alpha=16,\n",
    "    target_modules=[\"vit.encoder.layer.11.intermediate.repair\"],\n",
    "    lora_dropout=0.1,\n",
    "    bias=\"none\",\n",
    "    modules_to_save=[\"classifier\"],\n",
    ")\n",
    "lora_model = get_peft_model(model, config)"
   ]
  },
  {
   "cell_type": "code",
   "execution_count": 51,
   "id": "386490ef",
   "metadata": {},
   "outputs": [
    {
     "name": "stderr",
     "output_type": "stream",
     "text": [
      "/src/transformers-4.30.2/src/transformers/optimization.py:415: FutureWarning: This implementation of AdamW is deprecated and will be removed in a future version. Use the PyTorch implementation torch.optim.AdamW instead, or set `no_deprecation_warning=True` to disable this warning\n",
      "  FutureWarning,\n"
     ]
    },
    {
     "data": {
      "text/html": [
       "\n",
       "    <div>\n",
       "      \n",
       "      <progress value='160' max='160' style='width:300px; height:20px; vertical-align: middle;'></progress>\n",
       "      [160/160 01:08, Epoch 5/5]\n",
       "    </div>\n",
       "    <table border=\"1\" class=\"dataframe\">\n",
       "  <thead>\n",
       " <tr style=\"text-align: left;\">\n",
       "      <th>Epoch</th>\n",
       "      <th>Training Loss</th>\n",
       "      <th>Validation Loss</th>\n",
       "      <th>Accuracy</th>\n",
       "      <th>F1</th>\n",
       "    </tr>\n",
       "  </thead>\n",
       "  <tbody>\n",
       "    <tr>\n",
       "      <td>1</td>\n",
       "      <td>4.565600</td>\n",
       "      <td>4.476988</td>\n",
       "      <td>{'accuracy': 0.1}</td>\n",
       "      <td>{'f1': 0.07357339630066903}</td>\n",
       "    </tr>\n",
       "    <tr>\n",
       "      <td>2</td>\n",
       "      <td>4.386700</td>\n",
       "      <td>4.389188</td>\n",
       "      <td>{'accuracy': 0.24}</td>\n",
       "      <td>{'f1': 0.1651055611055611}</td>\n",
       "    </tr>\n",
       "    <tr>\n",
       "      <td>3</td>\n",
       "      <td>4.295700</td>\n",
       "      <td>4.333957</td>\n",
       "      <td>{'accuracy': 0.3}</td>\n",
       "      <td>{'f1': 0.20384785493144625}</td>\n",
       "    </tr>\n",
       "    <tr>\n",
       "      <td>4</td>\n",
       "      <td>4.233300</td>\n",
       "      <td>4.303448</td>\n",
       "      <td>{'accuracy': 0.33}</td>\n",
       "      <td>{'f1': 0.2448888888888889}</td>\n",
       "    </tr>\n",
       "    <tr>\n",
       "      <td>5</td>\n",
       "      <td>4.196300</td>\n",
       "      <td>4.291885</td>\n",
       "      <td>{'accuracy': 0.36}</td>\n",
       "      <td>{'f1': 0.27449982449982446}</td>\n",
       "    </tr>\n",
       "  </tbody>\n",
       "</table><p>"
      ],
      "text/plain": [
       "<IPython.core.display.HTML object>"
      ]
     },
     "metadata": {},
     "output_type": "display_data"
    }
   ],
   "source": [
    "trainer = Trainer(\n",
    "    model=lora_model,\n",
    "    args=training_args,\n",
    "    data_collator=data_collator,\n",
    "    compute_metrics=compute_metrics,\n",
    "    train_dataset=ds_limited[\"train\"],\n",
    "    eval_dataset=ds_limited[\"test\"],\n",
    "    tokenizer=processor,\n",
    ")\n",
    "train_results = trainer.train()"
   ]
  },
  {
   "cell_type": "markdown",
   "id": "9c178ba4",
   "metadata": {},
   "source": [
    "# 中間状態のアップデートのLoRA化 (全部のデータ)"
   ]
  },
  {
   "cell_type": "markdown",
   "id": "5dd759f9",
   "metadata": {},
   "source": [
    "## r=16"
   ]
  },
  {
   "cell_type": "code",
   "execution_count": 52,
   "id": "76bf728b",
   "metadata": {},
   "outputs": [
    {
     "name": "stdout",
     "output_type": "stream",
     "text": [
      "🛠️ Initializing intermediate.repair.weight as identity matrix (for missing weights)\n"
     ]
    }
   ],
   "source": [
    "# pretrained modelのロード\n",
    "model, loading_info = ViTForImageClassification.from_pretrained(\n",
    "    ViTExperiment.ViT_PATH,\n",
    "    num_labels=len(labels),\n",
    "    id2label={str(i): c for i, c in enumerate(labels)},\n",
    "    label2id={c: str(i) for i, c in enumerate(labels)},\n",
    "    output_loading_info=True\n",
    ")\n",
    "model = model.to(device)\n",
    "model = maybe_initialize_repair_weights_(model, loading_info[\"missing_keys\"])\n",
    "\n",
    "from peft import LoraConfig, get_peft_model\n",
    "\n",
    "config = LoraConfig(\n",
    "    r=16,\n",
    "    lora_alpha=16,\n",
    "    target_modules=[\"vit.encoder.layer.11.intermediate.repair\"],\n",
    "    lora_dropout=0.1,\n",
    "    bias=\"none\",\n",
    "    modules_to_save=[\"classifier\"],\n",
    ")\n",
    "lora_model = get_peft_model(model, config)"
   ]
  },
  {
   "cell_type": "code",
   "execution_count": 53,
   "id": "7f38846f",
   "metadata": {},
   "outputs": [
    {
     "name": "stderr",
     "output_type": "stream",
     "text": [
      "/src/transformers-4.30.2/src/transformers/optimization.py:415: FutureWarning: This implementation of AdamW is deprecated and will be removed in a future version. Use the PyTorch implementation torch.optim.AdamW instead, or set `no_deprecation_warning=True` to disable this warning\n",
      "  FutureWarning,\n"
     ]
    },
    {
     "data": {
      "text/html": [
       "\n",
       "    <div>\n",
       "      \n",
       "      <progress value='6250' max='6250' style='width:300px; height:20px; vertical-align: middle;'></progress>\n",
       "      [6250/6250 1:05:39, Epoch 5/5]\n",
       "    </div>\n",
       "    <table border=\"1\" class=\"dataframe\">\n",
       "  <thead>\n",
       " <tr style=\"text-align: left;\">\n",
       "      <th>Epoch</th>\n",
       "      <th>Training Loss</th>\n",
       "      <th>Validation Loss</th>\n",
       "      <th>Accuracy</th>\n",
       "      <th>F1</th>\n",
       "    </tr>\n",
       "  </thead>\n",
       "  <tbody>\n",
       "    <tr>\n",
       "      <td>1</td>\n",
       "      <td>2.578700</td>\n",
       "      <td>1.321019</td>\n",
       "      <td>{'accuracy': 0.805}</td>\n",
       "      <td>{'f1': 0.8028772556037737}</td>\n",
       "    </tr>\n",
       "    <tr>\n",
       "      <td>2</td>\n",
       "      <td>1.009100</td>\n",
       "      <td>0.854288</td>\n",
       "      <td>{'accuracy': 0.8224}</td>\n",
       "      <td>{'f1': 0.8225894115913506}</td>\n",
       "    </tr>\n",
       "    <tr>\n",
       "      <td>3</td>\n",
       "      <td>0.767900</td>\n",
       "      <td>0.744461</td>\n",
       "      <td>{'accuracy': 0.8291}</td>\n",
       "      <td>{'f1': 0.8293411052414106}</td>\n",
       "    </tr>\n",
       "    <tr>\n",
       "      <td>4</td>\n",
       "      <td>0.687900</td>\n",
       "      <td>0.701357</td>\n",
       "      <td>{'accuracy': 0.8299}</td>\n",
       "      <td>{'f1': 0.829816059011502}</td>\n",
       "    </tr>\n",
       "    <tr>\n",
       "      <td>5</td>\n",
       "      <td>0.654700</td>\n",
       "      <td>0.689926</td>\n",
       "      <td>{'accuracy': 0.832}</td>\n",
       "      <td>{'f1': 0.8320781254649822}</td>\n",
       "    </tr>\n",
       "  </tbody>\n",
       "</table><p>"
      ],
      "text/plain": [
       "<IPython.core.display.HTML object>"
      ]
     },
     "metadata": {},
     "output_type": "display_data"
    }
   ],
   "source": [
    "trainer = Trainer(\n",
    "    model=lora_model,\n",
    "    args=training_args,\n",
    "    data_collator=data_collator,\n",
    "    compute_metrics=compute_metrics,\n",
    "    train_dataset=ds_preprocessed[\"train\"],\n",
    "    eval_dataset=ds_preprocessed[\"test\"],\n",
    "    tokenizer=processor,\n",
    ")\n",
    "train_results = trainer.train()"
   ]
  },
  {
   "cell_type": "markdown",
   "id": "b07d6630",
   "metadata": {},
   "source": [
    "## r=1"
   ]
  },
  {
   "cell_type": "code",
   "execution_count": 10,
   "id": "cc5edc97",
   "metadata": {},
   "outputs": [
    {
     "name": "stderr",
     "output_type": "stream",
     "text": [
      "Some weights of the model checkpoint at google/vit-base-patch16-224-in21k were not used when initializing ViTForImageClassification: ['pooler.dense.bias', 'pooler.dense.weight']\n",
      "- This IS expected if you are initializing ViTForImageClassification from the checkpoint of a model trained on another task or with another architecture (e.g. initializing a BertForSequenceClassification model from a BertForPreTraining model).\n",
      "- This IS NOT expected if you are initializing ViTForImageClassification from the checkpoint of a model that you expect to be exactly identical (initializing a BertForSequenceClassification model from a BertForSequenceClassification model).\n",
      "Some weights of ViTForImageClassification were not initialized from the model checkpoint at google/vit-base-patch16-224-in21k and are newly initialized: ['encoder.layer.10.intermediate.repair.weight', 'encoder.layer.5.intermediate.repair.weight', 'encoder.layer.0.intermediate.repair.weight', 'encoder.layer.2.intermediate.repair.weight', 'classifier.bias', 'classifier.weight', 'encoder.layer.7.intermediate.repair.weight', 'encoder.layer.3.intermediate.repair.weight', 'encoder.layer.1.intermediate.repair.weight', 'encoder.layer.6.intermediate.repair.weight', 'encoder.layer.8.intermediate.repair.weight', 'encoder.layer.4.intermediate.repair.weight', 'encoder.layer.11.intermediate.repair.weight', 'encoder.layer.9.intermediate.repair.weight']\n",
      "You should probably TRAIN this model on a down-stream task to be able to use it for predictions and inference.\n"
     ]
    },
    {
     "name": "stdout",
     "output_type": "stream",
     "text": [
      "🛠️ Initializing intermediate.repair.weight as identity matrix (for missing weights)\n"
     ]
    }
   ],
   "source": [
    "# pretrained modelのロード\n",
    "model, loading_info = ViTForImageClassification.from_pretrained(\n",
    "    ViTExperiment.ViT_PATH,\n",
    "    num_labels=len(labels),\n",
    "    id2label={str(i): c for i, c in enumerate(labels)},\n",
    "    label2id={c: str(i) for i, c in enumerate(labels)},\n",
    "    output_loading_info=True\n",
    ")\n",
    "model = model.to(device)\n",
    "model = maybe_initialize_repair_weights_(model, loading_info[\"missing_keys\"])\n",
    "\n",
    "from peft import LoraConfig, get_peft_model\n",
    "\n",
    "config = LoraConfig(\n",
    "    r=1,\n",
    "    lora_alpha=1,\n",
    "    target_modules=[\"vit.encoder.layer.11.intermediate.repair\"],\n",
    "    lora_dropout=0.1,\n",
    "    bias=\"none\",\n",
    "    modules_to_save=[\"classifier\"],\n",
    ")\n",
    "lora_model = get_peft_model(model, config)"
   ]
  },
  {
   "cell_type": "code",
   "execution_count": null,
   "id": "04a50e6e",
   "metadata": {},
   "outputs": [
    {
     "name": "stderr",
     "output_type": "stream",
     "text": [
      "/src/transformers-4.30.2/src/transformers/optimization.py:415: FutureWarning: This implementation of AdamW is deprecated and will be removed in a future version. Use the PyTorch implementation torch.optim.AdamW instead, or set `no_deprecation_warning=True` to disable this warning\n",
      "  FutureWarning,\n"
     ]
    },
    {
     "data": {
      "text/html": [
       "\n",
       "    <div>\n",
       "      \n",
       "      <progress value='6250' max='6250' style='width:300px; height:20px; vertical-align: middle;'></progress>\n",
       "      [6250/6250 1:20:24, Epoch 5/5]\n",
       "    </div>\n",
       "    <table border=\"1\" class=\"dataframe\">\n",
       "  <thead>\n",
       " <tr style=\"text-align: left;\">\n",
       "      <th>Epoch</th>\n",
       "      <th>Training Loss</th>\n",
       "      <th>Validation Loss</th>\n",
       "      <th>Accuracy</th>\n",
       "      <th>F1</th>\n",
       "    </tr>\n",
       "  </thead>\n",
       "  <tbody>\n",
       "    <tr>\n",
       "      <td>1</td>\n",
       "      <td>2.925400</td>\n",
       "      <td>1.790163</td>\n",
       "      <td>{'accuracy': 0.7996}</td>\n",
       "      <td>{'f1': 0.7965313283474446}</td>\n",
       "    </tr>\n",
       "    <tr>\n",
       "      <td>2</td>\n",
       "      <td>1.335400</td>\n",
       "      <td>1.075958</td>\n",
       "      <td>{'accuracy': 0.8165}</td>\n",
       "      <td>{'f1': 0.8157431450663465}</td>\n",
       "    </tr>\n",
       "    <tr>\n",
       "      <td>3</td>\n",
       "      <td>0.941500</td>\n",
       "      <td>0.881814</td>\n",
       "      <td>{'accuracy': 0.8224}</td>\n",
       "      <td>{'f1': 0.8221619564406377}</td>\n",
       "    </tr>\n",
       "    <tr>\n",
       "      <td>4</td>\n",
       "      <td>0.814900</td>\n",
       "      <td>0.812313</td>\n",
       "      <td>{'accuracy': 0.8247}</td>\n",
       "      <td>{'f1': 0.8243620530933536}</td>\n",
       "    </tr>\n",
       "    <tr>\n",
       "      <td>5</td>\n",
       "      <td>0.768200</td>\n",
       "      <td>0.793205</td>\n",
       "      <td>{'accuracy': 0.825}</td>\n",
       "      <td>{'f1': 0.8246330669064692}</td>\n",
       "    </tr>\n",
       "  </tbody>\n",
       "</table><p>"
      ],
      "text/plain": [
       "<IPython.core.display.HTML object>"
      ]
     },
     "metadata": {},
     "output_type": "display_data"
    },
    {
     "ename": "",
     "evalue": "",
     "output_type": "error",
     "traceback": [
      "\u001b[1;31m現在のセルまたは前のセルでコードを実行中に、カーネル (Kernel) がクラッシュしました。\n",
      "\u001b[1;31mエラーの原因を特定するには、セル内のコードを確認してください。\n",
      "\u001b[1;31m詳細については<a href='https://aka.ms/vscodeJupyterKernelCrash'>こちら</a>をクリックします。\n",
      "\u001b[1;31m詳細については、Jupyter <a href='command:jupyter.viewOutput'>ログ</a> を参照してください。"
     ]
    }
   ],
   "source": [
    "trainer = Trainer(\n",
    "    model=lora_model,\n",
    "    args=training_args,\n",
    "    data_collator=data_collator,\n",
    "    compute_metrics=compute_metrics,\n",
    "    train_dataset=ds_preprocessed[\"train\"],\n",
    "    eval_dataset=ds_preprocessed[\"test\"],\n",
    "    tokenizer=processor,\n",
    ")\n",
    "train_results = trainer.train()"
   ]
  },
  {
   "cell_type": "markdown",
   "id": "6faaaad0",
   "metadata": {},
   "source": [
    "r=16とr=1の場合では0.01くらいのaccuracyの違いがある．\n",
    "思ったより変わらない．"
   ]
  },
  {
   "cell_type": "markdown",
   "id": "b4c15d23",
   "metadata": {},
   "source": [
    "## ここまででわかったこと\n",
    "\n",
    "FFN中間状態のアップデートのLoRA化でも，full fine-tuningほどではないが高い精度を達成できる (0.89 vs 0.83)．\n",
    "\n",
    "-> 全データサンプルではなく直したいサンプルセット (+副作用抑制セット) を学習させたらどうなるか？"
   ]
  },
  {
   "cell_type": "markdown",
   "id": "e2e1d7b1",
   "metadata": {},
   "source": [
    "# あと調べたいこと\n",
    "- LoRA の r を変えたらどうなる？\n",
    "- LoRA の A の受付の形状をVdiffによって小さくしたらどうなる？"
   ]
  }
 ],
 "metadata": {
  "kernelspec": {
   "display_name": "Python 3",
   "language": "python",
   "name": "python3"
  },
  "language_info": {
   "codemirror_mode": {
    "name": "ipython",
    "version": 3
   },
   "file_extension": ".py",
   "mimetype": "text/x-python",
   "name": "python",
   "nbconvert_exporter": "python",
   "pygments_lexer": "ipython3",
   "version": "3.7.16"
  }
 },
 "nbformat": 4,
 "nbformat_minor": 5
}
